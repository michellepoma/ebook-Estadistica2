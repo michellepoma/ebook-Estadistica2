{
 "cells": [
  {
   "cell_type": "markdown",
   "metadata": {},
   "source": [
    "#\n",
    "<style>\n",
    "    img {\n",
    "      width: 100%;\n",
    "      height: auto;\n",
    "      display: block;\n",
    "      margin: auto;\n",
    "    }\n",
    "</style>\n",
    "<img src=\"portada.jpeg\" alt=\"Portada de la página\" >"
   ]
  },
  {
   "cell_type": "markdown",
   "metadata": {},
   "source": [
    "**Créditos del Ebook**\n",
    "\n",
    "**Título: \"Estadística II con Python: Teoría, Práctica y Visualización\"**\n",
    "\n",
    "**Autores:**\n",
    "Este ebook fue desarrollado por estudiantes de la materia de Estadística II, paralelo A, Gestión II/2023. La contribución de cada estudiante ha sido fundamental para abordar los temas analíticos y aplicaciones prácticas incluidas en este recurso.\n",
    "\n",
    "**Coordinador del Proyecto:**\n",
    "Lic. Mario Amílcar Miranda Gonzales\n",
    "\n",
    "**Agradecimientos:**\n",
    "Queremos expresar nuestro profundo agradecimiento al Lic. Mario Amílcar Miranda Gonzales por su orientación y apoyo constante durante la creación de este ebook. Su dedicación y pasión por la estadística han sido una fuente de inspiración para todos nosotros.\n",
    "\n",
    "**Paralelo y Gestión:**\n",
    "Paralelo A, Gestión II/2023\n",
    "\n",
    "**Institución:**\n",
    "UNIVERSIDAD MAYOR DE SAN ANDRES\n",
    "\n",
    "Este ebook es el resultado del arduo trabajo y colaboración de los estudiantes de la materia de Estadística II. Esperamos que este recurso sea de utilidad para futuras generaciones de estudiantes y contribuya al aprendizaje continuo en el fascinante campo de la estadística.\n",
    "\n",
    "¡Gracias a todos los que hicieron posible este proyecto!\n",
    "\n"
   ]
  }
 ],
 "metadata": {
  "language_info": {
   "name": "python"
  }
 },
 "nbformat": 4,
 "nbformat_minor": 2
}
