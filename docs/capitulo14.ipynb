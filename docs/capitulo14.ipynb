{
 "cells": [
  {
   "cell_type": "markdown",
   "id": "4d536118-d64e-4975-8abb-5daf7faae229",
   "metadata": {},
   "source": [
    "<div style=\"padding: 10px; background-color: #009929; color: white; font-size: 3.1em;\">\n",
    "  <div style=\"text-align: center;\"><h1>CAPITULO 14</h1></div>"
   ]
  },
  {
   "cell_type": "markdown",
   "id": "7b369f4e-1499-4ee1-9b8b-92c5e9f28e9a",
   "metadata": {},
   "source": [
    "<body1>\n",
    "\n",
    "<div class=\"content\">  \n",
    "   <h1 style=\" color: green; \">Regresión lineal simple</h1>\n",
    "</div>\n",
    "    <h2 style=\" color: green; \">CONTENIDO</h2>\n",
    "<div class=\"content\" style=\" color: Black; font-size: 1.1em;\">     \n",
    "  <ul>\r\n",
    "  <li><strong>14.1 MODELO DE REGRESIÓN LINEAL SIMPLE</strong>\r\n",
    "    <ul>\r\n",
    "      <li>Modelo de regresión y ecuación de regresión</li>\r\n",
    "      <li>Ecuación de regresión estimada</li>\r\n",
    "    </ul>\r\n",
    "  </li>\r\n",
    "\r\n",
    "  <li><strong>14.2 MÉTODO DE MÍNIMOS CUADRADOS</strong></li>\r\n",
    "\r\n",
    "  <li><strong>14.3 COEFICIENTE DE DETERMINACIÓN</strong>\r\n",
    "    <ul>\r\n",
    "      <li>Coeficiente de correlación</li>\r\n",
    "    </ul>\r\n",
    "  </li>\r\n",
    "\r\n",
    "  <li><strong>14.4 SUPUESTOS DEL MODELO</strong></li>\r\n",
    "\r\n",
    "  <li><strong>14.5 PRUEBA DE SIGNIFICANCIA</strong>\r\n",
    "    <ul>\r\n",
    "      <li>Estimación de σ2</li>\r\n",
    "      <li>Prueba t</li>\r\n",
    "      <li>Intervalo de confianza para \u00041</li>\r\n",
    "      <li>Prueba F</li>\r\n",
    "      <li>Algunas advertencias acerca de la interpretación de las pruebas de significancia</li>\r\n",
    "    </ul>\r\n",
    "  </li>\r\n",
    "\r\n",
    "  <li><strong>14.6 USO DE LA ECUACIÓN DE REGRESIÓN ESTIMADA PARA ESTIMACIÓN Y PREDICCIÓN</strong>\r\n",
    "    <ul>\r\n",
    "      <li>Estimación puntual</li>\r\n",
    "      <li>Estimación por intervalo</li>\r\n",
    "      <li>Intervalo de confianza para el valor medio de y</li>\r\n",
    "      <li>Intervalo de predicción para un solo valor de y</li>\r\n",
    "    </ul>\r\n",
    "  </li>\r\n",
    "\r\n",
    "  <li><strong>14.7 SOLUCIÓN POR COMPUTADORA</strong></li>\r\n",
    "\r\n",
    "  <li><strong>14.8 ANÁLISIS DE RESIDUALES: CONFIRMACIÓN DE LOS SUPUESTOS DEL MODELO</strong>\r\n",
    "    <ul>\r\n",
    "      <li>Gráfica de residuales contra x</li>\r\n",
    "      <li>Gráfica de residuales contra yˆ</li>\r\n",
    "      <li>Residuales estandarizados</li>\r\n",
    "      <li>Gráfica de probabilidad normal</li>\r\n",
    "    </ul>\r\n",
    "  </li>\r\n",
    "\r\n",
    "  <li><strong>14.9 ANÁLISIS DE RESIDUALES: OBSERVACIONES ATÍPICAS Y OBSERVACIONES INFLUYENTES</strong>\r\n",
    "    <ul>\r\n",
    "      <li>Detección de observaciones atípicas</li>\r\n",
    "      <li>Detección de observaciones influyentes</li>\r\n",
    "    </ul>\r\n",
    "  </li>\r\n",
    "</ul>\r\n",
    "\n",
    "</div>\n",
    "\n",
    "</body1>\n",
    "</html>"
   ]
  },
  {
   "cell_type": "markdown",
   "id": "5cff957e-14ac-4ac4-a805-45296e26a5ac",
   "metadata": {},
   "source": [
    "Con frecuencia las decisiones gerenciales se basan en la relación entre dos o más variables. Por\n",
    "ejemplo, al analizar la relación entre el gasto en publicidad y las ventas, un gerente de marketing\n",
    "puede tratar de predecir las ventas correspondientes a un determinado gasto en publicidad. En\n",
    "otro caso, una empresa de servicios públicos establece la relación entre la temperatura diaria y\n",
    "la demanda de electricidad para predecir la necesidad de fl uido eléctrico considerando las temperaturas diarias que se esperan para el mes siguiente. Algunas veces los directivos se apoyan\n",
    "en la intuición para juzgar la relación entre dos variables. Sin embargo, cuando los da tos están disponibles, puede emplearse un procedimiento estadístico llamado análisis de regresión\n",
    "para obtener una ecuación que indique cuál es la relación entre las variables.\n",
    "En la terminología que se emplea en la regresión, la variable a predecir se llama variable\n",
    "dependiente, y a la variable o variables que se usan para predecir su valor se les llama variables independientes. Por ejemplo, al analizar el efecto de los gastos en publicidad sobre las\n",
    "ventas, como lo que busca el gerente de marketing es predecir estas últimas, las ventas serán la\n",
    "variable dependiente.\n",
    "En este capítulo se estudia el tipo más sencillo de análisis de regresión en el que interviene\n",
    "una variable independiente y una variable dependiente donde la relación entre estas variables se\n",
    "aproxima mediante una línea recta. A este tipo de análisis se le conoce como regresión lineal\n",
    "simple. Al análisis en el que intervienen dos o más variables independientes se le llama análisis\n",
    "de regresión múltiple; éste y los casos en los que la relación es curvilínea se estudian en los\n",
    "capítulos 15 y 16."
   ]
  },
  {
   "cell_type": "markdown",
   "id": "a4fbb2a3-f4c3-4d4b-a31f-c0db7bc88dfe",
   "metadata": {},
   "source": [
    "## <div style=\"display: inline-block; background-color: #009929; padding: 8px; border-radius: 50%; color: white; font-weight: bold;\">14.1</div><span style=\"color:#009929\"> Modelo de regresión lineal simple: &sigma; desconocida</span>\n",
    "<div style=\"text-align: justify;\">Armand’s Pizza Parlors es una cadena de restaurantes de comida italiana que abarca un área de\r\n",
    "cinco estados. Las ubicaciones con mayor éxito se encuentran cerca de los campus universitarios. Los gerentes creen que las ventas trimestrales de estos restaurantes (denotadas por y) están\r\n",
    "directamente relacionadas con el tamaño de la población estudiantil (denotada por x); es decir,\r\n",
    "en los establecimientos que están cerca de algún campus con una población estudiantil grande\r\n",
    "se generan más ventas que en aquellos situados cerca de algún campus con una población estudiantil pequeña. Empleando el análisis de regresión, se puede desarrollar una ecuación que\r\n",
    "muestre cuál es la relación de la variable dependiente y con la variable independiente x.\n",
    "</div>"
   ]
  },
  {
   "cell_type": "markdown",
   "id": "fc3fedc0-0e8e-4f8a-a255-0ff053afdb52",
   "metadata": {},
   "source": [
    "<div style=\"color: #009929; font-weight: bold;\"><h1>Modelo de regresión y ecuación de regresión</h1> </div> \n",
    "\n",
    "<div style=\"text-align: justify;\">En el ejemplo de Armand’s Pizza Parlors, la población consta de todos los restaurantes de esta\r\n",
    "cadena. Para cada restaurante en la población hay un valor x (población estudiantil) y un valor\r\n",
    "correspondiente y (ventas trimestrales). La ecuación que describe cómo se relaciona y con x, y\r\n",
    "se da un término para el error, se llama modelo de regresión. El siguiente es el modelo que se\r\n",
    "emplea en la regresión lineal simple.\n",
    "    </div> "
   ]
  },
  {
   "cell_type": "markdown",
   "id": "be97dd33-dc61-42c6-b3c6-eda6d7aff330",
   "metadata": {},
   "source": [
    "<div style=\"padding: 10px; background-color: #D4F8B7; color: black; font-size: 1.1em;\">\n",
    "  <div style=\"text-align: left;\">MODELO DE REGRESIÓN LINEAL SIMPLE</div>\n",
    "  <div style=\"text-align: center;\">$$ y = \\beta_0 + \\beta_1 x + \\varepsilon $$<p style=\"text-align: right; color: #009929;\">(14.1)</p>\r\n",
    "</div>\n",
    "</div>"
   ]
  },
  {
   "cell_type": "markdown",
   "id": "493f989f-acaf-4d92-8a8f-bad4979df544",
   "metadata": {},
   "source": [
    "$\\beta_0$ y $\\beta_1$ se conocen como parámetros del modelo, y $\\varepsilon$ es una variable aleatoria denominada término del error. Este último da cuenta de la variabilidad de $y$, que no puede ser explicada por la relación lineal entre $x$ y $y$.\n"
   ]
  },
  {
   "cell_type": "markdown",
   "id": "82b9f240-8076-43eb-9e8c-d8e5526ea849",
   "metadata": {},
   "source": [
    "La población de los restaurantes Armand’s puede verse también como un conjunto de\r\n",
    "subpoblaciones, una para cada uno de los valores de x. Por ejemplo, una subpoblación está\r\n",
    "formada por todos los restaurantes Armand’s localizados cerca de los campus universitarios\r\n",
    "con 8 000 estudiantes; otra subpoblación consta de todos los restaurantes Armand’s localizados cerca de los campus universitarios con 9 000 estudiantes, y así sucesivamente. Para cada\r\n",
    "subpoblación hay una distribución de valores y. Así, hay una distribución de valores y que corresponde a los restaurantes localizados cerca de los campus con 8 000 estudiantes y hay otra\r\n",
    "para los restaurantes ubicados cerca de los campus con 9 000 estudiantes, y así sucesivamente.\r\n",
    "Cada una de estas distribuciones tiene su propia media o valor esperado. A la ecuación que\r\n",
    "describe la relación entre el valor esperado de y, que se denota E(y), y x se le llama ecuación de\r\n",
    "regresión. La siguiente es la ecuación de regresión para la regresión lineal simple."
   ]
  },
  {
   "cell_type": "markdown",
   "id": "db66f363-da2f-4977-963d-2976fc72f491",
   "metadata": {},
   "source": [
    "<div style=\"padding: 10px; background-color: #D4F8B7; color: black; font-size: 1.1em;\">\n",
    "  <div style=\"text-align: left;\">MODELO DE REGRESIÓN LINEAL SIMPLE</div>\n",
    "  <div style=\"text-align: center;\">$$ E(y) = \\beta_0 + \\beta_1 x $$<p style=\"text-align: right; color: #009929;\">(14.2)</p>\n",
    "</div>\n",
    "</div>"
   ]
  },
  {
   "cell_type": "markdown",
   "id": "2787c265-c2a0-498a-a637-f55687b5bcb6",
   "metadata": {},
   "source": [
    "La gráfica de la ecuación de regresión lineal simple es una recta; 0 es la intersección de la recta de regresión con el eje y, 1 es la pendiente y E(y) es la media o valor esperado de y para un valor dado de x. En la figura 14.1 se presentan ejemplos de posibles rectas de regresión. La de la gráfica A indica que el valor medio de y está relacionado positivamente con x, con los valores mayores de E(y) asociados a valores mayores de x. La recta de regresión de la gráfica B indica que el valor medio de y está relacionado negativamente con x, con valores menores de E(y) que corresponden a valores mayores de x. La gráfica C muestra el caso en el que el valor medio de y no está relacionado con x; es decir, el valor medio de y es el mismo para todos los valores de x."
   ]
  },
  {
   "cell_type": "markdown",
   "id": "0971d6f8-7a40-4674-9191-d706330fe200",
   "metadata": {},
   "source": [
    "<div style=\"color: #009929; font-weight: bold;\"><h1>Ecuación de regresión estimada</h1> </div> \n",
    "\n",
    "<div style=\"text-align: justify;\">Si se conocieran los valores de los parámetros poblacionales $β_0$ y $β_1$, se podría emplear la ecuación (14.2) para calcular el valor medio de $y$ para un valor dado de $x$. Sin embargo, en la práctica no se conocen los valores de estos parámetros y es necesario estimarlos usando datos muestrales. Se calculan estadísticos muestrales (que se denotan como $ \\hat{β}_0$ y $ \\hat{β}_1$) como estimaciones de los parámetros poblacionales $ β_0$ y $ β_1$. Al sustituir $ \\hat{β}_0$ y $ \\hat{β}_1$ por $ β_0$ y $ β_1$ en la ecuación de\r\n",
    "    </div> "
   ]
  },
  {
   "cell_type": "markdown",
   "id": "2541f7e2-d449-4d2e-af82-150ba7e00592",
   "metadata": {},
   "source": [
    "<div style=\"color: #009929; font-weight: bold;\">FIGURA 14.1 <div style=\"color: #5CCB5F; font-weight: bold;\">Ejemplos de líneas de regresión posibles en la regresión lineal simple </div></div>"
   ]
  },
  {
   "cell_type": "code",
   "execution_count": 3,
   "id": "9a5cc568-ddca-4e82-8e00-96c41dff626b",
   "metadata": {
    "scrolled": true
   },
   "outputs": [
    {
     "ename": "ModuleNotFoundError",
     "evalue": "No module named 'matplotlib'",
     "output_type": "error",
     "traceback": [
      "\u001b[1;31m---------------------------------------------------------------------------\u001b[0m",
      "\u001b[1;31mModuleNotFoundError\u001b[0m                       Traceback (most recent call last)",
      "Cell \u001b[1;32mIn[3], line 1\u001b[0m\n\u001b[1;32m----> 1\u001b[0m \u001b[38;5;28;01mimport\u001b[39;00m \u001b[38;5;21;01mmatplotlib\u001b[39;00m\u001b[38;5;21;01m.\u001b[39;00m\u001b[38;5;21;01mpyplot\u001b[39;00m \u001b[38;5;28;01mas\u001b[39;00m \u001b[38;5;21;01mplt\u001b[39;00m\n\u001b[0;32m      3\u001b[0m \u001b[38;5;66;03m# Datos de la gráfica\u001b[39;00m\n\u001b[0;32m      4\u001b[0m x \u001b[38;5;241m=\u001b[39m [\u001b[38;5;241m1\u001b[39m, \u001b[38;5;241m2\u001b[39m, \u001b[38;5;241m3\u001b[39m, \u001b[38;5;241m4\u001b[39m, \u001b[38;5;241m5\u001b[39m]\n",
      "\u001b[1;31mModuleNotFoundError\u001b[0m: No module named 'matplotlib'"
     ]
    }
   ],
   "source": [
    "import numpy as np\n",
    "import matplotlib.pyplot as plt\n",
    "\n",
    "# Parámetros\n",
    "beta = 2\n",
    "color = '#009929'  # Color verde oscuro\n",
    "background_color = '#D4F8B7'  # Color de fondo\n",
    "\n",
    "# Datos x\n",
    "x = np.linspace(0, 10, 100)\n",
    "\n",
    "# Configurar estilo de los ejes\n",
    "plt.rcParams['xtick.bottom'] = plt.rcParams['xtick.labelbottom'] = False\n",
    "plt.rcParams['xtick.top'] = plt.rcParams['xtick.labeltop'] = False\n",
    "plt.rcParams['ytick.left'] = plt.rcParams['ytick.labelleft'] = False\n",
    "plt.rcParams['ytick.right'] = plt.rcParams['ytick.labelright'] = False\n",
    "\n",
    "# Crear subgráficos con fondo coloreado\n",
    "fig, axs = plt.subplots(1, 3, figsize=(12, 4), facecolor=background_color)\n",
    "\n",
    "# Gráfico con pendiente positiva\n",
    "y_positiva = beta + 0.5 * x\n",
    "axs[0].plot(x, y_positiva, color=color, label='Pendiente positiva')\n",
    "axs[0].set_title('Gráfica A\\nRelación lineal positiva')\n",
    "axs[0].legend()\n",
    "\n",
    "# Gráfico con pendiente negativa\n",
    "y_negativa = beta - 0.5 * x\n",
    "axs[1].plot(x, y_negativa, color=color, label='Pendiente negativa')\n",
    "axs[1].set_title('Gráfica B\\nRelación lineal negativa')\n",
    "axs[1].legend()\n",
    "\n",
    "# Gráfico con pendiente horizontal\n",
    "y_horizontal = np.full_like(x, beta)\n",
    "axs[2].plot(x, y_horizontal, color=color, label='Pendiente horizontal')\n",
    "axs[2].set_title('Gráfica C\\nNo hay relación')\n",
    "axs[2].legend()\n",
    "\n",
    "plt.tight_layout()\n",
    "plt.show()\n"
   ]
  },
  {
   "cell_type": "markdown",
   "id": "6b8bfd98-a28c-4548-9058-1952a7b1ce77",
   "metadata": {},
   "source": [
    "regresión, se obtiene la ecuación de regresión estimada. La ecuación de regresión estimada de\n",
    "una regresión lineal simple se da a continuación."
   ]
  },
  {
   "cell_type": "markdown",
   "id": "61d3519f-3cfc-44c0-8f5a-c66b9976baa6",
   "metadata": {},
   "source": [
    "<div style=\"padding: 10px; background-color: #D4F8B7; color: black; font-size: 1.1em;\">\n",
    "  <div style=\"text-align: left;\">MODELO DE REGRESIÓN LINEAL SIMPLE ESTIMADA</div>\n",
    "  <div style=\"text-align: center;\">$$ \\hat{y} = \\beta_0 + \\beta_1 x $$<p style=\"text-align: right; color: #009929;\">(14.3)</p>\n",
    "</div>\n",
    "</div>"
   ]
  },
  {
   "cell_type": "markdown",
   "id": "f1d11c2b-a135-4c6a-8933-6092a6a9c2cd",
   "metadata": {},
   "source": [
    "A la gráfica de la ecuación de regresión lineal simple estimada se le llama recta de regresión estimada; $b_0$ es la intersección con el eje y, y $b_1$ es la pendiente. En la sección siguiente se muestra el uso del método de mínimos cuadrados para calcular los valores de $b_0$ y $b_1$ en la ecuación de regresión estimada.\n",
    "\n",
    "En general, $\\hat{y}$ es el estimador puntual de $E(y)$, el valor medio de las $y$ para un valor dado de $x$. Por tanto, para estimar la media o el valor esperado de las ventas trimestrales de todos los restaurantes situados cerca de los campus con 10,000 estudiantes, Armand’s tendrá que sustituir $x$ por 10,000 en la ecuación (14.3).\n",
    "\n",
    "Sin embargo, en algunos casos a la cadena le interesará predecir las ventas de un determinado restaurante. Por ejemplo, suponga que desea pronosticar las ventas trimestrales del que se encuentra cerca de Talbot College, una escuela con 10,000 estudiantes. Resulta que la mejor estimación de la $y$ que corresponde a un determinado valor de $x$ es también la proporcionada por $\\hat{y}$. Por tanto, para predecir las ventas trimestrales del restaurante en cuestión, Armand’s también sustituirá la $x$ de la ecuación (14.3) por 10,000.\n",
    "\n",
    "Como el valor de $\\hat{y}$ proporciona tanto una estimación puntual de $E(y)$ para un valor dado de $x$, como una estimación puntual de un solo valor de $y$ para un valor dado de $x$, a $\\hat{y}$ se le llamará simplemente valor estimado de $y$. En la figura 14.2 se presenta en forma resumida el proceso de estimación en la regresión lineal simple.\n"
   ]
  },
  {
   "cell_type": "markdown",
   "id": "e4e45fe9-49b8-4a2d-960e-b9c98803eb9c",
   "metadata": {},
   "source": [
    "<div style=\"color: #009929; font-weight: bold;\">FIGURA 14.2 <div style=\"color: #5CCB5F; font-weight: bold;\">Proceso de estimación en la regresión lineal simple</div></div>"
   ]
  },
  {
   "cell_type": "markdown",
   "id": "64f8fea0-59ec-46a7-b7f3-629bbe1051ca",
   "metadata": {},
   "source": [
    "<div style=\"padding: 10px; background-color: #D4F8B7; color: black; font-size: 1.1em;\">\n",
    "  <div style=\"text-align: center;\">Modelo de regresión\n",
    "$$ y = \\beta_0 + \\beta_1 x + \\varepsilon $$\n",
    "Ecuación de regresión\n",
    "$$ E(y) = \\beta_0 + \\beta_1 x $$\n",
    "Parámetros desconocidos\n",
    "$$ \\beta_0 \\beta_1  $$<p style=\"text-align: right; color: #009929;\">(1)</p>\n",
    "</div>\n",
    "</div>"
   ]
  },
  {
   "cell_type": "markdown",
   "id": "d2b39817-02da-4443-9166-9cdc0c3f813e",
   "metadata": {},
   "source": [
    "<div style=\"padding: 10px; background-color: #D4F8B7; color: black; font-size: 1.1em;\">\n",
    "  <table>\n",
    "  <thead>\n",
    "    <tr>\n",
    "      <th>x</th>\n",
    "      <th>y</th>\n",
    "    </tr>\n",
    "  </thead>\n",
    "  <tbody>\n",
    "    <tr>\n",
    "      <td>$x_1$</td>\n",
    "      <td>$y_1$</td>\n",
    "    </tr>\n",
    "    <tr>\n",
    "      <td>$x_2$</td>\n",
    "      <td>$y_2$</td>\n",
    "    </tr>\n",
    "      <tr>\n",
    "      <td>.</td>\n",
    "      <td>.</td>\n",
    "    </tr>\n",
    "      <tr>\n",
    "      <td>.</td>\n",
    "      <td>.</td>\n",
    "    </tr>\n",
    "      <tr>\n",
    "      <td>$x_n$</td>\n",
    "      <td>$y_n$</td>\n",
    "    </tr>\n",
    "    <!-- ... Continúa con las filas x_n, y_n ... -->\n",
    "  </tbody>\n",
    "</table>\n",
    "<p style=\"text-align: right; color: #009929;\">(2)</p>\n",
    "</div>"
   ]
  },
  {
   "cell_type": "markdown",
   "id": "14838364-618d-445b-af5e-f24adc79f61f",
   "metadata": {},
   "source": [
    "<div style=\"padding: 10px; background-color: #D4F8B7; color: black; font-size: 1.1em;\">\n",
    "  <div style=\"text-align: center;\">b₀ y b₁ proporcionan estimaciones de B₀ y B₁.\n",
    "<p style=\"text-align: right; color: #009929;\">(3)</p>\n",
    "</div>\n",
    "</div>"
   ]
  },
  {
   "cell_type": "markdown",
   "id": "cc2d3190-73d1-4720-937d-a1446af0c801",
   "metadata": {},
   "source": [
    "<div style=\"padding: 10px; background-color: #D4F8B7; color: black; font-size: 1.1em;\">\n",
    "  <div style=\"text-align: center;\">Ecuación de regresión estimada\n",
    "$$ \\hat{y} = \\beta_0 + \\beta_1 x $$\n",
    "Estadísticos muestrales\n",
    "$$b_0, b_1$$<p style=\"text-align: right; color: #009929;4>(1)</p>\n",
    "</div>\n",
    "</div>"
   ]
  },
  {
   "cell_type": "markdown",
   "id": "4a7d477d-5d21-4f0a-946c-917ecfa3d396",
   "metadata": {},
   "source": [
    "## <div style=\"display: inline-block; background-color: #009929; padding: 8px; border-radius: 50%; color: white; font-weight: bold;\">14.2</div><span style=\"color:#009929\"> Método de mínimos cuadrados: &sigma; desconocida</span>\n",
    "<div style=\"text-align: justify;\">El método de mínimos cuadrados es un procedimiento en el que se usan los datos muestrales para encontrar la ecuación de regresión estimada. Para ilustrar este método, supongamos que se recolectan datos de una muestra de 10 restaurantes Armand’s Pizza Parlors ubicados todos cerca de campus universitarios. Para la i-ésima observación o restaurante en la muestra, $x_1$ es el tamaño de la población de estudiantes (en miles) en el campus, y $y_1$ son las ventas trimestrales (en miles de dólares). En la tabla 14.1 se presentan los valores de $x_1$ y $y_1$ en esta muestra de 10 restaurantes. Como se puede ver, el restaurante 1, con $x_1 = 2$ y $y_1 = 58$, está cerca de un campus con 2,000 estudiantes y sus ventas trimestrales son de bs58,000. El restaurante 2, con $x_2 = 6$ y $y_2 = 105$, está cerca de un campus con 6,000 estudiantes y sus ventas trimestrales son de bs105,000. El valor mayor corresponde a las ventas del restaurante 10, que está cerca de un campus con 26,000 estudiantes y sus ventas trimestrales son de bs202,000. La figura 14.3 es el diagrama de dispersión de los datos de la tabla 14.1. La población de estudiantes (Student Population) se indica en el eje horizontal (en miles) y las ventas trimestrales (Quarterly Sales) en el eje vertical (en miles de bs). Los diagramas de dispersión para el análisis de regresión se trazan colocando la variable independiente $x$ en el eje horizontal y la variable dependiente $y$ en el eje vertical. Este diagrama permite observar gráficamente los datos y obtener conclusiones acerca de la relación entre las variables. ¿Qué conclusión preliminar se puede formular de la figura 14.3? Las ventas trimestrales parecen ser mayores cerca de los campus en los que la población de estudiantes es más grande. Además, en estos datos se observa que la relación entre el tamaño de la población y las ventas parece que puede aproximarse mediante una línea recta; en efecto, se observa que hay una relación lineal positiva entre x y y. Así, para representar la relación entre las ventas trimestrales\r\n",
    "y la población de estudiantes, se elige el modelo de regresión lineal simple. Decidido esto, la\r\n",
    "tarea siguiente es usar los datos muestrales de la tabla 14.1 para determinar los valores d$b_ b0 $b_b1 en la ecuación de regresión lineal simple estimada. Para el restaurante iésimo, la ecuación de\r\n",
    "regresión simple estimada esva que hay una rea re\r\n",
    "va que hay una re\n",
    "</div>"
   ]
  },
  {
   "cell_type": "markdown",
   "id": "635587cd-b82a-4725-8448-0a3272a03445",
   "metadata": {},
   "source": [
    "<div style=\"color: #009929; font-weight: bold;\">FIGURA 14.3 <div style=\"color: #5CCB5F; font-weight: bold;\">Distribución de muestreo de x en el estudio de \"Café Sierra\" cuando la hipótesis nula es verdadera como igualdad (μ = 3) </div></div></div></div>"
   ]
  },
  {
   "cell_type": "code",
   "execution_count": null,
   "id": "46af02a5-40bd-472f-ae71-43c5ffd54339",
   "metadata": {},
   "outputs": [],
   "source": [
    "import matplotlib.pyplot as plt\n",
    "\n",
    "# Coordenadas proporcionadas\n",
    "coordenadas = [(2, 60), (8, 85), (6, 105), (8, 120), (12, 120),\n",
    "               (16, 135), (20, 155), (20, 170), (22, 130), (26, 200)]\n",
    "\n",
    "# Separar las coordenadas en x e y\n",
    "x_points, y_points = zip(*coordenadas)\n",
    "\n",
    "# Crear la gráfica de puntos\n",
    "plt.scatter(x_points, y_points, color='#009929')\n",
    "\n",
    "# Etiquetas de los ejes\n",
    "plt.xlabel('Población de estudiantes (miles)')\n",
    "plt.ylabel('Ventas trimestrales (miles de bs)')\n",
    "\n",
    "# Título de la gráfica\n",
    "plt.title('Relación entre Población de Estudiantes y Ventas Trimestrales')\n",
    "\n",
    "# Establecer el fondo de la gráfica\n",
    "plt.gca().set_facecolor('#D4F8B7')\n",
    "\n",
    "# Mostrar la gráfica\n",
    "plt.show()\n"
   ]
  },
  {
   "cell_type": "markdown",
   "id": "d7d3d3db-ebd4-40fe-9913-101d6ae8941d",
   "metadata": {},
   "source": [
    "<div >\n",
    "  <div style=\"text-align: center;\">$$ \\hat{y} = \\beta_0 + \\beta_1 x $$\n",
    "<p style=\"text-align: right; color: #009929;\">(14.4)</p>\n",
    "</div>\n",
    "</div>"
   ]
  },
  {
   "cell_type": "markdown",
   "id": "8a557369-7e26-474e-b0ba-5d9fbf68ee35",
   "metadata": {},
   "source": [
    "donde\n",
    "- $ \\hat{y}_i $: Valor estimado de las ventas trimestrales (en miles de dólares) del i-ésimo restaurante.\n",
    "- $ b_0 $: Intersección de la recta de regresión estimada con el eje y.\n",
    "- $ b_1 $: Pendiente de la recta de regresión estimada.\n",
    "- $ x_i $: Tamaño de la población de estudiantes (en miles) del i-ésimo restaurante.\n"
   ]
  },
  {
   "cell_type": "markdown",
   "id": "34f71abe-3160-4741-9730-d7c3847c7afc",
   "metadata": {},
   "source": [
    "Como $y_i$ denota ventas observadas (reales) para el restaurante $i$, y $\\hat{y}_i$ representa el valor estimado\n",
    "de las ventas en la ecuación (14.4), para cada uno de los restaurantes de la muestra habrá un\n",
    "valor de ventas observadas $y_i$ y un valor de ventas estimadas $\\hat{y}_i$. Para que la recta de regresión\n",
    "estimada proporcione un buen ajuste a los datos, las diferencias entre los valores observados\n",
    "y estimados deben ser pequeñas.\n",
    "\n",
    "En el método de mínimos cuadrados se usan los datos muestrales para obtener los valores\n",
    "de $b_0$ y $b_1$ que minimicen la suma de los cuadrados de las desviaciones (diferencias) entre los\n",
    "valores observados de la variable dependiente $y_i$ y los valores estimados de la variable dependiente $\\hat{y}_i$.\n",
    "El criterio que se emplea en el método de mínimos cuadrados se basa en la expresión (14.5).\n"
   ]
  },
  {
   "cell_type": "markdown",
   "id": "4ef9c18f-64dd-4c0b-9b62-f1a53770b4df",
   "metadata": {},
   "source": [
    "<div style=\"padding: 10px; background-color: #D4F8B7; color: black; font-size: 1.1em;\">\n",
    "  <div style=\"text-align: center;\">CRITERIO DE MINIMOS CUADRADOS\n",
    "      \\[\n",
    "\\min \\sum \\left( y_i - \\hat{y}_i \\right)^2\n",
    "\\]\n",
    "<p style=\"text-align: right; color: #009929;\">(14.5)</p>\n",
    "</div>\n",
    "    Donde:<br>  \n",
    "- $y_i$: Valor observado de la variable dependiente en la observación i-ésima.<br>\n",
    "- $\\hat{y}_i$: Valor estimado de la variable dependiente en la observación i-ésima.\n",
    "</div>"
   ]
  },
  {
   "cell_type": "markdown",
   "id": "68a49ae6-6524-4c29-81c0-83c005f8ce5b",
   "metadata": {},
   "source": [
    "Se pueden usar cálculos diferenciales para demostrar (vea el apéndice 14.1) que los valores\n",
    "de $b_0$ y $b_1$ que minimizan la expresión (14.5) se pueden encontrar usando las ecuaciones (14.6)\n",
    "y (14.7).\n"
   ]
  },
  {
   "cell_type": "markdown",
   "id": "d75e2a2c-46c3-41d5-a53d-0d1516bb4a66",
   "metadata": {},
   "source": [
    "<div style=\"padding: 10px; background-color: #D4F8B7; color: black; font-size: 1.1em;\">\n",
    "  <div style=\"text-align: center;\">PENDIENTE E INTERSECCIÓN CON EL EJE y DE LA ECUACIÓN DE REGRESIÓN\n",
    "ESTIMADA\n",
    "      \\[ b_1 = \\frac{\\sum_{i=1}^{n} (x_i - \\bar{x})(y_i - \\bar{y})}{\\sum_{i=1}^{n} (x_i - \\bar{x})^2} \\]\n",
    "\n",
    "<p style=\"text-align: right; color: #009929;\">(14.5)</p>\n",
    "</div>\n",
    "</div>"
   ]
  },
  {
   "cell_type": "markdown",
   "id": "665be485-40d3-46d2-87ae-97965cbafe3f",
   "metadata": {},
   "source": [
    "<div style=\"padding: 10px; background-color: #D4F8B7; color: black; font-size: 1.1em;\">\n",
    "  <div style=\"text-align: center;\">\n",
    "      \\[ b_0 = \\bar{y} - b_1\\bar{x} \\]\n",
    "\n",
    "<p style=\"text-align: right; color: #009929;\">(14.6)</p>\n",
    "</div>\n",
    "    Donde:<br>\n",
    "- $x_i$: Valor de la variable independiente en la observación i-ésima.<br>\n",
    "- $y_i$: Valor de la variable dependiente en la observación i-ésima.<br>\n",
    "- $x$: Media de la variable independiente.<br>\n",
    "- $y$: Media de la variable dependiente.<br>\n",
    "- $n$: Número total de observaciones.<br>\n",
    "</div>"
   ]
  },
  {
   "cell_type": "markdown",
   "id": "eab8e63e-a880-4717-a5be-553a349dc2f1",
   "metadata": {},
   "source": [
    "En la tabla 14.2 se presentan algunos cálculos necesarios para desarrollar la ecuación de\n",
    "regresión estimada por mínimos cuadrados en el ejemplo de Armand’s Pizza Parlors. Como la\n",
    "muestra es de 10 restaurantes, tenemos $n = 10$ observaciones. Dado que en las ecuaciones\n",
    "(14.6) y (14.7) se necesitan $x$ e $y$, se empieza por calcularlas.\n"
   ]
  },
  {
   "cell_type": "markdown",
   "id": "8287a43a-ef83-41d9-b4af-571386af526a",
   "metadata": {},
   "source": [
    "$$ x = \\frac{\\sum_{i=1}^{n} x_i}{n} = \\frac{140}{10} = 14 $$\n"
   ]
  },
  {
   "cell_type": "markdown",
   "id": "3e62e01b-c9ef-4693-94f4-2de8a43780aa",
   "metadata": {},
   "source": [
    "$$ x = \\frac{\\sum_{i=1}^{n} y_i}{n} = \\frac{1300}{10} = 130 $$\n"
   ]
  },
  {
   "cell_type": "markdown",
   "id": "33424144-480d-4e5b-8b3c-93d2caa8c385",
   "metadata": {},
   "source": [
    "Utilizando las ecuaciones (14.6) y (14.7) y la información de la tabla 14.2, se calcula la pendiente y la intersección de la ecuación de regresión estimada para Armand’s Pizza Parlors. La pendiente $b_1$ se calcula como se muestra a continuación.\n"
   ]
  },
  {
   "cell_type": "markdown",
   "id": "96f7b530-af71-47e1-b3bc-4818985fe809",
   "metadata": {},
   "source": [
    "<table style=\"width:100%; border-collapse: collapse; margin-bottom: 20px;\">\n",
    "  <thead>\n",
    "    <tr style=\"background-color: #009929; color: white;\">\n",
    "      <th style=\"padding: 10px; text-align: left; border: 1px solid #009929;\">Restaurante</th>\n",
    "      <th style=\"padding: 10px; text-align: left; border: 1px solid #009929;\">\\(x_i\\)</th>\n",
    "      <th style=\"padding: 10px; text-align: left; border: 1px solid #009929;\">\\(y_i\\)</th>\n",
    "      <th style=\"padding: 10px; text-align: left; border: 1px solid #009929;\">\\(x_i - \\bar{x}\\)</th>\n",
    "      <th style=\"padding: 10px; text-align: left; border: 1px solid #009929;\">\\(y_i - \\bar{y}\\)</th>\n",
    "      <th style=\"padding: 10px; text-align: left; border: 1px solid #009929;\">\\((x_i - \\bar{x})(y_i - \\bar{y})\\)</th>\n",
    "      <th style=\"padding: 10px; text-align: left; border: 1px solid #009929;\">\\((x_i - \\bar{x})^2\\)</th>\n",
    "    </tr>\n",
    "  </thead>\n",
    "  <tbody>\n",
    "    <tr style=\"background-color: #D4F8B7;\">\n",
    "      <td style=\"padding: 10px; text-align: left; border: 1px solid #009929;\">1</td>\n",
    "      <td style=\"padding: 10px; text-align: left; border: 1px solid #009929;\">2</td>\n",
    "      <td style=\"padding: 10px; text-align: left; border: 1px solid #009929;\">58</td>\n",
    "      <td style=\"padding: 10px; text-align: left; border: 1px solid #009929;\">-12</td>\n",
    "      <td style=\"padding: 10px; text-align: left; border: 1px solid #009929;\">-72</td>\n",
    "      <td style=\"padding: 10px; text-align: left; border: 1px solid #009929;\">864</td>\n",
    "      <td style=\"padding: 10px; text-align: left; border: 1px solid #009929;\">144</td>\n",
    "    </tr>\n",
    "    <tr style=\"background-color: #D4F8B7;\">\n",
    "      <td style=\"padding: 10px; text-align: left; border: 1px solid #009929;\">2</td>\n",
    "      <td style=\"padding: 10px; text-align: left; border: 1px solid #009929;\">6</td>\n",
    "      <td style=\"padding: 10px; text-align: left; border: 1px solid #009929;\">105</td>\n",
    "      <td style=\"padding: 10px; text-align: left; border: 1px solid #009929;\">-8</td>\n",
    "      <td style=\"padding: 10px; text-align: left; border: 1px solid #009929;\">25</td>\n",
    "      <td style=\"padding: 10px; text-align: left; border: 1px solid #009929;\">200</td>\n",
    "      <td style=\"padding: 10px; text-align: left; border: 1px solid #009929;\">64</td>\n",
    "    </tr>\n",
    "    <tr style=\"background-color: #D4F8B7;\">\n",
    "      <td style=\"padding: 10px; text-align: left; border: 1px solid #009929;\">3</td>\n",
    "      <td style=\"padding: 10px; text-align: left; border: 1px solid #009929;\">8</td>\n",
    "      <td style=\"padding: 10px; text-align: left; border: 1px solid #009929;\">88</td>\n",
    "      <td style=\"padding: 10px; text-align: left; border: 1px solid #009929;\">-6</td>\n",
    "      <td style=\"padding: 10px; text-align: left; border: 1px solid #009929;\">42</td>\n",
    "      <td style=\"padding: 10px; text-align: left; border: 1px solid #009929;\">252</td>\n",
    "      <td style=\"padding: 10px; text-align: left; border: 1px solid #009929;\">36</td>\n",
    "    </tr>\n",
    "    <tr style=\"background-color: #D4F8B7;\">\n",
    "      <td style=\"padding: 10px; text-align: left; border: 1px solid #009929;\">4</td>\n",
    "      <td style=\"padding: 10px; text-align: left; border: 1px solid #009929;\">8</td>\n",
    "      <td style=\"padding: 10px; text-align: left; border: 1px solid #009929;\">118</td>\n",
    "      <td style=\"padding: 10px; text-align: left; border: 1px solid #009929;\">-6</td>\n",
    "      <td style=\"padding: 10px; text-align: left; border: 1px solid #009929;\">12</td>\n",
    "      <td style=\"padding: 10px; text-align: left; border: 1px solid #009929;\">72</td>\n",
    "      <td style=\"padding: 10px; text-align: left; border: 1px solid #009929;\">36</td>\n",
    "    </tr>\n",
    "    <tr style=\"background-color: #D4F8B7;\">\n",
    "      <td style=\"padding: 10px; text-align: left; border: 1px solid #009929;\">5</td>\n",
    "      <td style=\"padding: 10px; text-align: left; border: 1px solid #009929;\">12</td>\n",
    "      <td style=\"padding: 10px; text-align: left; border: 1px solid #009929;\">117</td>\n",
    "      <td style=\"padding: 10px; text-align: left; border: 1px solid #009929;\">-2</td>\n",
    "      <td style=\"padding: 10px; text-align: left; border: 1px solid #009929;\">13</td>\n",
    "      <td style=\"padding: 10px; text-align: left; border: 1px solid #009929;\">26</td>\n",
    "      <td style=\"padding: 10px; text-align: left; border: 1px solid #009929;\">4</td>\n",
    "    </tr>\n",
    "    <tr style=\"background-color: #D4F8B7;\">\n",
    "      <td style=\"padding: 10px; text-align: left; border: 1px solid #009929;\">6</td>\n",
    "      <td style=\"padding: 10px; text-align: left; border: 1px solid #009929;\">16</td>\n",
    "      <td style=\"padding: 10px; text-align: left; border: 1px solid #009929;\">137</td>\n",
    "      <td style=\"padding: 10px; text-align: left; border: 1px solid #009929;\">2</td>\n",
    "      <td style=\"padding: 10px; text-align: left; border: 1px solid #009929;\">7</td>\n",
    "      <td style=\"padding: 10px; text-align: left; border: 1px solid #009929;\">14</td>\n",
    "      <td style=\"padding: 10px; text-align: left; border: 1px solid #009929;\">4</td>\n",
    "    </tr>\n",
    "    <tr style=\"background-color: #D4F8B7;\">\n",
    "      <td style=\"padding: 10px; text-align: left; border: 1px solid #009929;\">7</td>\n",
    "      <td style=\"padding: 10px; text-align: left; border: 1px solid #009929;\">20</td>\n",
    "      <td style=\"padding: 10px; text-align: left; border: 1px solid #009929;\">157</td>\n",
    "      <td style=\"padding: 10px; text-align: left; border: 1px solid #009929;\">6</td>\n",
    "      <td style=\"padding: 10px; text-align: left; border: 1px solid #009929;\">27</td>\n",
    "      <td style=\"padding: 10px; text-align: left; border: 1px solid #009929;\">162</td>\n",
    "      <td style=\"padding: 10px; text-align: left; border: 1px solid #009929;\">36</td>\n",
    "    </tr>\n",
    "    <tr style=\"background-color: #D4F8B7;\">\n",
    "      <td style=\"padding: 10px; text-align: left; border: 1px solid #009929;\">8</td>\n",
    "      <td style=\"padding: 10px; text-align: left; border: 1px solid #009929;\">20</td>\n",
    "      <td style=\"padding: 10px; text-align: left; border: 1px solid #009929;\">169</td>\n",
    "      <td style=\"padding: 10px; text-align: left; border: 1px solid #009929;\">6</td>\n",
    "      <td style=\"padding: 10px; text-align: left; border: 1px solid #009929;\">39</td>\n",
    "      <td style=\"padding: 10px; text-align: left; border: 1px solid #009929;\">234</td>\n",
    "      <td style=\"padding: 10px; text-align: left; border: 1px solid #009929;\">36</td>\n",
    "    </tr>\n",
    "    <tr style=\"background-color: #D4F8B7;\">\n",
    "      <td style=\"padding: 10px; text-align: left; border: 1px solid #009929;\">9</td>\n",
    "      <td style=\"padding: 10px; text-align: left; border: 1px solid #009929;\">22</td>\n",
    "      <td style=\"padding: 10px; text-align: left; border: 1px solid #009929;\">149</td>\n",
    "      <td style=\"padding: 10px; text-align: left; border: 1px solid #009929;\">8</td>\n",
    "      <td style=\"padding: 10px; text-align: left; border: 1px solid #009929;\">19</td>\n",
    "      <td style=\"padding: 10px; text-align: left; border: 1px solid #009929;\">152</td>\n",
    "      <td style=\"padding: 10px; text-align: left; border: 1px solid #009929;\">64</td>\n",
    "    </tr>\n",
    "    <tr style=\"background-color: #D4F8B7;\">\n",
    "      <td style=\"padding: 10px; text-align: left; border: 1px solid #009929;\">10</td>\n",
    "      <td style=\"padding: 10px; text-align: left; border: 1px solid #009929;\">26</td>\n",
    "      <td style=\"padding: 10px; text-align: left; border: 1px solid #009929;\">202</td>\n",
    "      <td style=\"padding: 10px; text-align: left; border: 1px solid #009929;\">12</td>\n",
    "      <td style=\"padding: 10px; text-align: left; border: 1px solid #009929;\">72</td>\n",
    "      <td style=\"padding: 10px; text-align: left; border: 1px solid #009929;\">864</td>\n",
    "      <td style=\"padding: 10px; text-align: left; border: 1px solid #009929;\">144</td>\n",
    "      </tr>\n",
    "      <tr style=\"background-color: #D4F8B7;\">\n",
    "      <td style=\"padding: 10px; text-align: left; border: 1px solid #009929;\">totales</td>\n",
    "      <td style=\"padding: 10px; text-align: left; border: 1px solid #009929;\">140</td>\n",
    "      <td style=\"padding: 10px; text-align: left; border: 1px solid #009929;\">1300</td>\n",
    "      <td style=\"padding: 10px; text-align: left; border: 1px solid #009929;\"> </td>\n",
    "      <td style=\"padding: 10px; text-align: left; border: 1px solid #009929;\"> </td>\n",
    "      <td style=\"padding: 10px; text-align: left; border: 1px solid #009929;\">2840</td>\n",
    "      <td style=\"padding: 10px; text-align: left; border: 1px solid #009929;\">568</td>\n",
    "    </tr>\n",
    "     </tr>\n",
    "      <tr style=\"background-color: #D4F8B7;\">\n",
    "      <td style=\"padding: 10px; text-align: left; border: 1px solid #009929;\"> </td>\n",
    "      <td style=\"padding: 10px; text-align: left; border: 1px solid #009929;\">$ \\sum_{i=1}^{n} x_i \n",
    "$</td>\n",
    "      <td style=\"padding: 10px; text-align: left; border: 1px solid #009929;\">$ \\sum_{i=1}^{n} y_i \n",
    "$</td>\n",
    "      <td style=\"padding: 10px; text-align: left; border: 1px solid #009929;\"> </td>\n",
    "      <td style=\"padding: 10px; text-align: left; border: 1px solid #009929;\"> </td>\n",
    "      <td style=\"padding: 10px; text-align: left; border: 1px solid #009929;\">$ \\sum_{i=1}^{n} (x_i - \\bar{x})(y_i - \\bar{y}) $</td>\n",
    "      <td style=\"padding: 10px; text-align: left; border: 1px solid #009929;\">$ \\sum_{i=1}^{n} (x_i - \\bar{x})^2 $\n",
    "</td>\n",
    "    </tr>\n"
   ]
  },
  {
   "cell_type": "markdown",
   "id": "6d27c1e5-93de-475d-a5a5-9599abba6e51",
   "metadata": {},
   "source": [
    "$$ b_1 = \\frac{\\sum_{i=1}^{n} (x_i - \\bar{x})(y_i - \\bar{y})}{\\sum_{i=1}^{n} (x_i - \\bar{x})^2} $$\n",
    "$$ b_1 = \\frac{2840}{568} $$\n",
    "$$=5$$"
   ]
  },
  {
   "cell_type": "markdown",
   "id": "c7dbf555-b00f-4a2b-8434-d1f168fa9d3f",
   "metadata": {},
   "source": [
    "La intersección con el eje y $b_0$ se calcula como sigue.\n",
    "$$ b_0 = \\bar{y} - b_1 \\bar{x} $$\n",
    "$$ b_0 = 130 - 5 \\times 14 = 60 $$\n",
    "Por tanto, la ecuación de regresión estimada es\n",
    "$$ \\hat{y} = 60 + 5x $$\n"
   ]
  },
  {
   "cell_type": "markdown",
   "id": "a6b6e6b7-4bfb-4ae7-9a3a-59806fb07111",
   "metadata": {},
   "source": [
    "En la fi gura 14.4 se ilustra esta ecuación grafi cada sobre el diagrama de dispersión.\n",
    "La pendiente de la ecuación de regresión estimada $b_1=5$ es positiva, lo que implica que\n",
    "a medida que aumenta el tamaño de la población de estudiantes, las ventas se incrementan.\n",
    "Se concluye (con base en las ventas dadas en miles de bs y el tamaño de la población en miles)\n",
    "que un aumento de 1 000 en el tamaño de la población de estudiantes corresponde a un incremento de bs5 000 en las ventas esperadas; es decir, se prevé que las ventas trimestrales se incrementen bs5 por cada estudiante.\n",
    "Si se considera que la ecuación de regresión estimada obtenida por el método de mínimos\n",
    "cuadrados describe adecuadamente la relación entre x y y, parecerá razonable usar esta ecuación a efecto de pronosticar el valor de y para un valor dado de x. Por ejemplo, si se quisieran\n",
    "predecir las ventas trimestrales de un restaurante ubicado cerca de un campo de 16 000 estudiantes, se calcularía, como sigue."
   ]
  },
  {
   "cell_type": "markdown",
   "id": "4bc7f805-7707-49d8-82a6-b08c47e1c8f4",
   "metadata": {},
   "source": [
    "$$ \\hat{y} = 60 + 5(16)= 140 $$"
   ]
  },
  {
   "cell_type": "markdown",
   "id": "3639647b-bee5-4c83-8a7f-b354e5f3b432",
   "metadata": {},
   "source": [
    "De manera que las ventas trimestrales pronosticadas para este restaurante serían de bs140 000.\n",
    "En las secciones siguientes se verán los métodos para evaluar el uso correcto de la ecuación de\n",
    "regresión para hacer estimaciones y predicciones."
   ]
  },
  {
   "cell_type": "code",
   "execution_count": null,
   "id": "dcc697a2-b146-4e5c-9e25-014d18c11a9e",
   "metadata": {},
   "outputs": [],
   "source": [
    "import matplotlib.pyplot as plt\n",
    "import numpy as np\n",
    "from sklearn.linear_model import LinearRegression\n",
    "\n",
    "# Coordenadas proporcionadas\n",
    "coordenadas = [(2, 60), (8, 85), (6, 105), (8, 120), (12, 120),\n",
    "               (16, 135), (20, 155), (20, 170), (22, 130), (26, 200)]\n",
    "\n",
    "# Separar las coordenadas en x e y\n",
    "x_points, y_points = zip(*coordenadas)\n",
    "\n",
    "# Convertir a arrays de NumPy\n",
    "x_points = np.array(x_points).reshape(-1, 1)\n",
    "y_points = np.array(y_points)\n",
    "\n",
    "# Crear el modelo de regresión lineal\n",
    "modelo = LinearRegression().fit(x_points, y_points)\n",
    "\n",
    "# Predecir los valores y con base en los valores x\n",
    "y_pred = modelo.predict(x_points)\n",
    "\n",
    "# Crear la gráfica de puntos\n",
    "plt.scatter(x_points, y_points, color='#009929', label='Puntos')\n",
    "\n",
    "# Dibujar la línea de regresión con el color solicitado\n",
    "plt.plot(x_points, y_pred, color='#98F84A', linewidth=2, label='Regresión Lineal')\n",
    "\n",
    "# Etiquetas de los ejes\n",
    "plt.xlabel('Población de estudiantes (miles)')\n",
    "plt.ylabel('Ventas trimestrales (miles de bs)')\n",
    "\n",
    "# Título de la gráfica\n",
    "plt.title('Relación entre Población de Estudiantes y Ventas Trimestrales')\n",
    "\n",
    "# Establecer el fondo de la gráfica\n",
    "plt.gca().set_facecolor('#D4F8B7')\n",
    "\n",
    "# Etiquetas adicionales\n",
    "plt.text(10, 170, 'yhat = 60 + 5x', color='black', fontsize=12)\n",
    "plt.text(10, 160, 'Pendiente b_1 = 5', color='black', fontsize=12)\n",
    "\n",
    "# Mostrar la leyenda\n",
    "plt.legend()\n",
    "\n",
    "# Mostrar la gráfica\n",
    "plt.show()"
   ]
  },
  {
   "cell_type": "markdown",
   "id": "35158b75-e02c-4231-bddb-aebea76962a6",
   "metadata": {},
   "source": [
    "## <div style=\"display: inline-block; background-color: #009929; padding: 8px; border-radius: 50%; color: white; font-weight: bold;\">14.3</div><span style=\"color:#009929\"> coeficiente de determinacion: &sigma; desconocida</span>\n",
    "<div style=\"text-align: justify;\">En el ejemplo de Armand’s Pizza Parlors, para aproximar la relación lineal entre el tamaño de la población de estudiantes *x* y las ventas trimestrales *y*, se desarrolló la ecuación de regresión estimada $ \\hat{y} = 60 + 5x $. Ahora la pregunta es: ¿qué tan bien se ajusta a los datos la ecuación de regresión estimada? En esta sección se muestra que el coeficiente de determinación proporciona una medida de la bondad de ajuste para la ecuación de regresión estimada.\r\n",
    "\r\n",
    "A la diferencia que existe en la observación $i$-ésima entre el valor observado de la variable dependiente $y_i$, y el valor estimado de la variable dependiente $\\hat{y}_i$, se le llama residual $i$-ésimo. Este representa el error que existe al usar $\\hat{y}_i$ para estimar $y_i$. Por tanto, para la observación $i$-ésima, el residual es $y_i - \\hat{y}_i$. La suma de los cuadrados de estos residuales o errores es la cantidad que se minimiza empleando el método de los mínimos cuadrados. Esta cantidad, también conocida como suma de cuadrados debido al error, se denota como *SCE*.\r\n",
    "\n",
    "</div>"
   ]
  },
  {
   "cell_type": "markdown",
   "id": "71b3c202-3f09-4cd8-ab58-e2ae8cb328d6",
   "metadata": {},
   "source": [
    "<div style=\"padding: 10px; background-color: #D4F8B7; color: black; font-size: 1.1em;\">\n",
    "  <div style=\"text-align: center;\">SUMA DE CUADRADOS DEBIDO AL ERROR<br>\n",
    "      $SCE = \\sum_{i=1}^{n} (y_i - \\hat{y}_i)^2$\n",
    "\n",
    "<p style=\"text-align: right; color: #009929;\">(14.8)</p>\n",
    "</div>\n",
    "</div>"
   ]
  },
  {
   "cell_type": "markdown",
   "id": "1b706cff-5328-44da-8de0-cc7509cd8b5d",
   "metadata": {},
   "source": [
    "El valor de la **SCE** es una medida del error al utilizar la ecuación de regresión estimada para calcular los valores de la variable dependiente de la muestra.\n",
    "\n",
    "En la **Tabla 14.3** se indican los procedimientos que se requieren para calcular la suma de cuadrados debido al error en el caso de Armand’s Pizza Parlors. Por ejemplo, los valores de las variables independiente y dependiente del restaurante 1 son $x_1 = 2$ y $y_1 = 58$. El valor estimado para sus ventas trimestrales obtenido con la ecuación de regresión estimada es $\\hat{y}_1 = 60 + 5(2) = 70$. Por consiguiente, para el restaurante 1, el error al usar $\\hat{y}_1$ para estimar $y_1$ es $y_1 - \\hat{y}_1 = 58 - 70 = -12$. El error al cuadrado, $(-12)^2 = 144$, aparece en la última columna de la Tabla 14.3. Después de calcular y elevar al cuadrado los residuales de cada uno de los restaurantes de la muestra, se suman y obtenemos que **SCE = 1,530**. Por tanto, esta suma mide el error que existe al utilizar la ecuación de regresión estimada $\\hat{y} = 60 + 5x$ para predecir las ventas.\n",
    "\n",
    "Ahora suponga que se pide una estimación de las ventas trimestrales sin conocer el tamaño de la población de estudiantes. Sin tener conocimiento de ninguna otra variable relacionada, se emplearía la media muestral como una estimación de las ventas trimestrales de cualquiera de\n"
   ]
  },
  {
   "cell_type": "markdown",
   "id": "82989c13-a2f9-4c9d-bf9b-816e3dd3bc7e",
   "metadata": {},
   "source": [
    "<div style=\"color: #009929; font-weight: bold;\">TABLA 14.3 <div style=\"color: #5CCB5F; font-weight: bold;\">Cálculo de SCE en el ejemplo de Armand’s Pizza Parlors </div></div></div></div>"
   ]
  },
  {
   "cell_type": "markdown",
   "id": "ee8a2e8e-5d23-4547-b74a-45a80d19fe5f",
   "metadata": {},
   "source": [
    "<table>\r\n",
    "  <thead style=\"background-color: #009929; color: white;\">\r\n",
    "    <tr>\r\n",
    "      <th>Restaurante</th>\r\n",
    "      <th>\\(x_i\\) (Población de Estudiantes, miles)</th>\r\n",
    "      <th>\\(y_i\\) (Ventas Trimestrales, miles de bs)</th>\r\n",
    "      <th>Ventas Pronosticadas (\\(\\hat{y}_i = 60 + 5x\\))</th>\r\n",
    "      <th>Error (\\(y_i - \\hat{y}_i\\))</th>\r\n",
    "      <th>Error al Cuadrado (\\((y_i - \\hat{y}_i)^2\\))</th>\r\n",
    "    </tr>\r\n",
    "  </thead>\r\n",
    "  <tbody style=\"background-color: #98F84A;\">\r\n",
    "    <tr>\r\n",
    "      <td>1</td>\r\n",
    "      <td>2</td>\r\n",
    "      <td>58</td>\r\n",
    "      <td>70</td>\r\n",
    "      <td>-12</td>\r\n",
    "      <td>144</td>\r\n",
    "    </tr>\r\n",
    "    <tr>\r\n",
    "      <td>2</td>\r\n",
    "      <td>6</td>\r\n",
    "      <td>105</td>\r\n",
    "      <td>90</td>\r\n",
    "      <td>15</td>\r\n",
    "      <td>225</td>\r\n",
    "    </tr>\r\n",
    "    <tr>\r\n",
    "      <td>3</td>\r\n",
    "      <td>8</td>\r\n",
    "      <td>88</td>\r\n",
    "      <td>100</td>\r\n",
    "      <td>-12</td>\r\n",
    "      <td>144</td>\r\n",
    "    </tr>\r\n",
    "    <tr>\r\n",
    "      <td>4</td>\r\n",
    "      <td>8</td>\r\n",
    "      <td>118</td>\r\n",
    "      <td>100</td>\r\n",
    "      <td>18</td>\r\n",
    "      <td>324</td>\r\n",
    "    </tr>\r\n",
    "    <tr>\r\n",
    "      <td>5</td>\r\n",
    "      <td>12</td>\r\n",
    "      <td>117</td>\r\n",
    "      <td>120</td>\r\n",
    "      <td>-3</td>\r\n",
    "      <td>9</td>\r\n",
    "    </tr>\r\n",
    "    <tr>\r\n",
    "      <td>6</td>\r\n",
    "      <td>16</td>\r\n",
    "      <td>137</td>\r\n",
    "      <td>140</td>\r\n",
    "      <td>-3</td>\r\n",
    "      <td>9</td>\r\n",
    "    </tr>\r\n",
    "    <tr>\r\n",
    "      <td>7</td>\r\n",
    "      <td>20</td>\r\n",
    "      <td>157</td>\r\n",
    "      <td>160</td>\r\n",
    "      <td>-3</td>\r\n",
    "      <td>9</td>\r\n",
    "    </tr>\r\n",
    "    <tr>\r\n",
    "      <td>8</td>\r\n",
    "      <td>20</td>\r\n",
    "      <td>169</td>\r\n",
    "      <td>160</td>\r\n",
    "      <td>9</td>\r\n",
    "      <td>81</td>\r\n",
    "    </tr>\r\n",
    "    <tr>\r\n",
    "      <td>9</td>\r\n",
    "      <td>22</td>\r\n",
    "      <td>149</td>\r\n",
    "      <td>170</td>\r\n",
    "      <td>-21</td>\r\n",
    "      <td>441</td>\r\n",
    "    </tr>\r\n",
    "    <tr>\r\n",
    "      <td>10</td>\r\n",
    "      <td>26</td>\r\n",
    "      <td>202</td>\r\n",
    "      <td>190</td>\r\n",
    "      <td>12</td>\r\n",
    "      <td>144</td>\r\n",
    "    </tr>\r\n",
    "  </tbody>\r\n",
    "</table>\r\n"
   ]
  },
  {
   "cell_type": "markdown",
   "id": "9b36eac9-96db-48f2-b515-3eb8bf4a5df7",
   "metadata": {},
   "source": [
    "$$SCE=1530$$"
   ]
  },
  {
   "cell_type": "markdown",
   "id": "7826fb07-24c4-43f4-8bb0-2cce9a8c4079",
   "metadata": {},
   "source": [
    "<div style=\"color: #009929; font-weight: bold;\">TABLA 14.4 <div style=\"color: #5CCB5F; font-weight: bold;\">Cálculo de la suma total de cuadrados en el ejemplo Armand’s Pizza Parlors </div></div></div></div>"
   ]
  },
  {
   "cell_type": "markdown",
   "id": "f8064ece-658e-446e-aaa4-58bdf1d3b6cb",
   "metadata": {},
   "source": [
    "<table>\r\n",
    "  <thead style=\"background-color: #009929; color: white;\">\r\n",
    "    <tr>\r\n",
    "      <th>Restaurante</th>\r\n",
    "      <th>\\(x_i\\) (Población de Estudiantes, miles)</th>\r\n",
    "      <th>\\(y_i\\) (Ventas Trimestrales, miles de bs)</th>\r\n",
    "      <th>Desviación (\\(y_i - \\bar{y}\\))</th>\r\n",
    "      <th>Desviación al Cuadrado (\\((y_i - \\bar{y})^2\\))</th>\r\n",
    "    </tr>\r\n",
    "  </thead>\r\n",
    "  <tbody style=\"background-color: #98F84A;\">\r\n",
    "    <tr>\r\n",
    "      <td>1</td>\r\n",
    "      <td>2</td>\r\n",
    "      <td>58</td>\r\n",
    "      <td>-25</td>\r\n",
    "      <td>625</td>\r\n",
    "    </tr>\r\n",
    "    <tr>\r\n",
    "      <td>2</td>\r\n",
    "      <td>6</td>\r\n",
    "      <td>105</td>\r\n",
    "      <td>-42</td>\r\n",
    "      <td>1,764</td>\r\n",
    "    </tr>\r\n",
    "    <tr>\r\n",
    "      <td>3</td>\r\n",
    "      <td>8</td>\r\n",
    "      <td>88</td>\r\n",
    "      <td>-12</td>\r\n",
    "      <td>144</td>\r\n",
    "    </tr>\r\n",
    "    <tr>\r\n",
    "      <td>4</td>\r\n",
    "      <td>8</td>\r\n",
    "      <td>118</td>\r\n",
    "      <td>13</td>\r\n",
    "      <td>169</td>\r\n",
    "    </tr>\r\n",
    "    <tr>\r\n",
    "      <td>5</td>\r\n",
    "      <td>12</td>\r\n",
    "      <td>117</td>\r\n",
    "      <td>0</td>\r\n",
    "      <td>0</td>\r\n",
    "    </tr>\r\n",
    "    <tr>\r\n",
    "      <td>6</td>\r\n",
    "      <td>16</td>\r\n",
    "      <td>137</td>\r\n",
    "      <td>7</td>\r\n",
    "      <td>49</td>\r\n",
    "    </tr>\r\n",
    "    <tr>\r\n",
    "      <td>7</td>\r\n",
    "      <td>20</td>\r\n",
    "      <td>157</td>\r\n",
    "      <td>27</td>\r\n",
    "      <td>729</td>\r\n",
    "    </tr>\r\n",
    "    <tr>\r\n",
    "      <td>8</td>\r\n",
    "      <td>20</td>\r\n",
    "      <td>169</td>\r\n",
    "      <td>39</td>\r\n",
    "      <td>1,521</td>\r\n",
    "    </tr>\r\n",
    "    <tr>\r\n",
    "      <td>9</td>\r\n",
    "      <td>22</td>\r\n",
    "      <td>149</td>\r\n",
    "      <td>19</td>\r\n",
    "      <td>361</td>\r\n",
    "    </tr>\r\n",
    "    <tr>\r\n",
    "      <td>10</td>\r\n",
    "      <td>26</td>\r\n",
    "      <td>202</td>\r\n",
    "      <td>5</td>\r\n",
    "      <td>25</td>\r\n",
    "    </tr>\r\n",
    "  </tbody>\r\n",
    "</table>\r\n"
   ]
  },
  {
   "cell_type": "markdown",
   "id": "ecb5b915-0340-48f0-b2b5-6798d5229b70",
   "metadata": {},
   "source": [
    "$$STC=15730$$"
   ]
  },
  {
   "cell_type": "markdown",
   "id": "ab32c099-3493-4ca9-a571-999bcbc33a6a",
   "metadata": {},
   "source": [
    "En la tabla 14.2 se mostró que con base en los datos de las ventas, $y_i = 1300$. Así, el valor medio de las ventas trimestrales en la muestra de los 10 restaurantes Armand’s es $\\bar{y} = \\frac{1300}{10} = 130$. En la tabla 14.4 se presenta la suma de las desviaciones al cuadrado que se obtiene cuando se usa la media muestral $\\bar{y} = 130$ para estimar el valor de las ventas trimestrales de cada uno de los restaurantes. Para el restaurante $i$-ésimo de la muestra, la diferencia $y_i - \\bar{y}$ proporciona una medida del error que implica usar $\\bar{y}$ para estimar las ventas. La correspondiente suma de cuadrados, llamada suma total de cuadrados, se denota $STC$.\r\n"
   ]
  },
  {
   "cell_type": "markdown",
   "id": "946de2ad-eea1-4649-a5e2-f8e8880c49ad",
   "metadata": {},
   "source": [
    "<div style=\"padding: 10px; background-color: #D4F8B7; color: black; font-size: 1.1em;\">\n",
    "  <div style=\"text-align: center;\">SUMA DE CUADRADOS DEBIDO A LA REGRESIÓN<br>\n",
    "      $SCR = \\sum_{i=1}^{n} (\\hat{y}_i - y_i)^2$\n",
    "<p style=\"text-align: right; color: #009929;\">(14.10)</p>\n",
    "</div>\n",
    "</div>"
   ]
  },
  {
   "cell_type": "markdown",
   "id": "31972c02-b094-4321-888c-52748bd33df6",
   "metadata": {},
   "source": [
    "<div style=\"color: #009929; font-weight: bold;\">FIGURA 14.5 <div style=\"color: #5CCB5F; font-weight: bold;\">Desviaciones respecto de la línea de regresión estimada y la línea y  y en el\r\n",
    "ejemplo de Armand’s Pizza Parlors</div></div>"
   ]
  },
  {
   "cell_type": "code",
   "execution_count": null,
   "id": "84b08650-e280-4214-981a-b612834aa960",
   "metadata": {},
   "outputs": [],
   "source": [
    "import matplotlib.pyplot as plt\n",
    "import numpy as np\n",
    "from sklearn.linear_model import LinearRegression\n",
    "\n",
    "# Coordenadas proporcionadas\n",
    "coordenadas = [(2, 60), (8, 85), (6, 105), (8, 120), (12, 120),\n",
    "               (16, 135), (20, 155), (20, 170), (22, 130), (26, 200)]\n",
    "\n",
    "# Separar las coordenadas en x e y\n",
    "x_points, y_points = zip(*coordenadas)\n",
    "\n",
    "# Convertir a arrays de NumPy\n",
    "x_points = np.array(x_points).reshape(-1, 1)\n",
    "y_points = np.array(y_points)\n",
    "\n",
    "# Crear el modelo de regresión lineal\n",
    "modelo = LinearRegression().fit(x_points, y_points)\n",
    "\n",
    "# Predecir los valores y con base en los valores x\n",
    "y_pred = modelo.predict(x_points)\n",
    "\n",
    "# Crear la gráfica de puntos\n",
    "plt.scatter(x_points, y_points, color='#009929', label='Puntos')\n",
    "\n",
    "# Dibujar la línea de regresión con el color solicitado\n",
    "plt.plot(x_points, y_pred, color='#98F84A', linewidth=2, label='Regresión Lineal')\n",
    "\n",
    "# Dibujar la línea horizontal en la altura 130\n",
    "plt.axhline(y=130, color='#009929', linestyle='--', label='Altura 130')\n",
    "\n",
    "# Etiquetas de los ejes\n",
    "plt.xlabel('Población de estudiantes (miles)')\n",
    "plt.ylabel('Ventas trimestrales (miles de bs)')\n",
    "\n",
    "# Título de la gráfica\n",
    "plt.title('Relación entre Población de Estudiantes y Ventas Trimestrales')\n",
    "\n",
    "# Establecer el fondo de la gráfica\n",
    "plt.gca().set_facecolor('#D4F8B7')\n",
    "\n",
    "# Etiquetas adicionales\n",
    "plt.text(10, 170, 'yhat = 60 + 5x', color='black', fontsize=12)\n",
    "\n",
    "# Mostrar la leyenda\n",
    "plt.legend()\n",
    "\n",
    "# Mostrar la gráfica\n",
    "plt.show()"
   ]
  },
  {
   "cell_type": "markdown",
   "id": "51a1a849-9bb6-4661-a66c-32d644bd9fa4",
   "metadata": {},
   "source": [
    "Por lo antes dicho, se esperaría que hubiera alguna relación entre STC, SCR y SCE. En efecto,\n",
    "la relación entre estas tres sumas de cuadrados constituye uno de los resultados más importantes\n",
    "de la estadística."
   ]
  },
  {
   "cell_type": "markdown",
   "id": "f4e4cf73-12df-4205-8c4a-fa8f989fa5dc",
   "metadata": {},
   "source": [
    "<div style=\"padding: 10px; background-color: #D4F8B7; color: black; font-size: 1.1em;\">\n",
    "  <div style=\"text-align: center;\">RELACIÓN ENTRE STC, SCR Y SCE<br>\n",
    "     $$ STC,  SCR,  SCE$$\n",
    "\n",
    "<p style=\"text-align: right; color: #009929;\">(14.11)</p>\n",
    "</div>\n",
    "   donde:<br>\n",
    "STC=suma total de cuadrado<br>\n",
    "SCR=suma de cuadrados debido a la regresión<br>\n",
    "SCE=suma de cuadrados debido al error<br>\n",
    "</div>"
   ]
  },
  {
   "cell_type": "markdown",
   "id": "dfedb2e7-7db1-4bc5-aa54-c999dc9a032c",
   "metadata": {},
   "source": [
    "La ecuación (14.11) indica que la suma total de cuadrados puede ser dividida en dos componentes: la suma de cuadrados debido a la regresión y la suma de cuadrados debido al error.\n",
    "Por consiguiente, si se conocen los valores de dos de estas sumas, es fácil calcular la tercera\n",
    "suma de cuadrados. Por ejemplo, en el caso de Armand’s Pizza Parlors se conocen SCE  1 530\n",
    "y STC  15 730; por tanto, al despejar SCR en la ecuación (14.11), se encuentra que la suma de\n",
    "cuadrados debido a la regresión es"
   ]
  },
  {
   "cell_type": "markdown",
   "id": "e41c0aab-8f31-4d1e-b699-92fb68df2aab",
   "metadata": {},
   "source": [
    "$$SCR=STC-SCE=15730-1530=14200$$"
   ]
  },
  {
   "cell_type": "markdown",
   "id": "932a895c-f797-44f8-b09c-87f449916b4e",
   "metadata": {},
   "source": [
    "Ahora se verá cómo se usan estas tres sumas de cuadrados, $STC$, $SCR$ y $SCE$, para obtener una medida de la bondad de ajuste de la ecuación de regresión estimada. Esta ecuación se ajustaría perfectamente a los datos si cada uno de los valores de la variable dependiente $y_i$ se encontrara sobre la recta de regresión. En este caso, para todas las observaciones se tendría que $y_i - \\hat{y}_i$ sería igual a 0, con lo que $SCE = 0$. Como $STC = SCR + SCE$, vemos que para que haya un ajuste perfecto, $SCR$ debe ser igual a $STC$, y el cociente $\\frac{SCR}{STC}$ debe ser igual a 1. Cuando los ajustes son malos, se tendrán valores altos para $SCE$. Si en la ecuación (14.11) despejamos esta, tenemos que $SCE = STC - SCR$. Por lo tanto, el valor más grande de $SCE$ (y, por tanto, el ajuste más pobre) se presenta cuando $SCR = 0$ y $SCE = STC$.\n",
    "\n",
    "El cociente $\\frac{SCR}{STC}$, que puede tomar valores entre 0 y 1, se usa para evaluar la bondad de ajuste de la ecuación de regresión estimada. A este cociente se le llama coeficiente de determinación y se denota como $r^2$.\n"
   ]
  },
  {
   "cell_type": "markdown",
   "id": "ecc25d82-8cda-4bc7-8762-8f2f62ad47ac",
   "metadata": {},
   "source": [
    "<div style=\"padding: 10px; background-color: #D4F8B7; color: black; font-size: 1.1em;\">\n",
    "  <div style=\"text-align: center;\">COEFICIENTE DE DETERMINACIÓN<br>\n",
    "      $r^2 = \\frac{SCR}{STC}$\r\n",
    "\n",
    "<p style=\"text-align: right; color: #009929;\">(14.12)</p>\n",
    "</div>\n",
    "</div>"
   ]
  },
  {
   "cell_type": "markdown",
   "id": "eb932ad7-96f6-4758-afc3-5e749b88adeb",
   "metadata": {},
   "source": [
    "En el ejemplo de Armand’s Pizza Parlors, el valor del coefi ciente de determinación es\n",
    "$$r^2 = \\frac{SCR}{STC} = \\frac{14,200}{15,730} \\approx 0.9027$$"
   ]
  },
  {
   "cell_type": "markdown",
   "id": "7f061b1b-e196-46c1-b705-1b31b766c362",
   "metadata": {},
   "source": [
    "Cuando se expresa el coeficiente de determinación en forma de porcentaje, $r^2$ se puede interpretar como el porcentaje de la suma total de cuadrados que se explica mediante el uso de la ecuación de regresión estimada. En el ejemplo de Armand’s Pizza Parlors se concluye que 90.27% de la suma total de cuadrados se explica utilizando la ecuación de regresión estimada $\\hat{y} = 60 - 5x$ para predecir las ventas trimestrales. En otras palabras, 90.27% de la variabilidad en las ventas se explica por la relación lineal que existe entre éstas y el tamaño de la población de estudiantes. Sería satisfactorio encontrar un buen ajuste para la ecuación de regresión estimada.\n"
   ]
  },
  {
   "cell_type": "markdown",
   "id": "5b6dd3fc-e1e2-479c-a82c-d8bb399c07ef",
   "metadata": {},
   "source": [
    "<div style=\"color: #5CCB5F; font-weight: bold;\">Coeficiente de correlación </div></div>"
   ]
  },
  {
   "cell_type": "markdown",
   "id": "5f9d871d-abe8-4dbe-80fa-41f2fd2625a4",
   "metadata": {},
   "source": [
    "En el capítulo 3 se presentó el coeficiente de correlación como una medida descriptiva de la intensidad de la relación lineal entre dos variables $x$ e $y$. Los valores del coeficiente de correlación siempre estarán entre 1 y -1. Un valor de -1 indica que las dos variables $x$ e $y$ están perfectamente relacionadas en un sentido lineal positivo. Es decir, todos los puntos de los datos se encuentran en una línea recta que tiene pendiente positiva. Un valor de 1 indica que $x$ e $y$ están perfectamente relacionadas en un sentido lineal negativo con todos los puntos de los datos en una recta con pendiente negativa. Los valores del coeficiente de correlación cercanos a 0 indican que $x$ e $y$ no están relacionadas linealmente.\n",
    "\n",
    "En la sección 3.5 se presentó la ecuación para calcular el coeficiente de correlación muestral. Cuando se ha realizado un análisis de regresión y calculado el coeficiente de determinación $r^2$, el coeficiente de correlación muestral se puede obtener como se indica a continuación.\n"
   ]
  },
  {
   "cell_type": "markdown",
   "id": "8548bf79-dc3c-4d3a-af08-aab71c30aa02",
   "metadata": {},
   "source": [
    "<div style=\"padding: 10px; background-color: #D4F8B7; color: black; font-size: 1.1em;\">\n",
    "  <div style=\"text-align: center;\">COEFICIENTE DE CORRELACIÓN MUESTRAL<br>\n",
    "      \\[ r_{xy} = \\text{signo}(b_1) \\sqrt{r^2} \\]\n",
    "      \\[ \\text{signo}(b_1) \\sqrt{r^2} \\]\n",
    "      donde:\n",
    "      $b_1$=pendiente de la ecuación de regresión estimada\\[ \\hat{y} = b_0 + b_1x \\]\n",
    "<p style=\"text-align: right; color: #009929;\">(14.13)</p>\n",
    "</div>\n",
    "</div>"
   ]
  },
  {
   "cell_type": "markdown",
   "id": "3f7dae1b-aa06-47dc-b137-8ecf6b8e4ad3",
   "metadata": {},
   "source": [
    "El signo del coeficiente de correlación muestral es positivo si la ecuación de regresión estimada tiene pendiente positiva ($b_1 \\neq 0$), y es negativo si la ecuación de regresión estimada tiene pendiente negativa ($b_1 \\neq 0$).\n",
    "\n",
    "En el ejemplo de Armand’s Pizza Parlor, el valor del coeficiente de determinación correspondiente a la ecuación de regresión estimada $\\hat{y} = 60 - 5x$ es 0.9027. Como la pendiente de esta ecuación es positiva, la ecuación (14.13) indica que el coeficiente de correlación muestral es $0.9027$. Con este coeficiente $r_{xy} = 0.9027$, concluimos que existe una fuerte relación lineal positiva entre $x$ e $y$.\n",
    "\n",
    "En el caso de una relación lineal entre dos variables, tanto el coeficiente de determinación como el coeficiente de correlación muestral proporcionan medidas de la fuerza de la relación. El primero provee una medida entre 0 y 1, mientras que el segundo proporciona una medida entre -1 y 1. Aunque el coeficiente de correlación muestral está restringido a la relación lineal entre dos variables, el coeficiente de determinación puede emplearse para relaciones no lineales y para otras en las que hay dos o más variables independientes. Por tanto, ofrece un rango de aplicación más amplio.\n"
   ]
  },
  {
   "cell_type": "markdown",
   "id": "7e175b37-239b-408e-9e55-f6e8c82f070e",
   "metadata": {},
   "source": [
    "## <div style=\"display: inline-block; background-color: #009929; padding: 8px; border-radius: 50%; color: white; font-weight: bold;\">14.4</div><span style=\"color:#009929\"> Supuestos del modelo: </span>\n",
    "<div style=\"text-align: justify;\">En un análisis de regresión se empieza por hacer un supuesto acerca del modelo apropiado para \n",
    "la relación entre las variables dependientes e independientes. En el caso de la regresión lineal\r\n",
    "simple, se supone que el modelo de regresión es\n",
    "</div>"
   ]
  },
  {
   "cell_type": "markdown",
   "id": "fbc42431-8ebe-4239-90b4-ceb050db35b8",
   "metadata": {},
   "source": [
    "La relación entre $y$, $0$, $1x$, y el término de error $\\varepsilon$ se establece inicialmente como:\r\n",
    "\r\n",
    "$y = 0 + 1x + \\varepsilon$\r\n",
    "\r\n",
    "Luego, empleando el método de mínimos cuadrados, se obtienen los valores de $b_0$ y $b_1$, que son las estimaciones de los parámetros del modelo $0$ y $1$, respectivamente. Así se llega a la ecuación de regresión estimada:\r\n",
    "\r\n",
    "$\\hat{y} = b_0 + b_1x$\r\n",
    "\r\n",
    "Como vimos, el valor del coeficiente de determinación ($r^2$) es una medida de la bondad de ajuste de la ecuación de regresión estimada. Sin embargo, aun cuando se obtenga un valor grande para $r^2$, la ecuación de regresión estimada no debe ser usada sino hasta que se realice un análisis para determinar si el modelo empleado es apropiado. Un paso importante para ver si el supuesto del modelo es adecuado consiste en probar la significancia de la relación. Las pruebas de significancia en el análisis de regresión están basadas en los siguientes supuestos acerca del término de error $\\varepsilon$.\r\n"
   ]
  },
  {
   "cell_type": "markdown",
   "id": "7fc5971b-384c-433c-97c5-bc7737769bce",
   "metadata": {},
   "source": [
    "<div style=\"padding: 10px; background-color: #D4F8B7; color: black; font-size: 1.1em;\">\n",
    "  <div style=\"text-align: center;\">SUPUESTOS ACERCA DEL TÉRMINO DEL ERROR $\\varepsilon$ EN EL MODELO DE REGRESIÓN\n",
    "$y = 0 + 1x + \\varepsilon$\n",
    "\n",
    "1. El término del error $\\varepsilon$ es una variable aleatoria cuya media, o valor esperado, es cero; es decir, $E(\\varepsilon) = 0$.\n",
    "\n",
    "   **Implicación:** $0$ y $1$ son constantes, por tanto, $E(0) = 0$ y $E(1) = 1$; así, para un valor dado de $x$, el valor esperado de $y$ es\n",
    "   $$E(y) = b_0 + b_ix$$\n",
    "<p style=\"text-align: right; color: #009929;\">(14.14)</p>\n",
    "</div>\n",
    "</div>"
   ]
  },
  {
   "cell_type": "markdown",
   "id": "3ae92ac6-9d2d-4155-bb70-5ebf4f570019",
   "metadata": {},
   "source": [
    "<div style=\"padding: 10px; background-color: #D4F8B7; color: black; font-size: 1.1em;\">\n",
    "  <div style=\"text-align: left;\">1. Como ya se indicó, a la ecuación (14.14) se le conoce como ecuación de regresión.\n",
    "\n",
    "2. La varianza de $\\varepsilon$, que se denota como $\\sigma^2$, es la misma para todos los valores de $x$.\n",
    "   - **Implicación:** La varianza de $y$ respecto de la recta de regresión es igual a $\\sigma^2$ y es la misma para todos los valores de $x$.\n",
    "\n",
    "3. Los valores de $\\varepsilon$ son independientes.\n",
    "   - **Implicación:** El valor de $\\varepsilon$ correspondiente a un determinado valor de $x$ no está relacionado con el valor de $\\varepsilon$ para cualquier otro valor de $x$; por tanto, el valor de $y$ correspondiente a un valor particular de $x$ no está relacionado con el valor de $y$ de ningún otro valor de $x$.\n",
    "\n",
    "4. El término del error $\\varepsilon$ es una variable aleatoria distribuida normalmente.\n",
    "   - **Implicación:** Como $y$ es una función lineal de $\\varepsilon$, también $y$ es una variable aleatoria distribuida normalmente.\n",
    "</div>\n",
    "</div>"
   ]
  },
  {
   "cell_type": "markdown",
   "id": "b467c667-7502-48ac-b978-fd4ab79e1b08",
   "metadata": {},
   "source": [
    "En la figura 14.6 se ilustran los supuestos del modelo y sus implicaciones; observe que en esta interpretación gráfica el valor de $E(y)$ cambia con base en el valor específico de $x$ que se considere. Sin embargo, sea cual sea el valor de $x$, la distribución de probabilidad de $\\varepsilon$ y, por tanto, la distribución de probabilidad de $y$, son distribuciones normales que tienen todas la misma varianza. El valor específico del error $\\varepsilon$ en cualquier punto depende de si el valor real de $y$ es mayor o menor que $E(y)$.\n",
    "\n",
    "En este punto hay que tener presente que también se hace un supuesto o se tiene una hipótesis acerca de la forma de la relación entre $x$ y $y$. Es decir, se supone que la base de la relación...\n"
   ]
  },
  {
   "cell_type": "markdown",
   "id": "4783bfae-6cbd-4066-8a70-26e0cf14c109",
   "metadata": {},
   "source": [
    "## <div style=\"display: inline-block; background-color: #009929; padding: 8px; border-radius: 50%; color: white; font-weight: bold;\">14.5</div><span style=\"color:#009929\"> Prueba de significancia</span>\n",
    "<div style=\"text-align: justify;\">En una ecuación de regresión lineal simple, la media o valor esperado de $y$ es una función lineal de $x$: $E(y) = \\beta_0 + \\beta_1x$. Pero si el valor de $\\beta_1$ es cero, $E(y) = \\beta_0 + (0)x = \\beta_0$. En este caso, el valor medio de $y$ no depende del valor de $x$, y por tanto, podemos concluir que $x$ e $y$ no están relacionadas linealmente. De manera alterna, si el valor de $\\beta_1$ es distinto de cero, se concluirá que las dos variables están relacionadas. Así, para probar si existe una relación de regresión significativa, se debe realizar una prueba de hipótesis a efecto de determinar si el valor de $\\beta_1$ es distinto de cero. Hay dos pruebas que son las más usadas. En ambas se requiere una estimación de $\\sigma^2$, la varianza de $\\varepsilon$ en el modelo de regresión.\r\n",
    "</div>"
   ]
  },
  {
   "cell_type": "markdown",
   "id": "68fe04de-d02f-4d87-87d3-ab8c4d7cb6e6",
   "metadata": {},
   "source": [
    "<div style=\"color: #009929; font-weight: bold;\"><h3>Estimación de $σ^2$</h3> </div> "
   ]
  },
  {
   "cell_type": "markdown",
   "id": "d0e6ed4c-f087-415a-a341-4f4ef37da782",
   "metadata": {},
   "source": [
    "Con base en el modelo de regresión y sus supuestos, podemos concluir que $\\sigma^2$, la varianza de $\\varepsilon$, representa también la varianza de los valores de $y$ respecto de la recta de regresión. Recuerde que a las desviaciones de los valores de $y$ respecto de la recta de regresión estimada se les conoce como residuales. Por tanto, SCE, la suma de los cuadrados de los residuales, es una medida de la variabilidad de las observaciones reales respecto de la línea de regresión estimada.\n",
    "\n",
    "El error cuadrado medio (ECM) proporciona una estimación de $\\sigma^2$; esta estimación es de SCE dividida entre sus grados de libertad. Como $yˆi = \\beta_0 + \\beta_1x_i$, SCE se puede expresar como\n",
    "\n",
    "\n",
    "$$SCE = \\sum_{i=1}^{n} (y_i - \\hat{y}_i)^2 = \\sum_{i=1}^{n} (y_i - \\beta_0 - \\beta_1x_i)^2$$\n",
    "\n",
    "Cada suma de cuadrados está asociada con un número llamado grados de libertad. Los expertos en estadística han demostrado que la SCE tiene $n - 2$ grados de libertad, porque para calcularla es necesario estimar dos parámetros ($\\beta_0$ y $\\beta_1$). El error cuadrado medio se calcula al dividir SCE entre $n - 2$. El ECM proporciona un estimador insesgado de $\\sigma^2$. Como el valor del ECM provee un estimado de $\\sigma^2$, se emplea también la notación $s^2$.\n"
   ]
  },
  {
   "cell_type": "markdown",
   "id": "5bbf77e3-cfb3-4350-a160-8e85940c201e",
   "metadata": {},
   "source": [
    "<div style=\"padding: 10px; background-color: #D4F8B7; color: black; font-size: 1.1em;\">\n",
    "  <div style=\"text-align: center;\">ERROR CUADRADO MEDIO (ESTIMACIÓN DE $\\sigma^2$<br>\n",
    "      $s^2=MCE = \\frac{SCE}{n - 2}$\n",
    "\n",
    "<p style=\"text-align: right; color: #009929;\">(14.15)</p>\n",
    "</div>\n",
    "</div>"
   ]
  },
  {
   "cell_type": "markdown",
   "id": "23082e8e-05f0-4456-8fc5-eca11be9923c",
   "metadata": {},
   "source": [
    "En la sección 14.3 se encontró que en el ejemplo de Armand’s Pizza Parlors, SCE  1 530;\n",
    "por tanto,\n",
    "$$ s^2 = \\frac{1,530}{8} = 191.25 $$\n",
    "proporciona un estimador insesgado de $σ^2$.\n",
    "Para estimar σ se calcula la raíz cuadrada de $s^2$. Al valor que se obtiene, s, se le conocecomo error estándar de estimación."
   ]
  },
  {
   "cell_type": "markdown",
   "id": "0e9dc128-22ed-4a85-8976-2947831a0f47",
   "metadata": {},
   "source": [
    "<div style=\"padding: 10px; background-color: #D4F8B7; color: black; font-size: 1.1em;\">\n",
    "  <div style=\"text-align: center;\">ERROR ESTÁNDAR DE ESTIMACIÓN<br>\n",
    "      $$ s = \\sqrt{\\frac{SCE}{n - 2}} $$\n",
    "\n",
    "<p style=\"text-align: right; color: #009929;\">(14.16)</p>\n",
    "</div>\n",
    "</div>"
   ]
  },
  {
   "cell_type": "markdown",
   "id": "fcea0523-8b84-46e6-bdb0-fcba4d682e3e",
   "metadata": {},
   "source": [
    "En el ejemplo de Armand's Pizza Parlors, si la desviación estándar estimada $s$ es igual a la raíz cuadrada del Error Cuadrado Medio (ECM), entonces:\n",
    "\n",
    "$$s = \\sqrt{191.25} \\approx 13.829 $$\n",
    "\n",
    "El error estándar de estimación se utiliza en el siguiente análisis acerca de las pruebas de significancia de la relación entre $x$ e $y$.\n"
   ]
  },
  {
   "cell_type": "markdown",
   "id": "6a42e333-bc7a-4373-9146-a97de721939b",
   "metadata": {},
   "source": [
    "<div style=\"color: #009929; font-weight: bold;\"><h3>Prueba t</h3> </div> "
   ]
  },
  {
   "cell_type": "markdown",
   "id": "23ad67cb-9196-4688-a628-453a327af391",
   "metadata": {},
   "source": [
    "El modelo de regresión lineal simple se expresa como $y = \\beta_0 + \\beta_1x + \\varepsilon$. Si $x$ e $y$ están relacionadas linealmente, entonces $\\beta_1 \\neq 0$. El objetivo de la prueba $t$ es determinar si se puede concluir que $\\beta_1 \\neq 0$. Para probar la hipótesis siguiente acerca del parámetro $\\beta_1$, se emplearán los siguientes datos muestrales.\n",
    "\n",
    "$$ H_0: \\beta_1 = 0 $$\n",
    "$$ H_a: \\beta_1 \\neq 0 $$\n",
    "\n",
    "Si $H_0$ es rechazada, se concluirá que $\\beta_1 \\neq 0$, indicando que entre las dos variables existe una relación estadísticamente significativa. Si $H_0$ no es rechazada, habrá evidencia insuficiente para concluir que esta relación significativa existe. La base para esta prueba de hipótesis la proporcionan las propiedades de la distribución de muestreo de $\\hat{\\beta}_1$, el estimador de $\\beta_1$ obtenido mediante el método de mínimos cuadrados.\n",
    "\n",
    "Primero, considere qué ocurriría si para el mismo estudio de regresión se usara una muestra aleatoria diferente. Suponga, por ejemplo, que Armand's Pizza Parlors usa los registros de ventas de una muestra diferente de 10 restaurantes. El análisis de regresión de esta otra muestra dará como resultado una ecuación de regresión parecida a la ecuación de regresión anterior $y = 60 - 5x$. Sin embargo, no puede esperarse que se obtenga exactamente la misma ecuación (una ecuación en la que exactamente la intersección con el eje $y$ sea 60 y la pendiente sea 5). Los estimadores $\\hat{\\beta}_0$ y $\\hat{\\beta}_1$, obtenidos por el método de mínimos cuadrados, son estadísticos muestrales que tienen su propia distribución de muestreo. A continuación, se presentan las propiedades de la distribución de muestreo de $\\hat{\\beta}_1$.\n"
   ]
  },
  {
   "cell_type": "markdown",
   "id": "339c80f9-6bc8-4304-8061-6af853cac32a",
   "metadata": {},
   "source": [
    "<div style=\"padding: 10px; background-color: #D4F8B7; color: black; font-size: 1.1em;\">\n",
    "  <div style=\"text-align: center;\">DISTRIBUCIÓN DE MUESTREO DE $\\hat{\\beta}_1$\n",
    "\n",
    "- **Valor esperado:**\n",
    "$$E(\\beta_1) = \\beta_1 $$\n",
    "\n",
    "- **Desviación estándar:**\n",
    "$$ \\sigma_{{\\beta}_1} = \\frac{\\sigma}{\\sqrt{\\sum (x_i - \\bar{x})^2}}\r\n",
    "$$\n",
    "\n",
    "- **Forma de distribución:**\n",
    "Normal\n",
    "\n",
    "\n",
    "<p style=\"text-align: right; color: #009929;\">(14.17)</p>\n",
    "</div>\n",
    "</div>"
   ]
  },
  {
   "cell_type": "markdown",
   "id": "febafd8f-83c9-46ea-b67e-048f80303092",
   "metadata": {},
   "source": [
    "Observe que el valor esperado de ${\\beta}_1$ es igual a $\\beta_1$, por lo que ${\\beta}_1$ es un estimador insesgado de $\\beta_1$.\n",
    "\n",
    "Como no se conoce el valor de $\\sigma$, se obtiene una estimación de $\\sigma_{\\hat{\\beta}_1}$, que se denota $\\hat{\\sigma}_{\\hat{\\beta}_1}$, estimando $\\sigma$ mediante $s$ en la ecuación (14.17). De esta manera, obtenemos el estimador siguiente de $\\sigma_{\\hat{\\beta}_1}$.\n"
   ]
  },
  {
   "cell_type": "markdown",
   "id": "06e32271-d951-4594-8b79-016cdfee49ae",
   "metadata": {},
   "source": [
    "<div style=\"padding: 10px; background-color: #D4F8B7; color: black; font-size: 1.1em;\">\n",
    "  <div style=\"text-align: center;\">DESVIACIÓN ESTÁNDAR ESTIMADA DE $b_i$<br>\n",
    "      $ {s}_{\\hat{\\beta}_1} = \\frac{s}{\\sqrt{\\sum (x_i - \\bar{x})^2}} $\n",
    "<p style=\"text-align: right; color: #009929;\">(14.18)</p>\n",
    "</div>\n",
    "</div>"
   ]
  },
  {
   "cell_type": "markdown",
   "id": "998ef4ed-09b5-421c-907e-f456916fff8e",
   "metadata": {},
   "source": [
    "En el ejemplo de Armand’s Pizza Parlors, $s = 13.829$. Por tanto, dado que $\\sum (x_i - \\bar{x})^2 = 568$, como se aprecia en la tabla 14.2, tenemos\n",
    "\n",
    "$$ \\hat{\\sigma}_{\\hat{\\beta}_1} = \\frac{s}{\\sqrt{\\sum (x_i - \\bar{x})^2}} = \\frac{13.829}{\\sqrt{568}} \\approx 0.5803 $$\n",
    "\n",
    "que es la desviación estándar estimada de $\\hat{\\beta}_1$.\n",
    "\n",
    "La prueba t para determinar si la relación es significativa se basa en el hecho de que el estadístico de prueba\n",
    "\n",
    "$$t = \\frac{\\hat{\\beta}_1 - 1}{\\hat{\\sigma}_{\\hat{\\beta}_1}} $$\n",
    "\n",
    "sigue una distribución t con $n - 2$ grados de libertad. Si la hipótesis nula es verdadera, entonces $\\beta_1 = 0$ y $t = \\frac{\\hat{\\beta}_1}{\\hat{\\sigma}_{\\hat{\\beta}_1}}$.\n",
    "\n",
    "Ahora se realizará esta prueba de significancia con los datos de Armand’s Pizza Parlors empleando como nivel de significancia $\\alpha = 0.01$. El estadístico de prueba es\n",
    "\n",
    "$$ t = \\frac{{\\beta}_1}{\\hat{\\sigma}_{{s}_1}} = \\frac{5}{0.5803} \\approx 8.62 $$\n",
    "\n",
    "En las tablas de la distribución t encontramos que para $n - 2 = 10 - 2 = 8$ grados de libertad, $t = 3.355$ proporciona un área de $0.005$ en la cola superior. Por tanto, el área en la cola superior de la distribución t correspondiente al estadístico de prueba $t = 8.62$ debe ser menor de $0.005$. Como ésta es una prueba de dos colas, este valor se duplica y concluimos que el valor-p asociado con $t = 8.62$ debe ser menor a $2 \\times 0.005 = 0.01$. Empleando Excel o Minitab se encuentra\n",
    "el valor-p $= 0.000$. Dado que el valor-p es menor que $\\alpha = 0.01$, $H_0$ es rechazada y concluimos que $\\beta_1$ no es igual a cero. Esto es suficiente evidencia para asegurar que existe una relación significativa entre la población de estudiantes y las ventas trimestrales.\n"
   ]
  },
  {
   "cell_type": "markdown",
   "id": "1feec3be-bed2-475f-a0bc-ff0cdbc3b65b",
   "metadata": {},
   "source": [
    "<div style=\"padding: 10px; background-color: #D4F8B7; color: black; font-size: 1.1em;\">\n",
    "  <div style=\"text-align: center;\"> PRUEBA t DE SIGNIFICANCIA PARA LA REGRESIÓN LINEAL SIMPLE\n",
    "\n",
    "**Hipótesis Nula ($H_0$):** $b_1 = 0$\n",
    "\n",
    "**Hipótesis Alternativa ($H_a$):** $b_1 \\neq 0$\n",
    "\n",
    "**Estadístico de Prueba $t$:**\n",
    "$$ t = \\frac{b_1}{s_{b_1}} $$\n",
    "REGLA DE RECHAZO\r\n",
    "\r\n",
    "#### Método del valor-p:\r\n",
    "Rechazar $H_0$ si el valor-p $ \\leq \\alpha $\r\n",
    "\r\n",
    "#### Método del valor crítico:\r\n",
    "Rechazar $H_0$ si $t \\leq -t_{\\alpha/2}$ o si $t \\geq t_{\\alpha/2}$\r\n",
    "\r\n",
    "Donde $t_{\\alpha/2}$ se toma de la distribución t con $n - 2$ grados de libertad.\r\n",
    "\n",
    "<p style=\"text-align: right; color: #009929;\">(14.19)</p>\n",
    "</div>\n",
    "</div>"
   ]
  },
  {
   "cell_type": "markdown",
   "id": "a988dac3-7c8d-4b54-bb68-1566f3f59fa8",
   "metadata": {},
   "source": [
    "<div style=\"color: #009929; font-weight: bold;\"><h3>INTERVALO DE CONFIANZA PARA $\\beta_1$</h3> </div> "
   ]
  },
  {
   "cell_type": "markdown",
   "id": "32bb93c3-d089-44b4-a744-a774eb21d10c",
   "metadata": {},
   "source": [
    "$$ \\text{Intervalo de Confianza} = \\beta_1 \\pm t_{\\alpha/2} \\cdot \\text{sb}_1 $$"
   ]
  },
  {
   "cell_type": "markdown",
   "id": "563c45d5-4ca8-4f11-92f3-31225618a6f7",
   "metadata": {},
   "source": [
    "El estimador puntual es $b_1$ y el margen de error es $t_{\\alpha/2}\\text{sb}_1$. El coeficiente de confianza para este intervalo es $1 - \\alpha$, donde $t_{\\alpha/2}$ es el valor crítico de la distribución t con $n - 2$ grados de libertad.\n",
    "\n",
    "Supongamos, por ejemplo, que en el caso de Armand’s Pizza Parlors se desea obtener una estimación de $b_1$ mediante un intervalo de 99% de confianza. Según la tabla 2 del apéndice B, el valor crítico $t_{0.005}$ correspondiente a $\\alpha = 0.01$ y $n - 2 = 8$ grados de libertad es $3.355$. Por lo tanto, la estimación mediante un intervalo de 99% de confianza de $b_1$ es:\n",
    "\n",
    "$$ b_1 \\pm t_{\\alpha/2}\\text{sb}_1 = 5 \\pm 3.355 \\times 0.5803 = 5+-1.95 $$\n",
    "- Hipótesis nula ($H_0$): $b_1 = 0$\n",
    "- Hipótesis alternativa ($H_a$): $b_1 \\neq 0$ <br>\n",
    "  \n",
    "Al utilizar la prueba t de significancia con $\\alpha = 0.01$, se puede utilizar este intervalo de 99% de confianza como alternativa para llegar a la conclusión de la prueba de hipótesis con los datos de Armand’s. Como $0$, que es el valor hipotético de $b_1$, no está comprendido en el intervalo de confianza (3.05 a 6.95), se rechaza $H_0: b_1 = 0$, y se concluye que entre el tamaño de la población de estudiantes y las ventas trimestrales sí existe una relación estadísticamente significativa. En general, se puede utilizar un intervalo de confianza para probar cualquier hipótesis de dos colas acerca de $b_1$. Si el valor hipotético de $b_1$ está contenido en el intervalo de confianza, $H_0$ no es rechazada. De lo contrario, es rechazada."
   ]
  },
  {
   "cell_type": "markdown",
   "id": "f0689dfc-1004-401f-81dc-c076f738f2aa",
   "metadata": {},
   "source": [
    "<div style=\"color: #009929; font-weight: bold;\"><h3>PRUEBA $F$</h3> </div>"
   ]
  },
  {
   "cell_type": "markdown",
   "id": "a14c4b18-ee42-4a51-9e61-0132f90bfc74",
   "metadata": {},
   "source": [
    "\n",
    "\n",
    "La prueba F, basada en la distribución de probabilidad F, también puede utilizarse para determinar la significancia global de la regresión. Cuando hay una única variable independiente, la prueba F y la prueba t conducen a la misma conclusión. Es decir, si la prueba t indica que $b_1 \\neq 0$ y, por lo tanto, existe una relación significativa, la prueba F también indicará la existencia de esta relación.\n",
    "\n",
    "La lógica detrás del uso de la prueba F radica en el desarrollo de dos estimaciones independientes de $\\sigma^2$. ECM proporciona una estimación de $\\sigma^2$, y si la hipótesis nula $H_0: \\beta_1 = 0$ es verdadera, la suma de cuadrados debida a la regresión, SCR, dividida entre sus grados de libertad proporciona otra estimación independiente de $\\sigma^2$. A esta estimación se le conoce como el cuadrado medio debido a la regresión (CMR).\n",
    "\n",
    "En general, el CMR se calcula como:\n",
    "\n",
    "$$ CMR = \\frac{SCR}{\\text{grados de libertad de la regresión}} $$\n",
    "\n",
    "En los modelos considerados en este contexto, el número de grados de libertad de la regresión es siempre igual al número de variables independientes en el modelo.\n"
   ]
  },
  {
   "cell_type": "markdown",
   "id": "bb5ca36e-1ae5-45a6-bb1e-0bb6c70ebe6f",
   "metadata": {},
   "source": [
    "<div style=\"padding: 10px; background-color: #D4F8B7; color: black; font-size: 1.1em;\">\n",
    "  <div style=\"text-align: center;\">\n",
    "     $$ CMR = \\frac{SCR}{\\text{número de variables independientes}} $$\n",
    "\n",
    "<p style=\"text-align: right; color: #009929;\">(14.20)</p>\n",
    "</div>\n",
    "</div>"
   ]
  },
  {
   "cell_type": "markdown",
   "id": "f1236658-97a6-45c5-8d0b-e390d06bb07b",
   "metadata": {},
   "source": [
    "En este capítulo se consideran modelos de regresión con una sola variable independiente. En este caso, el Cuadrado Medio de la Regresión (CMR) es igual a la Suma de Cuadrados de la Regresión (SCR) porque el número de variables independientes es 1. En el ejemplo de Armand’s Pizza Parlors, CMR es igual a SCR, que es 14,200.\n",
    "\n",
    "Si la hipótesis nula ($H_0: β1 = 0$) es verdadera, tanto CMR como ECM son dos estimaciones independientes de σ^2. La distribución de muestreo de CMR/ECM sigue una distribución F, donde el número de grados de libertad en el numerador es 1 y en el denominador es n - 2.\n",
    "\n",
    "Por lo tanto, si β1 = 0, el valor de CMR/ECM deberá ser cercano a 1. Pero si la hipótesis nula es falsa (β1 ≠ 0), CMR sobreestimará σ^2 y el valor de CMR/ECM se inflará. Valores grandes de CMR/ECM conducirán al rechazo de H0, sugiriendo que la relación entre x e y es estadísticamente significativa.\n",
    "\n",
    "En el ejemplo de Armand’s Pizza Parlors, el estadístico de prueba para la prueba F es\n"
   ]
  },
  {
   "cell_type": "markdown",
   "id": "750c54f1-a094-4259-8e50-bf4b68901a20",
   "metadata": {},
   "source": [
    "$$ F = \\frac{CMR}{ECM} = \\frac{14,200}{191.25} \\approx 74.25 $$"
   ]
  },
  {
   "cell_type": "markdown",
   "id": "090de04f-b8e6-46e5-a971-1f0a57444a9e",
   "metadata": {},
   "source": [
    "En la tabla de la distribución F (tabla 4 del apéndice B), con 1 grado de libertad en el numerador y n - 2 grados de libertad en el denominador (en este caso, 8 grados de libertad), se observa que el valor crítico es $ F_{0.01} = 11.26 $, proporcionando un área de 0.01 en la cola superior.\n",
    "\n",
    "El estadístico de prueba F, calculado como $\\frac{CMR}{ECM} \\approx 74.25$, comparado con el valor crítico de la distribución F, sugiere que el valor-p asociado a este estadístico es $0.000$. Dado que el valor-p es menor que el nivel de significancia $ \\alpha = 0.01 $, rechazamos la hipótesis nula (H0: $ \\beta_1 = 0 $).\n",
    "\n",
    "En resumen, la prueba F proporciona evidencia suficiente para concluir que hay una relación significativa entre el tamaño de la población de estudiantes y las ventas trimestrales en Armand’s Pizza Parlors.\n"
   ]
  },
  {
   "cell_type": "markdown",
   "id": "4b47d9b5-6001-43f7-88b7-cb804f191ea2",
   "metadata": {},
   "source": [
    "<div style=\"padding: 10px; background-color: #D4F8B7; color: black; font-size: 1.1em;\">\n",
    "  <div style=\"text-align: center;\">PRUEBA F DE SIGNIFICANCIA EN EL CASO DE LA REGRESIÓN LINEAL SIMPLE<br>\n",
    "\n",
    "$$H0: β₁ = 0$$  \n",
    "$$Ha: β₁ ≠ 0$$  \n",
    "\n",
    "ESTADÍSTICO DE PRUEBA\n",
    "$$F=CMR/EMC$$\n",
    "\n",
    "\n",
    "<p style=\"text-align: right; color: #009929;\">(14.21)</p>\n",
    "</div>\n",
    "REGLA DE RECHAZO\n",
    "\n",
    "Método del valor-p:\n",
    "Rechazar H0 si el $valor-p < α$\n",
    "\n",
    "Método del valor crítico:\n",
    "Rechazar H0 si $F > Fα$\n",
    "\n",
    "Donde Fα es un valor de distribución F con 1 grado de libertad en el numerador y $n ≥ 2$ grados de libertad en el denominador.\n",
    "\n",
    "</div>"
   ]
  },
  {
   "cell_type": "markdown",
   "id": "db0e1a81-1fb3-419f-92f4-48fc2633d443",
   "metadata": {},
   "source": [
    "En el **capítulo 13** vimos que el análisis de varianza (ANOVA) y la tabla de ANOVA pueden\n",
    "utilizarse para proporcionar una visión resumida de los cálculos que se emplean en el análisis de\n",
    "varianza. Una tabla de ANOVA similar se emplea para resumir los cálculos de la prueba F de significancia para la regresión. En la **tabla 14.5** se presenta la forma general de una tabla de ANOVA\n",
    "para la regresión lineal simple, y en la **14.6** la tabla de ANOVA con los cálculos para la prueba F\n",
    "del ejemplo de Armand’s Pizza Parlors. *Regresión*, *error* y *total* son las etiquetas de las tres fuentes de variación, y *SCR*, *SCE* y *STC* son las sumas de cuadrados correspondientes que aparecen\n",
    "en la columna 2. En la columna 3 se indican los grados de libertad 1 para *SCR*, *n ≥ 2* para *SCE* y\n",
    "*n ≥ 1* para *STC*. Los valores de *CMR* y *ECM* aparecen en la columna 4, mientras que la 5 contiene el valor de *F  CMR/ECM*, y la 6 el valor-p que corresponde al valor de *F* de la columna 5.\n",
    "Casi todos los resultados proporcionados por computadora para el análisis de regresión incluyen un resumen de la tabla ANOVA de la prueba F de significancia.\n"
   ]
  },
  {
   "cell_type": "markdown",
   "id": "474576ce-db12-4a7d-be05-adbe247f95e8",
   "metadata": {},
   "source": [
    "<table style=\"border-collapse: collapse; width: 100%;\">\n",
    "    <thead>\n",
    "        <tr>\n",
    "            <th style=\"border: 1px solid #009929; background-color: #009929; color: white; padding: 8px; text-align: left;\">Fuente de Variación</th>\n",
    "            <th style=\"border: 1px solid #009929; background-color: #009929; color: white; padding: 8px; text-align: left;\">Suma de Cuadrados</th>\n",
    "            <th style=\"border: 1px solid #009929; background-color: #009929; color: white; padding: 8px; text-align: left;\">Grados de Libertad</th>\n",
    "            <th style=\"border: 1px solid #009929; background-color: #009929; color: white; padding: 8px; text-align: left;\">Media</th>\n",
    "            <th style=\"border: 1px solid #009929; background-color: #009929; color: white; padding: 8px; text-align: left;\">F</th>\n",
    "            <th style=\"border: 1px solid #009929; background-color: #009929; color: white; padding: 8px; text-align: left;\">Valor-p</th>\n",
    "        </tr>\n",
    "    </thead>\n",
    "    <tbody>\n",
    "        <tr>\n",
    "            <td style=\"border: 1px solid #009929; background-color: #D4F8B7; padding: 8px; text-align: left;\">Regresión</td>\n",
    "            <td style=\"border: 1px solid #009929; background-color: #D4F8B7; padding: 8px; text-align: left;\">SCR</td>\n",
    "            <td style=\"border: 1px solid #009929; background-color: #D4F8B7; padding: 8px; text-align: left;\">1</td>\n",
    "            <td style=\"border: 1px solid #009929; background-color: #D4F8B7; padding: 8px; text-align: left;\">CMR=(SRC/1)</td>\n",
    "            <td style=\"border: 1px solid #009929; background-color: #D4F8B7; padding: 8px; text-align: left;\">F=(CMR/ECM)</td>\n",
    "            <td style=\"border: 1px solid #009929; background-color: #D4F8B7; padding: 8px; text-align: left;\">Valor-p<sub>CMR/ECM</sub></td>\n",
    "        </tr>\n",
    "        <tr>\n",
    "            <td style=\"border: 1px solid #009929; background-color: #D4F8B7; padding: 8px; text-align: left;\">Error</td>\n",
    "            <td style=\"border: 1px solid #009929; background-color: #D4F8B7; padding: 8px; text-align: left;\">SCE</td>\n",
    "            <td style=\"border: 1px solid #009929; background-color: #D4F8B7; padding: 8px; text-align: left;\">n - 2</td>\n",
    "            <td style=\"border: 1px solid #009929; background-color: #D4F8B7; padding: 8px; text-align: left;\">ECM=(SCE/(n-2))</td>\n",
    "            <td style=\"border: 1px solid #009929; background-color: #D4F8B7; padding: 8px; text-align: left;\"></td>\n",
    "            <td style=\"border: 1px solid #009929; background-color: #D4F8B7; padding: 8px; text-align: left;\"></td>\n",
    "        </tr>\n",
    "        <tr>\n",
    "            <td style=\"border: 1px solid #009929; background-color: #D4F8B7; padding: 8px; text-align: left;\">Total</td>\n",
    "            <td style=\"border: 1px solid #009929; background-color: #D4F8B7; padding: 8px; text-align: left;\">STC</td>\n",
    "            <td style=\"border: 1px solid #009929; background-color: #D4F8B7; padding: 8px; text-align: left;\">n - 1</td>\n",
    "            <td style=\"border: 1px solid #009929; background-color: #D4F8B7; padding: 8px; text-align: left;\"></td>\n",
    "            <td style=\"border: 1px solid #009929; background-color: #D4F8B7; padding: 8px; text-align: left;\"></td>\n",
    "            <td style=\"border: 1px solid #009929; background-color: #D4F8B7; padding: 8px; text-align: left;\"></td>\n",
    "        </tr>\n",
    "    </tbody>\n",
    "</table>"
   ]
  },
  {
   "cell_type": "markdown",
   "id": "2c31e5e5-ea9a-43ff-ae7f-f184aecaa41d",
   "metadata": {},
   "source": [
    "<div style=\"color: #009929; font-weight: bold;\"><h1>Algunas advertencias acerca de la interpretación\r\n",
    "de las pruebas de significancia</h1> </div> "
   ]
  },
  {
   "cell_type": "markdown",
   "id": "ed129310-d68a-4486-adfb-f37808095efb",
   "metadata": {},
   "source": [
    "Cuando la hipótesis nula H0: β₁ = 0 es rechazada, determinar que la relación que existe entre x e y es significativa no permite concluir que existe una relación de causa y efecto entre x e y. Solo puede concluirse que existe esta relación cuando el analista pueda dar justificaciones teóricas de que, en efecto, la relación es causal.\n",
    "\n",
    "En el ejemplo de Armand’s Pizza Parlors, concluimos que existe una relación significativa entre el tamaño de la población de estudiantes x y las ventas trimestrales y; aún más, la ecuación de regresión estimada ŷ = 60 - 5x proporciona una estimación de la relación obtenida por el método de mínimos cuadrados. Sin embargo, por el solo hecho de que se haya encontrado que hay una relación estadísticamente significativa entre x e y, no podemos concluir que cambios en la población de estudiantes x causen cambios en las ventas trimestrales y. Lo apropiado de concluir que hay una relación de causa y efecto se deja a las justificaciones teóricas de soporte y al buen juicio de los analistas. Los gerentes de Armand’s creían que el aumento en la población de estudiantes probablemente fuera una causa del aumento de las ventas trimestrales. Por tanto, el resultado de la prueba de significancia les permite concluir que hay una relación de causa y efecto.\n",
    "\n",
    "Además, el hecho de que se pueda rechazar H0: β₁ = 0 y demostrar que hay significancia estadística no permite concluir que la relación entre x e y sea lineal. Lo único que se puede establecer es que x e y están relacionadas y que la relación lineal explica una porción significativa de la variabilidad de y sobre el rango de los valores de x observados en la muestra. En la figura 14.7 se ilustra esta situación. La prueba de significancia lleva al rechazo de la hipótesis nula H0: β₁ = 0 y a la conclusión de que x e y están significativamente relacionadas, pero en la figura se observa que la verdadera relación entre x e y no es lineal. Aunque la aproximación.\n"
   ]
  },
  {
   "cell_type": "markdown",
   "id": "741b1ddc-3198-40c8-85a9-039ad1f44d90",
   "metadata": {},
   "source": [
    "<div style=\"color: #009929; font-weight: bold;\"><h3>TABLA 14.6 Tabla ANOVA para el ejemplo de Armand’s Pizza Parlors</h3> </div> "
   ]
  },
  {
   "cell_type": "markdown",
   "id": "7e33ece0-73b0-4358-9eb8-f9736b6ef998",
   "metadata": {},
   "source": [
    "<table style=\"border-collapse: collapse; width: 100%;\">\n",
    "    <thead>\n",
    "        <tr>\n",
    "            <th style=\"border: 1px solid #009929; background-color: #009929; color: white; padding: 8px; text-align: left;\">Fuente de Variación</th>\n",
    "            <th style=\"border: 1px solid #009929; background-color: #009929; color: white; padding: 8px; text-align: left;\">Suma de Cuadrados</th>\n",
    "            <th style=\"border: 1px solid #009929; background-color: #009929; color: white; padding: 8px; text-align: left;\">Grados de Libertad</th>\n",
    "            <th style=\"border: 1px solid #009929; background-color: #009929; color: white; padding: 8px; text-align: left;\">Media</th>\n",
    "            <th style=\"border: 1px solid #009929; background-color: #009929; color: white; padding: 8px; text-align: left;\">F</th>\n",
    "            <th style=\"border: 1px solid #009929; background-color: #009929; color: white; padding: 8px; text-align: left;\">Valor-p</th>\n",
    "        </tr>\n",
    "    </thead>\n",
    "    <tbody>\n",
    "        <tr>\n",
    "            <td style=\"border: 1px solid #009929; background-color: #D4F8B7; padding: 8px; text-align: left;\">Regresión</td>\n",
    "            <td style=\"border: 1px solid #009929; background-color: #D4F8B7; padding: 8px; text-align: left;\">14200</td>\n",
    "            <td style=\"border: 1px solid #009929; background-color: #D4F8B7; padding: 8px; text-align: left;\">1</td>\n",
    "            <td style=\"border: 1px solid #009929; background-color: #D4F8B7; padding: 8px; text-align: left;\">$(14200/1)=14200$</td>\n",
    "            <td style=\"border: 1px solid #009929; background-color: #D4F8B7; padding: 8px; text-align: left;\">$(14200/191.25)=74.25$</td>\n",
    "            <td style=\"border: 1px solid #009929; background-color: #D4F8B7; padding: 8px; text-align: left;\">0</td>\n",
    "        </tr>\n",
    "        <tr>\n",
    "            <td style=\"border: 1px solid #009929; background-color: #D4F8B7; padding: 8px; text-align: left;\">Error</td>\n",
    "            <td style=\"border: 1px solid #009929; background-color: #D4F8B7; padding: 8px; text-align: left;\">1530</td>\n",
    "            <td style=\"border: 1px solid #009929; background-color: #D4F8B7; padding: 8px; text-align: left;\">8</td>\n",
    "            <td style=\"border: 1px solid #009929; background-color: #D4F8B7; padding: 8px; text-align: left;\">$(1530/8)=191.25$</td>\n",
    "            <td style=\"border: 1px solid #009929; background-color: #D4F8B7; padding: 8px; text-align: left;\"></td>\n",
    "            <td style=\"border: 1px solid #009929; background-color: #D4F8B7; padding: 8px; text-align: left;\"></td>\n",
    "        </tr>\n",
    "        <tr>\n",
    "            <td style=\"border: 1px solid #009929; background-color: #D4F8B7; padding: 8px; text-align: left;\">Total</td>\n",
    "            <td style=\"border: 1px solid #009929; background-color: #D4F8B7; padding: 8px; text-align: left;\">15730</td>\n",
    "            <td style=\"border: 1px solid #009929; background-color: #D4F8B7; padding: 8px; text-align: left;\">9</td>\n",
    "            <td style=\"border: 1px solid #009929; background-color: #D4F8B7; padding: 8px; text-align: left;\"></td>\n",
    "            <td style=\"border: 1px solid #009929; background-color: #D4F8B7; padding: 8px; text-align: left;\"></td>\n",
    "            <td style=\"border: 1px solid #009929; background-color: #D4F8B7; padding: 8px; text-align: left;\"></td>\n",
    "        </tr>\n",
    "    </tbody>\n",
    "</table>"
   ]
  },
  {
   "cell_type": "markdown",
   "id": "83accbf1-90da-4797-9dbd-9035e54020e2",
   "metadata": {},
   "source": [
    "<div style=\"color: #009929; font-weight: bold;\"><h3>FIGURA 14.7 Ejemplo de una aproximación lineal para una relación no lineal</h3> </div> "
   ]
  },
  {
   "cell_type": "code",
   "execution_count": null,
   "id": "78599b4f-5e15-4309-be96-0746366ef87b",
   "metadata": {},
   "outputs": [],
   "source": [
    "import numpy as np\n",
    "import matplotlib.pyplot as plt\n",
    "\n",
    "# Función no lineal cuadrática\n",
    "def funcion_no_lineal(x):\n",
    "    return 2 * x**2 + 3 * x + 5 + np.random.normal(0, 5, size=x.shape)\n",
    "\n",
    "# Generar datos no lineales\n",
    "np.random.seed(42)\n",
    "x_data = np.linspace(-5, 5, 100)\n",
    "y_data = funcion_no_lineal(x_data)\n",
    "\n",
    "# Aproximación lineal usando polyfit\n",
    "grado_aproximacion = 1  # Grado 1 para la aproximación lineal\n",
    "coeficientes_aproximacion = np.polyfit(x_data, y_data, grado_aproximacion)\n",
    "\n",
    "# Calcular valores aproximados\n",
    "y_aproximado = np.polyval(coeficientes_aproximacion, x_data)\n",
    "\n",
    "# Graficar resultados\n",
    "plt.figure(figsize=(10, 6))\n",
    "\n",
    "# Datos no lineales\n",
    "plt.scatter(x_data, y_data, label='Datos no lineales', color='#009929')\n",
    "\n",
    "# Aproximación lineal\n",
    "plt.plot(x_data, y_aproximado, label=f'Aproximación lineal (grado {grado_aproximacion})', color='#009929')\n",
    "\n",
    "plt.title('Aproximación Lineal para una Relación No Lineal')\n",
    "plt.xlabel('X')\n",
    "plt.ylabel('Y')\n",
    "plt.legend()\n",
    "plt.grid(True)\n",
    "plt.gca().set_facecolor('#D4F8B7')  # Color de fondo\n",
    "plt.show()\n"
   ]
  },
  {
   "cell_type": "markdown",
   "id": "54e4a150-3c4a-495b-82b0-378917fdd7ff",
   "metadata": {},
   "source": [
    "La aproximación lineal proporcionada por $ \\hat{y} = b_0 + b_1x $ es buena en el rango de los valores de $ x $ observados en la muestra, pero se vuelve deficiente para valores de $ x $ fuera de ese rango.\n",
    "\n",
    "Dada una relación significativa, la ecuación de regresión estimada se puede usar con confianza para predicciones correspondientes a valores de $ x $ dentro del rango de los valores de $ x $ observados en la muestra. En el ejemplo de Armand’s Pizza Parlors, este rango corresponde a los valores de $ x $ entre 2 y 26. A menos que haya otras razones que indiquen que el modelo es válido más allá de este rango, las predicciones fuera del rango de la variable independiente deben realizarse con cuidado.\n",
    "\n",
    "En el ejemplo de Armand’s Pizza Parlors, como se ha encontrado que la relación de regresión es significativa al nivel de significancia de 0.01, se puede tener confianza de usarla para predecir las ventas de restaurantes en los que la población de estudiantes correspondiente esté en el intervalo de 2,000 a 26,000.\n"
   ]
  },
  {
   "cell_type": "markdown",
   "id": "a6abddc4-6d33-407e-8135-474bd6daa487",
   "metadata": {},
   "source": [
    "## <div style=\"display: inline-block; background-color: #009929; padding: 8px; border-radius: 50%; color: white; font-weight: bold;\">14.6</div><span style=\"color:#009929\"> Uso de la ecuación de regresión estimada para estimación y predicción</span>\n",
    "<div style=\"text-align: justify;\">Al usar el modelo de regresión lineal simple se hace un supuesto acerca de la relación entre x\n",
    "y y. Después se usa el método de mínimos cuadrados para obtener una ecuación de regresión\n",
    "lineal simple estimada. Si existe una relación signifi cativa entre x y y, y el coefi ciente de determinación indica que el ajuste es bueno, la ecuación de regresión estimada es útil para estimación y predicción.\n",
    "</div>"
   ]
  },
  {
   "cell_type": "markdown",
   "id": "c9a3c41e-a8e2-47b1-90b1-1f7b48b7400e",
   "metadata": {},
   "source": [
    "<div style=\"color: #009929; font-weight: bold;\"><h3>Estimación puntual</h3> </div> "
   ]
  },
  {
   "cell_type": "markdown",
   "id": "0dcbced7-cd75-4d8c-9566-16d3e283acbe",
   "metadata": {},
   "source": [
    "En el ejemplo de *Armand’s Pizza Parlors*, la ecuación de regresión estimada $ \\hat{y} = 60 + 5x $ proporciona una estimación de la relación entre el tamaño de la población de estudiantes $ x $ y las ventas trimestrales $ y $. Con la ecuación de regresión estimada, se puede obtener una estimación puntual del valor medio de $ y $ correspondiente a un determinado valor de $ x $, o se puede predecir el valor individual de $ y $ que corresponde a un valor determinado de $ x $. Por ejemplo, supongamos que los gerentes de *Armand’s* desean una estimación puntual de la media de las ventas trimestrales de todos los restaurantes que se encuentren cerca de campus universitarios con 10,000 estudiantes. Usando la ecuación de regresión estimada $ \\hat{y} = 60 + 5x $, con $ x = 10 $ (o 10,000 estudiantes), obtenemos $ \\hat{y} = 60 + 5(10) = 110 $. Por lo tanto, una estimación puntual de la media de las ventas trimestrales de todos los restaurantes de este ejemplo con 10,000 estudiantes es $110,000.\n",
    "\n",
    "Ahora supongamos que los gerentes de *Armand’s* desean predecir las ventas de un determinado restaurante ubicado cerca de *Talbot College*, una escuela con 10,000 alumnos. En este caso, lo que interesa no es la media correspondiente a todos los restaurantes que están cerca de campus con 10,000 estudiantes, sino únicamente predecir las ventas trimestrales de uno en específico. En realidad, la estimación puntual de un solo valor de $ y $ es igual a la estimación puntual de la media de los valores de $ y $. Así, la predicción de las ventas trimestrales de este restaurante en particular será $ \\hat{y} = 60 + 5(10) = 110 $ o $110,000.\n"
   ]
  },
  {
   "cell_type": "markdown",
   "id": "8ca1ab50-e118-47ad-aaf6-539149e1f940",
   "metadata": {},
   "source": [
    "<div style=\"color: #009929; font-weight: bold;\"><h3>estimacion por intervalo</h3> </div>"
   ]
  },
  {
   "cell_type": "markdown",
   "id": "c6227470-fc2e-4661-9e7d-b6456b46ccad",
   "metadata": {},
   "source": [
    "Las estimaciones puntuales no proporcionan información alguna acerca de la precisión de una\n",
    "estimación. Para eso es necesario obtener estimaciones por intervalo que son muy parecidas a\n",
    "las estudiadas en los capítulos 8, 10 y 11. El primer tipo de estimación por intervalo, el intervalo de confianza es una estimación del valor medio de las y que corresponden a un valor dado\n",
    "de x. El segundo tipo, el intervalo de predicción, se usa cuando se necesita una estimación por\n",
    "intervalo de un solo valor de y para un valor dado de x. La estimación puntual del valor medio\n",
    "de y es igual a la estimación puntual de un solo valor de y. Pero las estimaciones por intervalo\n",
    "que se obtienen para estos dos casos son diferentes. En un intervalo de predicción el margen de\n",
    "error es mayor."
   ]
  },
  {
   "cell_type": "markdown",
   "id": "9d7384b6-4be6-4ffa-af56-c12db12bcfb7",
   "metadata": {},
   "source": [
    "<div style=\"color: #009929; font-weight: bold;\"><h3>Intervalo de confianza para el valor medio de y</h3> </div>"
   ]
  },
  {
   "cell_type": "markdown",
   "id": "5b875f4f-329d-451b-a25f-d1bf695d3622",
   "metadata": {},
   "source": [
    "Con la ecuación de regresión estimada se obtiene una estimación puntual del valor medio de $ y $ que corresponde a un valor dado de $ x $. Para desarrollar un intervalo de confianza se usa la notación siguiente.\n",
    "\n",
    "- $ x_p $: valor particular o determinado de la variable independiente $ x $\n",
    "- $ y_p $: valor de la variable dependiente $ y $ que corresponde al valor dado $ x_p $\n",
    "- $ E(y_p) $: valor medio o valor esperado de la variable dependiente $ y $ que corresponde al valor dado $ x_p $\n",
    "- $ \\hat{y}_p $: $ b_0 + b_1x_p $, estimación puntual de $ E(y_p) $ cuando $ x = x_p $\n",
    "\n",
    "Empleando esta notación para estimar la media de las ventas de todos los restaurantes de *Armand’s* que se encuentran cerca de un campus con 10,000 estudiantes, tenemos que $ x_p = 10 $, y $E(y_p) $ denota el valor medio desconocido de las ventas de todos los restaurantes para los que $ x_p = 10 $. La estimación puntual de $ E(y_p) $ está dada por $ \\hat{y}_p = 60 + 5(10) = 110 $.\n",
    "\n",
    "En general, no se puede esperar que $ \\hat{y}_p $ sea exactamente igual a $ E(y_p) $. Para hacer una inferencia acerca de qué tan cerca está $ \\hat{y}_p $ de la media verdadera $ E(y_p) $, es necesario estimar la varianza de $ \\hat{y}_p $. La fórmula para estimar la varianza de $ \\hat{y}_p $ para un $ x_p $ dado se denota como $ s^2_{\\hat{y}_p} $ y es\n"
   ]
  },
  {
   "cell_type": "markdown",
   "id": "251f649c-6a99-4fe4-b5d8-f4eb2cef0e2d",
   "metadata": {},
   "source": [
    "<div style=\"padding: 10px; color: black; font-size: 1.1em;\">\n",
    "  <div style=\"text-align: center;\">\n",
    "$$ s^2_{\\hat{y}_p} = s^2 \\left(\\frac{1}{n}  + \\frac{(x_p - \\bar{x})^2}{\\sum (x_i - \\bar{x})^2} \\right) $$\n",
    "<p style=\"text-align: right; color: #009929;\">(14.22)</p>\n",
    "</div>\n",
    "</div>"
   ]
  },
  {
   "cell_type": "markdown",
   "id": "d62fc98c-507c-4902-8b94-a14a74aa4ca7",
   "metadata": {},
   "source": [
    "<div style=\"padding: 10px; color: black; font-size: 1.1em;\">\n",
    "  <div style=\"text-align: center;\">La estimación de la desviación estándar de $ \\hat{y}_p $ está dada por la raíz cuadrada de la ecuación (14.22).<br>\n",
    "$$ s_{\\hat{y}_p} = s \\sqrt{\\frac{1}{n} \\left(1 + \\frac{(x_p - \\bar{x})^2}{\\sum (x_i - \\bar{x})^2} \\right)} $$\n",
    "<p style=\"text-align: right; color: #009929;\">(14.23)</p>\n",
    "</div>\n",
    "</div>"
   ]
  },
  {
   "cell_type": "markdown",
   "id": "d5c954c8-6b93-40fd-9841-399ade4051f8",
   "metadata": {},
   "source": [
    "En los resultados calculados en la sección 14.5 para el ejemplo de *Armand’s Pizza Parlors* se tiene $ s = 13.829 $. Como $ x_p = 10 $, $ \\bar{x} = 14 $, y $ \\sum (x_i - \\bar{x})^2 = 568 $, usando la ecuación (14.23) se obtiene:\n",
    "\n",
    "$ s_{\\hat{y}_p} = 13.829 \\sqrt{\\frac{1}{10} \\left(1 + \\frac{(10 - 14)^2}{568} \\right)} $\n",
    "\n",
    "$ s_{\\hat{y}_p} = 13.829 \\cdot \\sqrt{0.1282} \\approx 4.95 $\n",
    "\n",
    "A continuación, se presenta la fórmula general para obtener un intervalo de confianza.\n"
   ]
  },
  {
   "cell_type": "markdown",
   "id": "a0dd41d9-017c-4f4b-a45d-46b8985eb8fb",
   "metadata": {},
   "source": [
    "<div style=\"padding: 10px; background-color: #D4F8B7; color: black; font-size: 1.1em;\">\n",
    "  <div style=\"text-align: center;\">$ \\text{INTERVALO DE CONFIANZA PARA } E(y_p) :$<br> $\\quad \\hat{y}_p \\pm t_{\\alpha/2} s_{\\hat{y}_p} $\n",
    "\n",
    "\n",
    "<p style=\"text-align: right; color: #009929;\">(14.24)</p>\n",
    "donde el coeficiente de confianza es $1 - \\alpha$ y $t_{\\alpha/2}$ se basa en una distribución t con $n - 2$ grados de libertad.\n",
    "\n",
    "</div>\n",
    "</div>"
   ]
  },
  {
   "cell_type": "markdown",
   "id": "f80c2100-595e-4ac7-b4ac-1ca0d673a75e",
   "metadata": {},
   "source": [
    "Para obtener, con la fórmula (14.24), un intervalo de 95% de confianza para la media de las ventas trimestrales de todos los restaurantes *Armand’s* ubicados cerca de campus con 10,000 estudiantes, se necesita el valor de t para $ \\alpha/2 = 0.025 $ y $ n - 2 = 10 - 2 = 8 $ grados de libertad. En la tabla 2 del apéndice B se encuentra $ t_{0.025} = 2.306 $. Por tanto, como $ \\hat{y}_p = 110 $ y el margen de error de $ t_{\\alpha/2}s_{\\hat{y}_p} = 2.306 \\cdot 4.95 = 11.415 $, la estimación del intervalo de 95% de confianza es $$ 110 \\pm 11.415 $$.\n"
   ]
  },
  {
   "cell_type": "markdown",
   "id": "4053ac46-73ef-4611-8ac2-2438c8253877",
   "metadata": {},
   "source": [
    "En dólares, el intervalo de 95% de confianza para la media de las ventas trimestrales de todos los restaurantes que se encuentran cerca de un campus con 10,000 estudiantes es $110,000 ± $11,415. Así, el intervalo de confianza del 95% para la media de las ventas trimestrales cuando el tamaño de la población es 10,000 es de $98,585 a $121,415.\n",
    "\n",
    "Observe que la desviación estándar estimada de $ \\hat{y}_p $ dada por la ecuación (14.23) es menor cuando $ x_p = x $ y la cantidad $ x_p - x = 0 $. En este caso, la desviación estándar estimada de $ \\hat{y}_p $ se convierte en:\n",
    "\n",
    "$ s_{\\hat{y}_p} = \\frac{s}{\\sqrt{n}} $\n",
    "\n",
    "Este resultado implica que se obtiene la mejor o más precisa estimación del valor medio de $ y $ cuando $ x_p = x $. De hecho, entre más alejado esté $ x_p $ de $ x $, mayor será $ x_p - x $. Como resultado, los intervalos de confianza para el valor medio de $ y $ son más amplios a medida que $ x_p $ se aleja de $ x $. En la figura 14.8 se muestra gráfic\n"
   ]
  },
  {
   "cell_type": "markdown",
   "id": "28959584-642a-4c18-868e-e10a773941d8",
   "metadata": {},
   "source": [
    "$$ s_{\\hat{y}_p} = s \\sqrt{\\frac{1}{n}+ \\left( \\frac{(x_p - \\bar{x})^2}{\\sum (x_i - \\bar{x})^2} \\right)}$$ "
   ]
  },
  {
   "cell_type": "markdown",
   "id": "f81f861c-57d3-4165-9af5-1a75783134e2",
   "metadata": {},
   "source": [
    "$$s\\sqrt{\\frac{1}{n}}$$"
   ]
  },
  {
   "cell_type": "markdown",
   "id": "a6681711-6270-4ab6-a41b-72fdc0642a13",
   "metadata": {},
   "source": [
    "Este resultado implica que se obtiene la mejor o más precisa estimación del valor medio de $ y $ cuando $ x_p = x $. De hecho, entre más alejado esté $ x_p $ de $ x $, mayor será $ x_p - x $. Como resultado, los intervalos de confianza para el valor medio de $ y $ son más amplios a medida que $ x_p $ se aleja de $ x $. En la figura 14.8 se muestra gráficamente este patrón.\n"
   ]
  },
  {
   "cell_type": "markdown",
   "id": "de2233f8-119c-410f-8d5d-37987a9adf09",
   "metadata": {},
   "source": [
    "<div style=\"color: #009929; font-weight: bold;\"><h3>Intervalo de predicción para un solo valor de y</h3> </div> "
   ]
  },
  {
   "cell_type": "markdown",
   "id": "701d83cb-45df-465a-97ec-cee72641f113",
   "metadata": {},
   "source": [
    "Suponga que, en lugar del valor medio de las ventas de todos los restaurantes *Armand’s* que se encuentran cerca de campus con 10,000 estudiantes, se busque estimar las ventas de un solo restaurante que se encuentra cerca de *Talbot College*, una escuela de 10,000 alumnos. Como ya se indicó, la estimación puntual de $ y_p $, el valor de $ y $ que corresponde a un valor dado $ x_p $, se obtiene\r\n"
   ]
  },
  {
   "cell_type": "markdown",
   "id": "d26d8aa2-66e8-438a-9e8c-ccb1d62cc158",
   "metadata": {},
   "source": [
    "mediante la ecuación de regresión estimada $ \\hat{y}_p = b_0 + b_1x_p $. En el caso del establecimiento de *Talbot College*, como $ x_p = 10 $, las ventas trimestrales pronosticadas serán $ \\hat{y}_p = 60 - 5(10) = 110 $ o $110,000. Observa que este valor es el mismo que el obtenido como estimación puntual de la media de las ventas en todos los restaurantes que se encuentran cerca de campus con 10,000 estudiantes.\n",
    "\n",
    "Para obtener un intervalo de predicción, es necesario determinar primero la varianza correspondiente al uso de $ \\hat{y}_p $ como estimación de un valor individual de $ y $ cuando $ x = x_p $. Esta varianza está formada por la suma de los dos componentes siguientes:\n",
    "\n",
    "1. La varianza de los valores individuales de $ y $ respecto de la media $ E(y_p) $, para la cual una estimación está dada por $ s^2 $.\n",
    "2. La varianza correspondiente al uso de $ \\hat{y}_p $ para estimar $ E(y_p) $, para la cual una estimación está dada por $ s^2_{\\hat{y}_p} $.\n",
    "\n",
    "La fórmula para estimar la varianza de un valor individual de $ y_p $, que se denota como $ s^2_{\\text{ind}} $, es\n"
   ]
  },
  {
   "cell_type": "markdown",
   "id": "37890c67-2c2a-4036-9cc2-2c72f8f4d7f2",
   "metadata": {},
   "source": [
    "$ s^2_{\\text{ind}} = {s^2}{+ s^2_{\\hat{y}_p}} $\n"
   ]
  },
  {
   "cell_type": "markdown",
   "id": "e3318bd6-4967-48af-8b13-4b0a79b3c77f",
   "metadata": {},
   "source": [
    "$ s^2 = {s^2}+{s + (\\frac{1}{n} \\left( \\frac{(x_p - \\bar{x})^2}{\\sum (x_i - \\bar{x})^2} \\right)}) $"
   ]
  },
  {
   "cell_type": "markdown",
   "id": "d020e255-f7fe-4676-88fb-ed92eb9e7810",
   "metadata": {},
   "source": [
    "<div style=\"padding: 10px; color: black; font-size: 1.1em;\">\n",
    "  <div style=\"text-align: center;\">$s^2(1 + \\frac{1}{n} + \\frac{(x_p - \\bar{x})^2}{\\sum{(x_i - \\bar{x})^2}})$\n",
    "\n",
    "<p style=\"text-align: right; color: #009929;\">(14.25)</p>\n",
    "</div>\n",
    "</div>"
   ]
  },
  {
   "cell_type": "markdown",
   "id": "5d0569a7-d31f-44de-91e9-981923168d65",
   "metadata": {},
   "source": [
    "<div style=\"padding: 10px; color: black; font-size: 1.1em;\">\n",
    "  <div style=\"text-align: center;\">Por tanto, una estimación de la desviación estándar de un solo valor de $y_p$ está dada por<br>\n",
    "     $ s^2_{\\text{ind}} =s^2\\sqrt{(1 + \\frac{1}{n} + \\frac{(x_p - \\bar{x})^2}{\\sum{(x_i - \\bar{x})^2}}})$\n",
    "\n",
    "<p style=\"text-align: right; color: #009929;\">(14.26)</p>\n",
    "</div>\n",
    "</div>"
   ]
  },
  {
   "cell_type": "markdown",
   "id": "e27e9236-2f1b-4b71-9c67-68e9562365a6",
   "metadata": {},
   "source": [
    "En el ejemplo de Armand’s Pizza Parlors, la desviación estándar estimada que corresponde a la\n",
    "predicción de las ventas de un determinado restaurante ubicado cerca de un campus con 10 000\n",
    "estudiantes se calcula como sigue"
   ]
  },
  {
   "cell_type": "markdown",
   "id": "9eff2603-f702-43b5-81f2-c7a25bda0573",
   "metadata": {},
   "source": [
    "$ s^2_{\\text{ind}} =s^2(\\sqrt{(1 + \\frac{1}{10} + \\frac{(10-14)^2}{568}})$"
   ]
  },
  {
   "cell_type": "markdown",
   "id": "9ee012d1-a551-4481-a442-2abdd8e9c94c",
   "metadata": {},
   "source": [
    "$=13.829(\\sqrt{1.1282})$"
   ]
  },
  {
   "cell_type": "markdown",
   "id": "8eea6d51-7831-4a51-a61a-65bfe14bce40",
   "metadata": {},
   "source": [
    " =14.69<br>\n",
    "La fórmula general para un intervalo de predicción es la siguiente.\n"
   ]
  },
  {
   "cell_type": "markdown",
   "id": "d4a0c4f6-9fb8-437c-a05a-4223d40285a2",
   "metadata": {},
   "source": [
    "<div style=\"padding: 10px; background-color: #D4F8B7; color: black; font-size: 1.1em;\">\n",
    "  <div style=\"text-align: center;\">INTERVALO DE PREDICCIÓN PARA $y_p$<br>\n",
    "      $$\\hat{y}_p \\pm t_{\\frac{\\alpha}{2}} \\cdot s_{ind}$$\n",
    "\n",
    "\n",
    "<p style=\"text-align: right; color: #009929;\">(14.27)</p>\n",
    "donde el coeficiente de confianza es \\(1 - \\alpha\\) y \\(t_{\\frac{\\alpha}{2}}\\) se basa en una distribución t con \\(n - 2\\) grados de libertad.\n",
    "\n",
    "</div>\n",
    "</div>"
   ]
  },
  {
   "cell_type": "markdown",
   "id": "5cb899da-7e88-441d-80e5-203a4ab4ca78",
   "metadata": {},
   "source": [
    "El intervalo de predicción de 95% de las ventas trimestrales del restaurante de Talbot College se encuentra usando $t_{0.025} = 2.306$ y $s_{ind} = 14.69$. Por tanto, con $\\hat{y}_p = 110$ y un margen de\r\n",
    "error de $t_{\\frac{\\alpha}{2}} \\cdot s_{ind} = 2.306 \\cdot 14.69 = 33.875$, el intervalo de predicción de 95% es\r\n",
    "$110 \\pm 33.875$.\r\n"
   ]
  },
  {
   "cell_type": "markdown",
   "id": "0bfec4fb-4150-46d7-88ee-7ef3222d992f",
   "metadata": {},
   "source": [
    "En dólares, este intervalo de predicción es de $110,000 a $33,875 o de $76,125 a $143,875. Observa que el intervalo de predicción para un solo restaurante cerca de un campus con 10,000 estudiantes es más amplio que el intervalo de confianza para la media de las ventas de todos los restaurantes ubicados cerca de campus con 10,000 estudiantes. Esta diferencia refleja el hecho de que se puede estimar con más precisión la media de y que un solo valor de y.\n",
    "\n",
    "Tanto las estimaciones mediante un intervalo de confianza como mediante un intervalo de predicción son más precisas cuando el valor de la variable independiente es $x_p \\leq x$. En la figura 14.9 se muestra la forma general de los intervalos de confianza y de predicción que son más anchos.\n"
   ]
  },
  {
   "cell_type": "markdown",
   "id": "37932c99-595a-45f8-aca0-6a14ec2cd223",
   "metadata": {},
   "source": [
    "## <div style=\"display: inline-block; background-color: #009929; padding: 8px; border-radius: 50%; color: white; font-weight: bold;\">14.7</div><span style=\"color:#009929\"> Solución por computadora</span>\n",
    "<div style=\"text-align: justify;\">Realizar los cálculos del análisis de regresión sin la ayuda de una computadora puede requerir mucho tiempo. En esta sección se verá cómo puede minimizarse la complicación de tantos cálculos usando software de Minitab.\r\n",
    "\r\n",
    "Los datos sobre población de estudiantes y ventas de Armand’s Pizza Parlors se han ingresado en la hoja de cálculo de Minitab. A la variable independiente se le ha llamado Pop y a la variable dependiente Sales (ventas), para facilitar la interpretación de los resultados que proporciona la computadora. Usando Minitab para el ejemplo de Armand’s se obtuvieron los resultados que se muestran en la figura 14.10.2. A continuación se explica cómo interpretarlos.\r\n",
    "\r\n",
    "1. Minitab muestra la ecuación de regresión estimada como Sales = 60.0 - 5.00 * Pop.\r\n",
    "\r\n",
    "2. Presenta también una tabla en la que indica el valor de los coeficientes b0 y b1, la desviación estándar de cada coeficiente, el valor t obtenido al dividir cada coeficiente entre su desviación estándar y el valor-p correspondiente a la prueba t. Como el valor-p es cero (a tres posiciones decimales), los resultados muestrales indican que debe rechazarse la hipótesis nula (H0: β1 = 0). O bien, se puede comparar 8.62 (que aparece en la columna t) con el valor crítico apropiado. Este procedimiento para la prueba t se describió en la sección 14.5.\r\n",
    "\n",
    "</div>"
   ]
  },
  {
   "cell_type": "markdown",
   "id": "735101fa-7674-41d2-8b98-7f511a991371",
   "metadata": {},
   "source": [
    "<div style=\"padding: 10px; background-color: #D4F8B7; color: black; font-size: 1.1em;\">\n",
    "  <div style=\"text-align: left;\">The regression equation is<br>\n",
    "Sales = 60.0 + 5.00 Pop              $Ecuación de regresión estimada$<br>\n",
    "Predictor Coef SE Coef T p<br>\n",
    "Constant 60.000 9.226 6.50 0.000<br>\n",
    "Pop 5.0000 0.5803 8.62 0.000<br>\n",
    "S = 13.8293 R-sq = 90.3% R-sq(adj) = 89.1%<br>\n",
    "Analysis of Variance<br>\n",
    "SOURCE DF SS MS F p                                      $Tabla de ANOVA$<br>  \n",
    "Regression 1 14200 14200 74.25 0.000<br>\n",
    "Residual Error 8 1530 191<br>\n",
    "Total 9 15730<br>\n",
    "Predicted Values for New Observations<br>\n",
    "New<br>\n",
    "Obs Fit SE Fit 95% C.I. 95% P.I.                            $Estimaciones de intervalo$<br>\n",
    " 1 110.00 4.95 (98.58, 121.42) (76.13, 143.87)<br>       \n",
    "\n",
    "</div>"
   ]
  },
  {
   "cell_type": "markdown",
   "id": "1fb59313-e03a-4db7-85d0-14beb03a25ad",
   "metadata": {},
   "source": [
    "Minitab muestra el error estándar de estimación, $s = 13.8293$, así como información acerca de la bondad de ajuste. Observa que “R-sq = 90.3%” es el coeficiente de determinación expresado como porcentaje. El valor “R-sq(adj) = 89.1%” se verá en el capítulo 15.\n",
    "\n",
    "4. La tabla ANOVA se presenta bajo el encabezado \"Analysis of Variance\". Minitab usa la etiqueta \"Residual Error\" para la fuente de variación del error. Observa que DF son las siglas de degrees of freedom (grados de libertad) y que el CMR está dado como $14,200$ y ECM como $191$. El cociente de estos dos valores proporciona el valor F, que es $74.25$, y el correspondiente valor-p es $0.000$. Como el valor-p es cero (a tres posiciones decimales), la relación entre ventas (Sales) y población (Pop) se considera estadísticamente significativa.\n",
    "\n",
    "5. La estimación de las ventas esperadas mediante un intervalo de confianza del 95% y la estimación de las ventas de un determinado restaurante cercano a un campus de 10,000 estudiantes mediante un intervalo de predicción del 95% se presentan abajo de la tabla ANOVA. El intervalo de confianza es $(98.58, 121.42)$ y el intervalo de predicción es $(76.13, 143.88)$, como se mostró en la sección 14.6.\n"
   ]
  },
  {
   "cell_type": "markdown",
   "id": "ae35a504-b71f-4350-8dd6-8a68a5bfea38",
   "metadata": {},
   "source": [
    "## <div style=\"display: inline-block; background-color: #009929; padding: 8px; border-radius: 50%; color: white; font-weight: bold;\">14.8</div><span style=\"color:#009929\"> Análisis de residuales: confirmación\n",
    "de los supuestos del modelo</span>\n",
    "<div style=\"text-align: justify;\">Como ya se indicó, el residual de la observación i es la diferencia entre el valor observado de la variable dependiente ($y_i$) y el valor estimado de la variable dependiente ($\\hat{y}_i$).\n",
    "\n",
    "</div>"
   ]
  },
  {
   "cell_type": "markdown",
   "id": "8a299a07-bed1-4fdd-bda2-edfe97627003",
   "metadata": {},
   "source": [
    "<div style=\"padding: 10px; background-color: #D4F8B7; color: black; font-size: 1.1em;\">\n",
    "  <div style=\"text-align: center;\">RESIDUAL DE LA OBSERVACIÓN i<br>\n",
    "      $$y_i - \\hat{y}_i$$\n",
    "\n",
    "\n",
    "<p style=\"text-align: right; color: #009929;\">(14.28)</p>\n",
    "donde:<br>\n",
    "$y_i$ - valor observado de la variable dependiente<br>\n",
    "$\\hat{y}_i$ - valor estimado de la variable dependiente<br>\n",
    "</div>\n",
    "</div>"
   ]
  },
  {
   "cell_type": "markdown",
   "id": "3d635bf1-2c6c-472b-80b6-37d4a6ccaad8",
   "metadata": {},
   "source": [
    "En otras palabras, el residual i-ésimo es el error que resulta de usar la ecuación de regresión estimada para predecir el valor de la variable dependiente. En la tabla 14.7 se calculan los residuales correspondientes a los datos del ejemplo de Armand’s Pizza Parlors. En la segunda columna de la tabla se presentan los valores observados de la variable dependiente, y en la tercera los valores estimados de la variable dependiente obtenidos con la ecuación de regresión estimada \\(\\hat{y} = 60 - 5x\\). Un análisis de los residuales correspondientes, en la cuarta columna de la tabla, ayuda a determinar si los supuestos acerca del modelo de regresión son adecuados.\n",
    "\n",
    "A continuación se revisan los supuestos de regresión en el ejemplo de Armand’s Pizza Parlors. Se supuso un modelo de regresión lineal simple:\n",
    "\n"
   ]
  },
  {
   "cell_type": "markdown",
   "id": "0155ff36-a662-4262-86ff-ac5557d44e8a",
   "metadata": {},
   "source": [
    "<div style=\"padding: 10px; color: black; font-size: 1.1em;\">\n",
    "  <div style=\"text-align: center;\">\n",
    "      $ y = \\beta_0 + \\beta_1 x + \\epsilon\\ $\n",
    "\n",
    "<p style=\"text-align: right; color: #009929;\">(14.29)</p>\n",
    "</div>\n",
    "</div>"
   ]
  },
  {
   "cell_type": "markdown",
   "id": "1d5401ca-955c-4efd-9a0a-76d1f20f84b8",
   "metadata": {},
   "source": [
    "<div style=\"color: #009929; font-weight: bold;\"><h3>TABLA 14.7 Residuales en el ejemplo de Armand’s Pizza Parlors</h3> </div> "
   ]
  },
  {
   "cell_type": "markdown",
   "id": "89a1b9a7-c160-4e2d-9664-a52c5ca7356c",
   "metadata": {},
   "source": [
    "<table style=\"border-collapse: collapse; width: 100%;\">\n",
    "  <thead style=\"background-color: #009929; color: white;\">\n",
    "    <tr>\n",
    "      <th>Población de Estudiantes (xi)</th>\n",
    "      <th>Ventas Observadas (yi)</th>\n",
    "      <th>Ventas Estimadas (\\(\\hat{y}\\) = 60 + 5xi)</th>\n",
    "      <th>Residuales (yi - \\(\\hat{y}\\)i)</th>\n",
    "    </tr>\n",
    "  </thead>\n",
    "  <tbody>\n",
    "    <tr style=\"background-color: #D4F8B7;\">\n",
    "      <td>2</td>\n",
    "      <td>58</td>\n",
    "      <td>70</td>\n",
    "      <td>\\( -12 \\)</td>\n",
    "    </tr>\n",
    "    <tr style=\"background-color: #D4F8B7;\">\n",
    "      <td>6</td>\n",
    "      <td>105</td>\n",
    "      <td>90</td>\n",
    "      <td>15</td>\n",
    "    </tr>\n",
    "    <tr style=\"background-color: #D4F8B7;\">\n",
    "      <td>8</td>\n",
    "      <td>88</td>\n",
    "      <td>100</td>\n",
    "      <td>\\( -12 \\)</td>\n",
    "    </tr>\n",
    "    <tr style=\"background-color: #D4F8B7;\">\n",
    "      <td>8</td>\n",
    "      <td>118</td>\n",
    "      <td>100</td>\n",
    "      <td>18</td>\n",
    "    </tr>\n",
    "    <tr style=\"background-color: #D4F8B7;\">\n",
    "      <td>12</td>\n",
    "      <td>117</td>\n",
    "      <td>120</td>\n",
    "      <td>\\( -3 \\)</td>\n",
    "    </tr>\n",
    "    <tr style=\"background-color: #D4F8B7;\">\n",
    "      <td>16</td>\n",
    "      <td>137</td>\n",
    "      <td>140</td>\n",
    "      <td>\\( -3 \\)</td>\n",
    "    </tr>\n",
    "    <tr style=\"background-color: #D4F8B7;\">\n",
    "      <td>20</td>\n",
    "      <td>157</td>\n",
    "      <td>160</td>\n",
    "      <td>\\( -3 \\)</td>\n",
    "    </tr>\n",
    "    <tr style=\"background-color: #D4F8B7;\">\n",
    "      <td>20</td>\n",
    "      <td>169</td>\n",
    "      <td>160</td>\n",
    "      <td>9</td>\n",
    "    </tr>\n",
    "    <tr style=\"background-color: #D4F8B7;\">\n",
    "      <td>22</td>\n",
    "      <td>149</td>\n",
    "      <td>170</td>\n",
    "      <td>\\( -21 \\)</td>\n",
    "    </tr>\n",
    "    <tr style=\"background-color: #D4F8B7;\">\n",
    "      <td>26</td>\n",
    "      <td>202</td>\n",
    "      <td>190</td>\n",
    "      <td>12</td>\n",
    "    </tr>\n",
    "  </tbody>\n",
    "</table>\n"
   ]
  },
  {
   "cell_type": "markdown",
   "id": "78dfcd83-77a5-4c18-9feb-6505e3e53668",
   "metadata": {},
   "source": [
    "Este modelo indica que se supone que las ventas trimestrales ($y$) son la función lineal del tamaño de la población de estudiantes ($x$) más un término del error ($\\epsilon$). En la sección 14.4 se plantearon los siguientes supuestos para el término del error ($\\epsilon$):\n",
    "\n",
    "1. $E(\\epsilon) = 0$.\n",
    "2. La varianza de $\\epsilon$, que se denota $\\sigma^2$, es la misma para todos los valores de $x$.\n",
    "3. Los valores de $\\epsilon$ son independientes.\n",
    "4. El término del error $\\epsilon$ tiene una distribución normal.\n",
    "\n",
    "Estos supuestos constituyen la base teórica para las pruebas t y F que se usan para determinar si la relación entre $x$ y $y$ es significativa, y para las estimaciones de los intervalos de confianza y de predicción presentadas en la sección 14.6. Si los supuestos sobre el término del error $\\epsilon$ son dudosos, quizá las pruebas de hipótesis acerca de la significancia de la relación de regresión y los resultados de la estimación por intervalo no sean válidos.\n",
    "\n",
    "Los residuales proporcionan la mejor información de $\\epsilon$; por tanto, su análisis es muy importante para determinar si los supuestos planteados acerca de $\\epsilon$ son apropiados. Gran parte del análisis residual se basa en examinar gráficas. En esta sección se estudiarán las siguientes gráficas de residuales:\n",
    "\n",
    "1. Una gráfica de residuales contra los valores de la variable independiente $x$.\n",
    "2. Una gráfica de residuales contra los valores pronosticados para la variable dependiente $\\hat{y}$.\n",
    "3. Una gráfica de residuales estandarizada.\n",
    "4. Una gráfica de probabilidad normal.\n"
   ]
  },
  {
   "cell_type": "markdown",
   "id": "cdb84a7d-f898-4343-96de-2cc7819396a0",
   "metadata": {},
   "source": [
    "<div style=\"color: #009929; font-weight: bold;\"><h3>Gráfica de residuales contra x</h3> </div> "
   ]
  },
  {
   "cell_type": "markdown",
   "id": "e0371fa2-d695-43c4-8fb7-e478fcd0e4d1",
   "metadata": {},
   "source": [
    "En la gráfica de residuales contra la variable independiente $x$, los valores de esta variable se representan en el eje horizontal y los valores de los residuales correspondientes se presentan en el eje vertical. Para cada residual se grafica un punto. La primera coordenada de cada punto está dada por el valor $x_i$ y la segunda, por el correspondiente valor del residual $y_i - \\hat{y}_i$. En la gráfica de residuales contra $x$ obtenida con los datos de Armand’s Pizza Parlors de la tabla 14.7, las coordenadas del primer punto son (2, $-12$), que corresponden a $x_1 = 2$ y $y_1 - \\hat{y}_1 = -12$; las coordenadas del segundo punto son (6, 15), que corresponden a $x_2 = 6$ y $y_2 - \\hat{y}_2 = 15$, y así sucesivamente. En la figura 14.11 se muestra la gráfica de residuales obtenida.\n",
    "\n",
    "Antes de interpretar los resultados se considerarán algunas formas generales que pueden adoptar las gráficas de residuales. En la figura 14.12 se muestran tres ejemplos. Si el supuesto de que la varianza de $\\epsilon$ es el mismo para todos los valores de $x$ y el modelo de regresión empleado representa adecuadamente la relación entre las variables, el aspecto general de la gráfica de residuales será el de una banda horizontal de puntos como en A. Pero si la varianza de $\\epsilon$ no es la misma para todos los valores $x$ (por ejemplo, si la variabilidad respecto de la línea de regresión es mayor para valores de $x$ mayores) el aspecto de la gráfica puede ser como en B. En este caso se viola el supuesto de que $\\epsilon$ tiene una varianza constante. En C se muestra otra forma que puede tomar la gráfica de residuales. En este caso, se concluye que el modelo de regresión empleado no representa adecuadamente la relación entre las variables, y deberá considerarse un modelo de regresión curvilíneo o múltiple.\n",
    "\n",
    "Regresando a la gráfica de los residuales del ejemplo de Armand’s Pizza Parlors de la figura 14.11, estos residuales parecen tener una forma que se aproxima a la de la banda horizontal de la gráfica A de la figura 14.12. Por tanto, concluimos que esta gráfica no muestra evidencias de que los supuestos formulados para el modelo de regresión de Armand’s puedan ser dudosos. Concluimos que el modelo de regresión lineal simple empleado es válido.\n"
   ]
  },
  {
   "cell_type": "markdown",
   "id": "aaddb56e-9aa0-4fd7-8002-32ddd60a8609",
   "metadata": {},
   "source": [
    "<div style=\"color: #009929; font-weight: bold;\"><h3>FIGURA 14.11 Gráfica de residuales contra la variable independiente x para Armand’s\r\n",
    "Pizza Parlor<s</h3> </div> "
   ]
  },
  {
   "cell_type": "code",
   "execution_count": null,
   "id": "cbb18ad0-5f15-463e-bd0f-a15ff4ba2634",
   "metadata": {},
   "outputs": [],
   "source": [
    "import matplotlib.pyplot as plt\n",
    "\n",
    "# Datos\n",
    "poblacion_estudiantes = [2, 6, 8, 8, 12, 16, 20, 20, 22, 26]\n",
    "ventas_observadas = [58, 105, 88, 118, 117, 137, 157, 169, 149, 202]\n",
    "ventas_estimadas = [70, 90, 100, 100, 120, 140, 160, 160, 170, 190]\n",
    "residuales = [-12, 15, -12, 18, -3, -3, -3, 9, -21, 12]\n",
    "\n",
    "# Gráfica de residuales contra la variable independiente x\n",
    "plt.scatter(poblacion_estudiantes, residuales, color='#009929', label='Residuales')\n",
    "plt.axhline(0, color='#009929', linestyle='--', linewidth=1)  # Línea base en y=0\n",
    "plt.xlabel('Población de Estudiantes (x)')\n",
    "plt.ylabel('Residuales')\n",
    "plt.title('Gráfica de Residuales contra la Variable Independiente x\\n(Armand’s Pizza Parlors)')\n",
    "plt.legend()\n",
    "\n",
    "# Configuración del color de fondo\n",
    "ax = plt.gca()\n",
    "ax.set_facecolor('#D4F8B7')\n",
    "\n",
    "plt.grid(True)\n",
    "plt.show()\n"
   ]
  },
  {
   "cell_type": "markdown",
   "id": "f9e9dfb3-530f-4cbd-a320-20db5ff0f84a",
   "metadata": {},
   "source": [
    "Para la adecuada interpretación de las gráfi cas de residuales, la experiencia y el criterio\n",
    "son muy importantes. Es raro que estas gráfi cas tengan exactamente la forma de uno de los\n",
    "patrones mostrados en la fi gura 14.12. Sin embargo, los analistas que realizan frecuentemente\n",
    "estudios de regresión y gráfi cas de residuales se vuelven expertos en reconocer las diferencias\n",
    "entre las formas razonables y las que indican que se puede dudar de los supuestos del modelo.\n",
    "Una gráfi ca de residuales proporciona una técnica para evaluar la validez de los supuestos en\n",
    "un modelo de regresión."
   ]
  },
  {
   "cell_type": "markdown",
   "id": "dbe9724a-c041-4023-9c90-0703ee5cadc8",
   "metadata": {},
   "source": [
    "<div style=\"color: #009929; font-weight: bold;\"><h3>Gráfica de residuales contra $\\hat{y}$</h3> </div> "
   ]
  },
  {
   "cell_type": "markdown",
   "id": "007542b9-fbb2-4275-a778-d0e0218333ce",
   "metadata": {},
   "source": [
    "En otras gráficas de residuales, los valores pronosticados para la variable dependiente $\\hat{y}$ se representan en el eje horizontal y los valores de los residuales en el eje vertical. A cada residual corresponde un punto en la gráfica. La primera coordenada de cada uno de los puntos está dada por $\\hat{y}_i$ y la segunda es el valor correspondiente del residual i-ésimo, $y_i - \\hat{y}_i$. Con los datos de Armand’s de la tabla 14.7, las coordenadas del primer punto son (70, $-12$), que corresponden a $\\hat{y}_1 = 70$ y $y_1 - \\hat{y}_1 = $-12; las coordenadas del segundo punto son (90, 15), y así sucesivamente. En la figura 14.13 se presenta esta gráfica de residuales. Observe que su forma es igual a la de la gráfica de residuales contra la variable independiente $x$. Este no es un patrón que pudiera llevar a dudar de los supuestos del modelo. En la regresión lineal simple, tanto la gráfica de residuales contra $x$ como la gráfica de residuales contra $\\hat{y}$ tienen la misma forma. En el análisis de regresión múltiple, la gráfica de residuales contra $\\hat{y}$ se usa más debido a que se tiene más de una variable independiente.\n"
   ]
  },
  {
   "cell_type": "markdown",
   "id": "403e1c34-a0fb-47a8-9a84-d09b04f2511b",
   "metadata": {},
   "source": [
    "<div style=\"color: #009929; font-weight: bold;\"><h3>Residuales estandarizados</h3> </div> "
   ]
  },
  {
   "cell_type": "markdown",
   "id": "ec543c3d-c6ba-4ab0-aace-734f05a38097",
   "metadata": {},
   "source": [
    "Muchas gráfi cas de residuales que se obtienen con software de computadora utilizan una versión estandarizada de los residuales. Como se demostró en el capítulo anterior, una variable\n",
    "aleatoria se estandariza al sustraerle su media y dividir el resultado entre su desviación estándar.\n",
    "Cuando se emplea el método de mínimos cuadrados, la media de los residuales es cero. Por "
   ]
  },
  {
   "cell_type": "markdown",
   "id": "7ca572f4-62d9-4ac8-979b-6e7819795eec",
   "metadata": {},
   "source": [
    "<div style=\"color: #009929; font-weight: bold;\"><h3>FIGURA 14.12 Gráfica de residuales de tres estudios de regresión</h3> </div> "
   ]
  },
  {
   "cell_type": "code",
   "execution_count": null,
   "id": "5da387b8-5841-4248-b67a-c04630cd5a9f",
   "metadata": {},
   "outputs": [],
   "source": [
    "import numpy as np\n",
    "import matplotlib.pyplot as plt\n",
    "\n",
    "# Función para crear un estudio de regresión\n",
    "def create_regression_study(x, true_slope, true_intercept, residual_function):\n",
    "    y_true = true_slope * x + true_intercept\n",
    "    residuals = residual_function(x)\n",
    "    y_observed = y_true + residuals\n",
    "    return y_observed, residuals\n",
    "\n",
    "# Estudio 1: Patrón Adecuado\n",
    "np.random.seed(42)\n",
    "x1 = np.linspace(0, 10, 100)\n",
    "residual_function1 = lambda x: np.random.normal(0, 2, len(x))\n",
    "y1_observed, residuals1 = create_regression_study(x1, 2, 1, residual_function1)\n",
    "\n",
    "# Estudio 2: Varianza No Constante\n",
    "x2 = np.linspace(0, 10, 100)\n",
    "residual_function2 = lambda x: np.random.normal(0, x, len(x))\n",
    "y2_observed, residuals2 = create_regression_study(x2, 2, 1, residual_function2)\n",
    "\n",
    "# Estudio 3: Forma No Adecuada\n",
    "x3 = np.linspace(0, 10, 100)\n",
    "residual_function3 = lambda x: 3 * np.sin(x) + np.random.normal(0, 2, len(x))\n",
    "y3_observed, residuals3 = create_regression_study(x3, 2, 1, residual_function3)\n",
    "\n",
    "# Gráfica de Residuales para los Tres Estudios\n",
    "fig, axes = plt.subplots(3, 1, figsize=(8, 12))\n",
    "\n",
    "# Configuración del color de fondo\n",
    "for ax in axes:\n",
    "    ax.set_facecolor('#D4F8B7')\n",
    "\n",
    "# Estudio 1\n",
    "axes[0].scatter(x1, residuals1, color='#009929', label='Residuales Estudio 1')\n",
    "axes[0].axhline(0, color='#009929', linestyle='--', linewidth=1)\n",
    "axes[0].set_title('Estudio 1: Patrón Adecuado')\n",
    "\n",
    "# Estudio 2\n",
    "axes[1].scatter(x2, residuals2, color='#009929', label='Residuales Estudio 2')\n",
    "axes[1].axhline(0, color='#009929', linestyle='--', linewidth=1)\n",
    "axes[1].set_title('Estudio 2: Varianza No Constante')\n",
    "\n",
    "# Estudio 3\n",
    "axes[2].scatter(x3, residuals3, color='#009929', label='Residuales Estudio 3')\n",
    "axes[2].axhline(0, color='#009929', linestyle='--', linewidth=1)\n",
    "axes[2].set_title('Estudio 3: Forma No Adecuada')\n",
    "\n",
    "plt.xlabel('Variable Independiente (x)')\n",
    "plt.ylabel('Residuales')\n",
    "plt.tight_layout()\n",
    "plt.show()\n"
   ]
  },
  {
   "cell_type": "markdown",
   "id": "be195050-3f24-4ef5-811e-bfc7673e63f4",
   "metadata": {},
   "source": [
    "<div style=\"color: #009929; font-weight: bold;\"><h3>FIGURA 14.13 Gráfica de residuales contra los valores pronosticados de yˆ para Armand’s\n",
    "Pizza Parlors</h3> </div> "
   ]
  },
  {
   "cell_type": "code",
   "execution_count": null,
   "id": "928759ce-49d9-4408-862a-751179fc4d18",
   "metadata": {},
   "outputs": [],
   "source": [
    "import matplotlib.pyplot as plt\n",
    "\n",
    "# Datos\n",
    "poblacion_estudiantes = [2, 6, 8, 8, 12, 16, 20, 20, 22, 26]\n",
    "ventas_observadas = [58, 105, 88, 118, 117, 137, 157, 169, 149, 202]\n",
    "ventas_estimadas = [70, 90, 100, 100, 120, 140, 160, 160, 170, 190]\n",
    "residuales = [-12, 15, -12, 18, -3, -3, -3, 9, -21, 12]\n",
    "\n",
    "# Gráfica de residuales contra la variable independiente x\n",
    "plt.scatter(poblacion_estudiantes, residuales, color='#009929', label='Residuales')\n",
    "plt.axhline(0, color='#009929', linestyle='--', linewidth=1)  # Línea base en y=0\n",
    "plt.xlabel('Población de Estudiantes (x)')\n",
    "plt.ylabel('Residuales')\n",
    "plt.title('Gráfica de Residuales contra la Variable Independiente x\\n(Armand’s Pizza Parlors)')\n",
    "plt.legend()\n",
    "\n",
    "# Configuración del color de fondo\n",
    "ax = plt.gca()\n",
    "ax.set_facecolor('#D4F8B7')\n",
    "\n",
    "plt.grid(True)\n",
    "plt.show()"
   ]
  },
  {
   "cell_type": "markdown",
   "id": "8a2cce23-fc86-448a-b485-d1c36263dec0",
   "metadata": {},
   "source": [
    "Por consiguiente, para obtener el residual estandarizado, solo es necesario dividir cada residual entre su desviación estándar.\n",
    "\n",
    "Se puede demostrar que la desviación estándar del residual i depende del error estándar de la estimación s y del valor correspondiente de la variable independiente $x_i$.\n"
   ]
  },
  {
   "cell_type": "markdown",
   "id": "74a08305-e3a4-4834-851e-12f330d3d4bb",
   "metadata": {},
   "source": [
    "**Desviación Estándar del Residual i-ésimo:**\n",
    "\n",
    "$$ \\text{sy}_i = \\frac{y_i - \\hat{y}_i}{s \\sqrt{1 - h_i}} $$"
   ]
  },
  {
   "cell_type": "markdown",
   "id": "3b9e8a60-93e1-4d3c-91b8-62feed567b0a",
   "metadata": {},
   "source": [
    "<div style=\"padding: 10px; background-color: #D4F8B7; color: black; font-size: 1.1em;\">\n",
    "  <div style=\"text-align: center;\">Desviación Estándar del Residual i-ésimo:<br>\n",
    "      $$ \\text{sy}_i = s \\sqrt{1 - h_i} $$\n",
    "\n",
    "\n",
    "<p style=\"text-align: right; color: #009929;\">(14.30)</p>\n",
    "$s_{(y_i - \\hat{y}_i)}$=desviación estándar del residual i<br>\n",
    "s =error estándar de estimación<br>\n",
    "$h_i = \\frac{1}{n} + \\frac{(x_i - \\bar{x})^2}{\\sum_{i=1}^{n}(x_i - \\bar{x})^2} $\n",
    "<p style=\"text-align: right; color: #009929;\">(14.31)</p>\n",
    "</div>\n",
    "</div>"
   ]
  },
  {
   "cell_type": "markdown",
   "id": "283e2d0f-e0bb-48bf-8c88-bfe7d9d8eb7e",
   "metadata": {},
   "source": [
    "Observa que la ecuación (14.30) indica que la desviación estándar del residual i-ésimo depende de $x_i$ debido a la presencia de $h_i$ en la fórmula. Una vez determinada la desviación estándar de cada uno de los residuales, se pueden calcular los residuales estandarizados al dividir cada residual entre sus desviaciones estándar correspondientes.\r\n"
   ]
  },
  {
   "cell_type": "markdown",
   "id": "419d5c8d-338d-474a-a07f-bb783d56e60f",
   "metadata": {},
   "source": [
    "<div style=\"color: #009929; font-weight: bold;\"><h3>TABLA 14.8 Cálculo de los residuales estandarizados del ejemplo de Armand’s Pizza Parlors</h3> </div> "
   ]
  },
  {
   "cell_type": "markdown",
   "id": "47e58ac7-ecaf-446b-908c-406cc9740e24",
   "metadata": {},
   "source": [
    "<table>\n",
    "    <tr>\n",
    "      <th style=\"background-color: #009929; color: white; padding: 8px;\">Restaurante i</th>\n",
    "      <th style=\"background-color: #009929; color: white; padding: 8px;\">xi</th>\n",
    "      <th style=\"background-color: #009929; color: white; padding: 8px;\">xi-xpromedio</th>\n",
    "      <th style=\"background-color: #009929; color: white; padding: 8px;\">(xi-xpromedio)^2</th>\n",
    "      <th style=\"background-color: #009929; color: white; padding: 8px;\">(xi-xpromedio)^2/sumatoria(xi-xpromedio)^2</th>\n",
    "      <th style=\"background-color: #009929; color: white; padding: 8px;\">hi</th>\n",
    "      <th style=\"background-color: #009929; color: white; padding: 8px;\">s_(y_i-yhat_i)</th>\n",
    "      <th style=\"background-color: #009929; color: white; padding: 8px;\">Residuales Estandarizados</th>\n",
    "    </tr>\n",
    "    <tr>\n",
    "      <td style=\"background-color: #D4F8B7; padding: 8px;\">1</td>\n",
    "      <td style=\"background-color: #D4F8B7; padding: 8px;\">2</td>\n",
    "      <td style=\"background-color: #D4F8B7; padding: 8px;\">12</td>\n",
    "      <td style=\"background-color: #D4F8B7; padding: 8px;\">144</td>\n",
    "      <td style=\"background-color: #D4F8B7; padding: 8px;\">0.2535</td>\n",
    "      <td style=\"background-color: #D4F8B7; padding: 8px;\">0.3535</td>\n",
    "      <td style=\"background-color: #D4F8B7; padding: 8px;\">11.1193</td>\n",
    "      <td style=\"background-color: #D4F8B7; padding: 8px;\">1.0792</td>\n",
    "    </tr>\n",
    "    <tr>\n",
    "      <td style=\"background-color: #D4F8B7; padding: 8px;\">2</td>\n",
    "      <td style=\"background-color: #D4F8B7; padding: 8px;\">6</td>\n",
    "      <td style=\"background-color: #D4F8B7; padding: 8px;\">8</td>\n",
    "      <td style=\"background-color: #D4F8B7; padding: 8px;\">64</td>\n",
    "      <td style=\"background-color: #D4F8B7; padding: 8px;\">0.1127</td>\n",
    "      <td style=\"background-color: #D4F8B7; padding: 8px;\">0.2127</td>\n",
    "      <td style=\"background-color: #D4F8B7; padding: 8px;\">12.2709</td>\n",
    "      <td style=\"background-color: #D4F8B7; padding: 8px;\">1.2224</td>\n",
    "    </tr>\n",
    "    <tr>\n",
    "      <td style=\"background-color: #D4F8B7; padding: 8px;\">3</td>\n",
    "      <td style=\"background-color: #D4F8B7; padding: 8px;\">8</td>\n",
    "      <td style=\"background-color: #D4F8B7; padding: 8px;\">6</td>\n",
    "      <td style=\"background-color: #D4F8B7; padding: 8px;\">36</td>\n",
    "      <td style=\"background-color: #D4F8B7; padding: 8px;\">0.0634</td>\n",
    "      <td style=\"background-color: #D4F8B7; padding: 8px;\">0.1634</td>\n",
    "      <td style=\"background-color: #D4F8B7; padding: 8px;\">12.6493</td>\n",
    "      <td style=\"background-color: #D4F8B7; padding: 8px;\">0.9487</td>\n",
    "    </tr>\n",
    "    <tr>\n",
    "      <td style=\"background-color: #D4F8B7; padding: 8px;\">4</td>\n",
    "      <td style=\"background-color: #D4F8B7; padding: 8px;\">8</td>\n",
    "      <td style=\"background-color: #D4F8B7; padding: 8px;\">6</td>\n",
    "      <td style=\"background-color: #D4F8B7; padding: 8px;\">36</td>\n",
    "      <td style=\"background-color: #D4F8B7; padding: 8px;\">0.0634</td>\n",
    "      <td style=\"background-color: #D4F8B7; padding: 8px;\">0.1634</td>\n",
    "      <td style=\"background-color: #D4F8B7; padding: 8px;\">12.6493</td>\n",
    "      <td style=\"background-color: #D4F8B7; padding: 8px;\">1.4230</td>\n",
    "    </tr>\n",
    "    <tr>\n",
    "      <td style=\"background-color: #D4F8B7; padding: 8px;\">5</td>\n",
    "      <td style=\"background-color: #D4F8B7; padding: 8px;\">12</td>\n",
    "      <td style=\"background-color: #D4F8B7; padding: 8px;\">2</td>\n",
    "      <td style=\"background-color: #D4F8B7; padding: 8px;\">4</td>\n",
    "      <td style=\"background-color: #D4F8B7; padding: 8px;\">0.0070</td>\n",
    "      <td style=\"background-color: #D4F8B7; padding: 8px;\">0.1070</td>\n",
    "      <td style=\"background-color: #D4F8B7; padding: 8px;\">13.0682</td>\n",
    "      <td style=\"background-color: #D4F8B7; padding: 8px;\">0.2296</td>\n",
    "    </tr>\n",
    "    <tr>\n",
    "      <td style=\"background-color: #D4F8B7; padding: 8px;\">6</td>\n",
    "      <td style=\"background-color: #D4F8B7; padding: 8px;\">16</td>\n",
    "      <td style=\"background-color: #D4F8B7; padding: 8px;\">2</td>\n",
    "      <td style=\"background-color: #D4F8B7; padding: 8px;\">4</td>\n",
    "      <td style=\"background-color: #D4F8B7; padding: 8px;\">0.0070</td>\n",
    "      <td style=\"background-color: #D4F8B7; padding: 8px;\">0.1070</td>\n",
    "      <td style=\"background-color: #D4F8B7; padding: 8px;\">13.0682</td>\n",
    "      <td style=\"background-color: #D4F8B7; padding: 8px;\">0.2296</td>\n",
    "    </tr>\n",
    "    <tr>\n",
    "      <td style=\"background-color: #D4F8B7; padding: 8px;\">7</td>\n",
    "      <td style=\"background-color: #D4F8B7; padding: 8px;\">20</td>\n",
    "      <td style=\"background-color: #D4F8B7; padding: 8px;\">6</td>\n",
    "      <td style=\"background-color: #D4F8B7; padding: 8px;\">36</td>\n",
    "      <td style=\"background-color: #D4F8B7; padding: 8px;\">0.0634</td>\n",
    "      <td style=\"background-color: #D4F8B7; padding: 8px;\">0.1634</td>\n",
    "      <td style=\"background-color: #D4F8B7; padding: 8px;\">12.6493</td>\n",
    "      <td style=\"background-color: #D4F8B7; padding: 8px;\">0.2372</td>\n",
    "    </tr>\n",
    "    <tr>\n",
    "      <td style=\"background-color: #D4F8B7; padding: 8px;\">8</td>\n",
    "      <td style=\"background-color: #D4F8B7; padding: 8px;\">20</td>\n",
    "      <td style=\"background-color: #D4F8B7; padding: 8px;\">6</td>\n",
    "      <td style=\"background-color: #D4F8B7; padding: 8px;\">36</td>\n",
    "      <td style=\"background-color: #D4F8B7; padding: 8px;\">0.0634</td>\n",
    "      <td style=\"background-color: #D4F8B7; padding: 8px;\">0.1634</td>\n",
    "      <td style=\"background-color: #D4F8B7; padding: 8px;\">12.6493</td>\n",
    "      <td style=\"background-color: #D4F8B7; padding: 8px;\">0.7115</td>\n",
    "    </tr>\n",
    "    <tr>\n",
    "      <td style=\"background-color: #D4F8B7; padding: 8px;\">9</td>\n",
    "      <td style=\"background-color: #D4F8B7; padding: 8px;\">22</td>\n",
    "      <td style=\"background-color: #D4F8B7; padding: 8px;\">8</td>\n",
    "      <td style=\"background-color: #D4F8B7; padding: 8px;\">64</td>\n",
    "      <td style=\"background-color: #D4F8B7; padding: 8px;\">0.1127</td>\n",
    "      <td style=\"background-color: #D4F8B7; padding: 8px;\">0.2127</td>\n",
    "      <td style=\"background-color: #D4F8B7; padding: 8px;\">12.2709</td>\n",
    "      <td style=\"background-color: #D4F8B7; padding: 8px;\">1.7114</td>\n",
    "    </tr>\n",
    "    <tr>\n",
    "      <td style=\"background-color: #D4F8B7; padding: 8px;\">10</td>\n",
    "      <td style=\"background-color: #D4F8B7; padding: 8px;\">26</td>\n",
    "      <td style=\"background-color: #D4F8B7; padding: 8px;\">12</td>\n",
    "      <td style=\"background-color: #D4F8B7; padding: 8px;\">144</td>\n",
    "      <td style=\"background-color: #D4F8B7; padding: 8px;\">0.2535</td>\n",
    "      <td style=\"background-color: #D4F8B7; padding: 8px;\">0.3535</td>\n",
    "      <td style=\"background-color: #D4F8B7; padding: 8px;\">11.1193</td>\n",
    "      <td style=\"background-color: #D4F8B7; padding: 8px;\">1.0792</td>\n",
    "    </tr>\n",
    "  </table>"
   ]
  },
  {
   "cell_type": "markdown",
   "id": "5506122a-31c1-49a7-8694-3a36e5519cf5",
   "metadata": {},
   "source": [
    "<div style=\"padding: 10px; background-color: #D4F8B7; color: black; font-size: 1.1em;\">\n",
    "  <div style=\"text-align: center;\">RESIDUAL ESTANDARIZADO DE LA OBSERVACIÓN i<br>\n",
    "      $$s_{yi} = \\frac{y_i - \\hat{y}_i}{s_{(y_i - \\hat{y}_i)}}$$\n",
    "\n",
    "\n",
    "<p style=\"text-align: right; color: #009929;\">(14.32)</p>\n",
    "</div>\n",
    "</div>"
   ]
  },
  {
   "cell_type": "markdown",
   "id": "ffdf1045-71a7-4ef4-95ed-2349e3cd5353",
   "metadata": {},
   "source": [
    "En la tabla 14.8 se presentan los cálculos de los residuales estandarizados con el ejemplo\n",
    "de Armand’s Pizza Parlors. Recuerde que ya en cálculos previos se obtuvo $ s = 13.829 $. La\n",
    "figura 14.14 es la gráfica de los residuales estandarizados contra la variable independiente $ x $.\n",
    "Esta gráfica permite ver si es correcto el supuesto de que el término del error $ \\varepsilon $ tiene distribución normal. Si este supuesto se satisface, debe parecer que la distribución de los residuales\n",
    "estandarizados proviene de una distribución de probabilidad normal estándar. Por tanto, al\n",
    "observar la gráfica de los residuales estandarizados se espera encontrar que aproximadamente\n",
    "el 95% de ellos esté entre 2 y $ -2 $. En la figura 14.14 vemos que en el ejemplo de Armand’s todos los residuales estandarizados se encuentran entre 2 y $ -2 $. Así, con base en los residuales\n",
    "estandarizados, esta gráfica no da razones para dudar del supuesto de que $ \\varepsilon $ tiene una distribución normal.\n",
    "\n",
    "Debido al esfuerzo que significa calcular los valores estimados de $ \\hat{y} $, los residuales y los\n",
    "residuales estandarizados, la mayoría de los paquetes para estadística proporcionan, de manera opcional, estos datos como parte de los resultados de la regresión. Por tanto, las gráficas\n",
    "de residuales se pueden obtener con facilidad. Tratándose de problemas grandes, el software de\n",
    "computadora es la única opción práctica para obtener las gráficas de residuales analizadas en\n",
    "esta sección.\n"
   ]
  },
  {
   "cell_type": "markdown",
   "id": "c432df52-ea87-41da-8999-d3af59465ef9",
   "metadata": {},
   "source": [
    "<div style=\"color: #009929; font-weight: bold;\"><h3>Gráfica de probabilidad normal</h3> </div> "
   ]
  },
  {
   "cell_type": "markdown",
   "id": "cc5ac533-3110-4063-bc25-714173c6ff92",
   "metadata": {},
   "source": [
    "Otro enfoque para determinar la validez del supuesto de que el término del error tiene una distribución normal es la gráfica de probabilidad normal. Para mostrar cómo se elabora, se presenta el concepto de puntos normales.\n",
    "Suponga que se toman aleatoriamente 10 valores de una distribución de probabilidad normal donde la media es cero y la desviación estándar es uno, y este proceso de muestreo se repite\n",
    "una y otra vez con los 10 valores de cada muestra ordenados de menor a mayor. Por ahora,"
   ]
  },
  {
   "cell_type": "markdown",
   "id": "409ad71e-9b0b-4a0a-a50f-edab7f1b9981",
   "metadata": {},
   "source": [
    "<div style=\"color: #009929; font-weight: bold;\"><h3>FIGURA 14.14 Gráfica de residuales estandarizados contra la variable independiente x,\n",
    "obtenida con los datos de Armand’s Pizza Parlors.</h3> </div> "
   ]
  },
  {
   "cell_type": "code",
   "execution_count": null,
   "id": "5a9c39d8-3546-4acc-a8aa-d209aca93364",
   "metadata": {},
   "outputs": [],
   "source": [
    "import matplotlib.pyplot as plt\n",
    "\n",
    "# Datos\n",
    "poblacion_estudiantes = [2, 6, 8, 8, 12, 16, 20, 20, 22, 26]\n",
    "ventas_observadas = [58, 105, 88, 118, 117, 137, 157, 169, 149, 202]\n",
    "ventas_estimadas = [70, 90, 100, 100, 120, 140, 160, 160, 170, 190]\n",
    "residuales = [-12, 15, -12, 18, -3, -3, -3, 9, -21, 12]\n",
    "\n",
    "# Gráfica de residuales contra la variable independiente x\n",
    "plt.scatter(poblacion_estudiantes, residuales, color='#009929', label='Residuales')\n",
    "plt.axhline(0, color='#009929', linestyle='--', linewidth=1)  # Línea base en y=0\n",
    "plt.xlabel('Población de Estudiantes (x)')\n",
    "plt.ylabel('Residuales')\n",
    "plt.title('Gráfica de Residuales')\n",
    "plt.legend()\n",
    "\n",
    "# Configuración del color de fondo\n",
    "ax = plt.gca()\n",
    "ax.set_facecolor('#D4F8B7')\n",
    "\n",
    "plt.grid(True)\n",
    "plt.show()"
   ]
  },
  {
   "cell_type": "markdown",
   "id": "aae17fb3-1bb1-49d8-9d55-ea72b24e055f",
   "metadata": {},
   "source": [
    "Considerando únicamente el valor menor de cada muestra, la variable aleatoria que representa el valor menor de estos diversos muestreos se le conoce como estadístico de primer orden.\n",
    "\n",
    "Los expertos en estadística han demostrado que, en muestras de tamaño 10 tomadas de una distribución de probabilidad normal estándar, el valor esperado del estadístico de primer orden es 1.55. A este valor esperado se le conoce como punto normal. En el caso de una muestra de tamaño $ n = 10 $, hay 10 estadísticos de orden y 10 puntos normales (vea la tabla 14.9). En general, un conjunto de datos que conste de $ n $ observaciones tendrá $ n $ estadísticos de orden y por tanto $ n $ puntos normales.\n",
    "\n",
    "A continuación vemos el uso de estos 10 puntos normales para determinar si los residuales estandarizados de Armand’s Pizza Parlors aparentemente provienen de una distribución de probabilidad normal estándar. Para empezar, se ordenan los 10 residuales estandarizados de la tabla 14.8. En la tabla 14.10 se presentan juntos los 10 puntos normales y los residuales estandarizados ordenados. Si se satisface el supuesto de normalidad, el menor residual estandarizado deberá tener un valor parecido al del menor punto normal, el siguiente residual deberá tener un valor similar al del siguiente punto normal, y así sucesivamente. En el caso en que los residuales estandarizados se encuentren distribuidos de una manera aproximadamente normal, en una gráfica en la que los puntos normales\n",
    "correspondan al eje horizontal y los residuales estandarizados al eje vertical, los puntos estarán situados cerca de una línea recta de 45 grados que pase por el origen. A esta gráfica se le conoce como gráfica de probabilidad normal.\n",
    "\n",
    "La figura 14.15 ilustra la gráfica de probabilidad normal del ejemplo de Armand’s Pizza Parlors. Para determinar si el patrón observado se desvía lo suficiente de la recta como para concluir que los residuales estandarizados no provienen de una distribución de probabilidad normal, habrá que emplear el propio criterio. En la figura, todos los puntos se agrupan cerca de esta recta. Se concluye, por tanto, que el supuesto de que los términos del error tienen una distribución de probabilidad normal es razonable. En general, entre más cerca de la recta a 45° se agrupen los puntos, más fuerte es la evidencia a favor del supuesto de normalidad. Cualquier curvatura sustancial en la gráfica es evidencia de que los residuales no provienen de una distribución normal. Tanto los puntos normales como la correspondiente gráfica de probabilidad normal pueden obtenerse fácilmente empleando software como Minitab.\n"
   ]
  },
  {
   "cell_type": "code",
   "execution_count": null,
   "id": "09109a4b-784c-40c7-bd2a-86b6d058691c",
   "metadata": {},
   "outputs": [],
   "source": [
    "import matplotlib.pyplot as plt\n",
    "import numpy as np\n",
    "from scipy.stats import norm\n",
    "\n",
    "# Datos de los residuales estandarizados\n",
    "residuales_estandarizados = [1.0792, 1.2224, 0.9487, 1.4230, 0.2296, 0.2296, 0.2372, 0.7115, 1.7114, 1.0792]\n",
    "\n",
    "# Ordenar los residuales estandarizados\n",
    "residuales_estandarizados.sort()\n",
    "\n",
    "# Crear puntos normales teóricos\n",
    "puntos_normales = norm.ppf(np.linspace(0, 1, len(residuales_estandarizados)))\n",
    "\n",
    "# Graficar\n",
    "plt.figure(figsize=(8, 6))\n",
    "plt.scatter(puntos_normales, residuales_estandarizados, color='#009929', label='Residuales Estandarizados')\n",
    "plt.plot([-2, 2], [-2, 2], linestyle='--', color='#009929', label='Línea de 45 grados')\n",
    "\n",
    "# Configuración de la gráfica\n",
    "plt.title('Gráfica de Probabilidad Normal - Armand’s Pizza Parlors')\n",
    "plt.xlabel('Puntos Normales Teóricos')\n",
    "plt.ylabel('Residuales Estandarizados')\n",
    "plt.legend()\n",
    "plt.grid(True, linestyle='--', alpha=0.6)\n",
    "plt.axhline(0, color='black',linewidth=0.5)\n",
    "plt.axvline(0, color='black',linewidth=0.5)\n",
    "\n",
    "# Mostrar la gráfica\n",
    "plt.show()\n"
   ]
  },
  {
   "cell_type": "markdown",
   "id": "40446ba5-7317-4ab0-8942-de93e3c9111a",
   "metadata": {},
   "source": [
    "## <div style=\"display: inline-block; background-color: #009929; padding: 8px; border-radius: 50%; color: white; font-weight: bold;\">14.9</div><span style=\"color:#009929\"> Análisis de residuales: observaciones atípicas\n",
    "y observaciones influyentes\n",
    "</span>\n",
    "<div style=\"text-align: justify;\">En la sección 14.8 se mostró cómo emplear el análisis de residuales para determinar violaciones\n",
    "a los supuestos del modelo de regresión. En esta sección se retoma este análisis para identifi car\n",
    "observaciones que se pueden clasifi car como atípicas o como especialmente infl uyentes sobre la\n",
    "ecuación de regresión estimada. También se analizan algunos pasos que deben seguirse cuando\n",
    "se presentan tales observaciones.\n",
    "</div>"
   ]
  },
  {
   "cell_type": "markdown",
   "id": "8a4f43d5-445e-428e-aafe-6ec306f768c4",
   "metadata": {},
   "source": [
    "<div style=\"color: #009929; font-weight: bold;\"><h3>Detección de observaciones atípicas</h3> </div> "
   ]
  },
  {
   "cell_type": "markdown",
   "id": "65095c0e-5d18-483f-86ec-ddc2376ec943",
   "metadata": {},
   "source": [
    "La figura 14.16 es un diagrama de dispersión de un conjunto de datos que contiene una observación atípica, un dato (una observación) que no sigue la tendencia del resto de los datos. Las observaciones atípicas representan observaciones sospechosas que requieren un análisis cuidadoso. Pueden consistir en datos erróneos; si es así, deben corregirse. También puede tratarse de una violación a los supuestos del modelo; en ese caso, habrá que considerar otro modelo. Por último, pueden ser simplemente valores inusuales que se presentan por casualidad. En este caso, esos valores deberán conservarse.\n",
    "\n",
    "Para ilustrar el proceso de detección de las observaciones atípicas, considere el conjunto de datos de la tabla 14.11; la figura 14.17 muestra el diagrama de dispersión respectivo. Con excepción de la observación 4 (x4  3, y4  75), estos datos parecen seguir un patrón que indica una relación lineal negativa. De hecho, dado el patrón del resto de los datos, se esperaría que y4 fuera mucho más pequeño, por lo que a esta observación se le considera atípica. En el caso de la regresión lineal simple, las observaciones atípicas pueden detectarse mediante un simple examen del diagrama de dispersión.\n",
    "\n",
    "Para detectar observaciones atípicas también se usan los residuales estandarizados. Si una observación se aleja mucho del patrón del resto de los datos (por ejemplo, la observación atípica de la figura 14.16), el valor absoluto del correspondiente residual estandarizado será grande.\n"
   ]
  },
  {
   "cell_type": "markdown",
   "id": "98d976de-1363-415d-a359-70071d0878d9",
   "metadata": {},
   "source": [
    "Mucho del software identifi ca de manera automática las observaciones cuyos residuales tienen\n",
    "un valor absoluto grande. En la fi gura 14.18 se presentan los resultados de Minitab para el análisis de regresión de los datos de la tabla 14.11. En la penúltima fi la se lee que el residual estandarizado de la observación 4 es 2.67. Minitab proporciona una lista de todas las observaciones\n",
    "cuyo residual estandarizado sea menor a 2 o mayor a \u00042 en la sección Unusual Observations\n",
    "de la pantalla; en tales casos la observación aparece en una fi la aparte con una R al lado del\n",
    "residual estandarizado, como se observa en la fi gura 14.18. Si los errores están distribuidos\n",
    "normalmente, sólo 5% de los residuales estandarizados se encontrará fuera de estos límites.\n",
    "Para decidir qué hacer con una observación atípica, primero hay que verifi car si es correcta. Puede ser que se trate de un error incurrido al anotar los datos o al ingresarlos a la computadora. Suponga, por ejemplo, que al verifi car la observación atípica de la fi gura 14.17, se\n",
    "encuentra que hubo un error; el valor correcto de la observación 4 es x4  3, y4  30. En la fi -\n",
    "gura 14.19 se presenta el resultado que proporciona Minitab una vez corregido el valor de y4."
   ]
  },
  {
   "cell_type": "markdown",
   "id": "65c67a06-8b0b-4d5d-a280-5c9f76a72cb1",
   "metadata": {},
   "source": [
    "<div style=\"color: #009929; font-weight: bold;\"><h3>FIGURA 14.18 Resultado de Minitab para el análisis de regresión de un conjunto de datos con\n",
    "una observación atípica</h3> </div> "
   ]
  },
  {
   "cell_type": "markdown",
   "id": "7584c2f4-056d-4406-b430-710cb7965eae",
   "metadata": {},
   "source": [
    "<div style=\"padding: 10px; background-color: #D4F8B7; color: black; font-size: 1.1em;\">\n",
    "  The regression equation is<br>\r\n",
    "y = 65.0 - 7.33 x<br>\r\n",
    "Predictor Coef SE Coef T p<br>\r\n",
    "Constant 64.958 9.258 7.02 0.000<br>\r\n",
    "X -7.331 2.608 -2.81 0.023<br>\r\n",
    "S = 12.6704 R-sq = 49.7% R-sq(adj) = 43.4%<br>\r\n",
    "Analysis of Variance<br>\r\n",
    "SOURCE DF SS MS F p<br>\r\n",
    "Regression 1 1268.2 1268.2 7.90 0.023<br>\r\n",
    "Residual Error 8 1284.3 160.5<br>\r\n",
    "Total 9 2552.5<br>\r\n",
    "Unusual Observations<br>\r\n",
    "Obs x y Fit SE Fit Residual St Resid<br>\r\n",
    " 4 3.00 75.00 42.97 4.04 32.03 2.67R<br>\r\n",
    "R denotes an observation with a large standardized residual.<br>\r\n",
    "\n",
    "</div>"
   ]
  },
  {
   "cell_type": "markdown",
   "id": "75cc78f7-fbfb-45e6-92e7-40f3263df97f",
   "metadata": {},
   "source": [
    "<div style=\"color: #009929; font-weight: bold;\"><h3>FIGURA 14.19 Resultados de Minitab para un conjunto de datos con una observación atípica ya\n",
    "corregida</h3> </div> "
   ]
  },
  {
   "cell_type": "markdown",
   "id": "dc0b4249-ea6e-4e27-bd33-01b7ce4d1c32",
   "metadata": {},
   "source": [
    "<div style=\"padding: 10px; background-color: #D4F8B7; color: black; font-size: 1.1em;\">\n",
    "  The regression equation is<br>\r\n",
    "Y = 59.2 - 6.95 X<br>\r\n",
    "Predictor Coef SE Coef T p<br>\r\n",
    "Constant 59.237 3.835 15.45 0.000<br>\r\n",
    "X -6.949 1.080 -6.43 0.000<br>\r\n",
    "S = 5.24808 R-sq = 83.8% R-sq(adj) = 81.8%<br>\r\n",
    "Analysis of Variance<br>\r\n",
    "SOURCE DF SS MS F p<br>\r\n",
    "Regression 1 1139.7 1139.7 41.38 0.000<br>\r\n",
    "Residual Error 8 220.3 27.5<br>\r\n",
    "Total 9 1360.0<br>\r\n",
    " residual.<br>\r\n",
    "\n",
    "</div>"
   ]
  },
  {
   "cell_type": "markdown",
   "id": "64a066ef-c37a-47d9-a209-24ec2446c71e",
   "metadata": {},
   "source": [
    "Se observa que el dato incorrecto afecta de forma significativa la bondad de ajuste. Con el dato\n",
    "correcto, el valor de R-sq aumenta de 49.7% a 83.8%, y el de b0 disminuye de 64.958 a 59.237.\n",
    "La pendiente de la recta cambia de 7.331 a 6.949. La identificación de los datos atípicos\n",
    "permite corregir errores y mejora los resultados de la regresión."
   ]
  },
  {
   "cell_type": "markdown",
   "id": "4c9d6888-d71a-4c4e-91c3-52f58b7a5f9c",
   "metadata": {},
   "source": [
    "<div style=\"color: #009929; font-weight: bold;\"><h3>Detección de observaciones influyentes</h3> </div> "
   ]
  },
  {
   "cell_type": "markdown",
   "id": "855a7d2e-4353-4ce3-a23d-9cdd511eff31",
   "metadata": {},
   "source": [
    "A veces una o más observaciones tienen una influencia significativa sobre los resultados. En\n",
    "la figura 14.20 se muestra un ejemplo de una observación influyente en una regresión lineal\n",
    "simple. La recta de regresión estimada tiene pendiente negativa, pero si la observación influyente se elimina del conjunto de datos, la pendiente cambia a positiva y la intersección con el\n",
    "eje y es menor. Es claro que esta sola observación tiene mucha más influencia sobre la recta de\n",
    "regresión estimada que cualquiera otra; el efecto de la eliminación de cualquiera de las otras\n",
    "observaciones sobre la ecuación de regresión estimada es muy pequeño.\n",
    "\n",
    "Cuando solo se tiene una variable independiente, las observaciones influyentes pueden\n",
    "identificarse mediante un diagrama de dispersión. Una observación de este tipo puede ser atípica (cuyo valor de y se desvía sustancialmente de la tendencia general), puede ser un valor de x\n",
    "muy alejado de la media (por ejemplo, vea la figura 14.20) o tratarse de la combinación de estos\n",
    "dos factores (un valor de y algo fuera de la tendencia y un valor de x un poco extremo).\n",
    "\n",
    "Las observaciones influyentes deben examinarse con cuidado, dado el gran efecto que tienen sobre la ecuación de regresión estimada. Lo primero que hay que hacer es verificar que no\n",
    "se haya cometido algún error al recolectar los datos. Si se cometió, se corrige y se obtiene una\n",
    "nueva ecuación de regresión estimada. Si la observación es válida, podemos considerarnos afortunados. Tal dato, cuando es correcto, contribuye a una mejor comprensión del modelo adecuado y conduce a una mejor ecuación de regresión estimada. En la figura 14.20, la presencia de la\n",
    "observación influyente, si es correcta, llevará a tratar de obtener datos con valores x intermedios\n",
    "que permitan comprender mejor la relación entre x y y.\n",
    "\n",
    "Las observaciones en las que la variable independiente toma valores extremos se denominan puntos (datos, observaciones) de gran influencia. La observación influyente de la figura\n",
    "14.20 es un punto de gran influencia. La influencia de una observación depende de qué tan lejos\n",
    "está el valor de la variable independiente de su media. En el caso de una sola variable independiente, la influencia de la observación i, que se denota hi, se calcula mediante la ecuación (14.33).\n"
   ]
  },
  {
   "cell_type": "markdown",
   "id": "0c361937-6bf4-4dfc-aa33-ea4e70438b4b",
   "metadata": {},
   "source": [
    "<div style=\"padding: 10px; background-color: #D4F8B7; color: black; font-size: 1.1em;\">\n",
    "  <div style=\"text-align: center;\">INFLUENCIA DE LA OBSERVACIÓN i<br>\n",
    "      $$h_i = \\frac{1}{n} + \\frac{(x_i - \\bar{x})^2}{\\sum_{i=1}^{n}(x_i - \\bar{x})^2}$$\n",
    "\n",
    "\n",
    "<p style=\"text-align: right; color: #009929;\">(14.33)</p>\n",
    "</div>\n",
    "</div>"
   ]
  },
  {
   "cell_type": "markdown",
   "id": "0b1c0764-3c6d-46d8-af7f-debf5e0367f6",
   "metadata": {},
   "source": [
    "Con base en esta fórmula, es claro que entre más alejada se encuentre $x_i$ de su media $\\bar{x}$,\n",
    "mayor será la influencia de la observación $i$.\n",
    "\n",
    "Mucho del software para estadística identifica automáticamente los puntos de gran influencia como parte de los resultados de regresión estándar. Para ilustrar cómo Minitab identifica los\n",
    "puntos de gran influencia, se considerará el conjunto de datos de la tabla 14.12.\n"
   ]
  },
  {
   "cell_type": "markdown",
   "id": "8f6ed2ca-7921-47b1-91cc-3aba4d64a683",
   "metadata": {},
   "source": [
    "<div style=\"color: #009929; font-weight: bold;\"><h3>FIGURA 14.21 Diagrama de dispersión del conjunto de datos con un punto de gran influencia</h3> </div> "
   ]
  },
  {
   "cell_type": "code",
   "execution_count": null,
   "id": "ee359d60-caa3-470d-bc55-061565b20be3",
   "metadata": {},
   "outputs": [],
   "source": [
    "import matplotlib.pyplot as plt\n",
    "\n",
    "# Datos de ejemplo\n",
    "x = [1, 2, 3, 4, 5, 6, 7, 8, 9, 10]\n",
    "y = [2, 3, 5, 8, 11, 15, 20, 25, 30, 35]\n",
    "\n",
    "# Índice del punto de gran influencia\n",
    "indice_punto_influencia = 4\n",
    "\n",
    "# Configuración del gráfico\n",
    "plt.figure(figsize=(8, 6))\n",
    "plt.scatter(x, y, color='#009929', label='Datos')\n",
    "\n",
    "# Destacar el punto de gran influencia\n",
    "plt.scatter(x[indice_punto_influencia], y[indice_punto_influencia], color='red', label='Punto de Gran Influencia')\n",
    "\n",
    "# Configuración adicional\n",
    "plt.title('Diagrama de Dispersión con Punto de Gran Influencia')\n",
    "plt.xlabel('Variable Independiente')\n",
    "plt.ylabel('Variable Dependiente')\n",
    "plt.legend()\n",
    "plt.grid(True)\n",
    "\n",
    "# Configuración del color de fondo\n",
    "plt.gca().set_facecolor('#D4F8B7')\n",
    "\n",
    "# Mostrar el gráfico\n",
    "plt.show()\n"
   ]
  },
  {
   "cell_type": "markdown",
   "id": "0a446bb4-64c0-450e-906c-d89c4ce31949",
   "metadata": {},
   "source": [
    "Al revisar la figura 14.21, que es el diagrama de dispersión del conjunto de datos presentado en la tabla 14.12, vemos que la observación 7 (x 70, y 100) tiene un valor extremo de x. Por tanto, es de esperarse que sea identificado como un punto de gran influencia. La influencia de esta observación se calcula usando la ecuación (14.33) como sigue.\n",
    "\n",
    "$$ h_7 = \\frac{1}{n} \\left( \\frac{(x_7 - \\bar{x})^2}{\\sum_{i=1}^{n} (x_i - \\bar{x})^2} \\right) = \\frac{1}{7} \\left( \\frac{(70 - 24.286)^2}{2621.43} \\right) \\approx 0.94 $$\n",
    "\n",
    "En el caso de la regresión lineal simple, Minitab identifica como observaciones de gran influencia aquellas para las que $ h_i > 6/n $ o $ 0.99 $, lo que sea menor. En el conjunto de datos de la tabla 14.12, $ 6/n = 6/7 \\approx 0.86 $. Como $ h_7 = 0.94 > 0.86 $, Minitab identificará la observación 7 como una observación cuyo valor de x tiene una gran influencia. En la figura 14.22 se presenta el resultado que proporciona Minitab para el análisis de regresión de este conjunto de datos. A la 7 (x 70, y 100) la identifica como una observación de gran influencia y la presenta en una fila especial en la parte inferior de los resultados con una X en el margen derecho.\n",
    "\n",
    "Las observaciones influyentes debido a la interacción de una observación de gran influencia y de residuales grandes suelen ser difíciles de detectar. Existen procedimientos de diagnóstico que toman en cuenta ambos aspectos para determinar si una observación es influyente. En el capítulo 15 se estudiará uno de estos procedimientos, el estadístico D de Cook.\n"
   ]
  },
  {
   "cell_type": "markdown",
   "id": "84a97036-7dc5-4587-84ff-96cca3cace94",
   "metadata": {},
   "source": [
    "<div style=\"color: #009929; font-weight: bold;\"><h3>FIGURA 14.22 Resultado de Minitab para el conjunto de datos con una observación de gran\r\n",
    "influencia</h3> </div> "
   ]
  },
  {
   "cell_type": "markdown",
   "id": "6ca7c2f9-4ee3-4e3b-a80b-0fd98afd442f",
   "metadata": {},
   "source": [
    "<div style=\"padding: 10px; background-color: #D4F8B7; color: black; font-size: 1.1em;\">\n",
    "  The regression equation is<br>\n",
    "y = 127 - 0.425 x<br>\n",
    "Predictor Coef SE Coef T p<br>\n",
    "Constant 127.466 2.961 43.04 0.000<br>\n",
    "X -0.42507 0.09537 -4.46 0.007<br>\n",
    "S = 4.88282 R-sq = 79.9% R-sq(adj) = 75.9%<br>\n",
    "Analysis of Variance<br>\n",
    "SOURCE DF SS MS F p<br>\n",
    "Regression 1 473.65 473.65 19.87 0.007<br>\n",
    "Residual Error 5 119.21 23.84<br>\n",
    "Total 6 592.86<br>\n",
    "Unusual Observations<br>\n",
    "Obs x y Fit SE Fit Residual St Resid<br>\n",
    " 7 70.0 100.00 97.71 4.73 2.29 1.91 X<br>\n",
    "X denotes an observation whose X value gives it large influence.<br>\n",
    "\n",
    "</div>"
   ]
  },
  {
   "cell_type": "code",
   "execution_count": null,
   "id": "b02dd138-f763-453f-b5f4-12f8b77e2336",
   "metadata": {},
   "outputs": [],
   "source": []
  },
  {
   "cell_type": "code",
   "execution_count": null,
   "id": "1d8dbf25-6276-41aa-8358-c874d24a29a6",
   "metadata": {},
   "outputs": [],
   "source": []
  },
  {
   "cell_type": "code",
   "execution_count": null,
   "id": "5f988460-a9d1-4e8f-a6ed-93180d2ed3b0",
   "metadata": {},
   "outputs": [],
   "source": []
  },
  {
   "cell_type": "code",
   "execution_count": null,
   "id": "6e479ecb-0761-4a10-8403-996ec9b4df3b",
   "metadata": {},
   "outputs": [],
   "source": []
  },
  {
   "cell_type": "code",
   "execution_count": null,
   "id": "5573d5c6-e46f-494c-8108-0da5a7e788b4",
   "metadata": {},
   "outputs": [],
   "source": []
  },
  {
   "cell_type": "code",
   "execution_count": null,
   "id": "25be52d9-e74d-4a1c-b1d4-61753f637d7b",
   "metadata": {},
   "outputs": [],
   "source": []
  },
  {
   "cell_type": "code",
   "execution_count": null,
   "id": "51fad3d6-a43d-4f1d-b50e-48eefa18cfe6",
   "metadata": {},
   "outputs": [],
   "source": []
  },
  {
   "cell_type": "code",
   "execution_count": null,
   "id": "a291f76a-4a1b-4561-bb69-76f21336dcd6",
   "metadata": {},
   "outputs": [],
   "source": []
  },
  {
   "cell_type": "code",
   "execution_count": null,
   "id": "7179f9e7-2aad-47c8-aae4-1067504ddcc8",
   "metadata": {},
   "outputs": [],
   "source": [
    "import numpy as np\n",
    "import matplotlib.pyplot as plt\n",
    "\n",
    "# Función para crear un estudio de regresión\n",
    "def create_regression_study(x, true_slope, true_intercept, residual_function):\n",
    "    y_true = true_slope * x + true_intercept\n",
    "    residuals = residual_function(x)\n",
    "    y_observed = y_true + residuals\n",
    "    return y_observed, residuals\n",
    "\n",
    "# Estudio 1: Patrón Adecuado\n",
    "np.random.seed(42)\n",
    "x1 = np.linspace(0, 10, 100)\n",
    "residual_function1 = lambda x: np.random.normal(0, 2, len(x))\n",
    "y1_observed, residuals1 = create_regression_study(x1, 2, 1, residual_function1)\n",
    "\n",
    "# Estudio 2: Varianza No Constante\n",
    "x2 = np.linspace(0, 10, 100)\n",
    "residual_function2 = lambda x: np.random.normal(0, x, len(x))\n",
    "y2_observed, residuals2 = create_regression_study(x2, 2, 1, residual_function2)\n",
    "\n",
    "# Estudio 3: Forma No Adecuada\n",
    "x3 = np.linspace(0, 10, 100)\n",
    "residual_function3 = lambda x: 3 * np.sin(x) + np.random.normal(0, 2, len(x))\n",
    "y3_observed, residuals3 = create_regression_study(x3, 2, 1, residual_function3)\n",
    "\n",
    "# Gráfica de Residuales para los Tres Estudios\n",
    "fig, axes = plt.subplots(3, 1, figsize=(8, 12))\n",
    "\n",
    "# Configuración del color de fondo\n",
    "for ax in axes:\n",
    "    ax.set_facecolor('#D4F8B7')\n",
    "\n",
    "# Estudio 1\n",
    "axes[0].scatter(x1, residuals1, color='#009929', label='Residuales Estudio 1')\n",
    "axes[0].axhline(0, color='#009929', linestyle='--', linewidth=1)\n",
    "axes[0].set_title('Estudio 1: Patrón Adecuado')\n",
    "\n",
    "# Estudio 2\n",
    "axes[1].scatter(x2, residuals2, color='#009929', label='Residuales Estudio 2')\n",
    "axes[1].axhline(0, color='#009929', linestyle='--', linewidth=1)\n",
    "axes[1].set_title('Estudio 2: Varianza No Constante')\n",
    "\n",
    "# Estudio 3\n",
    "axes[2].scatter(x3, residuals3, color='#009929', label='Residuales Estudio 3')\n",
    "axes[2].axhline(0, color='#009929', linestyle='--', linewidth=1)\n",
    "axes[2].set_title('Estudio 3: Forma No Adecuada')\n",
    "\n",
    "plt.xlabel('Variable Independiente (x)')\n",
    "plt.ylabel('Residuales')\n",
    "plt.tight_layout()\n",
    "plt.show()\n"
   ]
  },
  {
   "cell_type": "code",
   "execution_count": null,
   "id": "e2037593-ecb7-4bb9-b4bb-acd4baa761bd",
   "metadata": {},
   "outputs": [],
   "source": []
  },
  {
   "cell_type": "code",
   "execution_count": null,
   "id": "659413ee-e3d5-4d2c-b2a9-f288d01d3ee8",
   "metadata": {},
   "outputs": [],
   "source": []
  },
  {
   "cell_type": "code",
   "execution_count": null,
   "id": "2fc393b1-b8fc-4d9e-a376-c471290a6b06",
   "metadata": {},
   "outputs": [],
   "source": []
  },
  {
   "cell_type": "code",
   "execution_count": null,
   "id": "0453c144-ec17-42f9-9adc-1be8f15dbef0",
   "metadata": {},
   "outputs": [],
   "source": [
    "import matplotlib.pyplot as plt\n",
    "\n",
    "# Datos\n",
    "poblacion_estudiantes = [2, 6, 8, 8, 12, 16, 20, 20, 22, 26]\n",
    "ventas_observadas = [58, 105, 88, 118, 117, 137, 157, 169, 149, 202]\n",
    "ventas_estimadas = [70, 90, 100, 100, 120, 140, 160, 160, 170, 190]\n",
    "residuales = [-12, 15, -12, 18, -3, -3, -3, 9, -21, 12]\n",
    "\n",
    "# Gráfica de residuales contra la variable independiente x\n",
    "plt.scatter(poblacion_estudiantes, residuales, color='#009929', label='Residuales')\n",
    "plt.axhline(0, color='#009929', linestyle='--', linewidth=1)  # Línea base en y=0\n",
    "plt.xlabel('Población de Estudiantes (x)')\n",
    "plt.ylabel('Residuales')\n",
    "plt.title('Gráfica de Residuales contra la Variable Independiente x\\n(Armand’s Pizza Parlors)')\n",
    "plt.legend()\n",
    "\n",
    "# Configuración del color de fondo\n",
    "ax = plt.gca()\n",
    "ax.set_facecolor('#D4F8B7')\n",
    "\n",
    "plt.grid(True)\n",
    "plt.show()\n"
   ]
  },
  {
   "cell_type": "code",
   "execution_count": null,
   "id": "a5f37207-85fd-46f1-8b68-d32466e0652f",
   "metadata": {},
   "outputs": [],
   "source": []
  },
  {
   "cell_type": "code",
   "execution_count": null,
   "id": "bd0ac63c-2d89-4913-9b40-d00dd872eb89",
   "metadata": {},
   "outputs": [],
   "source": []
  },
  {
   "cell_type": "code",
   "execution_count": null,
   "id": "675fe1c4-fab8-4935-ac5f-34fb0f8d496e",
   "metadata": {},
   "outputs": [],
   "source": []
  },
  {
   "cell_type": "code",
   "execution_count": null,
   "id": "d8420848-319f-4a62-9f1a-f9c21068a95c",
   "metadata": {},
   "outputs": [],
   "source": []
  },
  {
   "cell_type": "code",
   "execution_count": null,
   "id": "c27ce7ab-fa6e-4103-82b4-a9a3c9886f26",
   "metadata": {},
   "outputs": [],
   "source": []
  },
  {
   "cell_type": "code",
   "execution_count": null,
   "id": "7a91d710-70ae-4ba5-96f5-c656398bd364",
   "metadata": {},
   "outputs": [],
   "source": []
  },
  {
   "cell_type": "code",
   "execution_count": null,
   "id": "93409b10-0e11-47a2-a56e-b5b90918f003",
   "metadata": {},
   "outputs": [],
   "source": []
  },
  {
   "cell_type": "code",
   "execution_count": null,
   "id": "ef4e4b27-f38c-4cf5-8c9e-3067db9eceb1",
   "metadata": {},
   "outputs": [],
   "source": []
  },
  {
   "cell_type": "code",
   "execution_count": null,
   "id": "bd59ee5f-30f6-4308-a4ef-81305c2e841e",
   "metadata": {},
   "outputs": [],
   "source": []
  },
  {
   "cell_type": "code",
   "execution_count": null,
   "id": "142a13aa-9d08-41b1-bd78-57ffb9eb6aaa",
   "metadata": {},
   "outputs": [],
   "source": []
  },
  {
   "cell_type": "code",
   "execution_count": null,
   "id": "a20c53f0-3d70-4593-af8f-042387d56f0c",
   "metadata": {},
   "outputs": [],
   "source": []
  },
  {
   "cell_type": "code",
   "execution_count": null,
   "id": "ac0df0fc-ad18-4294-bf59-b6c5184935f0",
   "metadata": {},
   "outputs": [],
   "source": []
  },
  {
   "cell_type": "code",
   "execution_count": null,
   "id": "49415797-d754-4a9f-b131-dbe94f614cc0",
   "metadata": {},
   "outputs": [],
   "source": []
  },
  {
   "cell_type": "markdown",
   "id": "bfc1799f-fca1-46d9-92a1-3b90c3404585",
   "metadata": {},
   "source": [
    "<div style=\"padding: 10px; background-color: #D4F8B7; color: black; font-size: 1.1em;\">\n",
    "  <div style=\"text-align: center;\">SUMA DE CUADRADOS DEBIDO AL ERROR<br>\n",
    "      $SCE = \\sum_{i=1}^{n} (y_i - \\hat{y}_i)^2$\n",
    "\n",
    "<p style=\"text-align: right; color: #009929;\">(14.8)</p>\n",
    "</div>\n",
    "</div>"
   ]
  },
  {
   "cell_type": "markdown",
   "id": "756ce4e2-82ee-4572-83e4-5ca12ca35635",
   "metadata": {},
   "source": [
    "<div style=\"color: #009929; font-weight: bold;\">FIGURA 9.1 <div style=\"color: #5CCB5F; font-weight: bold;\">Distribución de muestreo de x en el estudio de \"Café Sierra\" cuando la hipótesis nula es verdadera como igualdad (μ = 3) </div></div>"
   ]
  },
  {
   "cell_type": "markdown",
   "id": "aa2b4da7-059f-48be-913d-067b7efd467c",
   "metadata": {},
   "source": [
    "<div style=\"padding: 10px; background-color: #D4F8B7; color: black; font-size: 1.1em;\">\n",
    "  <div style=\"text-align: left;\">ESTADISTICO DE PRUEBA EN LAS PRUEBAS DE HIPOTESIS PARA LA MEDIA POBLACIONAL: $\\sigma$ DESCONOCIDA</div>\n",
    "  <div style=\"text-align: center;\">\\(\\large t = \\frac{\\bar{x} - \\mu}{s/\\sqrt{n}}\\)</div>\n",
    "</div>"
   ]
  },
  {
   "cell_type": "markdown",
   "id": "712c0d4d-fe06-45ab-b473-70900488bfb0",
   "metadata": {},
   "source": [
    "<div style=\"padding: 10px; background-color: #D4F8B7; color: black; font-size: 1.1em;\">\n",
    "  <div style=\"text-align: center;\">RESIDUAL DE LA OBSERVACIÓN i<br>\n",
    "      $$y_i - \\hat{y}_i$$\n",
    "\n",
    "\n",
    "<p style=\"text-align: right; color: #009929;\">(14.28)</p>\n",
    "donde:<br>\n",
    "$y_i$ - valor observado de la variable dependiente<br>\n",
    "$\\hat{y}_i$ - valor estimado de la variable dependiente<br>\n",
    "</div>\n",
    "</div>"
   ]
  },
  {
   "cell_type": "code",
   "execution_count": null,
   "id": "9b6f6f3d-01dc-4661-a103-05ca01ded026",
   "metadata": {},
   "outputs": [],
   "source": []
  }
 ],
 "metadata": {
  "kernelspec": {
   "display_name": "Python 3 (ipykernel)",
   "language": "python",
   "name": "python3"
  },
  "language_info": {
   "codemirror_mode": {
    "name": "ipython",
    "version": 3
   },
   "file_extension": ".py",
   "mimetype": "text/x-python",
   "name": "python",
   "nbconvert_exporter": "python",
   "pygments_lexer": "ipython3",
   "version": "3.12.1"
  }
 },
 "nbformat": 4,
 "nbformat_minor": 5
}
