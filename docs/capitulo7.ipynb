{
  "cells": [
    {
      "cell_type": "markdown",
      "metadata": {
        "id": "JQgg5bzuDzMm"
      },
      "source": [
        "<head>\n",
        "    <link rel=\"preconnect\" href=\"https://fonts.googleapis.com\">\n",
        "    <link rel=\"preconnect\" href=\"https://fonts.gstatic.com\" crossorigin>\n",
        "    <link href=\"https://fonts.googleapis.com/css2?family=Poppins:ital,wght@0,100;0,300;1,100&display=swap\" rel=\"stylesheet\">\n",
        "</head>\n",
        "\n",
        "<style>\n",
        ".content ul {\n",
        "    list-style-type: none;\n",
        "    padding: 0;\n",
        "    margin-top: 0;\n",
        "  }\n",
        "  .content ul li {\n",
        "    margin-bottom: 10px; /* Espaciado entre líneas */\n",
        "    font-size: 1em;\n",
        "  }\n",
        "  .content ul li strong {\n",
        "    font-weight: bold;\n",
        "    display: block; /* Asegura que cada título de sección comience en una nueva línea */\n",
        "    break-inside: avoid-column; /* Evita que los títulos de sección se dividan entre columnas */\n",
        "    -webkit-column-break-inside: avoid; /* Para navegadores basados en WebKit como Safari */\n",
        "    page-break-inside: avoid; /* Para la paginación al imprimir */\n",
        "  }\n",
        "    div{\n",
        "        font-family: 'Poppins', sans-serif;\n",
        "    }\n",
        "    /*ESTILOS PORTADA DE CAPITULO*/\n",
        "    #capitulo {\n",
        "    text-align: center;\n",
        "    line-height: 100px;\n",
        "    height: 100px;\n",
        "    background-color: #009929;\n",
        "    color: white;\n",
        "    font-size: 50px;\n",
        "    padding: 5px;\n",
        "    text-shadow: 2px 2px 2px rgba(0, 0, 0, 0.5); /* Sombra del texto */\n",
        "    }\n",
        "\n",
        "    #numero {\n",
        "        font-size: 90px;\n",
        "    }\n",
        "\n",
        "    #titulo {\n",
        "        height: 100px;\n",
        "        color: black;\n",
        "        text-align:justify;\n",
        "        font-size: 40px;\n",
        "        margin-right:35px;\n",
        "        margin-left:20px;\n",
        "        margin-top: 20px;\n",
        "        margin-bottom:20px;\n",
        "        font-weight: bold;\n",
        "        text-transform: uppercase;\n",
        "        margin-bottom: 30px;\n",
        "    }\n",
        "\n",
        "    #contenido {\n",
        "        width: 100%;\n",
        "        background-color: #009929;\n",
        "        text-align: left;\n",
        "        color: #fff;\n",
        "        float: left;\n",
        "        padding: 5px;\n",
        "        padding-left:10px;\n",
        "        margin-top:80px;\n",
        "        margin-bottom: 10px;\n",
        "        font-size: 25px;\n",
        "    }\n",
        "    #separador {\n",
        "        width: 100%;\n",
        "        height: 2px;\n",
        "        background-color: #009929;\n",
        "        border: none;\n",
        "    } #indice {\n",
        "            column-count: 2; /* Divide el contenido en dos columnas */\n",
        "            column-gap: 20px; /* Espaciado entre columnas */\n",
        "            margin-top: 20px; /* Espaciado superior del índice */\n",
        "        }\n",
        "    #indice-container {\n",
        "        display: inline-block;\n",
        "    }\n",
        "    #indice ul {\n",
        "        list-style: none;\n",
        "        padding: 0;\n",
        "    }\n",
        "    #indice li {\n",
        "        break-inside: avoid; /* Evita que los elementos de la lista se separen entre columnas */\n",
        "    }\n",
        "    /* FIN ESTILOS PORTADA DE CAPITULO*/\n",
        "    /*ESTILOS TITULOS DEL CAPITULO*/\n",
        "    .indice_titulo{\n",
        "        display:flex;\n",
        "        color: #009929;\n",
        "    }\n",
        "    .indice_titulo span{\n",
        "        display: inline-block;\n",
        "        margin-top: 5px;\n",
        "        font-weight: normal;\n",
        "    }\n",
        "    span.section-number {\n",
        "        background-color: #009929;\n",
        "        border-radius: 50%;\n",
        "        color: white;\n",
        "        font-weight: bold;\n",
        "        padding: 0.5em;\n",
        "        display: inline-flex;\n",
        "        justify-content: center;\n",
        "        align-items: center;\n",
        "        width: 1.5em;\n",
        "        height: 1.5em;\n",
        "        font-size: 1em;\n",
        "        margin-right: 0.5em;\n",
        "    }\n",
        "    /* FIN ESTILOS TITULOS DEL CAPITULO*/\n",
        "    .bold-verde{\n",
        "        color: #009929;\n",
        "        font-weight: bold;\n",
        "    }\n",
        "\n",
        "</style>\n",
        "<div id=\"capitulo\">CAPITULO <span id=\"numero\">7</span></div>\n",
        "<div id=\"titulo\"> Muestreo y distribuciones de muestreo</div>\n",
        "<div id=\"contenido\">Contenido del capitulo</div>\n",
        "<hr id=\"separador\">\n",
        "<div id=\"indice\">\n",
        "    <div id=\"indice-container\">\n",
        "        <p><span style=\"color: #009929;\">7.1</span>  <strong>EL PROBLEMA DE MUESTREO DE ELECTRONICS ASSOCIATES</strong></p>\n",
        "    </div>\n",
        "    <div id=\"indice-container\">\n",
        "        <p><span style=\"color: #009929;\">7.2</span>  <strong>SELECCIÓN DE UNA MUESTRA</strong></p>\n",
        "        <ul>\n",
        "            <li>Muestreo de una población finita</li>\n",
        "            <li>Muestreo de una población infinita</li>\n",
        "        </ul>\n",
        "    </div>\n",
        "    <div id=\"indice-container\">\n",
        "        <p><span style=\"color: #009929;\">7.3</span>  <strong>ESTIMACIÓN PUNTUAL</strong></p>\n",
        "        <ul>\n",
        "            <li>Consejo práctico</li>\n",
        "        </ul>\n",
        "    </div>\n",
        "    <div id=\"indice-container\">\n",
        "        <p><span style=\"color: #009929;\">7.4</span>  <strong>INTRODUCCIÓN A LAS DISTRIBUCIONES MUESTRALES O DE MUESTREO</strong></p>\n",
        "        <p><span style=\"color: #009929;\">7.5</span>  <strong>DISTRIBUCIÓN DEMUESTREO DE LA MEDIA MUESTRAL X</strong></p>\n",
        "        <ul>\n",
        "            <li>Valor esperado de la media muestral x</li>\n",
        "            <li>Desviación estándar de la media muestral x</li>\n",
        "            <li>Forma de la distribución de muestreo de la media muestral x</li>\n",
        "            <li>Distribución de muestreo de la media muestral x en el problema EAI</li>\n",
        "            <li>Valor práctico de la distribución de muestreo de la media muestral x</li>\n",
        "            <li>Relación entre el tamaño dela muestra y la distribución de muestreo de la media muestral x</li>\n",
        "        </ul>\n",
        "    </div>\n",
        "    <div id=\"indice-container\">\n",
        "        <p><span style=\"color: #009929;\">7.6</span>  <strong>DISTRIBUCIÓN DE MUESTREO DE LA PROPORCION MUESTRAL p</strong></p>\n",
        "        <ul>\n",
        "            <li>Valor esperado de la proporcion muestral p</li>\n",
        "            <li>Desviación estándar de la proporcion muestral p</li>\n",
        "            <li>Forma de la distribución de muestreo de la proporcion muestral p</li>\n",
        "            <li>Valor práctico de la distribución de muestreo de la proporcion muestral p</li>\n",
        "        </ul>\n",
        "    </div>\n",
        "    <div id=\"indice-container\">\n",
        "        <p><span style=\"color: #009929;\">7.7</span>  <strong>PROPIEDADES DE LOSESTIMADORES PUNTUALES</strong></p>\n",
        "        <ul>\n",
        "            <li>Insesgadez</li>\n",
        "            <li>Eficiencia</li>\n",
        "            <li>Consistencia</li>\n",
        "        </ul>\n",
        "    </div>\n",
        "    <div id=\"indice-container\">\n",
        "        <p><span style=\"color: #009929;\">7.8</span>  <strong>OTROS MÉTODOS DE MUESTREO</strong></p>\n",
        "        <ul>\n",
        "            <li>Muestreo aleatorio estratificado</li>\n",
        "            <li>Muestreo por conglomerados</li>\n",
        "            <li>Muestreo sistemático</li>\n",
        "            <li>Muestreo de conveniencia</li>\n",
        "            <li>MMuestreo subjetivo</li>\n",
        "        </ul>\n",
        "    </div>\n",
        "</div>\n"
      ]
    },
    {
      "cell_type": "markdown",
      "metadata": {
        "id": "dQj4bobwoU5i"
      },
      "source": [
        "<style>\n",
        "  .chapter-box {\n",
        "    background-color: #009929;\n",
        "    color: #FFFFFF;\n",
        "    padding: 20px 0; /* Ajusta este valor para centrar verticalmente como desees */\n",
        "    width: 100%; /* Ancho al 100% para ocupar la parte superior de la pantalla */\n",
        "    box-sizing: border-box; /* Asegura que el padding no añada más ancho */\n",
        "    text-align: center; /* Centra el texto horizontalmente */\n",
        "  }\n",
        "  .indicel {\n",
        "            list-style: none;\n",
        "            padding: 6;\n",
        "        }\n",
        "\n",
        "        .indicel li {\n",
        "            margin-bottom: 10px;\n",
        "        }\n",
        "\n",
        "        .indicel li::before {\n",
        "            content: attr(data-number); /* Usar el número definido en el atributo data-number */\n",
        "            color: green;\n",
        "            margin-right: 5px;\n",
        "        }\n",
        "  .chapter-box h1 {\n",
        "    margin: 0;\n",
        "    color: #FFFFFF;\n",
        "    font-size: 6em; /* Tamaño CAPÍTULO 1 */\n",
        "  }\n",
        "\n",
        "  .content {\n",
        "    padding-top : 20px;\n",
        "    column-count: 2;\n",
        "    text-align: justify;\n",
        "  background-color: #D4F8B7;\n",
        "  }\n",
        "  .indice {\n",
        "    padding-top : 20px;\n",
        "    column-count: 2;\n",
        "    text-align: justify;\n",
        "  font-size: 19px;\n",
        "  }\n",
        "  .subtitle h2 {\n",
        "    padding: 10px;\n",
        "    color: #009929;\n",
        "    margin-top: 0;\n",
        "    font-weight: normal;\n",
        "    text-transform: uppercase;\n",
        "    border-bottom: 3px solid #009929; /* Línea debajo del texto */\n",
        "    padding-bottom: 5px; /* Espacio entre texto y línea */\n",
        "    display: inline-block; /* Permite que la línea ocupe el ancho del contenedor */\n",
        "    width: 100%; /* Asegura que el subrayado se extienda a lo largo de la página */\n",
        "  }\n",
        "  .content ul {\n",
        "    list-style-type: none;\n",
        "    padding: 0;\n",
        "    margin-top: 0;\n",
        "  }\n",
        "  .content ul li {\n",
        "    margin-bottom: 10px; /* Espaciado entre líneas */\n",
        "    font-size: 1em;\n",
        "  }\n",
        "  .content ul li strong {\n",
        "    font-weight: bold;\n",
        "    display: block; /* Asegura que cada título de sección comience en una nueva línea */\n",
        "    break-inside: avoid-column; /* Evita que los títulos de sección se dividan entre columnas */\n",
        "    -webkit-column-break-inside: avoid; /* Para navegadores basados en WebKit como Safari */\n",
        "    page-break-inside: avoid; /* Para la paginación al imprimir */\n",
        "  }\n",
        "  /* estilos de tablas*/\n",
        "      .customTable {\n",
        "      width: 100%;\n",
        "      border-collapse: collapse;\n",
        "      border-spacing: 0;\n",
        "      background-color: #D4F8B7; /* Fondo general de la tabla */\n",
        "    }\n",
        "    .customTable th, .customTable td {\n",
        "      background-color: #D4F8B7; /* Fondo de las celdas */\n",
        "      color: black;\n",
        "      font-weight: bold;\n",
        "      border-right: 2px solid #009929; /* Líneas divisorias verticales naranjas */\n",
        "      padding: 8px;\n",
        "      text-align: left;\n",
        "    }\n",
        "    .customTable th:last-child, .customTable td:last-child {\n",
        "      border-right: none;\n",
        "    }\n",
        "    .customTable thead tr:first-child th {\n",
        "      border-top: 5px solid #009929;\n",
        "      border-right: 2px solid #D4F8B7;\n",
        "      border-block-end: 2px solid #D4F8B7;\n",
        "    }\n",
        "    .customTable tr:last-child td {\n",
        "      border-bottom: 5px solid #009929;\n",
        "    }\n",
        "    /* otros */\n",
        "    .encuesta {\n",
        "    max-width: 700px;\n",
        "    margin: auto;\n",
        "    padding: 20px;\n",
        "    background: #ffffff;\n",
        "    box-shadow: 0 2px 5px rgba(0,0,0,0.1);\n",
        "  }\n",
        "  .encuesta h2 {\n",
        "    text-align: center;\n",
        "    color: #333333;\n",
        "  }\n",
        "  .campo {\n",
        "    margin: 15px 0;\n",
        "  }\n",
        "  .campo label {\n",
        "    margin: 0 10px 0 0;\n",
        "    font-weight: bold;\n",
        "  }\n",
        "\n",
        "\n",
        "  .tabulado {\n",
        "  margin-left: 20px; /* Esto añade espacio antes del elemento, como un tabulador. */\n",
        "  }\n",
        "    .tab {\n",
        "    margin-left: 20px; /* Esto añade espacio antes del elemento, como un tabulador. */\n",
        "  }\n",
        "  .diagram-container {\n",
        "    display: flex;\n",
        "    justify-content: center;\n",
        "    align-items: center;\n",
        "    flex-direction: column;\n",
        "  }\n",
        "  .circle {\n",
        "    border: 2px solid #000;\n",
        "    border-radius: 50%;\n",
        "    width: 200px;\n",
        "    height: 200px;\n",
        "    display: flex;\n",
        "    justify-content: center;\n",
        "    align-items: center;\n",
        "    margin: 20px;\n",
        "    text-align: center;\n",
        "  }\n",
        "  .rectangle {\n",
        "    border: 2px solid #000;\n",
        "    width: 250px;\n",
        "    padding: 20px;\n",
        "    margin: 20px;\n",
        "    text-align: center;\n",
        "  }\n",
        "  .arrow {\n",
        "    display: flex;\n",
        "    align-items: center;\n",
        "    justify-content: center;\n",
        "  }\n",
        "  .arrow::after {\n",
        "    content: '→';\n",
        "    font-size: 24px;\n",
        "    margin: 0 10px;\n",
        "  }\n",
        "</style>\n",
        "<div class=\"content\">     \n",
        "  <ul>\n",
        "    <li>\n",
        "    <h1>La Papelera - Innovación en la Producción de Papel</h1>\n",
        "\n",
        "  <p>La Papelera, una empresa líder a nivel global en la producción de papel y productos derivados, se destaca en la fabricación de embalajes, papeles especiales, bienes de consumo y de oficina, así como en la elaboración de sustancias químicas especiales. Con una plantilla de más de 25,000 empleados, La Papelera opera en más de 25 países y brinda sus servicios a clientes en todo el mundo. Su posición destacada en la producción de papel se evidencia en una capacidad anual de 1.5 millones de toneladas.</p>\n",
        "\n",
        "  <p>El enfoque estratégico de La Papelera incluye el uso eficiente del muestreo como herramienta fundamental para recopilar información diversa y mantener su competitividad. Un ejemplo significativo es la gestión de sus recursos forestales, que sirven como materia prima esencial para gran parte de su línea de productos. Los consultores internos aplican el muestreo aleatorio para obtener datos clave sobre la población forestal, tales como el volumen actual de los bosques, su historial de crecimiento y las proyecciones futuras. Estos datos son cruciales para la planificación a largo plazo y la programación de actividades como la tala de árboles.</p>\n",
        "\n",
        "  <p>El proceso de muestreo en La Papelera implica la subdivisión de los bosques en secciones, la identificación de puntos muestrales aleatorios y la recopilación de datos en campo mediante equipos especializados, que incluyen expertos forestales. La información recopilada se registra en el sistema de inventario forestal continuo (IFC) de la empresa, generando informes detallados con estadísticas sobre la composición de especies, volumen actual de los bosques, tasas de crecimiento históricas y proyecciones futuras. Este enfoque estadístico proporciona la base necesaria para una gestión efectiva y sostenible de los recursos forestales de La Papelera.</p>\n",
        "\n",
        "  <p>En este contexto, se examina el muestreo aleatorio simple, el proceso de selección de muestras, y el uso de estadísticos como la media muestral y la proporción muestral para estimar características clave de la población forestal de La Papelera.</p>\n",
        "    </li>\n",
        "  </ul>\n",
        "</div>"
      ]
    },
    {
      "cell_type": "code",
      "execution_count": null,
      "metadata": {
        "colab": {
          "base_uri": "https://localhost:8080/",
          "height": 575
        },
        "id": "XSXppMXRiP5O",
        "outputId": "ed31ffa9-1961-4be4-cd1f-cb3daff4a402"
      },
      "outputs": [
        {
          "name": "stdout",
          "output_type": "stream",
          "text": [
            "Requirement already satisfied: IPython in /usr/local/lib/python3.10/dist-packages (7.34.0)\n",
            "Requirement already satisfied: setuptools>=18.5 in /usr/local/lib/python3.10/dist-packages (from IPython) (67.7.2)\n",
            "Requirement already satisfied: jedi>=0.16 in /usr/local/lib/python3.10/dist-packages (from IPython) (0.19.1)\n",
            "Requirement already satisfied: decorator in /usr/local/lib/python3.10/dist-packages (from IPython) (4.4.2)\n",
            "Requirement already satisfied: pickleshare in /usr/local/lib/python3.10/dist-packages (from IPython) (0.7.5)\n",
            "Requirement already satisfied: traitlets>=4.2 in /usr/local/lib/python3.10/dist-packages (from IPython) (5.7.1)\n",
            "Requirement already satisfied: prompt-toolkit!=3.0.0,!=3.0.1,<3.1.0,>=2.0.0 in /usr/local/lib/python3.10/dist-packages (from IPython) (3.0.41)\n",
            "Requirement already satisfied: pygments in /usr/local/lib/python3.10/dist-packages (from IPython) (2.16.1)\n",
            "Requirement already satisfied: backcall in /usr/local/lib/python3.10/dist-packages (from IPython) (0.2.0)\n",
            "Requirement already satisfied: matplotlib-inline in /usr/local/lib/python3.10/dist-packages (from IPython) (0.1.6)\n",
            "Requirement already satisfied: pexpect>4.3 in /usr/local/lib/python3.10/dist-packages (from IPython) (4.9.0)\n",
            "Requirement already satisfied: parso<0.9.0,>=0.8.3 in /usr/local/lib/python3.10/dist-packages (from jedi>=0.16->IPython) (0.8.3)\n",
            "Requirement already satisfied: ptyprocess>=0.5 in /usr/local/lib/python3.10/dist-packages (from pexpect>4.3->IPython) (0.7.0)\n",
            "Requirement already satisfied: wcwidth in /usr/local/lib/python3.10/dist-packages (from prompt-toolkit!=3.0.0,!=3.0.1,<3.1.0,>=2.0.0->IPython) (0.2.12)\n"
          ]
        },
        {
          "data": {
            "text/html": [
              "<div style=\"display: flex; justify-content: center; align-items: center; height: 100%;\"><iframe width=\"560\" height=\"315\" src=\"https://www.youtube.com/embed/Y7oKqrV4Bmw\" frameborder=\"0\" allowfullscreen></iframe></div>"
            ],
            "text/plain": [
              "<IPython.core.display.HTML object>"
            ]
          },
          "metadata": {},
          "output_type": "display_data"
        }
      ],
      "source": [
        "# Instala la biblioteca IPython para mostrar HTML\n",
        "!pip install IPython\n",
        "\n",
        "# Importa la clase HTML de la biblioteca IPython\n",
        "from IPython.display import HTML\n",
        "\n",
        "# Define la función para mostrar el video de YouTube centrado\n",
        "def display_centered_youtube_video(video_id, width=560, height=315):\n",
        "    video_url = f\"https://www.youtube.com/embed/{video_id}\"\n",
        "    iframe_code = f'<div style=\"display: flex; justify-content: center; align-items: center; height: 100%;\"><iframe width=\"{width}\" height=\"{height}\" src=\"{video_url}\" frameborder=\"0\" allowfullscreen></iframe></div>'\n",
        "    display(HTML(iframe_code))\n",
        "\n",
        "# Reemplaza \"Y7oKqrV4Bmw\" con el ID de tu video de YouTube\n",
        "video_id = \"Y7oKqrV4Bmw\"\n",
        "\n",
        "# Muestra el video de YouTube centrado\n",
        "display_centered_youtube_video(video_id)\n",
        "\n"
      ]
    },
    {
      "cell_type": "markdown",
      "metadata": {
        "id": "6ueXtJMoueim"
      },
      "source": [
        "En el capítulo 1 se presentaron las siguientes definiciones de los términos elemento, población\n",
        "y muestra.\n",
        "- Un elemento es la entrada en la que se **recolectan** los datos.\n",
        "- Una población es el conjunto de todos los elementos de interés.\n",
        "- Una muestra es un subconjunto de la población.\n",
        "La razón por la que se selecciona una muestra estriba en recabar datos para realizar una inferencia y responder una pregunta de investigación acerca de una población."
      ]
    },
    {
      "cell_type": "markdown",
      "metadata": {
        "id": "eTVY_wtouw4y"
      },
      "source": [
        "Para empezar, se presentan dos ejemplos en los que se utiliza el muestreo para responder\n",
        "una pregunta de investigación acerca de una población.\n",
        "1.   Los miembros de un partido político en Texas consideraban postular a un determinado\n",
        "candidato para el Senado, y los dirigentes del partido querían estimar la proporción\n",
        "de votantes registrados en el estado que podían apoyarlo. Por tanto, se seleccionó una\n",
        "muestra de 400 votantes registrados en Texas, y 160 de este total indicaron estar a favor\n",
        "del candidato. Así, una estimación de la proporción de la población de votantes registrados a favor del candidato es 160/400 = 0.40.\n",
        "2.  Un fabricante de llantas está considerando producir un nuevo modelo que ofrezca mayor duración que los actuales neumáticos de línea de la empresa. Para estimar la duración media, en millas, el fabricante selecciona una muestra de 120 neumáticos nuevos para probarlos. De los resultados de esta prueba se obtiene una media muestral de 36,500 millas. Por tanto, una estimación de la vida útil media de la población de nuevas llantas es 36,500 millas.\n"
      ]
    },
    {
      "cell_type": "markdown",
      "metadata": {
        "id": "Qi_GL0r28nTS"
      },
      "source": [
        "\n",
        "Los resultados muestrales ofrecen solo estimaciones de las características de la población, no exactitudes precisas. Debido a que las muestras representan solo una fracción de la población, se esperan errores de muestreo. Afortunadamente, existen procedimientos estadísticos para evaluar la calidad de estas estimaciones.\n",
        "\n",
        "Se definen términos clave, como población muestreada (de donde se extrae la muestra) y marco (la lista de elementos de donde se selecciona la muestra). En ejemplos, la población muestreada puede ser finita, como los votantes registrados en Texas, o conceptualmente infinita, como en el caso de muestras de neumáticos obtenidas de un proceso productivo.\n",
        "\n",
        "El capítulo se enfoca en cómo utilizar el muestreo aleatorio simple para seleccionar muestras de poblaciones finitas e infinitas. Se explora la selección de muestras aleatorias simples en situaciones específicas. Se discute el uso de estas muestras para calcular estimaciones de media, desviación estándar y proporción poblacional. Se introduce la distribución de muestreo, crucial para evaluar la precisión de las estimaciones en comparación con los parámetros poblacionales. Además, se presentan alternativas al muestreo aleatorio simple comúnmente utilizadas en la práctica"
      ]
    },
    {
      "cell_type": "markdown",
      "metadata": {
        "id": "-yscaq7yrA-R"
      },
      "source": [
        "<style>\n",
        "        .indice_titulo{\n",
        "        display:flex;\n",
        "        color: #009929;\n",
        "    }\n",
        "        span.section-number {\n",
        "        background-color: #009929;\n",
        "        border-radius: 50%;\n",
        "        color: white;\n",
        "        font-weight: bold;\n",
        "        padding: 0.5em;\n",
        "        display: inline-flex;\n",
        "        justify-content: center;\n",
        "        align-items: center;\n",
        "        width: 1.5em;\n",
        "        height: 1.5em;\n",
        "        font-size: 1em;\n",
        "        margin-right: 0.5em;\n",
        "    }\n",
        "</style>\n",
        "## <div class = \"indice_titulo\"><span class=\"section-number\">7.1</span> **El problema de muestreo de Electronics Associates**</div>"
      ]
    },
    {
      "cell_type": "markdown",
      "metadata": {
        "id": "u_0TefXZu8s1"
      },
      "source": [
        "<style>\n",
        "    body {\n",
        "      font-family: Arial, sans-serif;\n",
        "    }\n",
        "\n",
        "    .subtitulo {\n",
        "      display: flex;\n",
        "      align-items: center;\n",
        "    font-family: 'Bodoni', serif;\n",
        "    color: #5CCB5F;\n",
        "    }\n",
        "\n",
        "    .circulo-verde {\n",
        "      width: 50px;\n",
        "      height: 50px;\n",
        "      border-radius: 50%;\n",
        "      background-color: #5CCB5F;\n",
        "      display: flex;\n",
        "      align-items: center;\n",
        "      justify-content: center;\n",
        "      color: white;\n",
        "      font-weight: bold;\n",
        "      margin-right: 10px;\n",
        "      border: 2px solid black; /* Añadir un borde de 2px de ancho, color darkgreen */\n",
        "    }\n",
        "  </style>\n",
        "</head>\n",
        "<body>\n",
        "  Al director de personal de Electronics Associates, Inc. (EAI) se le ha encomendado crear un perfil para los 2,500 gerentes de la empresa, centrándose en su sueldo anual promedio y la proporción que ha completado el programa de capacitación. Utilizando la población de 2,500 gerentes, se pueden obtener estos datos consultando el archivo EAI, que contiene la información necesaria. Con estos datos y las fórmulas del capítulo 3, se calcula la media y la desviación estándar poblacional de los sueldos anuales.\n",
        "\n",
        "</body>\n",
        "</html>"
      ]
    },
    {
      "cell_type": "markdown",
      "metadata": {
        "id": "i5ZeieTEDlKr"
      },
      "source": [
        "Media poblacional $\\mu = 51,800$\n",
        "\n",
        "Desviación estándar poblacional $\\sigma = 4,000$\n"
      ]
    },
    {
      "cell_type": "markdown",
      "metadata": {
        "id": "CkyUfW0tvGsq"
      },
      "source": [
        "Los datos muestran que 1,500 de los 2,500 gerentes han completado el programa de capacitación. Las características numéricas de la población, como la media $\\mu = \\$51,800$ y la desviación estándar $\\sigma = \\$4,000$ de los sueldos anuales, junto con la proporción de gerentes capacitados $\\rho  = 0.60$, son parámetros poblacionales. La pregunta ahora es cómo el director de personal puede obtener estimaciones de estos parámetros utilizando una muestra de 30 gerentes en lugar de estudiar a toda la población de 2,500 sujetos. El uso de una muestra es más eficiente en términos de tiempo y costo para elaborar perfiles. Si una muestra de 30 gerentes proporciona información adecuada sobre la población completa, se explorará cómo determinarla."
      ]
    },
    {
      "cell_type": "markdown",
      "metadata": {
        "id": "04pPU2aHq2IK"
      },
      "source": [
        "<style>\n",
        "        .indice_titulo{\n",
        "        display:flex;\n",
        "        color: #009929;\n",
        "    }\n",
        "        span.section-number {\n",
        "        background-color: #009929;\n",
        "        border-radius: 50%;\n",
        "        color: white;\n",
        "        font-weight: bold;\n",
        "        padding: 0.5em;\n",
        "        display: inline-flex;\n",
        "        justify-content: center;\n",
        "        align-items: center;\n",
        "        width: 1.5em;\n",
        "        height: 1.5em;\n",
        "        font-size: 1em;\n",
        "        margin-right: 0.5em;\n",
        "    }\n",
        "</style>\n",
        "## <div class = \"indice_titulo\"><span class=\"section-number\">7.2</span> **Seleccion de una muestra**</div>"
      ]
    },
    {
      "cell_type": "markdown",
      "metadata": {
        "id": "dZniqiqczOgg"
      },
      "source": [
        "<style>\n",
        "    body {\n",
        "      font-family: Arial, sans-serif;\n",
        "    }\n",
        "\n",
        "    .subtitulo {\n",
        "      display: flex;\n",
        "      align-items: center;\n",
        "    font-family: 'Bodoni', serif;\n",
        "    color: #5CCB5F;\n",
        "    }\n",
        "\n",
        "    .circulo-verde {\n",
        "      width: 50px;\n",
        "      height: 50px;\n",
        "      border-radius: 50%;\n",
        "      background-color: #5CCB5F;\n",
        "      display: flex;\n",
        "      align-items: center;\n",
        "      justify-content: center;\n",
        "      color: white;\n",
        "      font-weight: bold;\n",
        "      margin-right: 10px;\n",
        "      border: 2px solid black; /* Añadir un borde de 2px de ancho, color darkgreen */\n",
        "    }\n",
        "  </style>\n",
        "</head>\n",
        "<body>\n",
        "  En esta sección se describe cómo seleccionar una muestra. Primero se estudiará cómo seleccionarla de una población ﬁnita y luego de una población inﬁnita.\n",
        "</body>\n",
        "</html>"
      ]
    },
    {
      "cell_type": "markdown",
      "metadata": {
        "id": "hoTSDSzJvTzz"
      },
      "source": [
        "**Muestreo de una población finita**"
      ]
    },
    {
      "cell_type": "markdown",
      "metadata": {
        "id": "qJMLQsIKvaJP"
      },
      "source": [
        "Los estadísticos sugieren el uso de muestras de probabilidad al muestrear de una población finita, ya que facilita inferencias estadísticas válidas. El muestreo aleatorio simple, donde cada muestra de tamaño $\\eta$ tiene igual probabilidad de selección, es el tipo más básico de muestra de probabilidad."
      ]
    },
    {
      "cell_type": "markdown",
      "metadata": {
        "id": "O9a8xBNGvh0H"
      },
      "source": [
        "<!DOCTYPE html>\n",
        "\n",
        "> Bloc con sangría\n",
        "\n",
        "\n",
        "<html lang=\"es\">\n",
        "<head>\n",
        "  <meta charset=\"UTF-8\">\n",
        "  <meta name=\"viewport\" content=\"width=device-width, initial-scale=1.0\">\n",
        "  <style>\n",
        "    body {\n",
        "      background-color: #D4F8B7; /* Código de color para verde */\n",
        "    }\n",
        "\n",
        "    p {\n",
        "      margin: 10px; /* Ajusta el margen según sea necesario */\n",
        "    }\n",
        "  </style>\n",
        "</head>\n",
        "<body>\n",
        "\n",
        "<p>MUESTREO ALEATORIO SIMPLE (POBLACION FINITA)<br>\n",
        "Una muestra aleatoria simple de tamaño n de una población finita de tamaño N es una\n",
        "muestra seleccionada de manera que cada posible muestra de tamaño n tenga la misma\n",
        "probabilidad de ser seleccionada.</p>\n",
        "\n",
        "</body>\n",
        "</html>"
      ]
    },
    {
      "cell_type": "markdown",
      "metadata": {
        "id": "fTuQHM6rvmgF"
      },
      "source": [
        "Para seleccionar una muestra aleatoria simple de una población finita, se eligen los elementos uno a uno, asegurando que cada elemento restante tenga igual probabilidad de ser seleccionado en cada paso. Así se cumple con la definición de muestra aleatoria simple. Para realizar esto con la población finita de gerentes de EAI, se asigna un número a cada sujeto, por ejemplo, del 1 al 2,500 en orden."
      ]
    },
    {
      "cell_type": "markdown",
      "metadata": {
        "id": "ZNZjzzRmvrk0"
      },
      "source": [
        "<style>\n",
        "    body {\n",
        "      color: #5CCB5F; /* Color verde para el texto */\n",
        "    }\n",
        "\n",
        "    strong {\n",
        "      font-weight: bold;\n",
        "    }\n",
        "  </style>\n",
        "</head>\n",
        "<body>\n",
        "\n",
        "<p><strong>TABLA 7.1</strong> Números aleatorios</p>\n",
        "\n",
        "</body>\n",
        "</html>"
      ]
    },
    {
      "cell_type": "markdown",
      "metadata": {
        "id": "goo0Kc1Vub3N"
      },
      "source": [
        "<style>\n",
        "    #con-borde{\n",
        "        border-left:3px solid #009929;\n",
        "        text-align: center;\n",
        "    }\n",
        "</style>\n",
        "<span style=\"color: #009929;\">**Tabla 7.2**  Sueldo anual y situación respecto del programa de capacitación para una muestra aleatoria simple de 30 gerentes de EAI</span>\n",
        "<div style=\"display: flex; justify-content: center; align-items: center;\">\n",
        "    <table style=\"border-top:3px solid #009929;border-bottom:3px solid #009929;background-color:#D4F8B7;font-size:14px;\">\n",
        "  <thead>\n",
        "  </thead>\n",
        "  <tbody>\n",
        "    <tr>\n",
        "      <td>63 271 </td>\n",
        "      <td>59 986</td>\n",
        "      <td>71 744</td>\n",
        "      <td>51 102</td>\n",
        "      <td>15 141</td>\n",
        "      <td>80 714 </td>\n",
        "      <td>58 683 </td>\n",
        "      <td>93 108 </td>\n",
        "      <td>13 554 </td>\n",
        "      <td>79 945 </td>\n",
        "    </tr>\n",
        "    <tr>\n",
        "      <td>88 547</td>\n",
        "      <td>09 896</td>\n",
        "      <td>95 436 </td>\n",
        "      <td>79 115 </td>\n",
        "      <td>08 303</td>\n",
        "      <td>01 041</td>\n",
        "      <td>20 030</td>\n",
        "      <td>63 754</td>\n",
        "      <td>08 459</td>\n",
        "      <td>28 364</td>\n",
        "    </tr>\n",
        "    <tr>\n",
        "      <td>55 957</td>\n",
        "      <td>57 243</td>\n",
        "      <td>83 865 </td>\n",
        "      <td>09 911 </td>\n",
        "      <td>19 761</td>\n",
        "      <td>66 535</td>\n",
        "      <td>40 102</td>\n",
        "      <td>26 646</td>\n",
        "      <td>60 147</td>\n",
        "      <td>15 702</td>\n",
        "    </tr>\n",
        "    <tr>\n",
        "      <td>46 276</td>\n",
        "      <td>87 453</td>\n",
        "      <td>44 790 </td>\n",
        "      <td>67 122 </td>\n",
        "      <td>45 573</td>\n",
        "      <td>84 358</td>\n",
        "      <td>21 625</td>\n",
        "      <td>16 999</td>\n",
        "      <td>13 385</td>\n",
        "      <td>22 782</td>\n",
        "    </tr>\n",
        "    <tr>\n",
        "      <td>55 363</td>\n",
        "      <td>07 449</td>\n",
        "      <td>34 835 </td>\n",
        "      <td>15 290 </td>\n",
        "      <td>76 616 </td>\n",
        "      <td>67 191 </td>\n",
        "      <td>12 777 </td>\n",
        "      <td>21 861 </td>\n",
        "      <td>68 689 </td>\n",
        "      <td>03 263 </td>\n",
        "    </tr>\n",
        "    <p>\n",
        "    </p>\n",
        "    <tr>\n",
        "      <td>69 393 </td>\n",
        "      <td>92 785</td>\n",
        "      <td>49 902</td>\n",
        "      <td>58 447</td>\n",
        "      <td>42 048</td>\n",
        "      <td>30 378 </td>\n",
        "      <td>87 618 </td>\n",
        "      <td>26 933 </td>\n",
        "      <td>40 640 </td>\n",
        "      <td>16 281 </td>\n",
        "    </tr>\n",
        "    <tr>\n",
        "      <td>13 186</td>\n",
        "      <td>29 431</td>\n",
        "      <td>88 190 </td>\n",
        "      <td>04 588 </td>\n",
        "      <td>38 733</td>\n",
        "      <td>81 290</td>\n",
        "      <td>89 541</td>\n",
        "      <td> 70 290 </td>\n",
        "      <td>40 113 </td>\n",
        "      <td>08 243</td>\n",
        "    </tr>\n",
        "    <tr>\n",
        "      <td>17 726</td>\n",
        "      <td>28 652</td>\n",
        "      <td> 56 836</td>\n",
        "      <td> 78 351</td>\n",
        "      <td>47 327</td>\n",
        "      <td>18 518</td>\n",
        "      <td>92 222</td>\n",
        "      <td>55 201</td>\n",
        "      <td>27 340</td>\n",
        "      <td>10 493</td>\n",
        "    </tr>\n",
        "    <tr>\n",
        "      <td>36 520</td>\n",
        "      <td>64 465</td>\n",
        "      <td>05 550 </td>\n",
        "      <td>30 157 </td>\n",
        "      <td>82 242</td>\n",
        "      <td>29 520</td>\n",
        "      <td>69 753</td>\n",
        "      <td>72 602</td>\n",
        "      <td>23 756</td>\n",
        "      <td>54 935</td>\n",
        "    </tr>\n",
        "    <tr>\n",
        "      <td>81 628</td>\n",
        "      <td>36 100</td>\n",
        "      <td>39 254 </td>\n",
        "      <td>56 835 </td>\n",
        "      <td>37 636</td>\n",
        "      <td>02 421</td>\n",
        "      <td>98 063</td>\n",
        "      <td>89 641</td>\n",
        "      <td>64 953</td>\n",
        "      <td>99 337</td>\n",
        "    </tr>\n",
        "  </tbody>\n",
        "</table>\n",
        "\n",
        "</body>\n",
        "</html>"
      ]
    },
    {
      "cell_type": "markdown",
      "metadata": {
        "id": "hytfJrgC0_N0"
      },
      "source": [
        "El procedimiento para seleccionar una muestra aleatoria simple de una población finita implica asignar números a cada elemento y utilizar dígitos aleatorios de una tabla. En el caso de la población de gerentes de EAI, se asignan números del 1 al 2500. Los números aleatorios de cuatro dígitos se eligen consultando una tabla de dígitos aleatorios, seleccionando conjuntos de cuatro dígitos. Se puede empezar en cualquier lugar de la tabla y avanzar sistemáticamente. En este caso, se utiliza la primera fila y se avanza de izquierda a derecha."
      ]
    },
    {
      "cell_type": "markdown",
      "metadata": {
        "id": "Eq3e5RI1633h"
      },
      "source": [
        "6327 --- 1599 --- 8671 --- 7445 --- 1102 --- 1514 --- 1807"
      ]
    },
    {
      "cell_type": "markdown",
      "metadata": {
        "id": "CEvROnlT8xgQ"
      },
      "source": [
        "Para seleccionar una muestra aleatoria simple de una población finita, se asignan números a cada elemento de la población. En este caso, consideramos la población de gerentes de EAI, a la cual se le asignan números del 1 al 2500. La clave para la aleatoriedad se encuentra en una tabla de dígitos aleatorios, donde cada dígito tiene igual probabilidad de aparecer. Estos dígitos se eligen en conjuntos de cuatro, ya que el número más grande en la población de gerentes es 2500.\n",
        "\n",
        "El proceso implica utilizar estos números aleatorios de cuatro dígitos para dar a cada gerente de la población la misma oportunidad de ser seleccionado en la muestra aleatoria. Algunos números pueden ser mayores que el tamaño de la población, y en ese caso, se descartan. Por ejemplo, si el primer número aleatorio es 6327 y la población solo va hasta el número 2500, se descarta. El siguiente número, por ejemplo, 1599, está dentro del rango de la población y se selecciona el primer gerente asociado con ese número.\n",
        "\n",
        "Este proceso continúa hasta alcanzar la muestra deseada de, por ejemplo, 30 gerentes de EAI. Es importante destacar que este método de selección se conoce como muestreo sin reemplazo, ya que una vez que un gerente ha sido seleccionado, su número se ignora para evitar duplicados en la muestra final. Este enfoque garantiza que cada gerente tenga una oportunidad justa y única de ser parte de la muestra aleatoria."
      ]
    },
    {
      "cell_type": "markdown",
      "metadata": {
        "id": "VU2jGPC0_yKK"
      },
      "source": [
        "Cuando se selecciona una muestra en la que se aceptan números aleatorios ya usados y los\n",
        "gerentes correspondientes son incluidos dos o más veces, se realiza un muestreo con remplazo.\n",
        "\n",
        "Muestrear con remplazo es una forma válida de identiﬁ car una muestra aleatoria simple;\n",
        "sin embargo, como es el procedimiento de muestreo más usado, cuando se hable de muestreo\n",
        "aleatorio simple se asumirá que éste es sin reemplazo."
      ]
    },
    {
      "cell_type": "markdown",
      "metadata": {
        "id": "bAI3C18K_1FZ"
      },
      "source": [
        "**Muestreo de una población infinita**"
      ]
    },
    {
      "cell_type": "markdown",
      "metadata": {
        "id": "bZbtZfpNAVlF"
      },
      "source": [
        "Algunas veces se quiere seleccionar una muestra de una población, pero ésta es inﬁnitamente grande o sus elementos están siendo generados por un proceso en marcha, por lo cual no hay límite para el número de elementos que pueden ser generados. Por tanto, no es posible hacer una lista de todos los elementos de la población. Esto se considera el caso de una población inﬁnita, con la cual no se puede seleccionar una muestra aleatoria simple debido a que no es factible construir un marco constituido por todos los elementos. En el caso de una población inﬁnita, los profesionales de la estadística recomiendan seleccionar lo que se llama una muestra aleatoria."
      ]
    },
    {
      "cell_type": "markdown",
      "metadata": {
        "id": "jWVZT7srBP1X"
      },
      "source": [
        "<!DOCTYPE html>\n",
        "<html lang=\"es\">\n",
        "<head>\n",
        "  <meta charset=\"UTF-8\">\n",
        "  <meta name=\"viewport\" content=\"width=device-width, initial-scale=1.0\">\n",
        "  <style>\n",
        "    body {\n",
        "      background-color: #D4F8B7; /* Código de color para verde */\n",
        "    }\n",
        "\n",
        "    p {\n",
        "      margin: 10px; /* Ajusta el margen según sea necesario */\n",
        "    }\n",
        "  </style>\n",
        "</head>\n",
        "<body>\n",
        "\n",
        "<p>MUESTRA ALEATORIA (POBLACIÓN INFINITA)<br>\n",
        "Una muestra aleatoria de tamaño n de una población infinita es seleccionada de manera tal que se satisfagan las condiciones\n",
        "siguientes.\n",
        "  <ol>\n",
        "  <li>Cada elemento elegido proviene de la misma población.</li>\n",
        "  <li>Cada elemento es seleccionado de manera independiente.</li>\n",
        "</ol>\n",
        "</p>\n",
        "</body>\n",
        "</html>"
      ]
    },
    {
      "cell_type": "markdown",
      "metadata": {
        "id": "5JqyM4LjCsJ_"
      },
      "source": [
        "La implementación del proceso de selección de una muestra aleatoria en una población infinita debe realizarse con cuidado. Dos condiciones clave son: 1) que cada elemento seleccionado provenga de la misma población y 2) que cada elemento se elija de manera independiente.\n",
        "\n",
        "En un caso práctico, como el control de calidad en la producción de cajas de cereal, donde la población conceptual es infinita, se busca asegurar que la muestra refleje la condición 1. Para lograrlo, el inspector elige las cajas aproximadamente al mismo tiempo, evitando así sesgos en la selección debido a posibles malfuncionamientos en el proceso.\n",
        "\n",
        "En otro ejemplo, al seleccionar una muestra aleatoria de clientes en un restaurante de comida rápida, donde la población en marcha se considera infinita, se busca obtener un perfil representativo de los consumidores. En este caso, la muestra se elige sin la posibilidad de obtener una lista completa de todos los consumidores, satisfaciendo así las condiciones de selección aleatoria."
      ]
    },
    {
      "cell_type": "markdown",
      "metadata": {
        "id": "aPkmHSaZEFS-"
      },
      "source": [
        "El diseño de un procedimiento de muestreo efectivo implica seleccionar elementos de la muestra de manera independiente y garantizar que todos provengan de la misma población. En el caso de un restaurante de comida rápida, seleccionar consumidores de manera independiente puede ser más desafiante, pero es esencial para prevenir sesgos en la muestra.\n",
        "\n",
        "Para cumplir con la primera condición de que los elementos sean de la misma población, el encuestador debe extraer la muestra de personas que realizan consumos en el restaurante. La segunda condición, la selección independiente, es crucial para evitar sesgos en la elección de clientes, como preferencias por grupos de edad particulares.\n",
        "\n",
        "Un ejemplo exitoso de muestreo aleatorio simple se dio en McDonald's, donde se utilizó la presentación aleatoria de cupones de descuento. Cada vez que alguien presentaba un cupón, el siguiente cliente se seleccionaba de manera independiente para completar un cuestionario, asegurando así la imparcialidad en la selección.\n",
        "\n",
        "Las poblaciones infinitas, comunes en procesos continuos a lo largo del tiempo, como la producción, experimentos o transacciones, pueden abordarse con un muestreo aleatorio simple si se cumplen ambas condiciones: elementos seleccionados de la misma población e independientemente."
      ]
    },
    {
      "cell_type": "markdown",
      "metadata": {
        "id": "gme6oeafRMai"
      },
      "source": [
        "<style>\n",
        "  .content {\n",
        "    padding-top : 20px;\n",
        "    column-count: 2;\n",
        "  text-align: justify;\n",
        "  }\n",
        "  .subtitle h2 {\n",
        "    padding: 10px;\n",
        "    color: #009929;\n",
        "    margin-top: 0;\n",
        "    font-weight: normal;\n",
        "    text-transform: uppercase;\n",
        "    border-bottom: 3px solid #009929; /* Línea debajo del texto */\n",
        "    padding-bottom: 5px; /* Espacio entre texto y línea */\n",
        "    display: inline-block; /* Permite que la línea ocupe el ancho del contenedor */\n",
        "    width: 100%; /* Asegura que el subrayado se extienda a lo largo de la página */\n",
        "  }\n",
        "  .content ul {\n",
        "    list-style-type: none;\n",
        "    padding: 0;\n",
        "    margin-top: 0;\n",
        "  }\n",
        "  .content ul li {\n",
        "    margin-bottom: 10px; /* Espaciado entre líneas */\n",
        "    font-size: 1em;\n",
        "  }\n",
        "  \n",
        "\n",
        "</style>\n",
        "<div class=\"subtitle\">  \n",
        "   <h2>NOTAS Y COMENTARIOS</h2>\n",
        "</div>\n",
        "<div class=\"content\">     \n",
        "  <p>\n",
        "    <ol>\n",
        "      <li>En esta sección se ha tenido sumo cuidado en definir dos tipos de muestras: la muestra aleatoria simple de una población finita y la muestra aleatoria\n",
        "de una población infinita. En el resto de la obra se\n",
        "hará referencia a ellas como muestra aleatoria o\n",
        "sólo muestra. No se hará distinción de que sea una\n",
        "muestra aleatoria “simple” a menos que sea necesario para el ejercicio o el análisis.\n",
        "      </li>\n",
        "      <li>Los profesionales de la estadística especializados\n",
        "en encuestas por muestreo de poblaciones finitas\n",
        "utilizan métodos que proporcionan muestras de\n",
        "probabilidad, con las cuales cada posible muestra\n",
        "tiene una probabilidad conocida de selección y se\n",
        "utiliza un proceso aleatorio para elegir sus elementos. El muestreo aleatorio simple es uno de\n",
        "esos métodos. En la sección 7.8 se describen algunos otros métodos de muestreo probabilístico:\n",
        "muestreo aleatorio estratificado, muestreo por conglomerados y muestreo sistemático. Se utiliza el\n",
        "término “simple” en el muestreo aleatorio simple\n",
        "para aclarar que es el método que asegura que cada muestra de tamaño $\\eta$ tiene la misma probabilidad de ser seleccionada.\n",
        "      </li>\n",
        "      <li>El número de muestras aleatorias simples distintas de tamaño n que pueden seleccionarse de una\n",
        "población finita de tamaño N es\n",
        "<div>\n",
        "    $$\\frac{\\textit{N!}}{\\textit{n!}\\left ( N-n \\right )\\textit{!}}$$\n",
        "  </div>\n",
        "  En esta expresión, $\\textit{N!}$ y $\\textit{n!}$ son las fórmulas factoriales estudiadas en el capítulo 4. Al utilizar esta expresión con los datos del problema de EAI en el que $\\textit{N!}$ = 2500 y $\\textit{n!}$ = 30, se ve que se pueden obtener aproximadamente $2.75 \\times 10^{69} $  muestras aleatorias simples distintas de 30 gerentes de EAI\n",
        "      </li>\n",
        "      <li>Para tomar una muestra aleatoria puede emplearse software. En los apéndices del capítulo se explica cómo usar Minitab y Excel para seleccionar una muestra aleatoria simple de una población finita.\n",
        "      </li>\n",
        "    </ol>\n",
        "  </p>\n",
        "</div>"
      ]
    },
    {
      "cell_type": "markdown",
      "metadata": {
        "id": "QPf2o6tXckV8"
      },
      "source": [
        "## <strong><font color=#009929>EJERCICIOS</strong></font>"
      ]
    },
    {
      "cell_type": "markdown",
      "metadata": {
        "id": "u8lpQVUofPB5"
      },
      "source": [
        "<body>     \n",
        "  <p>\n",
        "    <ol>\n",
        "      <li>Tome una población finita con cinco elementos A, B, C, D y E. Se pueden seleccionar 10 muestras aleatorias simples de tamaño 2.\n",
        "      a) Liste las 10 muestras empezando con AB, AC y así en lo sucesivo. <p>\n",
        "      Respuesta:\n",
        "      <pre>\n",
        "      AB -- AC -- AD -- AE -- BC -- BD -- BE -- CD -- CE -- DE\n",
        "      </pre>\n",
        "      <p>\n",
        "      b) Utilizando el muestreo aleatorio simple, ¿cuál es la probabilidad para cada muestra de tamaño 2 de ser seleccionada?\n",
        "      </p>\n",
        "      <p>\n",
        "      Respuesta: Dado que estamos utilizando muestreo aleatorio simple y hay 10 muestras posibles, la probabilidad de seleccionar cada muestra es la misma. Hay\n",
        "      </p>\n",
        "      </li>\n",
        "    </ol>\n",
        "  </p>\n",
        "</body>"
      ]
    },
    {
      "cell_type": "markdown",
      "metadata": {
        "id": "0MXdl2UQykAj"
      },
      "source": [
        "$$\\binom{5}{2} = \\frac{5!}{2!\\left ( 5-2 \\right )!} = 10$$"
      ]
    },
    {
      "cell_type": "markdown",
      "metadata": {
        "id": "7bdTewg32kxG"
      },
      "source": [
        "formas de seleccionar 2 elementos de una población de 5 sin importar el orden. Por lo tanto, la probabilidad de seleccionar cada muestra es $$\\frac{1}{10} = 0.1$$"
      ]
    },
    {
      "cell_type": "markdown",
      "metadata": {
        "id": "ThfwbGjjh-nS"
      },
      "source": [
        "<body>     \n",
        "  <p>\n",
        "    <ol>\n",
        "      <p>\n",
        "      c) Asuma que el número aleatorio 1 corresponde a A, el número 2 corresponde a B y así en\n",
        "lo sucesivo. Liste la muestra aleatoria de tamaño 2 que será seleccionada al usar los números aleatorios 8 0 5 7 5 3 2.\n",
        "</p>\n",
        "<p>\n",
        "      Respuesta: Asumiendo que el número aleatorio 1 corresponde a A, el número 2 corresponde a B, y así sucesivamente, la muestra aleatoria de tamaño 2 seleccionada con los números aleatorios 8, 0, 5, 7, 5, 3, 2 sería:\n",
        "      </p>\n",
        "    </ol>\n",
        "  </p>\n",
        "</body>"
      ]
    },
    {
      "cell_type": "markdown",
      "metadata": {
        "id": "81EDSQJtj7Om"
      },
      "source": [
        "\n",
        "\n",
        "1.   *C* (correspondiente al número 5)\n",
        "2.   *A* (correspondiente al número 1)\n"
      ]
    },
    {
      "cell_type": "markdown",
      "metadata": {
        "id": "eNZfVioBkp4O"
      },
      "source": [
        "<body>\n",
        "  <ol start=\"2\">\n",
        "    <li>Fortune publica datos sobre ventas, valor del activo, valor de mercado y utilidades por acción de las 500 corporaciones industriales más grandes de Estados Unidos (Fortune 500, 2006). Suponga que usted desea seleccionar una muestra aleatoria simple de 10 corporaciones de la lista Fortune 500. Use los tres últimos dígitos de la novena columna de la tabla 7.1, empezando con 554. Leyendo hacia abajo por esa columna, identifique los números de las 10 corporaciones que se tomarán para la muestra.</li>\n",
        "    <p>\n",
        "    Respuesta: Para seleccionar una muestra aleatoria simple de 10 corporaciones de la lista Fortune 500 utilizando los tres últimos dígitos de la novena columna, simplemente tomamos los primeros 10 números de esa columna:\n",
        "    </p>\n",
        "    <p>\n",
        "    <strong>459,147,385,113,340,401,215,2,33,348</strong></p>\n",
        "    <p>Por lo tanto, estas son las corporaciones seleccionadas para la muestra aleatoria.\n",
        "    </p>\n",
        "  </ol>\n",
        "</body>"
      ]
    },
    {
      "cell_type": "markdown",
      "metadata": {
        "id": "-tuiP629kaH2"
      },
      "source": [
        "Por lo tanto, la muestra aleatoria seleccionada sería ***CA***"
      ]
    },
    {
      "cell_type": "markdown",
      "metadata": {
        "id": "KrMaqMdpqo2H"
      },
      "source": [
        "<style>\n",
        "        .indice_titulo{\n",
        "        display:flex;\n",
        "        color: #009929;\n",
        "    }\n",
        "        span.section-number {\n",
        "        background-color: #009929;\n",
        "        border-radius: 50%;\n",
        "        color: white;\n",
        "        font-weight: bold;\n",
        "        padding: 0.5em;\n",
        "        display: inline-flex;\n",
        "        justify-content: center;\n",
        "        align-items: center;\n",
        "        width: 1.5em;\n",
        "        height: 1.5em;\n",
        "        font-size: 1em;\n",
        "        margin-right: 0.5em;\n",
        "    }\n",
        "</style>\n",
        "## <div class = \"indice_titulo\"><span class=\"section-number\">7.3</span> **Estimacion puntual**</div>"
      ]
    },
    {
      "cell_type": "markdown",
      "metadata": {
        "id": "ZcuujjQuJHRU"
      },
      "source": [
        "<style>\n",
        "    body {\n",
        "      font-family: Arial, sans-serif;\n",
        "    }\n",
        "\n",
        "    .subtitulo {\n",
        "      display: flex;\n",
        "      align-items: center;\n",
        "    font-family: 'Bodoni', serif;\n",
        "    color: #5CCB5F;\n",
        "    }\n",
        "\n",
        "    .circulo-verde {\n",
        "      width: 50px;\n",
        "      height: 50px;\n",
        "      border-radius: 50%;\n",
        "      background-color: #5CCB5F;\n",
        "      display: flex;\n",
        "      align-items: center;\n",
        "      justify-content: center;\n",
        "      color: white;\n",
        "      font-weight: bold;\n",
        "      margin-right: 10px;\n",
        "      border: 2px solid black; /* Añadir un borde de 2px de ancho, color darkgreen */\n",
        "    }\n",
        "  </style>\n",
        "</head>\n",
        "<body>\n",
        "\n",
        " Después de describir cómo seleccionar una muestra aleatoria simple, volvemos al problema de EAI. En la Tabla 7.2, se muestra una muestra aleatoria simple de 30 gerentes con sus datos de sueldo anual y participación en el programa de capacitación, utilizando la notación x1, x2, etc., para denotar los sueldos anuales respectivos. La participación en el programa se indica con un \"Sí\" en la columna correspondiente.\n",
        "\n",
        "Para estimar los parámetros poblacionales, como la media μ y la desviación estándar σ de los sueldos anuales de los gerentes de EAI, se utilizan los datos de la Tabla 7.2. Se calculan los estadísticos muestrales, como la media muestral y la desviación estándar muestral (s), empleando las fórmulas presentadas en el Capítulo 3\n",
        "</body>\n",
        "</html>"
      ]
    },
    {
      "cell_type": "markdown",
      "metadata": {
        "id": "g_LV5SSO5KxA"
      },
      "source": [
        "<style>\n",
        "    #con-borde{\n",
        "        border-left:3px solid #009929;\n",
        "        text-align: center;\n",
        "    }\n",
        "</style>\n",
        "<span style=\"color: #009929;\">**Tabla 7.2**  Sueldo anual y situación respecto del programa de capacitación para una muestra aleatoria simple de 30 gerentes de EAI</span>\n",
        "<div style=\"display: flex; justify-content: center; align-items: center;\">\n",
        "    <table style=\"border-top:3px solid #009929;border-bottom:3px solid #009929;background-color:#D4F8B7;font-size:14px;\">\n",
        "        <thead>\n",
        "            <tr>\n",
        "                <th style=\"text-align: center; \">Sueldo anual ($)</th>\n",
        "                <th style=\"text-align: center;\">Programa de capacitación</th>\n",
        "                <th style=\"text-align: center; \">Sueldo anual ($)</th>\n",
        "                <th style=\"text-align: center;\">Programa de capacitación</th>\n",
        "            </tr>\n",
        "        </thead>\n",
        "        <tbody>\n",
        "            <tr>\n",
        "                <td style=\"text-align: center;\">x1 = 49094.30</td>\n",
        "                <td style=\"text-align: center;\">Sí</td>\n",
        "                <td style=\"text-align: center;\" id=\"con-borde\">x16 = 51766.00</td>\n",
        "                <td style=\"text-align: center;\">Sí</td>\n",
        "            </tr>\n",
        "            <tr>\n",
        "                <td style=\"text-align: center;\">x2 = 53263.90</td>\n",
        "                <td style=\"text-align: center;\">Sí</td>\n",
        "                <td style=\"text-align: center;\" id=\"con-borde\">x17 = 52541.30</td>\n",
        "                <td style=\"text-align: center;\">No</td>\n",
        "            </tr>\n",
        "            <tr>\n",
        "                <td style=\"text-align: center;\">x3 = 49643.50</td>\n",
        "                <td style=\"text-align: center;\">Sí</td>\n",
        "                <td style=\"text-align: center;\" id=\"con-borde\">x18 =  44980.00</td>\n",
        "                <td style=\"text-align: center;\">Sí</td>\n",
        "            </tr>\n",
        "            <tr>\n",
        "                <td style=\"text-align: center;\">x4 = 49894.90</td>\n",
        "                <td style=\"text-align: center;\">Sí</td>\n",
        "                <td style=\"text-align: center;\" id=\"con-borde\">x19 = 51932.60</td>\n",
        "                <td style=\"text-align: center;\">Sí</td>\n",
        "            </tr>\n",
        "            <tr>\n",
        "                <td style=\"text-align: center;\">x5 = 47621.60</td>\n",
        "                <td style=\"text-align: center;\">No</td>\n",
        "                <td style=\"text-align: center;\" id=\"con-borde\">x20 = 52973.00</td>\n",
        "                <td style=\"text-align: center;\">Sí</td>\n",
        "            </tr>\n",
        "            <tr>\n",
        "                <td style=\"text-align: center;\">x6 = 55924.00</td>\n",
        "                <td style=\"text-align: center;\">Sí</td>\n",
        "                <td style=\"text-align: center;\" id=\"con-borde\">x21 = 45120.90</td>\n",
        "                <td style=\"text-align: center;\">Sí</td>\n",
        "            </tr>\n",
        "            <tr>\n",
        "                <td style=\"text-align: center;\">x7 = 49092.30</td>\n",
        "                <td style=\"text-align: center;\">Sí</td>\n",
        "                <td style=\"text-align: center;\" id=\"con-borde\">x22 = 51753.00</td>\n",
        "                <td style=\"text-align: center;\">Sí</td>\n",
        "            </tr>\n",
        "            <tr>\n",
        "                <td style=\"text-align: center;\">x8 = 51404.40</td>\n",
        "                <td style=\"text-align: center;\">Sí</td>\n",
        "                <td style=\"text-align: center;\" id=\"con-borde\">x23 = 54391.80</td>\n",
        "                <td style=\"text-align: center;\">No</td>\n",
        "            </tr>\n",
        "            <tr>\n",
        "                <td style=\"text-align: center;\">x9 = 50957.70</td>\n",
        "                <td style=\"text-align: center;\">Sí</td>\n",
        "                <td style=\"text-align: center;\" id=\"con-borde\">x24 = 50164.20</td>\n",
        "                <td style=\"text-align: center;\">No</td>\n",
        "            </tr>\n",
        "            <tr>\n",
        "                <td style=\"text-align: center;\">x10 = 55109.70</td>\n",
        "                <td style=\"text-align: center;\">Sí</td>\n",
        "                <td style=\"text-align: center;\" id=\"con-borde\">x25 = 52973.60</td>\n",
        "                <td style=\"text-align: center;\">No</td>\n",
        "            </tr>\n",
        "            <tr>\n",
        "                <td style=\"text-align: center;\">x11 = 45922.60</td>\n",
        "                <td style=\"text-align: center;\">Sí</td>\n",
        "                <td style=\"text-align: center;\" id=\"con-borde\">x26 = 50241.30</td>\n",
        "                <td style=\"text-align: center;\">No</td>\n",
        "            </tr>\n",
        "            <tr>\n",
        "                <td style=\"text-align: center;\">x12 = 57268.40</td>\n",
        "                <td style=\"text-align: center;\">No</td>\n",
        "                <td style=\"text-align: center;\" id=\"con-borde\">x27 = 52793.90</td>\n",
        "                <td style=\"text-align: center;\">No</td>\n",
        "            </tr>\n",
        "            <tr>\n",
        "                <td style=\"text-align: center;\">x13 = 55688.80</td>\n",
        "                <td style=\"text-align: center;\">Sí</td>\n",
        "                <td style=\"text-align: center;\" id=\"con-borde\">x28 = 50979.40</td>\n",
        "                <td style=\"text-align: center;\">Sí</td>\n",
        "            </tr>\n",
        "            <tr>\n",
        "                <td style=\"text-align: center;\">x14 = 51564.70</td>\n",
        "                <td style=\"text-align: center;\">No</td>\n",
        "                <td style=\"text-align: center;\" id=\"con-borde\">x29 = 55860.90</td>\n",
        "                <td style=\"text-align: center;\">Sí</td>\n",
        "            </tr>\n",
        "            <tr>\n",
        "                <td style=\"text-align: center;\">x15 = 56188.20</td>\n",
        "                <td style=\"text-align: center;\">No</td>\n",
        "                <td style=\"text-align: center;\" id=\"con-borde\">x30 = 57309.10</td>\n",
        "                <td style=\"text-align: center;\">No</td>\n",
        "            </tr>\n",
        "        </tbody>\n",
        "    </table>\n",
        "</div>"
      ]
    },
    {
      "cell_type": "markdown",
      "metadata": {
        "id": "Azbw3eWG5QoH"
      },
      "source": [
        "Con las fórmulas para ambas categorías se obtiene que la media muestral es\n",
        "\n",
        "$$\\bar{x} = \\frac{\\sum x_i}{n} = \\frac{1554420}{30} = \\$51814$$\n",
        "\n",
        "y la desviación estándar muestral es\n",
        "\n",
        "$$s = \\sqrt{\\frac{\\sum_{i=1}^{n} (x_i - \\bar{x})^2}{n-1}} = \\sqrt{\\frac{325009260}{29}} = \\$3348$$\n",
        "\n",
        "Para estimar p, la proporción de gerentes en la población que completaron el programa de capacitación, se usa la proporción muestral correspondiente p&#772;. Sea x que denota el número de gerentes en la muestra que completaron el programa de capacitación. Según la tabla 7.2, x = 19. Por tanto, como el tamaño de la muestra es n = 30, la proporción muestral es\n",
        "\n",
        "$$\\bar{p} = \\frac{x}{n} = \\frac{19}{30} = 0.63$$\n",
        "\n",
        "Al efectuar los cálculos anteriores, se lleva a cabo el proceso estadístico conocido como *estimación puntual*. A la media muestral x&#772; se le identifica como estimador puntual de la media poblacional μ, a la desviación estándar muestral s como el estimador puntual de la desviación estándar poblacional σ y a la proporción muestral p&#772; como el estimador puntual de la proporción poblacional p. Al valor numérico obtenido de x&#772;, s o p&#772; se le conoce como estimación puntual. Así, en la muestra aleatoria simple de 30 gerentes de EAI que se presenta en la tabla 7.2, \\\\$51814 es la estimación puntual de *μ*, \\\\$3348 es la estimación puntual de *σ* y 0.63 es\n",
        "la estimación puntual de *p*. En la tabla 7.3 se resumen los resultados muestrales y se comparan las estimaciones puntuales con los valores de los parámetros poblacionales.\n",
        "\n",
        "Como se observa en la tabla 7.3, las estimaciones puntuales difieren un poco de los correspondientes parámetros poblacionales. Estas diferencias son de esperarse, ya que para elaborar\n",
        "las estimaciones muestrales se usa una muestra, y no un censo de toda la población. En el capítulo siguiente se verá cómo elaborar un intervalo de estimación para tener información respecto\n",
        "de qué tan cerca está la estimación muestral del parámetro poblacional."
      ]
    },
    {
      "cell_type": "markdown",
      "metadata": {
        "id": "jcjf--uE5Z7R"
      },
      "source": [
        "<style>\n",
        "    #con-borde{\n",
        "        border-left:3px solid #009929;\n",
        "        text-align: center;\n",
        "    }\n",
        "</style>\n",
        "<span style=\"color: #009929;\">**Tabla 7.3**  Resumen de las estimaciones puntuales obtenidas de una muestra aleatoria simple de 30 gerentes de EAI</span>\n",
        "<div style=\"display: flex; justify-content: center; align-items: center;\">\n",
        "    <table style=\"border-top:3px solid #009929;border-bottom:3px solid #009929;background-color:#D4F8B7;font-size:14px;\">\n",
        "        <thead>\n",
        "            <tr>\n",
        "                <th style=\"text-align: center; \">Parámetro poblacional</th>\n",
        "                <th style=\"text-align: center;\">Valor del parámetro</th>\n",
        "                <th style=\"text-align: center; \">Estimador puntual</th>\n",
        "                <th style=\"text-align: center;\">Estimación puntual</th>\n",
        "            </tr>\n",
        "        </thead>\n",
        "        <tbody>\n",
        "            <tr>\n",
        "                <td style=\"text-align: center;\">μ = Media poblacional de los sueldos anuales</td>\n",
        "                <td style=\"text-align: center;\" id=\"con-borde\">\\$51800</td>\n",
        "                <td style=\"text-align: center;\" id=\"con-borde\">$\\bar{x}$ = Media muestral de los sueldos anuales</td>\n",
        "                <td style=\"text-align: center;\" id=\"con-borde\">\\$51814</td>\n",
        "            </tr>\n",
        "            <tr>\n",
        "                <td style=\"text-align: center;\">σ = Desviación estándar poblacional de los sueldos anuales</td>\n",
        "                <td style=\"text-align: center;\" id=\"con-borde\">\\$4000</td>\n",
        "                <td style=\"text-align: center;\" id=\"con-borde\">s = Desviación estándar muestral de los sueldos anuales</td>\n",
        "                <td style=\"text-align: center;\" id=\"con-borde\">\\$3348</td>\n",
        "            </tr>\n",
        "            <tr>\n",
        "                <td style=\"text-align: center;\">p = Proporción poblacional que ha completado el programa de capacitación</td>\n",
        "                <td style=\"text-align: center;\" id=\"con-borde\">0.60</td>\n",
        "                <td style=\"text-align: center;\" id=\"con-borde\">$\\bar{s}$ = Proporción muestral que ha completado el programa de capacitación</td>\n",
        "                <td style=\"text-align: center;\" id=\"con-borde\">0.63</td>\n",
        "            </tr>\n",
        "        </tbody>\n",
        "    </table>\n",
        "</div>"
      ]
    },
    {
      "cell_type": "markdown",
      "metadata": {
        "id": "F562mdLgak3j"
      },
      "source": [
        "<style>\n",
        "    .indice_titulo{\n",
        "        display:flex;\n",
        "        color: #009929;\n",
        "    }\n",
        "</style>\n",
        "\n",
        "### <div class = \"indice_titulo\">**Consejo practico**</div>\n",
        "\n",
        "El tema de la mayor parte del resto de este libro se relaciona con la inferencia estadística. La estimación puntual es una de sus formas. Se utiliza un estadístico de muestra para hacer una inferencia acerca de un parámetro poblacional. Al realizar inferencias acerca de una población basada en una muestra, es importante tener una correspondencia cerrada entre la población\n",
        "muestreada y la población objetivo. La población objetivo es aquella de la cual buscamos hacer inferencias, en tanto que la población muestreada es aquella de la cual se toma realmente la muestra. En esta sección se describe el proceso de tomar una muestra aleatoria simple de la población de gerentes en EAI y establecer puntos estimados de características de la misma población. Así, la población muestreada y la población objetivo son idénticas, que es la situación\n",
        "deseada. En otros casos, sin embargo, no es fácil obtener una correspondencia cerrada entre ambos tipos de poblaciones.\n",
        "\n",
        "Piense en el caso de un parque temático seleccionando una muestra de sus clientes para conocer algunas de sus características, como la edad y el tiempo que pasan en el parque. Suponga que todos los elementos de la muestra se seleccionan en un día en que la entrada al parque\n",
        "está restringida a los empleados de una gran empresa. Entonces la población muestreada estaría compuesta de los empleados de dicha empresa y los miembros de su familia. Si la población objetivo se busca para realizar inferencias acerca de los clientes usuales durante un verano común, se podría encontrar una diferencia signifi cativa entre la población muestreada y la población objetivo. En tal caso, se podría cuestionar la validez de los puntos de estimación que se están realizando. La gerencia del parque estaría en mejor posición para saber si una muestra tomada en un día específi co parecería ser representativa de la población objetivo.\n",
        "\n",
        "En resumen, cada vez que se utiliza una muestra para hacer inferencias acerca de una población, debemos estar seguros de que el estudio está diseñado para que la población muestreada\n",
        "y la población objetivo estén en un acuerdo cerrado. El buen juicio es un ingrediente necesario\n",
        "en una práctica estadística sólida."
      ]
    },
    {
      "cell_type": "markdown",
      "metadata": {
        "id": "qewz3wMQ4mxY"
      },
      "source": [
        "<style>\n",
        "        .indice_titulo{\n",
        "        display:flex;\n",
        "        color: #009929;\n",
        "    }\n",
        "        span.section-number {\n",
        "        background-color: #009929;\n",
        "        border-radius: 50%;\n",
        "        color: white;\n",
        "        font-weight: bold;\n",
        "        padding: 0.5em;\n",
        "        display: inline-flex;\n",
        "        justify-content: center;\n",
        "        align-items: center;\n",
        "        width: 1.5em;\n",
        "        height: 1.5em;\n",
        "        font-size: 1em;\n",
        "        margin-right: 0.5em;\n",
        "    }\n",
        "</style>\n",
        "## <div class = \"indice_titulo\"><span class=\"section-number\">7.4</span> **Introducción a las distribuciones muestrales o de muestreo**</div>"
      ]
    },
    {
      "cell_type": "markdown",
      "metadata": {
        "id": "URnTA4GobC-U"
      },
      "source": [
        "En la sección anterior se dijo que la media muestral *x&#772;* es el estimador puntual de la media poblacional *μ*, y que la proporción muestral *p&#772;* es el estimador puntual de la proporción poblacional *p*. En la muestra aleatoria simple de los 30 gerentes de EAI que se presenta en la tabla 7.2, la estimación puntual de *μ* es x&#772; = \\$51814 y la estimación puntual de *p* es *p&#772;* = 0.63. Suponga que se selecciona otra muestra aleatoria simple de 30 gerentes de EAI y se obtienen\n",
        "las estimaciones puntuales siguientes:\n",
        "\n",
        "<center>\n",
        "Media muestral: x&#772; = $52670\n",
        "\n",
        "Proporción muestral: p&#772; = 0.70\n",
        "</center>"
      ]
    },
    {
      "cell_type": "markdown",
      "metadata": {
        "id": "Emt6Lf4EbT25"
      },
      "source": [
        "<style>\n",
        "    #con-borde{\n",
        "        border-left:3px solid #009929;\n",
        "        text-align: center;\n",
        "    }\n",
        "</style>\n",
        "<span style=\"color: #009929;\">**Tabla 7.4**  Valores de x&#772; y de p&#772; obtenidos en 500 muestras aleatorias simples de 30 gerentes de EAI</span>\n",
        "<div style=\"display: flex; justify-content: center; align-items: center;\">\n",
        "    <table style=\"border-top:3px solid #009929;border-bottom:3px solid #009929;background-color:#D4F8B7;font-size:14px;\">\n",
        "        <thead>\n",
        "            <tr>\n",
        "                <th style=\"text-align: center; \">Muestra número</th>\n",
        "                <th style=\"text-align: center;\">Media muestral (x&#772;)</th>\n",
        "                <th style=\"text-align: center; \">Proporción muestral (p&#772;)</th>\n",
        "            </tr>\n",
        "        </thead>\n",
        "        <tbody>\n",
        "            <tr>\n",
        "                <td style=\"text-align: center;\">1</td>\n",
        "                <td style=\"text-align: center;\" id=\"con-borde\">51814</td>\n",
        "                <td style=\"text-align: center;\" id=\"con-borde\">0.63</td>\n",
        "            </tr>\n",
        "            <tr>\n",
        "                <td style=\"text-align: center;\">2</td>\n",
        "                <td style=\"text-align: center;\" id=\"con-borde\">52670</td>\n",
        "                <td style=\"text-align: center;\" id=\"con-borde\">0.70</td>\n",
        "            </tr>\n",
        "            <tr>\n",
        "                <td style=\"text-align: center;\">3</td>\n",
        "                <td style=\"text-align: center;\" id=\"con-borde\">51780</td>\n",
        "                <td style=\"text-align: center;\" id=\"con-borde\">0.67</td>\n",
        "            </tr>\n",
        "            <tr>\n",
        "                <td style=\"text-align: center;\">4</td>\n",
        "                <td style=\"text-align: center;\" id=\"con-borde\">51588</td>\n",
        "                <td style=\"text-align: center;\" id=\"con-borde\">0.53</td>\n",
        "            </tr>\n",
        "            <tr>\n",
        "                <td style=\"text-align: center;\">...</td>\n",
        "                <td style=\"text-align: center;\" id=\"con-borde\">...</td>\n",
        "                <td style=\"text-align: center;\" id=\"con-borde\">...</td>\n",
        "            </tr>\n",
        "            <tr>\n",
        "                <td style=\"text-align: center;\">500</td>\n",
        "                <td style=\"text-align: center;\" id=\"con-borde\">51752</td>\n",
        "                <td style=\"text-align: center;\" id=\"con-borde\">0.50</td>\n",
        "            </tr>\n",
        "        </tbody>\n",
        "    </table>\n",
        "</div>"
      ]
    },
    {
      "cell_type": "markdown",
      "metadata": {
        "id": "3OfRcZiTbbWe"
      },
      "source": [
        "Observe que se obtuvieron valores diferentes de *x&#772;* y de *p&#772;*. En efecto, una segunda muestra aleatoria simple de 30 gerentes de EAI no se puede esperar que proporcione las mismas estimaciones puntuales que la primera.\n",
        "\n",
        "Ahora suponga que el proceso de seleccionar una muestra aleatoria simple de 30 gerentes de EAI se repite una y otra vez, y que en cada ocasión se calculan los valores de *x&#772;* y de *p&#772;*. La tabla 7.4 presenta una parte de los resultados obtenidos en 500 muestras aleatorias simples y la tabla 7.5 registra las distribuciones de frecuencia y de frecuencia relativa de los valores x&#772; de las 500. En la figura 7.1 se muestra el histograma de las frecuencias de los valores de x&#772;.\n",
        "\n",
        "En el capítulo 5 se define una variable aleatoria como una descripción numérica del resultado de un experimento. Si el proceso de seleccionar una muestra aleatoria simple se considera un experimento, la media muestral x&#772; es la descripción numérica del resultado de ese experimento. Por tanto, la media muestral x&#772; es una variable aleatoria. Entonces, como ocurre con otras\n",
        "variables aleatorias, x&#772; tiene una media o valor esperado, una desviación estándar y una distribución de probabilidad. Como los distintos valores que toma x&#772; son resultado de distintas muestras aleatorias simples, a la distribución de probabilidad de x&#772; se le conoce como distribución de muestreo de x&#772;. Conocer esta distribución y sus propiedades permitirá hacer declaraciones de probabilidad acerca de qué tan cerca está la media muestral x&#772; de la media poblacional *μ*.\n",
        "\n",
        "Remítase a la figura 7.1. Se necesitaría enumerar todas las muestras posibles de 30 gerentes y calcular cada una de las medias muestrales para determinar totalmente la distribución de muestreo de x&#772;. Sin embargo, el histograma de 500 valores de x&#772; provee una aproximación a esta distribución de muestreo. En esta aproximación se observa la apariencia de una curva de campana de esta distribución. Note además que la mayor concentración de valores de x&#772; y la"
      ]
    },
    {
      "cell_type": "markdown",
      "metadata": {
        "id": "DjO37nNybsx3"
      },
      "source": [
        "<style>\n",
        "    #con-borde{\n",
        "        border-left:3px solid #009929;\n",
        "        text-align: center;\n",
        "    }\n",
        "</style>\n",
        "<span style=\"color: #009929;\">**Tabla 7.5**  Distribuciones de frecuencia y de frecuencia relativa de x&#772; en 500 muestras aleatorias simples de 30 gerentes de EAI</span>\n",
        "<div style=\"display: flex; justify-content: center; align-items: center;\">\n",
        "    <table style=\"border-top:3px solid #009929;border-bottom:3px solid #009929;background-color:#D4F8B7;font-size:14px;\">\n",
        "        <thead>\n",
        "            <tr>\n",
        "                <th style=\"text-align: center; \">Sueldo anual medio ($)</th>\n",
        "                <th style=\"text-align: center;\">Frecuencia</th>\n",
        "                <th style=\"text-align: center; \">Frecuencia relativa</th>\n",
        "            </tr>\n",
        "        </thead>\n",
        "        <tbody>\n",
        "            <tr>\n",
        "                <td style=\"text-align: center;\">49500.00-49999.99</td>\n",
        "                <td style=\"text-align: center;\" id=\"con-borde\">2</td>\n",
        "                <td style=\"text-align: center;\" id=\"con-borde\">0.004</td>\n",
        "            </tr>\n",
        "            <tr>\n",
        "                <td style=\"text-align: center;\">50000.00-50499.99</td>\n",
        "                <td style=\"text-align: center;\" id=\"con-borde\">16</td>\n",
        "                <td style=\"text-align: center;\" id=\"con-borde\">0.032</td>\n",
        "            </tr>\n",
        "            <tr>\n",
        "                <td style=\"text-align: center;\">50500.00-50999.99</td>\n",
        "                <td style=\"text-align: center;\" id=\"con-borde\">52</td>\n",
        "                <td style=\"text-align: center;\" id=\"con-borde\">0.104</td>\n",
        "            </tr>\n",
        "            <tr>\n",
        "                <td style=\"text-align: center;\">51000.00-51499.99</td>\n",
        "                <td style=\"text-align: center;\" id=\"con-borde\">101</td>\n",
        "                <td style=\"text-align: center;\" id=\"con-borde\">0.202</td>\n",
        "            </tr>\n",
        "            <tr>\n",
        "                <td style=\"text-align: center;\">51500.00-51999.99</td>\n",
        "                <td style=\"text-align: center;\" id=\"con-borde\">133</td>\n",
        "                <td style=\"text-align: center;\" id=\"con-borde\">266</td>\n",
        "            </tr>\n",
        "            <tr>\n",
        "                <td style=\"text-align: center;\">52000.00-52499.99</td>\n",
        "                <td style=\"text-align: center;\" id=\"con-borde\">110</td>\n",
        "                <td style=\"text-align: center;\" id=\"con-borde\">0.220</td>\n",
        "            </tr>\n",
        "            <tr>\n",
        "                <td style=\"text-align: center;\">52500.00-52999.99</td>\n",
        "                <td style=\"text-align: center;\" id=\"con-borde\">54</td>\n",
        "                <td style=\"text-align: center;\" id=\"con-borde\">0.108</td>\n",
        "            </tr>\n",
        "            <tr>\n",
        "                <td style=\"text-align: center;\">53000.00-53499.99</td>\n",
        "                <td style=\"text-align: center;\" id=\"con-borde\">26</td>\n",
        "                <td style=\"text-align: center;\" id=\"con-borde\">0.052</td>\n",
        "            </tr>\n",
        "            <tr>\n",
        "                <td style=\"text-align: center;\">53500.00-53999.99</td>\n",
        "                <td style=\"text-align: center;\" id=\"con-borde\">6</td>\n",
        "                <td style=\"text-align: center;\" id=\"con-borde\">0.012</td>\n",
        "            </tr>\n",
        "            <tr>\n",
        "                <td style=\"text-align: center;\"></td>\n",
        "                <td style=\"text-align: center;\" id=\"con-borde\">Totals 500</td>\n",
        "                <td style=\"text-align: center;\" id=\"con-borde\">1.000</td>\n",
        "            </tr>\n",
        "        </tbody>\n",
        "    </table>\n",
        "</div>"
      ]
    },
    {
      "cell_type": "markdown",
      "metadata": {
        "id": "6GL6lDQw5LU9"
      },
      "source": [
        "<span style=\"color: #009929;\"> **Figura 7.1** Histograma de la frecuencia relativa de los valores de x&#772; obtenidos en 500 muestras\n",
        "aleatorias simples de tamaño 30 cada una</span>"
      ]
    },
    {
      "cell_type": "code",
      "execution_count": null,
      "metadata": {
        "colab": {
          "base_uri": "https://localhost:8080/",
          "height": 441
        },
        "id": "zbK8i-Ci5VTe",
        "outputId": "762827e4-dd33-4772-a9fb-37fbd0180394"
      },
      "outputs": [
        {
          "data": {
            "image/png": "[encoded data removed]",
            "text/plain": [
              "<Figure size 640x480 with 1 Axes>"
            ]
          },
          "metadata": {},
          "output_type": "display_data"
        }
      ],
      "source": [
        "import matplotlib.pyplot as plt\n",
        "\n",
        "# Datos para el gráfico de barras\n",
        "categorias = [\"49500-50000\", \"50000-50500\", \"50500-51000\", \"51000-51500\", \"51500-52000\", \"52000-52500\", \"52500-53000\", \"53000-53500\", \"53500-54000\"]\n",
        "valores = [0.004, 0.032, 0.104, 0.202, 0.266, 0.220, 0.108, 0.052, 0.012]\n",
        "\n",
        "# Crear la figura y los ejes\n",
        "fig, ax = plt.subplots()\n",
        "\n",
        "# Ajustar el color de fondo\n",
        "ax.set_facecolor(\"#d4f8b7\")\n",
        "# Pintar el fondo externo del gráfico\n",
        "fig.patch.set_facecolor('#D4F8B7')\n",
        "\n",
        "# Crear el gráfico de barras\n",
        "plt.bar(categorias, valores, color='#5CCB5f', edgecolor='black', linewidth=1.5, width=0.8)\n",
        "\n",
        "plt.xticks(fontsize=5)\n",
        "\n",
        "# Añadir etiquetas y título con texto en negrita\n",
        "plt.xlabel('Valores de x\\u0305', fontsize=10, fontweight='bold')\n",
        "plt.ylabel('Frecuencia Relativa', fontsize=10, fontweight='bold')\n",
        "\n",
        "# Mostrar el gráfico\n",
        "plt.show()"
      ]
    },
    {
      "cell_type": "markdown",
      "metadata": {
        "id": "M-8b5mEBcC81"
      },
      "source": [
        "media de los 500 valores de x&#772; se encuentran cerca de la media poblacional μ = \\\\$51 800. En la sección siguiente se describirán más detalladamente las propiedades de la distribución de muestreo de x&#772;.\n",
        "\n",
        "Los 500 valores de la proporción muestral de p&#772; se resumen en el histograma de frecuencia relativa de la figura 7.2. Como ocurre con x&#772;, p&#772; es una variable aleatoria. Si se tomara cada muestra posible de tamaño 30 y para cada una se calculara el valor de p&#772;, la distribución de probabilidad que se obtuviera sería la distribución de muestreo de p&#772;. En la figura 7.2, el histograma de frecuencia relativa de los 500 valores muestrales proporciona una idea general de la apariencia de la distribución de muestreo de p&#772;.\n",
        "\n",
        "En la práctica sólo se selecciona una muestra aleatoria simple de la población. En esta sección el proceso de muestreo se repitió 500 veces para ilustrar que es posible tomar muchas muestras diferentes y que distintas muestras darán valores diversos de los estadísticos muestrales x&#772; y p&#772;. A la distribución de muestreo de cualquier estadístico determinado se le llama *distribución de muestreo del estadístico*. En la sección 7.5 se presentan las características de la distribución de muestreo de x&#772;. En la sección 7.6 se describen las características de la distribución de muestreo de p&#772;."
      ]
    },
    {
      "cell_type": "markdown",
      "metadata": {
        "id": "iKxWOyty5iGx"
      },
      "source": [
        "<style>\n",
        "        .indice_titulo{\n",
        "        display:flex;\n",
        "        color: #009929;\n",
        "    }\n",
        "        span.section-number {\n",
        "        background-color: #009929;\n",
        "        border-radius: 50%;\n",
        "        color: white;\n",
        "        font-weight: bold;\n",
        "        padding: 0.5em;\n",
        "        display: inline-flex;\n",
        "        justify-content: center;\n",
        "        align-items: center;\n",
        "        width: 1.5em;\n",
        "        height: 1.5em;\n",
        "        font-size: 1em;\n",
        "        margin-right: 0.5em;\n",
        "    }\n",
        "</style>\n",
        "## <div class = \"indice_titulo\"><span class=\"section-number\">7.5</span> **Distribución de muestreo de x&#772;**</div>"
      ]
    },
    {
      "cell_type": "markdown",
      "metadata": {
        "id": "cteImGgU5vvn"
      },
      "source": [
        "En la sección anterior se dijo que la media muestral x&#772; es una variable aleatoria y que a su distribución de probabilidad se le llama distribución de muestreo de x&#772;."
      ]
    },
    {
      "cell_type": "code",
      "execution_count": null,
      "metadata": {
        "colab": {
          "base_uri": "https://localhost:8080/",
          "height": 89
        },
        "id": "o-mHMfcN53fp",
        "outputId": "8ffe710c-fb4b-4c20-de2c-17cb9714b7dd"
      },
      "outputs": [
        {
          "data": {
            "text/html": [
              "\n",
              "\n",
              "<head>\n",
              "    <title>Ecuaciones con Markdown</title>\n",
              "    <script src=\"https://polyfill.io/v3/polyfill.min.js?features=es6\"></script>\n",
              "    <script id=\"MathJax-script\" async src=\"https://cdn.jsdelivr.net/npm/mathjax@3/es5/tex-mml-chtml.js\"></script>\n",
              "</head>\n",
              "<style>\n",
              "        .formulas {\n",
              "            background-color: #D4F8B7;\n",
              "            padding: 10px;\n",
              "            box-shadow: 0 4px 8px rgba(0, 0, 0, 0.1);\n",
              "        }\n",
              "</style>\n",
              "\n",
              "<div class=\"formulas\">\n",
              "\n",
              "DISTRIBUCIÓN DE MUESTREO DE x&#772;\n",
              "<br><br>\n",
              "La distribución muestral de x&#772; es la distribución de probabilidad de todos los posibles valores de la media muestral x&#772;.\n",
              "\n",
              "</div>\n",
              "\n"
            ],
            "text/plain": [
              "<IPython.core.display.HTML object>"
            ]
          },
          "execution_count": 9,
          "metadata": {},
          "output_type": "execute_result"
        }
      ],
      "source": [
        "from IPython.display import HTML\n",
        "\n",
        "html_code = '''\n",
        "\n",
        "<head>\n",
        "    <title>Ecuaciones con Markdown</title>\n",
        "    <script src=\"https://polyfill.io/v3/polyfill.min.js?features=es6\"></script>\n",
        "    <script id=\"MathJax-script\" async src=\"https://cdn.jsdelivr.net/npm/mathjax@3/es5/tex-mml-chtml.js\"></script>\n",
        "</head>\n",
        "<style>\n",
        "        .formulas {\n",
        "            background-color: #D4F8B7;\n",
        "            padding: 10px;\n",
        "            box-shadow: 0 4px 8px rgba(0, 0, 0, 0.1);\n",
        "        }\n",
        "</style>\n",
        "\n",
        "<div class=\"formulas\">\n",
        "\n",
        "DISTRIBUCIÓN DE MUESTREO DE x&#772;\n",
        "<br><br>\n",
        "La distribución muestral de x&#772; es la distribución de probabilidad de todos los posibles valores de la media muestral x&#772;.\n",
        "\n",
        "</div>\n",
        "\n",
        "'''\n",
        "HTML(html_code)"
      ]
    },
    {
      "cell_type": "markdown",
      "metadata": {
        "id": "wR3vzRJw6B_f"
      },
      "source": [
        "<span style=\"color: #009929;\"> **Figura 7.2** Histograma de la frecuencia relativa de los valores de p&#772; obtenidos en 500 muestras aleatorias simples de tamaño 30 cada una</span>"
      ]
    },
    {
      "cell_type": "code",
      "execution_count": null,
      "metadata": {
        "colab": {
          "base_uri": "https://localhost:8080/",
          "height": 445
        },
        "id": "0rQSNdor6H60",
        "outputId": "411adefd-0027-43f3-d7f9-a57ea116af81"
      },
      "outputs": [
        {
          "data": {
            "image/png": "[encoded data removed]",
            "text/plain": [
              "<Figure size 640x480 with 1 Axes>"
            ]
          },
          "metadata": {},
          "output_type": "display_data"
        }
      ],
      "source": [
        "import matplotlib.pyplot as plt\n",
        "\n",
        "# Datos para el gráfico de barras\n",
        "categorias = [\"0.32-0.40\", \"0.40-0.48\", \"0.48-0.56\", \"0.56-0.64\", \"0.64-0.72\", \"0.72-0.80\", \"0.80-0.88\"]\n",
        "valores = [0.03, 0.09, 0.20, 0.4, 0.20, 0.09, 0.02]\n",
        "\n",
        "# Crear la figura y los ejes\n",
        "fig, ax = plt.subplots()\n",
        "\n",
        "# Ajustar el color de fondo\n",
        "ax.set_facecolor(\"#d4f8b7\")\n",
        "# Pintar el fondo externo del gráfico\n",
        "fig.patch.set_facecolor('#D4F8B7')\n",
        "\n",
        "# Crear el gráfico de barras\n",
        "plt.bar(categorias, valores, color='#5CCB5f', edgecolor='black', linewidth=1.5, width=0.8)\n",
        "\n",
        "plt.xticks(fontsize=7)\n",
        "\n",
        "# Añadir etiquetas y título con texto en negrita\n",
        "plt.xlabel('Valores de p\\u0305', fontsize=10, fontweight='bold')\n",
        "plt.ylabel('Frecuencia Relativa', fontsize=10, fontweight='bold')\n",
        "\n",
        "# Mostrar el gráfico\n",
        "plt.show()"
      ]
    },
    {
      "cell_type": "markdown",
      "metadata": {
        "id": "Rp1aLBfC6Sg0"
      },
      "source": [
        "En esta sección se describen las propiedades de la distribución de muestreo de x&#772;. Como ocurre con otras distribuciones de probabilidad estudiadas, la distribución de muestreo de x&#772; tiene un valor esperado o media, una desviación estándar y una forma característica. Para empezar, se considerará la media de todos los valores posibles de x&#772;, a la que se conoce como valor\n",
        "esperado de x&#772;.\n",
        "\n",
        "<style>\n",
        "    .indice_titulo{\n",
        "        display:flex;\n",
        "        color: #009929;\n",
        "    }\n",
        "</style>\n",
        "\n",
        "### <div class = \"indice_titulo\">**Valor esperado de *x&#772;***</div>\n",
        "\n",
        "En el problema de muestreo de EAI se vio que en distintas muestras aleatorias simples se obtienen valores diferentes para la media muestral x&#772;. Como la variable aleatoria x&#772; puede tener muchos valores diversos, suele ser de interés conocer la media de todos los valores de x&#772; que se obtienen con diferentes muestras aleatorias simples. La media de la variable aleatoria x&#772; es el valor esperado de x&#772;; sea éste *E(x&#772;)* y *μ* la media de la población de la que se selecciona una muestra aleatoria simple. Se puede demostrar que cuando se emplea el muestreo aleatorio simple, *E(x&#772;)* y *μ* son iguales."
      ]
    },
    {
      "cell_type": "markdown",
      "metadata": {
        "id": "1gICN4GH6biG"
      },
      "source": [
        "##### VALOR ESPERADO DE x&#772;\n",
        "$$E(\\bar{x}) = μ$$\n",
        "donde:\n",
        "$$E(\\bar{x}) = \\text{valor esperado de } \\bar{x}$$\n",
        "$$μ = \\text{media poblacional}$$"
      ]
    },
    {
      "cell_type": "markdown",
      "metadata": {
        "id": "UgB1Sp7q6tZM"
      },
      "source": [
        "Este resultado enseña que utilizando el muestreo aleatorio simple, el valor esperado o media de la distribución de muestreo de x&#772; es igual a la media de la población. En la sección 7.1 se vio que el sueldo anual medio de los gerentes de EAI es *μ* = \\$51800. Por tanto, con base en la ecuación (7.1), la media de todas las medias muestrales posibles en el estudio de EAI es también\n",
        "\\$51800.\n",
        "\n",
        "Cuando el valor esperado de un estimador puntual es igual al parámetro poblacional, se dice que el estimador puntual es insesgado. Por tanto, la ecuación (7.1) indica que x es un estimador insesgado de la media poblacional *μ*.\n",
        "\n",
        "<style>\n",
        "    .indice_titulo{\n",
        "        display:flex;\n",
        "        color: #009929;\n",
        "    }\n",
        "</style>\n",
        "\n",
        "### <div class = \"indice_titulo\">**Desviación estándar de *x&#772;***</div>\n",
        "\n",
        "Ahora se defi nirá la desviación estándar de la distribución de muestreo de x&#772;. Se empleará la notación siguiente.\n",
        "\n",
        "<center>\n",
        "σ<sub>x&#772;</sub> = desviación estándar de x&#772;\n",
        "\n",
        "*σ* = desviación estándar de la población\n",
        "\n",
        "*n* = tamaño de la muestra\n",
        "\n",
        "*N* = tamaño de la población\n",
        "</center>\n",
        "\n",
        "Es posible demostrar que la fórmula de la desviación estándar de x&#772; depende de que la población sea finita o infinita. Las dos fórmulas para la desviación estándar de x&#772; son las siguientes."
      ]
    },
    {
      "cell_type": "markdown",
      "metadata": {
        "id": "kKonqcey61Vg"
      },
      "source": [
        "##### DESVIACIÓN ESTÁNDAR DE x&#772;\n",
        "Población finita\n",
        "$$\\sigma_{\\bar{x}} = \\sqrt{\\frac{N-n}{N-1}}(\\frac{\\sigma}{\\sqrt{n}})$$\n",
        "\n",
        "Población infinita\n",
        "$$\\frac{\\sigma}{\\sqrt{n}}$$"
      ]
    },
    {
      "cell_type": "markdown",
      "metadata": {
        "id": "dPNzX0CQdDtv"
      },
      "source": [
        "Al comparar las dos fórmulas en (7.2) se ve que el factor $\\sqrt{(N-n)/(N-1)}$ se requiere cuando la población es finita, pero no cuando es infinita. A este factor se le conoce como factor de corrección para una población finita. En muchas situaciones prácticas de muestreo se encuentra que, aunque la población sea fi nita, es “grande”, mientras que el tamaño de la muestra es “pequeño”. En estos casos el factor de corrección para una población finita $\\sqrt{(N-n)/(N-1)}$  es cercano a 1. Por tanto, la diferencia entre el valor de la desviación estándar de x para las poblaciones finitas e infinitas se vuelve despreciable. Entonces $\\sigma_x = \\sigma/\\sqrt{n}$ se convierte en una buena aproximación a la desviación estándar de x&#772; aun cuando la población sea finita. Esta observación lleva al siguiente lineamiento, o regla general, para calcular la desviación estándar de x&#772;."
      ]
    },
    {
      "cell_type": "markdown",
      "metadata": {
        "id": "UTw1t5cH7AVI"
      },
      "source": [
        "##### USAR LA EXPRESION SIGUIENTE PARA CALCULAR LA DESVIACIÓN ESTÁNDAR DE $\\bar{x}$\n",
        "$$\\sigma_x = \\frac{\\sigma}{\\sqrt{n}}$$\n",
        "siempre que\n",
        "1. La población sea infinita; o\n",
        "2. La poblacion sea finita y el tamaño de la muestra sea menor o iguala 5% del tamaño de la población; es decir, *n/N* $\\leq$ 0.05."
      ]
    },
    {
      "cell_type": "markdown",
      "metadata": {
        "id": "hKj8KQv47UuZ"
      },
      "source": [
        "En los casos en que n/N > 0.05, para calcular σ<sub>x&#772;</sub> debe usarse la versión para poblaciones finitas de la fórmula (7.2). En este libro, a menos que se indique otra cosa, se supondrá que el tamaño de la población es “grande”, n/N $\\leq$ 0.05, y se utilizará la expresión (7.3) para calcular σ<sub>x&#772;</sub>.\n",
        "\n",
        "Para calcular σ<sub>x&#772;</sub> se necesita conocer σ, la desviación estándar de la población. Para subrayar, aún más, la diferencia entre σ<sub>x&#772;</sub> y σ, a la desviación estándar de x&#772;, σ<sub>x&#772;</sub>, se le llama error estándar de la media. En general, el término *error estándar* se refiere a la desviación estándar de un estimador puntual. Más adelante se verá que el valor del error estándar de la media\n",
        "ayuda a determinar qué tan lejos puede estar la media muestral de la media poblacional. Ahora, de nuevo con el ejemplo de EAI, se calcula el error estándar de la media correspondiente a las muestras aleatorias simples de 30 gerentes de EAI.\n",
        "\n",
        "En la sección 7.1 vimos que la desviación estándar de los sueldos anuales en la población de los 2500 gerentes de EAI era σ = 4000. En este caso la población es finita, N = 2500. Sin embargo, como el tamaño de la muestra es 30, se tiene n/N = 30/2500 = 0.012. Dado que el tamaño de la muestra es menor que 5% del tamaño de la población, se puede ignorar el factor de corrección para una población finita y usar la ecuación (7.3) para calcular el error estándar.\n",
        "\n",
        "$$ \\sigma_x = \\frac{\\sigma}{\\sqrt{n}} = \\frac{4000}{\\sqrt{30}} = 730.3$$\n",
        "\n",
        "<style>\n",
        "    .indice_titulo{\n",
        "        display:flex;\n",
        "        color: #009929;\n",
        "    }\n",
        "</style>\n",
        "\n",
        "### <div class = \"indice_titulo\">**Forma de la distribución de muestreo de *x&#772;***</div>\n",
        "\n",
        "Los resultados anteriores respecto del valor esperado y la desviación estándar en la distribución de muestreo de x&#772; son aplicables a cualquier población. El paso fi nal para identificarlas características de la distribución de muestreo de x&#772; consiste en determinar la forma de la distribución de muestreo. Se considerarán dos casos: 1) La población tiene distribución normal, y 2) La población no tiene distribución normal.\n",
        "\n",
        "<font color=#009929>**La población tiene distribución normal.**</font> En muchas situaciones es razonable suponer que la población de la que se selecciona la muestra aleatoria simple tiene distribución normal o casi normal. Cuando esto ocurre, la distribución de muestreo de x&#772; está distribuida normalmente cualquiera que sea el tamaño de la muestra.\n",
        "\n",
        "<font color=#009929>**La población no tiene distribución normal.**</font> Cuando la población de la que se tomó\n",
        "la muestra aleatoria simple no tiene distribución normal, el teorema del límite central ayuda a determinar la forma de la distribución de muestreo de x&#772;. El enunciado de este teorema aplicado a la distribución de muestreo de x&#772; dice lo siguiente."
      ]
    },
    {
      "cell_type": "code",
      "execution_count": null,
      "metadata": {
        "colab": {
          "base_uri": "https://localhost:8080/",
          "height": 106
        },
        "id": "mAMsg6OIdkPk",
        "outputId": "27fe268c-5bef-4149-dfc5-352e36d2b333"
      },
      "outputs": [
        {
          "data": {
            "text/html": [
              "\n",
              "\n",
              "<head>\n",
              "    <script src=\"https://polyfill.io/v3/polyfill.min.js?features=es6\"></script>\n",
              "    <script id=\"MathJax-script\" async src=\"https://cdn.jsdelivr.net/npm/mathjax@3/es5/tex-mml-chtml.js\"></script>\n",
              "</head>\n",
              "<style>\n",
              "        .formulas {\n",
              "            background-color: #D4F8B7;\n",
              "            padding: 10px;\n",
              "            box-shadow: 0 4px 8px rgba(0, 0, 0, 0.1);\n",
              "</style>\n",
              "\n",
              "<div class=\"formulas\">\n",
              "\n",
              "TEOREMA DEL LÍMITE CENTRAL\n",
              "<br><br>\n",
              "Cuando se seleccionan muestras aleatorias simples de tamaño n de una población, la distribución de muestreo de la media muestral x&#772; puede aproximarse mediante una distribución normal a medida que el tamaño de la muestra se hace grande.\n",
              "\n",
              "</div>\n",
              "\n"
            ],
            "text/plain": [
              "<IPython.core.display.HTML object>"
            ]
          },
          "execution_count": 10,
          "metadata": {},
          "output_type": "execute_result"
        }
      ],
      "source": [
        "from IPython.display import HTML\n",
        "\n",
        "html_code = '''\n",
        "\n",
        "<head>\n",
        "    <script src=\"https://polyfill.io/v3/polyfill.min.js?features=es6\"></script>\n",
        "    <script id=\"MathJax-script\" async src=\"https://cdn.jsdelivr.net/npm/mathjax@3/es5/tex-mml-chtml.js\"></script>\n",
        "</head>\n",
        "<style>\n",
        "        .formulas {\n",
        "            background-color: #D4F8B7;\n",
        "            padding: 10px;\n",
        "            box-shadow: 0 4px 8px rgba(0, 0, 0, 0.1);\n",
        "</style>\n",
        "\n",
        "<div class=\"formulas\">\n",
        "\n",
        "TEOREMA DEL LÍMITE CENTRAL\n",
        "<br><br>\n",
        "Cuando se seleccionan muestras aleatorias simples de tamaño n de una población, la distribución de muestreo de la media muestral x&#772; puede aproximarse mediante una distribución normal a medida que el tamaño de la muestra se hace grande.\n",
        "\n",
        "</div>\n",
        "\n",
        "'''\n",
        "HTML(html_code)"
      ]
    },
    {
      "cell_type": "markdown",
      "metadata": {
        "id": "in-oYA2hdqrB"
      },
      "source": [
        "En la figura 7.3 se ilustra cómo funciona el teorema del límite central en tres poblaciones diferentes; cada columna se refi ere a una de ellas. En el panel superior de la fi gura se aprecia que ninguna de las tres poblaciones está distribuida normalmente. La población I tiene una distribución uniforme, y a la II se le conoce como *distribución de orejas de conejo*. Esta distribución es simétrica, pero los valores más probables se encuentran en las colas de la distribución. La forma de la población III se parece a una distribución exponencial y es sesgada a la derecha.\n",
        "\n",
        "En los tres paneles superiores de la figura 7.3 se presentan las formas de las distribuciones de muestreo de tamaños n = 2, n = 5 y n = 30. Cuando el tamaño es 2, se observa que cada distribución de muestreo tiene una forma diferente a la distribución poblacional correspondiente."
      ]
    },
    {
      "cell_type": "markdown",
      "metadata": {
        "id": "iIhx7q7n7lky"
      },
      "source": [
        "<span style=\"color: #009929;\"> **Figura 7.3**  Ilustración del teorema central del límite con tres poblaciones</span>"
      ]
    },
    {
      "cell_type": "markdown",
      "metadata": {
        "id": "4tqSOW5JG4Ly"
      },
      "source": [
        "![](https://drive.google.com/uc?id=1YcagM6YnsVE75hJ2PZTumomC_fZf-_Qu)"
      ]
    },
    {
      "cell_type": "markdown",
      "metadata": {
        "id": "0u8uITfZ7zI8"
      },
      "source": [
        "Con el tamaño 5 vemos que las formas de las distribuciones de muestreo en los casos de las poblaciones I y II empiezan a parecerse a la forma de una distribución normal. En el caso de la población III, aun cuando la forma de la distribución de muestreo comienza a semejarse a una distribución normal, se observa todavía cierto sesgo a la derecha. Por último, para el tamaño 30, la forma de cada una de las tres distribuciones de muestreo es aproximadamente normal.\n",
        "\n",
        "Desde un punto de vista práctico, con frecuencia se querrá saber qué tan grande debe ser el tamaño de la muestra antes de aplicar el teorema del límite central y suponer que la forma de la distribución de muestreo es aproximadamente normal. En las investigaciones estadísticas se ha estudiado este problema en distribuciones de muestreo de x&#772; de diversas poblaciones y tamaños de muestra. En la práctica estadística general se asume que, en la mayoría de las aplicaciones, la distribución de muestreo de x&#772; se puede aproximar mediante una distribución normal siempre que la muestra sea de tamaño 30 o mayor. En los casos en que la población es muy sesgada o existen observaciones atípicas, pueden necesitarse muestras de tamaño 50. Por último, si la población\n",
        "es discreta, el tamaño de muestra necesario para la aproximación normal suele depender de la proporción poblacional. Se profundizará más en este tema cuando se estudie la distribución de muestreo de p&#772; en la sección 7.6.\n",
        "\n",
        "<style>\n",
        "    .indice_titulo{\n",
        "        display:flex;\n",
        "        color: #009929;\n",
        "    }\n",
        "</style>\n",
        "\n",
        "### <div class = \"indice_titulo\">**Distribución de muestreo de *x&#772;* en el problema de EAI**</div>\n",
        "\n",
        "En el problema de EAI, para el que ya previamente se mostró que E(x&#772;) = \\$51800 y σ<sub>x&#772;</sub> = 730.3, no se cuenta con ninguna información acerca de la distribución de la población, que puede estar o no distribuida normalmente. Si se da el segundo caso, la distribución muestral de x&#772; estará distribuida normalmente. Si la población no tiene una distribución normal, la muestra aleatoria simple de 30 gerentes y el teorema del límite central permiten concluir que la distribución de muestreo de x&#772; puede aproximarse mediante una distribución normal. En cualquiera de los casos, se concluye que la distribución de muestreo de x&#772; se describe mediante una distribución normal como la que se muestra en la figura 7.4.\n",
        "\n",
        "### <div class = \"indice_titulo\">**Valor práctico de la distribución de muestreo de *x&#772;***</div>\n",
        "\n",
        "Siempre que se seleccione una muestra aleatoria simple y se use el valor de la media muestral para estimar el valor de la media poblacional *μ*, no se podrá esperar que la media muestral sea exactamente igual a la media poblacional. La razón práctica por la que interesa la distribución de muestreo de x&#772; estriba en que se puede usar para proporcionar información probabilística acerca de la diferencia entre la media muestral y la media poblacional. Para demostrar este uso, se retomará el problema de EAI.\n",
        "\n",
        "Suponga que el director de personal cree que la media muestral será una estimación aceptable de la media poblacional si la primera está en un margen de \\$500 de la segunda. Sin embargo, no es posible garantizar que la media muestral esté en un margen de \\$500 de la media poblacional. En efecto, en la tabla 7.5 y en la figura 7.1 se observa que algunas de las 500 medias muestrales difieren en más de \\$2000 de la media poblacional. Entonces hay que pensar en el requerimiento del director de personal en términos de probabilidad. Es decir, a éste le interesa la interrogante siguiente: ¿cuál es la probabilidad de que la media muestral obtenida usando una muestra aleatoria simple de 30 gerentes de EAI se encuen tre en un margen de \\$500 de la media poblacional?"
      ]
    },
    {
      "cell_type": "markdown",
      "metadata": {
        "id": "54pKa1Lh76y-"
      },
      "source": [
        "<span style=\"color: #009929;\"> **Figura 7.4**  Distribución de muestreo de x&#772; para el sueldo medio anual de una muestra aleatoria simple de 30 gerentes de EAI</span>"
      ]
    },
    {
      "cell_type": "code",
      "execution_count": null,
      "metadata": {
        "colab": {
          "base_uri": "https://localhost:8080/",
          "height": 453
        },
        "id": "imreCGQReNQE",
        "outputId": "20ad1294-c7c3-43ea-9bb1-1b3e9ac6739f"
      },
      "outputs": [
        {
          "data": {
            "image/png": "[encoded data removed]",
            "text/plain": [
              "<Figure size 640x480 with 1 Axes>"
            ]
          },
          "metadata": {},
          "output_type": "display_data"
        }
      ],
      "source": [
        "import numpy as np\n",
        "import matplotlib.pyplot as plt\n",
        "from scipy.stats import norm\n",
        "\n",
        "# Parámetros de la distribución normal\n",
        "media = 51800\n",
        "desviacion_estandar = 730.3\n",
        "\n",
        "# Generar datos de la distribución normal\n",
        "x = np.linspace(media - 4 * desviacion_estandar, media + 4 * desviacion_estandar, 1000)\n",
        "y = norm.pdf(x, media, desviacion_estandar)\n",
        "\n",
        "# Crear la gráfica\n",
        "fig, ax = plt.subplots()\n",
        "ax.plot(x, y, color='#009929')\n",
        "\n",
        "# Establecer el color de fondo\n",
        "ax.set_facecolor('#d4f8b7')\n",
        "\n",
        "# Pintar el fondo externo del gráfico\n",
        "fig.patch.set_facecolor('#D4F8B7')\n",
        "\n",
        "#Informacion en los ejes\n",
        "ax.set_xlabel(f'Media = {media}', fontsize=12)\n",
        "#ax.set_ylabel('Densidad de Probabilidad', fontsize=12)\n",
        "\n",
        "# Agregar información flotante sobre la desviación estándar\n",
        "info_desviacion = f'σ = {desviacion_estandar}'\n",
        "ax.text(0.6, 0.85, info_desviacion, transform=ax.transAxes, fontsize=12, color='#000')\n",
        "\n",
        "ax.grid(False)\n",
        "plt.show()"
      ]
    },
    {
      "cell_type": "markdown",
      "metadata": {
        "id": "4CeYWaxQi747"
      },
      "source": [
        "<head>\n",
        "    <link rel=\"preconnect\" href=\"https://fonts.googleapis.com\">\n",
        "    <link rel=\"preconnect\" href=\"https://fonts.gstatic.com\" crossorigin>\n",
        "    <link href=\"https://fonts.googleapis.com/css2?family=Poppins:ital,wght@0,100;0,300;1,100&display=swap\" rel=\"stylesheet\">\n",
        "</head>\n",
        "\n",
        "<style>\n",
        "    div{\n",
        "        font-family: 'Poppins', sans-serif;\n",
        "    }\n",
        "    /*ESTILOS PORTADA DE CAPITULO*/\n",
        "    #capitulo {\n",
        "    text-align: center;\n",
        "    line-height: 100px;\n",
        "    height: 100px;\n",
        "    background-color: #009929;\n",
        "    color: white;\n",
        "    font-size: 50px;\n",
        "    padding: 5px;\n",
        "    text-shadow: 2px 2px 2px rgba(0, 0, 0, 0.5); /* Sombra del texto */\n",
        "    }\n",
        "\n",
        "    #numero {\n",
        "        font-size: 90px;\n",
        "    }\n",
        "\n",
        "    #titulo {\n",
        "        height: 100px;\n",
        "        color: black;\n",
        "        text-align:justify;\n",
        "        font-size: 40px;\n",
        "        margin-right:35px;\n",
        "        margin-left:20px;\n",
        "        margin-top: 20px;\n",
        "        margin-bottom:20px;\n",
        "        font-weight: bold;\n",
        "        text-transform: uppercase;\n",
        "        margin-bottom: 30px;\n",
        "    }\n",
        "\n",
        "    #contenido {\n",
        "        width: 100%;\n",
        "        background-color: #009929;\n",
        "        text-align: left;\n",
        "        color: #fff;\n",
        "        float: left;\n",
        "        padding: 5px;\n",
        "        padding-left:10px;\n",
        "        margin-top:80px;\n",
        "        margin-bottom: 10px;\n",
        "        font-size: 25px;\n",
        "    }\n",
        "    #separador {\n",
        "        width: 100%;\n",
        "        height: 2px;\n",
        "        background-color: #009929;\n",
        "        border: none;\n",
        "    } #indice {\n",
        "            column-count: 2; /* Divide el contenido en dos columnas */\n",
        "            column-gap: 20px; /* Espaciado entre columnas */\n",
        "            margin-top: 20px; /* Espaciado superior del índice */\n",
        "        }\n",
        "    #indice-container {\n",
        "        display: inline-block;\n",
        "    }\n",
        "    #indice ul {\n",
        "        list-style: none;\n",
        "        padding: 0;\n",
        "    }\n",
        "    #indice li {\n",
        "        break-inside: avoid; /* Evita que los elementos de la lista se separen entre columnas */\n",
        "    }\n",
        "    /* FIN ESTILOS PORTADA DE CAPITULO*/\n",
        "    /*ESTILOS TITULOS DEL CAPITULO*/\n",
        "    .indice_titulo{\n",
        "        display:flex;\n",
        "        color: #009929;\n",
        "    }\n",
        "    .indice_titulo span{\n",
        "        display: inline-block;\n",
        "        margin-top: 5px;\n",
        "        font-weight: normal;\n",
        "    }\n",
        "    span.section-number {\n",
        "        background-color: #009929;\n",
        "        border-radius: 50%;\n",
        "        color: white;\n",
        "        font-weight: bold;\n",
        "        padding: 0.5em;\n",
        "        display: inline-flex;\n",
        "        justify-content: center;\n",
        "        align-items: center;\n",
        "        width: 1.5em;\n",
        "        height: 1.5em;\n",
        "        font-size: 1em;\n",
        "        margin-right: 0.5em;\n",
        "    }\n",
        "    /* FIN ESTILOS TITULOS DEL CAPITULO*/\n",
        "    .bold-verde{\n",
        "        color: #009929;\n",
        "        font-weight: bold;\n",
        "    }\n",
        "\n",
        "</style>\n",
        "Como ya se identificaron las propiedades de la distribución de muestreo de $\\bar{x}$ (figura 7.4),\n",
        "se utilizará esta distribución para contestar dicha interrogante probabilística. Observe la distribución de muestreo de $\\bar{x}$ que se presenta nuevamente en la figura 7.5. Como la media poblacional es \\$51 800, el director de personal desea saber cuál es la probabilidad de que $\\bar{x}$ esté entre \\$51 300 y \\$52 300. Esta probabilidad corresponde al área sombreada de la distribución de muestreo de la figura 7.5. Como la distribución de muestreo está distribuida normalmente, su media es \\$51 800 y el error estándar de la media es 730.3, se usa la tabla de probabilidad normal estándar para determinar el área o probabilidad.\n",
        " Primero se calcula el valor de z en el extremo superior de este intervalo (52 300) y se usa la tabla para hallar el área bajo la curva a la izquierda de ese punto (hacia la cola izquierda). Después se determina el valor de z en el extremo inferior de este intervalo (51 300) y se usa la tabla\n",
        "para hallar el área bajo la curva a la izquierda de este punto (otra área hacia la cola izquierda). Al\n",
        "restar la segunda área de la primera, se obtiene la probabilidad buscada.\n",
        "En $\\bar{x}= 52 300$ tenemos\n",
        "$$z = \\frac{52300-51800}{730.30}=0.68$$\n",
        "En la tabla de probabilidad normal estándar se encuentra que la probabilidad acumulada (área\n",
        "a la izquierda de $z=0.68$) es 0.7517.\n",
        "En $\\bar{x}= 51 300$ tenemos\n",
        "$$z=\\frac{51300-51800}{730.30}=-0.68$$\n",
        "El área bajo la curva a la izquierda de $z=0.68$ es 0.2483. Por tanto, $P(51300\\leq \\bar{x} \\leq 52300)=P(z\\leq 0.68)-P(z<-0.68)=0.7517-0.2483=0.5034.$\n",
        "Estos cálculos indican que hay una probabilidad de 0.5034 de que con una muestra aleatoria\n",
        "simple de 30 gerentes de EAI se obtenga una media muestral $\\bar{x}$ que esté en un margen de \\$500\n",
        "de la media poblacional. Por tanto, la probabilidad de que la diferencia entre $\\bar{x}$ y $μ$  \\$51 800\n",
        "sea superior a \\$500 es $1-0.5034=0.4966$. En otras palabras, una muestra aleatoria simple\n",
        "de 30 gerentes de EAI tiene aproximadamente 50/50 oportunidades de tener una media muestral\n",
        "que no difi era de la media poblacional en más de los aceptables \\$500. Quizá deba pensarse en \\\\\n",
        "FIGURA 7.5 Probabilidad de que una media muestral se encuentre en un margen de \\$500\n",
        "de la media poblacional en una muestra aleatoria simple de 30 gerentes de EAI\n"
      ]
    },
    {
      "cell_type": "markdown",
      "metadata": {
        "id": "RTHbtGsSjFWK"
      },
      "source": [
        "<span style=\"color: #009929;\"> **Figura 7.5** Probabilidad de que una media muestral se encuentre en un margen de \\$500\n",
        "de la media poblacional en una muestra aleatoria simple de 30 gerentes de EAI </span>"
      ]
    },
    {
      "cell_type": "code",
      "execution_count": null,
      "metadata": {
        "colab": {
          "base_uri": "https://localhost:8080/",
          "height": 448
        },
        "id": "p_ZhA5ZhMj2d",
        "outputId": "b820d35b-773e-4658-e90e-5d1ae8ad5cc7"
      },
      "outputs": [
        {
          "data": {
            "text/plain": [
              "<Figure size 1200x800 with 0 Axes>"
            ]
          },
          "metadata": {},
          "output_type": "display_data"
        },
        {
          "data": {
            "image/png": "[encoded data removed]",
            "text/plain": [
              "<Figure size 640x480 with 1 Axes>"
            ]
          },
          "metadata": {},
          "output_type": "display_data"
        }
      ],
      "source": [
        "import numpy as np\n",
        "import matplotlib.pyplot as plt\n",
        "from scipy.stats import norm\n",
        "\n",
        "# Parámetros de la distribución normal\n",
        "media = 51800\n",
        "desviacion_estandar = 730.3\n",
        "\n",
        "# Generar datos de la distribución normal\n",
        "x = np.linspace(media - 4 * desviacion_estandar, media + 4 * desviacion_estandar, 1000)\n",
        "y = norm.pdf(x, media, desviacion_estandar)\n",
        "\n",
        "# Crear la gráfica\n",
        "plt.figure(figsize=(12, 8))\n",
        "fig, ax = plt.subplots()\n",
        "ax.fill_between(x, y, where=((x >= 51200) & (x <= 52400)), color='#5ccb5f', alpha=0.3, label='Área Especial')\n",
        "ax.fill_between(x, y, where=((x >= 0) & (x <= 51200)), color='#98F84A', alpha=0.3, label='Área Especial')\n",
        "ax.fill_between(x, y, where=((x >= 52400) & (x <= 100000)), color='#98F84A', alpha=0.3, label='Área Especial')\n",
        "ax.plot(x, y, color='#009929')\n",
        "\n",
        "# Establecer el color de fondo\n",
        "ax.set_facecolor('#d4f8b7')\n",
        "\n",
        "# Pintar el fondo externo del gráfico\n",
        "fig.patch.set_facecolor('#D4F8B7')\n",
        "plt.axvline(x=51200, color='#008000', linestyle='--', label='Media Poblacional - $500')\n",
        "plt.axvline(x=52400, color='#008000', linestyle='--', label='Media Poblacional + $500')\n",
        "#Informacion en los ejes\n",
        "#ax.set_xlabel(f'Media = {media}', fontsize=12)\n",
        "#ax.set_ylabel('Densidad de Probabilidad', fontsize=12)\n",
        "\n",
        "plt.yticks([])  # Oculta las marcas del eje y\n",
        "\n",
        "\n",
        "plt.xticks([media,51200,52400], [f'{media}',f'{media-500}',f'{media+500}'])\n",
        "\n",
        "#info_desviacion = f'σ= {desviacion_estandar}'\n",
        "#ax.text(0.6, 0.85, info_desviacion, transform=ax.transAxes, fontsize=12, color='#000')\n",
        "plt.text(0.05, 0.9,r'Distribución de muestreo', transform=plt.gca().transAxes, fontsize=12, verticalalignment='top')\n",
        "plt.text(0.05, 0.8,r'de $\\bar{x}$', transform=plt.gca().transAxes, fontsize=12, verticalalignment='top')\n",
        "plt.text(0.05, 0.2,r'$P(\\bar{x}<513000)$', transform=plt.gca().transAxes, fontsize=12, verticalalignment='top')\n",
        "plt.text(0.8, 0.7, r'$\\sigma_{\\bar{x}}=730.30$', transform=plt.gca().transAxes, fontsize=12, verticalalignment='top', horizontalalignment='right')\n",
        "plt.text(0.99, 0.3, r'$P(51300 \\leq \\bar{x} \\leq 52300)$', transform=plt.gca().transAxes, fontsize=12, verticalalignment='top', horizontalalignment='right')\n",
        "plt.text(0.75, 0, r'$E(\\bar{p})$', transform=plt.gca().transAxes, fontsize=12, verticalalignment='top', horizontalalignment='right')\n",
        "\n",
        "ax.grid(False)\n",
        "plt.show()"
      ]
    },
    {
      "cell_type": "markdown",
      "metadata": {
        "id": "n0lLkvJujKy2"
      },
      "source": [
        "una muestra de tamaño mayor. Se explorará esta posibilidad considerando la relación entre el\n",
        "tamaño de la muestra y la distribución de muestreo de $\\bar{x}$."
      ]
    },
    {
      "cell_type": "markdown",
      "metadata": {
        "id": "hZOSgT-ejQYt"
      },
      "source": [
        "<style>\n",
        "    .indice_titulo{\n",
        "        display:flex;\n",
        "        color: #009929;\n",
        "    }\n",
        "</style>\n",
        "### <div class = \"indice_titulo\">**Margen de error y estimación por intervalo**</div>\n",
        "Suponga que en el problema de muestreo de EAI se toma una muestra aleatoria simple de 100 gerentes en lugar de los 30 considerados. La intuición indica que teniendo más datos proporcionados por una muestra mayor, la media muestral basada en $n=100$ proporcionará una mejor estimación de la media poblacional que la basada en $n=30$. Para ver cuán mejor es, se considerará\n",
        "la relación entre el tamaño de la muestra y la distribución de muestreo de $\\bar{x}$.\n",
        "Primero observe que $E(\\bar{x})=\\mu$ independientemente del tamaño de la muestra. Entonces,\n",
        "la media de todos los valores posibles de $\\bar{x}$ es igual a la media poblacional μ independientemente del tamaño n de la muestra. No obstante, el error estándar de la media, $\\sigma_{\\bar{x}}=\\sigma/\\sqrt{n}$, está\n",
        "relacionado con la raíz cuadrada del tamaño de la muestra. Siempre que este tamaño aumente,\n",
        "el error estándar de la media $σ_{\\bar{x}}$ disminuirá. Con $n=30$, el error estándar de la media en el\n",
        "problema de EAI es 730.3. Sin embargo, aumentando el tamaño de la muestra a $n = 100$, el error\n",
        "estándar de la media disminuye a\n",
        "$$σ_{\\bar{x}}=\\frac{σ}{\\sqrt{n}}=\\frac{4000}{\\sqrt{100}}=400$$\n",
        "En la figura 7.6 se ilustran las distribuciones de muestreo de $\\bar{x}$ correspondientes a $n=30$ y a $n=100$. Como la distribución muestral con $n=100$ tiene un error estándar más pequeño, habrá menos variación entre los valores de $\\bar{x}$ y éstos tenderán a estar más cerca de la media poblacional que los valores de $bar{x}$ con $n=30$. \\\\\n",
        "La distribución de muestreo de $\\bar{x}$, en el caso de $n=100$, puede emplearse para calcular la\n",
        "probabilidad de que una muestra aleatoria simple de 100 gerentes de EAI dé una media muestral que no difi era de los \\$500 de la media poblacional. Como la distribución de muestreo es\n",
        "normal y su media es \\$51 800 y el error estándar de la media es 400, se emplea la tabla de probabilidad normal estándar para determinar el área o la probabilidad. \\\\\n",
        "Para $ \\bar{x}= 52 300$ (figura 7.7) tenemos\n",
        "$$z=\\frac{52300-51800}{400}=1.25$$"
      ]
    },
    {
      "cell_type": "markdown",
      "metadata": {
        "id": "tKwKt1MmjUhr"
      },
      "source": [
        "<span style=\"color: #009929;\"> **Figura 7.6** Comparación entre las distribuciones de muestreo de $\\bar{x}$ con muestras aleatorias\n",
        "simples de tamaño $n=30$ y $n=100$ gerentes de EAI </span>"
      ]
    },
    {
      "cell_type": "code",
      "execution_count": null,
      "metadata": {
        "colab": {
          "base_uri": "https://localhost:8080/",
          "height": 430
        },
        "id": "W-hyV5zyN3Mv",
        "outputId": "1099ab51-65c1-466e-f22f-0e8e6368330d"
      },
      "outputs": [
        {
          "data": {
            "image/png": "[encoded data removed]",
            "text/plain": [
              "<Figure size 640x480 with 1 Axes>"
            ]
          },
          "metadata": {},
          "output_type": "display_data"
        }
      ],
      "source": [
        "import numpy as np\n",
        "import matplotlib.pyplot as plt\n",
        "from scipy.stats import norm\n",
        "\n",
        "# Parámetros de la distribución normal\n",
        "media = 51800\n",
        "desviacion_estandar = 730.3\n",
        "media2 = 51800\n",
        "desviacion_estandar2 = 400\n",
        "\n",
        "x2 = np.linspace(media2 - 4 * desviacion_estandar2, media2 + 4 * desviacion_estandar2, 1000)\n",
        "y2 = norm.pdf(x2, media2, desviacion_estandar2)\n",
        "# Generar datos de la distribución normal\n",
        "x = np.linspace(media - 4 * desviacion_estandar, media + 4 * desviacion_estandar, 1000)\n",
        "y = norm.pdf(x, media, desviacion_estandar)\n",
        "\n",
        "# Crear la gráfica\n",
        "\n",
        "fig, ax = plt.subplots()\n",
        "# Trazar la distribución normal\n",
        "ax.plot(x, y, color='Black')\n",
        "ax.plot(x2, y2, color='#009929')\n",
        "# Establecer el color de fondo\n",
        "ax.set_facecolor('#d4f8b7')\n",
        "\n",
        "# Pintar el fondo externo del gráfico\n",
        "fig.patch.set_facecolor('#D4F8B7')\n",
        "\n",
        "# Líneas verticales y punto de la media poblacional\n",
        "plt.axvline(x=51800, color='Black', linestyle='-', label='Media Poblacional - $500')\n",
        "plt.scatter([media], [0], color='#FF0000', marker='|', label='Media Poblacional')\n",
        "# Desactivar la cuadrícula\n",
        "ax.grid(False)\n",
        "plt.yticks([])\n",
        "plt.xticks([51800],[\"51800\"])\n",
        "plt.text(0.05, 0.9,r'_____', transform=plt.gca().transAxes, fontsize=12,color=\"#009929\", verticalalignment='top')\n",
        "plt.text(0.05, 0.8,r'con $n=100$,', transform=plt.gca().transAxes, fontsize=12, verticalalignment='top')\n",
        "plt.text(0.05, 0.7,r'$\\sigma_{\\bar{x}}=400$', transform=plt.gca().transAxes, fontsize=12, verticalalignment='top')\n",
        "#plt.text(0.9, 0.7, r'$\\sigma_{\\bar{x}}=400$', transform=plt.gca().transAxes, fontsize=12, verticalalignment='top', horizontalalignment='right')\n",
        "\n",
        "plt.text(0.9, 0.7, r'_____          ', transform=plt.gca().transAxes, fontsize=12,color='Black', verticalalignment='top', horizontalalignment='right')\n",
        "plt.text(0.9, 0.6, r'Con $n=30$,', transform=plt.gca().transAxes, fontsize=12, color='Black',verticalalignment='top', horizontalalignment='right')\n",
        "plt.text(0.9, 0.5, r'$\\sigma_{\\bar{x}}=730.3$', transform=plt.gca().transAxes, fontsize=12, color='Black',verticalalignment='top', horizontalalignment='right')\n",
        "# Mostrar leyenda\n",
        "#ax.legend()\n",
        "\n",
        "plt.show()"
      ]
    },
    {
      "cell_type": "markdown",
      "metadata": {
        "id": "ECI_ITTljWuH"
      },
      "source": [
        "<span style=\"color: #009929;\"> **Figura 7.7** Probabilidad de que la media muestral esté en un margen de \\$500 de la media\n",
        "poblacional usando una muestra aleatoria simple de 100 gerentes de EAI </span>"
      ]
    },
    {
      "cell_type": "code",
      "execution_count": null,
      "metadata": {
        "colab": {
          "base_uri": "https://localhost:8080/",
          "height": 448
        },
        "id": "pv7dAfCjOyXM",
        "outputId": "7f1f4107-e317-498f-f809-4c2e76afb3f3"
      },
      "outputs": [
        {
          "data": {
            "text/plain": [
              "<Figure size 1200x800 with 0 Axes>"
            ]
          },
          "metadata": {},
          "output_type": "display_data"
        },
        {
          "data": {
            "image/png": "[encoded data removed]",
            "text/plain": [
              "<Figure size 640x480 with 1 Axes>"
            ]
          },
          "metadata": {},
          "output_type": "display_data"
        }
      ],
      "source": [
        "import numpy as np\n",
        "import matplotlib.pyplot as plt\n",
        "from scipy.stats import norm\n",
        "\n",
        "# Parámetros de la distribución normal\n",
        "media = 51800\n",
        "desviacion_estandar = 400\n",
        "\n",
        "# Generar datos de la distribución normal\n",
        "x = np.linspace(media - 4 * desviacion_estandar, media + 4 * desviacion_estandar, 1000)\n",
        "y = norm.pdf(x, media, desviacion_estandar)\n",
        "\n",
        "# Crear la gráfica\n",
        "plt.figure(figsize=(12, 8))\n",
        "fig, ax = plt.subplots()\n",
        "ax.fill_between(x, y, where=((x >= 51200) & (x <= 52400)), color='#5ccb5f', alpha=0.3, label='Área Especial')\n",
        "ax.fill_between(x, y, where=((x >= 0) & (x <= 51200)), color='#98F84A', alpha=0.3, label='Área Especial')\n",
        "ax.plot(x, y, color='#009929')\n",
        "\n",
        "# Establecer el color de fondo\n",
        "ax.set_facecolor('#d4f8b7')\n",
        "\n",
        "# Pintar el fondo externo del gráfico\n",
        "fig.patch.set_facecolor('#D4F8B7')\n",
        "plt.axvline(x=51200, color='#008000', linestyle='--', label='Media Poblacional - $500')\n",
        "plt.axvline(x=52400, color='#008000', linestyle='--', label='Media Poblacional + $500')\n",
        "\n",
        "plt.yticks([])  # Oculta las marcas del eje y\n",
        "\n",
        "# Configurar los ticks del eje x para mostrar solo la media\n",
        "plt.xticks([media,51200,52400], [f'{media}',f'{media-500}',f'{media+500}'])\n",
        "#info_desviacion = f'σ= {desviacion_estandar}'\n",
        "#ax.text(0.6, 0.85, info_desviacion, transform=ax.transAxes, fontsize=12, color='#000')\n",
        "plt.text(0.05, 0.9,r'Distribución de muestreo', transform=plt.gca().transAxes, fontsize=12, verticalalignment='top')\n",
        "plt.text(0.05, 0.8,r'de $\\bar{x}$', transform=plt.gca().transAxes, fontsize=12, verticalalignment='top')\n",
        "plt.text(0.05, 0.6,r'$P(51300 \\leq \\bar{x} \\leq 52300)$=0.7888', transform=plt.gca().transAxes, fontsize=12, verticalalignment='top')\n",
        "plt.text(0.9, 0.7, r'$\\sigma_{\\bar{x}}=400$', transform=plt.gca().transAxes, fontsize=12, verticalalignment='top', horizontalalignment='right')\n",
        "ax.grid(False)\n",
        "plt.show()"
      ]
    },
    {
      "cell_type": "markdown",
      "metadata": {
        "id": "8E-PUgErjZIW"
      },
      "source": [
        "En la tabla de probabilidad normal estándar se encuentra que la probabilidad acumulada\n",
        "correspondiente a $z=1.25$ es 0.8944.\n",
        "\n",
        "\n",
        "Para $\\bar{x}=51300$ tenemos\n",
        "$$z=\\frac{51300-51800}{400}=-1.25$$\n",
        "La probabilidad acumulada correspondiente a $z=1.25$ es $0.1056$. Por tanto,\n",
        "$P(51 300\\leq \\bar{x} \\leq 52 300)=P(z \\leq 1.25)-P(z \\leq -1.25)= 0.8944- 0.1056=0.7888$. Entonces, al aumentar el tamaño de la muestra de 30 a 100 gerentes de EAI, la probabilidad de obtener una\n",
        "muestra aleatoria simple que esté entre los \\$500 de la media poblacional aumenta de 0.5034\n",
        "a 0.7888.\n",
        "\n",
        "\n",
        "\n",
        "El punto importante estriba en que cuando el tamaño de la muestra aumenta, el error estándar de la media disminuye. Como resultado, una muestra de mayor tamaño proporciona mayor\n",
        "probabilidad de que la media muestral esté dentro de una distancia determinada de la media\n",
        "poblacional."
      ]
    },
    {
      "cell_type": "markdown",
      "metadata": {
        "id": "GS4iRvOdjcKr"
      },
      "source": [
        "<style>\n",
        "    .ejercicios{\n",
        "        color:white;\n",
        "        background-color:#009929;\n",
        "        padding-left:20px;\n",
        "    }\n",
        "</style>\n",
        "### <div class = \"ejercicios\">Ejercicios</div>\n",
        "<style>\n",
        "    .indice_titulo{\n",
        "        display:flex;\n",
        "        color: #009929;\n",
        "    }\n",
        "</style>\n",
        "### <div class = \"indice_titulo\">**Metodo**</div>\n",
        "<span style=\"color: #009929;\">**Ejercicio 18.** </span>La media de una población es 200 y su desviación estándar es 50. Se tomará una muestra\n",
        "aleatoria simple de tamaño 100 y se utilizará la media muestral x para estimar la media poblacional.\n",
        "\n",
        "$a)$ ¿Cuál es el valor esperado de x?\n",
        "\n",
        "$b)$ ¿Cuál es la desviación estándar de x?\n",
        "\n",
        "$c)$ Ilustre la distribución de muestreo de x.\n",
        "\n",
        "$d)$ ¿Qué expresa la distribución de muestreo de x?\n",
        "\n",
        "<span style=\"color: #009929;\">**Solucion:** </span>\n",
        "\n",
        "$a)$ El valor esperado (o esperanza matemática) de la media muestral ($\\bar{x}$) es igual a la media poblacional ($μ$):\n",
        "$$E(\\bar{x})=μ$$\n",
        "Reemplazamos datos\n",
        "$$E(\\bar{x})=200$$\n",
        "$b)$ La desviación estándar de la media muestral  ($σ_{\\bar{x}}$) se calcula dividiendo la desviación estándar poblacional ($σ$) por la raíz cuadrada del tamaño de la muestra ($n$):\n",
        "$$σ_{\\bar{x}}=\\frac{σ}{\\sqrt{n}}$$\n",
        "Reemplazamos datos:\n",
        "$$σ=\\frac{50}{\\sqrt{100}}=5$$\n",
        "$$σ=5$$\n",
        "$c)$ Ilustración de la distribución de muestreo de la media muestral:"
      ]
    },
    {
      "cell_type": "code",
      "execution_count": null,
      "metadata": {
        "id": "Aeed3TGljfkR"
      },
      "outputs": [],
      "source": [
        "import numpy as np\n",
        "import matplotlib.pyplot as plt\n",
        "import seaborn as sns\n",
        "\n",
        "# Parámetros\n",
        "media_poblacional = 200\n",
        "desviacion_estandar_poblacional = 50\n",
        "tamano_muestra = 100\n",
        "\n",
        "# Simulación de la distribución de muestreo de la media muestral\n",
        "medias_muestrales = np.random.normal(media_poblacional, desviacion_estandar_poblacional / np.sqrt(tamano_muestra), 1000)\n",
        "\n",
        "# Crear gráfico de densidad con colores personalizados\n",
        "sns.kdeplot(medias_muestrales, color='green', fill=True, palette=sns.color_palette(\"Set2\"))\n",
        "plt.title('Distribución de Muestreo de la Media Muestral')\n",
        "plt.xlabel('Media Muestral (\\(\\bar{x}\\))')\n",
        "plt.ylabel('Densidad')\n",
        "plt.show()\n"
      ]
    },
    {
      "cell_type": "markdown",
      "metadata": {
        "id": "ckg2DDFFjgKv"
      },
      "source": [
        "<style>\n",
        "    .indice_titulo{\n",
        "        display:flex;\n",
        "        color: #009929;\n",
        "    }\n",
        "</style>\n",
        "$d)$ Interpretación de la distribución de muestreo de la media muestral ($\\bar{x}$):\n",
        "\n",
        "La distribución de muestreo de la media muestral describe la variabilidad que se esperaría en las medias muestrales si tomamos múltiples muestras de la población. En este caso, debido al Teorema del Límite Central, la distribución de muestreo de $\\bar{x}$ será aproximadamente normal, independientemente de la forma de la distribución original, siempre y cuando el tamaño de la muestra sea lo suficientemente grande. La desviación estándar de esta distribución de muestreo($(σ_{\\bar{x}})$ proporciona una medida de cuánto varían las medias muestrales alrededor de la media poblacional. En este ejemplo, $σ_{\\bar{x}}=5$, lo que indica que esperamos que las medias muestrales tiendan a agruparse alrededor de la media poblacional con una desviación estándar de 5 unidades.\n",
        "### <div class = \"indice_titulo\">**Apliciones**</div>\n",
        "<span style=\"color: #009929;\">**Ejercicio 26.** </span>El costo medio anual de un seguro para automóvil es de \\$939 (CNBC, 23 de febrero de 2006). Suponga que la desviación estándar es $σ=\\$245$.\n",
        "\n",
        "$a)$ ¿Cuál es la probabilidad de que en una muestra aleatoria simple de pólizas de seguros de\n",
        "automóvil la media muestral no difiera más de \\$25 de la media poblacional si el tamaño\n",
        "de la muestra es 30, 50, 100 y 400?\n",
        "\n",
        "$b)$ ¿Qué ventaja tiene una muestra más grande cuando se quiere estimar la media poblacional?\n",
        "\n",
        "\n",
        "<span style=\"color: #009929;\">**Solucion:** </span>\n",
        "\n",
        "$a)$ Para resolver este insciso, podemos utilizar la distribución normal estándar (z) para encontrar las probabilidades asociadas con la diferencia entre la media muestral y la media poblacional. La fórmula para la puntuación z es:\n",
        "$$z=\\frac{\\bar{x}-μ}{\\frac{σ}{\\sqrt{n}}}$$\n",
        "Donde: \\\\\n",
        "$\\bar{x}$ es la media muestral, μ es la media poblacional, σ es la desviación estándar poblacional y n es el tamaño de la muestra. Ahora reemplzamos los datos para cada caso: \\\\\n",
        "Para n=30\n",
        "$$z=\\frac{\\bar{x}-μ}{\\frac{σ}{\\sqrt{n}}}=\\frac{25}{\\frac{245}{\\sqrt{30}}}$$\n",
        "$$z=0.5589$$\n",
        "Ahora buscando valor de z en una tabla de la distribución normal estándar, nos da que para un $n=30$ la probabilidad es de 0.4246. \\\\\n",
        "Para n=50\n",
        "$$z=\\frac{\\bar{x}-μ}{\\frac{σ}{\\sqrt{n}}}=\\frac{25}{\\frac{245}{\\sqrt{50}}}$$\n",
        "$$z=0.7215$$\n",
        "Ahora buscando valor de z en una tabla de la distribución normal estándar, nos da que para un $n=30$ la probabilidad es de 0.5284. \\\\\n",
        "Para n=100\n",
        "$$z=\\frac{\\bar{x}-μ}{\\frac{σ}{\\sqrt{n}}}=\\frac{25}{\\frac{245}{\\sqrt{100}}}$$\n",
        "$$z=1.02$$\n",
        "Ahora buscando valor de z en una tabla de la distribución normal estándar, nos da que para un $n=30$ la probabilidad es de 0.6922. \\\\\n",
        "Para n=400\n",
        "$$z=\\frac{\\bar{x}-μ}{\\frac{σ}{\\sqrt{n}}}=\\frac{25}{\\frac{245}{\\sqrt{400}}}$$\n",
        "$$z=2.04$$\n",
        "Ahora buscando valor de z en una tabla de la distribución normal estándar, nos da que para un $n=30$ la probabilidad es de 0.9586.\n",
        "\n",
        "$b)$ La ventaja de tener una muestra más grande al estimar la media poblacional está relacionada con la precisión de la estimación. Cuando el tamaño de la muestra es más grande, la estimación de la media muestral tiende a acercarse más a la media poblacional. Esto se debe a la propiedad del Teorema del Límite Central, que establece que, para muestras lo suficientemente grandes, la distribución de las medias muestrales se aproxima a una distribución normal, independientemente de la forma de la distribución original.\\\\\n",
        "En resumen, una muestra más grande proporciona estimaciones más precisas de la media poblacional y reduce la variabilidad en las estimaciones muestrales.\n",
        "\n",
        "<span style=\"color: #009929;\">**Solucion con phyton:** </span>"
      ]
    },
    {
      "cell_type": "code",
      "execution_count": null,
      "metadata": {
        "id": "d5dEM1VtjlvQ"
      },
      "outputs": [],
      "source": [
        "import scipy.stats as stats\n",
        "#Solucion usando phyton\n",
        "# Datos dados\n",
        "media_poblacional = 939\n",
        "desviacion_estandar = 245\n",
        "\n",
        "# Tamaños de muestra\n",
        "tamanos_muestra = [30, 50, 100, 400]\n",
        "\n",
        "# Valor de diferencia en medias\n",
        "diferencia_medias = 25\n",
        "\n",
        "# Calcular las probabilidades para cada tamaño de muestra\n",
        "for n in tamanos_muestra:\n",
        "    # Calcular z\n",
        "    z = diferencia_medias / (desviacion_estandar / (n ** 0.5))\n",
        "\n",
        "    # Calcular la probabilidad usando la distribución normal estándar\n",
        "    probabilidad = stats.norm.cdf(z) - stats.norm.cdf(-z)\n",
        "    print(f\"Para n = {n}, la probabilidad es: {probabilidad}\")"
      ]
    },
    {
      "cell_type": "markdown",
      "metadata": {
        "id": "EuOpMKCojpPE"
      },
      "source": [
        "<style>\n",
        "    .indice_titulo{\n",
        "        display:flex;\n",
        "        color: #009929;\n",
        "    }\n",
        "</style>\n",
        "<span style=\"color: #009929;\">**Ejercicio 28.** </span>La puntuación promedio de golfistas hombres es de 95 y para las golfistas mujeres es de 106\n",
        "(Golf Digest, abril de 2006). Considere estos valores como medias poblacionales de los hombres y las mujeres y suponga que la desviación estándar poblacional es σ=14 golpes en ambos casos. Se tomará una muestra aleatoria simple de 30 golfistas hombres y otra muestra aleatoria simple de 45 golfistas mujeres.\n",
        "\n",
        "a) Proporcione la distribución de muestreo de $\\bar{x}$ correspondiente a los golfistas.\n",
        "\n",
        "b) ¿Cuál es la probabilidad de que la media muestral no difiera en más de 3 golpes de la media\n",
        "poblacional en la muestra de hombres?\n",
        "\n",
        "c) ¿Cuál es la probabilidad de que la media muestral no difiera en más de 3 golpes de la media poblacional en la muestra de golfistas mujeres?\n",
        "\n",
        "d) ¿En cuál de los casos, inciso a) o inciso b), es mayor la probabilidad de que la media muestral no difiera en más de 3 golpes de la media poblacional? ¿Por qué?\n",
        "\n",
        "\n",
        "<span style=\"color: #009929;\">**Solucion:** </span>\n",
        "\n",
        "$a)$ La distribución de muestreo de la media muestral, $\\bar{x}$ , se puede describir como una distribución normal con una media igual a la media poblacional y una desviación estándar igual a $\\frac{σ}{\\sqrt{n}}$, donde $n$ es el tamaño de la muestra. \\\\\n",
        "Resolvemos para los golfistas hombre:\n",
        "$$μ_{\\bar{x}_{hombres}}=μ_{hombres}=95$$\n",
        "$$σ_{\\bar{x}_{hombres}}=\\frac{σ_{hombres}}{\\sqrt{n_{hombres}}}=\\frac{14}{\\sqrt{130}}$$\n",
        "$$σ_{\\bar{x}}=2.56$$\n",
        "Resolvemos para los golfistas mujeres:\n",
        "$$μ_{\\bar{x}_{mujeres}}=μ_{mujeres}=106$$\n",
        "$$σ_{\\bar{x}_{mujeres}}=\\frac{σ_{mujeres}}{\\sqrt{n_{mujeres}}}=\\frac{14}{\\sqrt{45}}$$\n",
        "$$σ_{\\bar{x}}=2.09$$\n",
        "$b)$ Probabilidad de que la media muestral de hombres no difiera en más de 3 golpes de la media poblacional usaremos lo siguiente:\n",
        "$$z_{hombres}=\\frac{\\bar{x}-μ_{hombres}}{σ_{\\bar{x}_{hombres}}}$$\n",
        "Luego, buscaremos la probabilidad a:\n",
        "$$|z_{hombres}|\\leq \\frac{3}{σ_{\\bar{x}_{hombres}}}$$\n",
        "$$|z_{hombres}|\\leq \\frac{3}{2.56}$$\n",
        " Probabilidad de que la media muestral de hombres no difiera en más de 3 golpes es de 0.7580.\n",
        "\n",
        "$c)$ Probabilidad de que la media muestral de mujeres no difiera en más de 3 golpes de la media poblacional usaremos lo siguiente:\n",
        "$$z_{mujeres}=\\frac{\\bar{x}-μ_{mujeres}}{σ_{\\bar{x}_{mujeres}}}$$\n",
        "Luego, buscaremos la probabilidad a:\n",
        "$$|z_{mujeres}|\\leq \\frac{3}{σ_{\\bar{x}_{mujeres}}}$$\n",
        "$$|z_{mujeres}|\\leq \\frac{3}{2.09}$$\n",
        " Probabilidad de que la media muestral de mujeres no difiera en más de 3 golpes es de 0.8502.\n",
        "\n",
        " $d)$ Es el inciso c debido a que el tamano de la muestra es mayor.\n",
        "\n",
        "<span style=\"color: #009929;\">**Solucion con phyton:** </span>"
      ]
    },
    {
      "cell_type": "code",
      "execution_count": null,
      "metadata": {
        "id": "4xGeT6uFjs6q"
      },
      "outputs": [],
      "source": [
        "import scipy.stats as stats\n",
        "\n",
        "# Datos para hombres\n",
        "media_hombres = 95\n",
        "desviacion_hombres = 14\n",
        "tamanos_muestra_hombres = 30\n",
        "\n",
        "# Datos para mujeres\n",
        "media_mujeres = 106\n",
        "desviacion_mujeres = 14\n",
        "tamanos_muestra_mujeres = 45\n",
        "# SOLUCIO USANDO PYTHON\n",
        "# Diferencia máxima permitida en golpes\n",
        "diferencia_maxima = 3\n",
        "\n",
        "# a) Distribución de muestreo\n",
        "# Hombres\n",
        "media_muestra_hombres = media_hombres\n",
        "desviacion_muestra_hombres = desviacion_hombres / (tamanos_muestra_hombres ** 0.5)\n",
        "\n",
        "# Mujeres\n",
        "media_muestra_mujeres = media_mujeres\n",
        "desviacion_muestra_mujeres = desviacion_mujeres / (tamanos_muestra_mujeres ** 0.5)\n",
        "\n",
        "# b) Probabilidad para hombres\n",
        "z_hombres = diferencia_maxima / desviacion_muestra_hombres\n",
        "probabilidad_hombres = stats.norm.cdf(z_hombres) - stats.norm.cdf(-z_hombres)\n",
        "\n",
        "# c) Probabilidad para mujeres\n",
        "z_mujeres = diferencia_maxima / desviacion_muestra_mujeres\n",
        "probabilidad_mujeres = stats.norm.cdf(z_mujeres) - stats.norm.cdf(-z_mujeres)\n",
        "\n",
        "# d) Comparación de probabilidades\n",
        "if probabilidad_hombres > probabilidad_mujeres:\n",
        "    mayor_probabilidad = \"Hombres\"\n",
        "else:\n",
        "    mayor_probabilidad = \"Mujeres\"\n",
        "\n",
        "# Mostrar resultados\n",
        "print(f\"Distribución de muestreo para hombres: Media = {media_muestra_hombres}, Desviación = {desviacion_muestra_hombres}\")\n",
        "print(f\"Distribución de muestreo para mujeres: Media = {media_muestra_mujeres}, Desviación = {desviacion_muestra_mujeres}\")\n",
        "print(f\"b) Probabilidad de que la media muestral de hombres no difiera en más de 3 golpes: {probabilidad_hombres}\")\n",
        "print(f\"c) Probabilidad de que la media muestral de mujeres no difiera en más de 3 golpes: {probabilidad_mujeres}\")\n",
        "print(f\"d) En {mayor_probabilidad} es mayor la probabilidad de que la media muestral no difiera en más de 3 golpes.\")"
      ]
    },
    {
      "cell_type": "markdown",
      "metadata": {
        "id": "mUfwB7fajv0g"
      },
      "source": [
        "<style>\n",
        "    .indice_titulo{\n",
        "        display:flex;\n",
        "        color: #009929;\n",
        "    }\n",
        "</style>\n",
        "<span style=\"color: #009929;\">**Ejercicio 30.** </span>Para estimar la edad media de una población de 4 000 empleados se selecciona una muestra aleatoria simple de 40 sujetos.\n",
        "\n",
        "$a)$ ¿Usaría el factor de corrección para una población finita en el cálculo del error estándar de\n",
        "la media? Explique.\n",
        "\n",
        "$b)$ Si la desviación estándar poblacional es σ=8.2 años, calcule el error estándar con y sin\n",
        "el factor de corrección para una población finita. ¿Cuál es la base para ignorar el factor de\n",
        "corrección para la población finita si $n/N \\leq 0.05$?\n",
        "\n",
        "$c)$ ¿Cuál es la probabilidad de que la media muestral de las edades de los empleados no difiera\n",
        "en más de $\\pm2$ años de la media poblacional de las edades?\n",
        "\n",
        "<span style=\"color: #009929;\">**Solucion:** </span>\n",
        "\n",
        "$a)$ El factor de corrección para una población finita se usa cuando la muestra es una fracción significativa de la población total. El factor de corrección ajusta el error estándar de la media $(σ_{\\bar{x}})$ para tener en cuenta el hecho de que se está muestreando sin reemplazo de una población finita.\n",
        "La fórmula del error estándar de la media con el factor de corrección es:\n",
        "$$σ_{\\bar{x}}=\\frac{\\sigma}{N}\\times \\sqrt{\\frac{N-n}{N-1}}$$\n",
        "Donde $σ_{\\bar{x}}$ es el error estándar de la media, $sigma$ es la desciación estándar poblacional, $N$ es el tamaño de la población y $n$ es el tamaño de la muestra. \\\\\n",
        "En este caso, la población tiene 4,000 empleados y la muestra es de 40 sujetos. Si $n/N$ es pequeño (generalmente menor o igual a 0.05), se puede ignorar el factor de corrección.Entonces no usaremos el factor de correción\n",
        "\n",
        "$b)$ Ahora solo reemplazamos en la formula anterior:\n",
        "\n",
        "Con factor de correción:\n",
        "$$σ_{\\bar{x}}=\\frac{8.2}{4000}\\times \\sqrt{\\frac{4000-40}{4000-1}}$$\n",
        "$$σ_{\\bar{x}}=1.29$$\n",
        "Sin factor de corrección:\n",
        "$$σ_{\\bar{x}}=\\frac{8.2}{\\sqrt{40}}$$\n",
        "$$σ_{\\bar{x}}=1.30$$\n",
        "Entonces hay poca diferencia entre usar el factor de corrección o no.\n",
        "\n",
        "$c)$ Para esto necesitaremos usar la distribución normal y la puntuación z. La fórmula de la puntuación z es:\n",
        "$$z=\\frac{\\bar{x}-μ}{\\frac{σ}{\\sqrt{n}}}$$\n",
        "Donde $\\bar{x}$ es la media muestral, μ es la media poblacional, σ es la desviación estándar poblacional, y $n$ es el tamaño de la muestra. Ahora reemplazamos:\n",
        "$$z=\\frac{-2}{\\frac{8.2}{\\sqrt{40}}}$$\n",
        "$$z=-1.54$$\n",
        "Ahora calculamos la probabilidad asociada con $-2\\leq z\\leq2$ usando una tabla de la distribución normal estándar o una calculadora estadística. \\\\\n",
        "Dandonos que la probabilidad de que no difiera en más  de $\\pm2$ es de 0.8764."
      ]
    },
    {
      "cell_type": "markdown",
      "metadata": {
        "id": "6Nctq6iujztZ"
      },
      "source": [
        "[texto del enlace](https://)<style>\n",
        "        .indice_titulo{\n",
        "        display:flex;\n",
        "        color: #009929;\n",
        "    }\n",
        "        span.section-number {\n",
        "        background-color: #009929;\n",
        "        border-radius: 50%;\n",
        "        color: white;\n",
        "        font-weight: bold;\n",
        "        padding: 0.5em;\n",
        "        display: inline-flex;\n",
        "        justify-content: center;\n",
        "        align-items: center;\n",
        "        width: 1.5em;\n",
        "        height: 1.5em;\n",
        "        font-size: 1em;\n",
        "        margin-right: 0.5em;\n",
        "    }\n",
        "</style>\n",
        "## <div class = \"indice_titulo\"><span class=\"section-number\">7.6</span> **Distribución de muestreo $\\bar{p}$**</div>\n",
        "La proporción muestral $\\bar{p}$ es el estimador puntual de la proporción poblacional $p$. La fórmula\n",
        "para calcular la proporción muestral es\n",
        "$$\\bar{p}=\\frac{x}{n}$$\n",
        "donde\n",
        "$$x=número de elementos de la muestra que poseen la característica de interés$$\n",
        "$$n=tamaño de la muestra$$\n",
        "Como se indica en la sección 7.4, la proporción muestral $\\bar{p}$ es una variable aleatoria y su distribución de probabilidad se conoce como distribución de muestreo de $\\bar{p}$.\n",
        "\n",
        "Distribución de muestreo de $\\bar{p}$\n",
        "\n",
        "La distribución de muestreo de $\\bar{p}$ es la distribución de probabilidad de todos los posibles valores de la proporción muestral $\\bar{p}$.\n",
        "\n",
        "Para determinar qué tan cerca está la proporción muestral $\\bar{p}$ de la proporción poblacional $\\bar{p}$, es necesario entender las propiedades de la distribución de muestreo de p: el valor esperado de $\\bar{p}$, la desviación estándar de $\\bar{p}$ y la forma de la distribución de muestreo de $\\bar{p}$."
      ]
    },
    {
      "cell_type": "markdown",
      "metadata": {
        "id": "-12ek2V7j3Ur"
      },
      "source": [
        "<style>\n",
        "    .indice_titulo{\n",
        "        display:flex;\n",
        "        color: #009929;\n",
        "    }\n",
        "</style>\n",
        "### <div class = \"indice_titulo\">**Valor esperado de $\\bar{p}$**</div>\n",
        "\n",
        "El valor esperado de $\\bar{p}$, la media de todos los posibles valores de $\\bar{p}$, es igual a la proporción\n",
        "poblacional $\\bar{p}$.\n",
        "\n",
        "VALOR ESPERADO DE $\\bar{p}$\n",
        "$$E(\\bar{p})=p$$\n",
        "donde\n",
        "$$E(\\bar{p})=valor\\ esperado\\ de\\ \\bar{p}$$\n",
        "$$p=proporción\\ poblacional$$\n",
        "Como $E(\\bar{p})=p$, $\\bar{p}$ es un estimador insesgado de $p$. Recuerde que en la sección 7.1 se\n",
        "encontró que en la población de EAI, p  0.60, siendo $p$ la proporción de la población de gerentes\n",
        "que han participado en el programa de capacitación de la empresa. Por tanto, el valor esperado\n",
        "de $\\bar{p}$ en el problema de muestreo de EAI es 0.60. \\\\\n",
        "Desviación estándar de $\\bar{p}$ \\\\\n",
        "Como en el caso de la desviación estándar de $\\bar{x}$, la desviación estándar de $\\bar{p}$ depende de si la\n",
        "población es fi nita o infi nita. Las dos fórmulas para calcularla se presentan a continuación. \\\\\n",
        "DESVIACIÓN ESTÁNDAR DE $\\bar{p}$ \\\\\n",
        "Polación finita\n",
        "$$σ_{\\bar{p}}=\\sqrt{\\frac{N-n}{N-1}}\\sqrt{\\frac{p(1-p)}{n}}$$\n",
        "Polación infinita\n",
        "$$σ_{\\bar{p}}=\\sqrt{\\frac{p(1-p)}{n}}$$\n",
        "\n",
        "Al comparar las dos fórmulas en (7.5) se aprecia que la única diferencia es el uso del factor\n",
        "de corrección para una población finita $\\sqrt{(N-n)(N-1)}$. \\\\\n",
        "Como en el caso de la media muestral $\\bar{x}$, la diferencia entre las expresiones para una población fi nita y una infi nita es despreciable si el tamaño de la población finita es grande en\n",
        "comparación con el tamaño de la muestra. Se seguirá la misma regla recomendada para la media muestral. Es decir, si la población es finita y $n/N\\leq 0.5$ se usará $σ_{\\bar{p}}=\\sqrt{p(1-p)/n}$. Pero\n",
        "si la población es finita y $n/N>0.5$, entonces deberá utilizarse el factor de corrección para\n",
        "una población finita. También, a menos que se especifique otra cosa, en este libro se supondrá\n",
        "que el tamaño de la población es grande en comparación con el tamaño de la muestra y, por\n",
        "tanto, el factor de corrección para una población finita no será necesario. \\\\\n",
        "En la sección 7.5 se utilizó el término error estándar de la media para referirse a la desviación estándar de $\\bar{x}$. Se dijo que en general la expresión error estándar se refiere a la desviación\n",
        "estándar de un estimador puntual. Así, en el caso de proporciones, se usa el error estándar de la proporción para referirse a la desviación estándar de $\\bar{p}$. Ahora se vuelve al ejemplo de EAI\n",
        "para calcular el error estándar de la proporción asociada con la muestra aleatoria simple de los\n",
        "30 gerentes de EAI. \\\\\n",
        "En el estudio de EAI se sabe que la proporción poblacional de gerentes que han participado\n",
        "en el programa de capacitación es $p=0.60$. Como $n/N=0/2 500=0.012$, se puede ignorar el\n",
        "factor de corrección para una población fi nita al calcular el error estándar de la proporción. En\n",
        "la muestra aleatoria simple de 30 gerentes, $σ_{\\bar{p}}$ es\n",
        "$$σ_{\\bar{p}}=\\sqrt{\\frac{p(1-p)}{n}}=\\sqrt{\\frac{0.60(1-0.60)}{30}}=0.0894$$\n",
        "\n",
        "### <div class = \"indice_titulo\">**Forma de la distribución de muestreo de $\\bar{p}$**</div>\n",
        "\n",
        "Ahora que se conoce la media y la desviación estándar de la distribución de muestreo de $\\bar{p}$, el\n",
        "úl-timo paso es determinar la forma de esta distribución. La proporción muestral es $\\bar{p}  =x/n$. En\n",
        "una muestra aleatoria simple de una población grande, el valor de $\\bar{x}$ es una variable aleatoria\n",
        "binomial que indica el número de los elementos de la muestra que tienen la característica de\n",
        "interés. Como $n$ es una constante, la probabilidad de $x/n$ es la misma que la probabilidad binomial de $\\bar{x}$, lo cual signifi ca que la distribución de muestreo de $\\bar{p}$ también es una distribución de\n",
        "probabilidad discreta y la probabilidad de cada $x/n$ es la misma que la de $\\bar{x}$. \\\\\n",
        "En el capítulo 6 se estableció que una distribución binomial se aproxima mediante una\n",
        "distribución normal, siempre que el tamaño de la muestra sea lo sufi cientemente grande para\n",
        "satisfacer las dos condiciones siguientes.\n",
        "$$np\\geq 5$$\n",
        "y\n",
        "$$n(1-p)\\geq5$$\n",
        "Suponiendo que se satisfagan estas dos condiciones, la distribución de probabilidad de x en\n",
        "la proporción muestral, $\\bar{p}=x/n$, puede aproximarse por medio de una distribución normal. Y\n",
        "como $n$ es una constante, la distribución de muestreo de $\\bar{p}$ también se aproxima mediante una\n",
        "distribución normal. Esta aproximación se formula como se indica enseguida: \\\\\n",
        "La distribución de muestreo de $\\bar{p}$ se aproxima mediante una distribución normal, siempre que $np\\geq5$ y $n(1-p)\\geq5$. \\\\\n",
        "En las aplicaciones prácticas, cuando se requiere una estimación de la proporción poblacional, casi siempre se encuentra que el tamaño de la muestra es sufi cientemente grande para\n",
        "permitir usar la aproximación normal para la distribución de muestreo de $\\bar{p}$. \\\\\n",
        "Recuerde que en el problema de muestreo de EAI la proporción poblacional de gerentes\n",
        "que han participado en el programa de capacitación es $p=0.60$. Con una muestra aleatoria\n",
        "simple de tamaño 30, se tiene $np = 30(0.60)  =18$ y $n(l-p)=  30 (0.40) = 12$. Por tanto, la\n",
        "distribución de muestreo de p se calcula mediante la distribución normal que se presenta en\n",
        "la figura 7.8. \\\\\n",
        "\n",
        "### <div class = \"indice_titulo\">**Valor práctico de la distribución de muestreo de $\\bar{p}$**</div>\n",
        "\n",
        "El valor práctico de la distribución de muestreo de $\\bar{p}$ radica en que permite obtener información\n",
        "probabilística acerca de la diferencia entre la proporción muestral y la proporción poblacional.\n",
        "Por ejemplo, en el problema de EAI, el director de personal desea saber cuál es la probabilidad\n",
        "de obtener un valor de $\\bar{p}$ que no difi era en más de 0.05 de la proporción poblacional de los gerentes de EAI que han participado en el programa de capacitación. Es decir, ¿cuál es la probabilidad de tener una muestra en la que la proporción muestral $\\bar{p}$ esté entre 0.55 y 0.65? El área\n",
        "sombreada de la figura 7.9 corresponde a esta probabilidad. A partir de que la distribución de\n",
        "muestreo de $\\bar{p}$ se aproxima mediante una distribución normal con media 0.60 y un error estándar\n",
        "de la proporción $σ_{\\bar{p}}=  0.0894$, se encuentra que la variable aleatoria normal estándar correspondiente a $\\bar{p}=0.65$ tiene el valor $z  (0.65 - 0.60)/0.0894 =0.56$. En la tabla de probabilidad\n",
        "normal estándar aparece que la probabilidad acumulada que corresponde a $z= 0.56$ es 0.7123.\n",
        "De manera similar para $\\bar{p}=0.55$, se encuentra que $z = (0.55 - 0.60)/0.0894= -0.56$. En la\n",
        "misma tabla se aprecia que la probabilidad acumulada correspondiente a $z= -0.56$ es 0.2877.\n",
        "De esta manera, la probabilidad de seleccionar una muestra en la cual el valor de $\\bar{p}$ no difiera\n",
        "más de 0.05 de la proporción poblacional p está dada por 0.7123 - 0.2877 = 0.4246.\n",
        "\n",
        "<span style=\"color: #009929;\"> **Figura 7.8** Distribución de muestreo de $\\bar{p}$ para la proporción de gerentes que ha participado en el programa de capacitación de EAI </span>"
      ]
    },
    {
      "cell_type": "code",
      "execution_count": null,
      "metadata": {
        "colab": {
          "base_uri": "https://localhost:8080/",
          "height": 430
        },
        "id": "7YGTf7nFYY9W",
        "outputId": "0cfa544a-2205-4583-b40f-36cd43ab1fe2"
      },
      "outputs": [
        {
          "data": {
            "image/png": "[encoded data removed]",
            "text/plain": [
              "<Figure size 640x480 with 1 Axes>"
            ]
          },
          "metadata": {},
          "output_type": "display_data"
        }
      ],
      "source": [
        "import numpy as np\n",
        "import matplotlib.pyplot as plt\n",
        "from scipy.stats import norm\n",
        "\n",
        "# Parámetros del problema\n",
        "proporcion_poblacional = 0.60\n",
        "error_estandar_proporcion = 0.0894\n",
        "\n",
        "# Valores para la distribución de muestreo de p\n",
        "p_vals = np.linspace(0, 1, 1000)\n",
        "\n",
        "# Calcula la función de densidad de probabilidad para cada valor de p\n",
        "pdf_vals = norm.pdf(p_vals, loc=proporcion_poblacional, scale=error_estandar_proporcion)\n",
        "\n",
        "# Crea el gráfico de la distribución de muestreo de p\n",
        "#plt.figure(figsize=(10, 6))\n",
        "plt.plot(p_vals, pdf_vals, color='#009929', label='Distribución de Muestreo de p')\n",
        "plt.gca().set_facecolor('#d4f8b7')\n",
        "#plt.title('Distribución de Muestreo de p')\n",
        "plt.text(0.05, 0.7,r'Distribución de muestreo', transform=plt.gca().transAxes, fontsize=12, verticalalignment='top')\n",
        "plt.text(0.05, 0.6,r'de $\\bar{p}$', transform=plt.gca().transAxes, fontsize=12, verticalalignment='top')\n",
        "plt.text(0.95, 0.4, r'$\\sigma_{\\bar{p}}=0.0894$', transform=plt.gca().transAxes, fontsize=12, verticalalignment='top', horizontalalignment='right')\n",
        "plt.text(0.75, 0, r'$E(\\bar{p})$', transform=plt.gca().transAxes, fontsize=12, verticalalignment='top', horizontalalignment='right')\n",
        "area_interes = np.logical_and(p_vals >= 0.55, p_vals <= 0.65)\n",
        "plt.xticks([0.60],['0.60'])\n",
        "plt.yticks([])\n",
        "plt.show()\n"
      ]
    },
    {
      "cell_type": "markdown",
      "metadata": {
        "id": "Ua0z40sFj64B"
      },
      "source": [
        "Si se aumenta el tamaño de la muestra a $n=100$, el error estándar de la proporción se convierte en\n",
        "$$σ_{\\bar{p}}=\\sqrt{\\frac{0.60(1-0.60)}{100}}=0.049$$\n",
        "Con una muestra de 100 gerentes de EAI, se calcula ahora la probabilidad de que la proporción muestral tenga un valor que no difiera en más de 0.05 de la proporción poblacional. Como la distribución de muestreo es aproximadamente normal, con media 0.60 y desviación estándar\n",
        "0.049, se puede usar la tabla de probabilidad normal estándar para determinar el área o probabilidad. Para $\\bar{p}=0.65$, se tiene $z=(0.65 - 0.60)/0.049 =1.02$. La tabla de probabilidad normal estándar indica que la probabilidad acumulada correspondiente a $z=1.02$ es 0.8461. De\n",
        "\n",
        "<span style=\"color: #009929;\"> **Figura 7.9** Probabilidad de que $\\bar{p}$ esté entre 0.55 y 0.65 </span>"
      ]
    },
    {
      "cell_type": "code",
      "execution_count": null,
      "metadata": {
        "colab": {
          "base_uri": "https://localhost:8080/",
          "height": 522
        },
        "id": "T1ZEMS0xYDIw",
        "outputId": "397f9602-6f54-45ef-9a5a-fd658b090c28"
      },
      "outputs": [
        {
          "data": {
            "image/png": "[encoded data removed]",
            "text/plain": [
              "<Figure size 1000x600 with 1 Axes>"
            ]
          },
          "metadata": {},
          "output_type": "display_data"
        }
      ],
      "source": [
        "import numpy as np\n",
        "import matplotlib.pyplot as plt\n",
        "from scipy.stats import norm\n",
        "\n",
        "# Parámetros del problema\n",
        "media_poblacional = 0.60\n",
        "desviacion_estandar = 0.049\n",
        "\n",
        "# Valores para la distribución de muestreo de p\n",
        "p_vals = np.linspace(0, 1, 1000)\n",
        "\n",
        "# Calcula la función de densidad de probabilidad para cada valor de p\n",
        "pdf_vals = norm.pdf(p_vals, loc=media_poblacional, scale=desviacion_estandar)\n",
        "\n",
        "# Crea el gráfico de la distribución de muestreo de p\n",
        "plt.figure(figsize=(10, 6))\n",
        "plt.plot(p_vals, pdf_vals, color='#009929', label='Distribución de Muestreo de p')\n",
        "\n",
        "# Añadir líneas verticales para marcar los límites de 0.55 y 0.65\n",
        "plt.axvline(x=0.55, color='#008000', linestyle='--', label='Límite Inferior (0.55)')\n",
        "plt.axvline(x=0.65, color='#008000', linestyle='--', label='Límite Superior (0.65)')\n",
        "\n",
        "area_interes = np.logical_and(p_vals >= 0.55, p_vals <= 0.65)\n",
        "area_interes2 = np.logical_and(p_vals >= 0, p_vals <= 0.55)\n",
        "plt.gca().set_facecolor('#d4f8b7')\n",
        "plt.fill_between(p_vals, pdf_vals, where=area_interes, color='#5ccb5f', alpha=0.3, label='Probabilidad Deseada')\n",
        "plt.fill_between(p_vals, pdf_vals, where=area_interes2, color='#98F84A', alpha=0.3, label='Probabilidad Deseada')\n",
        "plt.xticks([0.55,0.60,0.65],['0.55','0.60','0.65'])\n",
        "plt.yticks([])\n",
        "plt.text(0.05, 0.7,r'Distribución de muestreo', transform=plt.gca().transAxes, fontsize=12, verticalalignment='top')\n",
        "plt.text(0.05, 0.6,r'de $\\bar{p}$', transform=plt.gca().transAxes, fontsize=12, verticalalignment='top')\n",
        "plt.text(0.2, 0.2,r'$P(\\bar{p} \\leq  0.55) =0.2877$', transform=plt.gca().transAxes, fontsize=12, verticalalignment='top')\n",
        "plt.text(0.8, 0.4, r'$\\sigma_{\\bar{p}}=0.0894$', transform=plt.gca().transAxes, fontsize=12, verticalalignment='top', horizontalalignment='right')\n",
        "plt.text(0.95, 0.3, r'$P(0.55 \\leq p \\leq 0.65)=0.4246$', transform=plt.gca().transAxes, fontsize=12, verticalalignment='top', horizontalalignment='right')\n",
        "plt.text(0.95, 0.2, r'$=0.7123- 0.2877$', transform=plt.gca().transAxes, fontsize=12, verticalalignment='top', horizontalalignment='right')\n",
        "plt.text(0.75, 0, r'$E(\\bar{p})$', transform=plt.gca().transAxes, fontsize=12, verticalalignment='top', horizontalalignment='right')\n",
        "#plt.legend()\n",
        "plt.show()"
      ]
    },
    {
      "cell_type": "markdown",
      "metadata": {
        "id": "kDepsP_SIoP5"
      },
      "source": [
        "manera similar, para $\\bar{p}$ 0.55, se tiene que $z$ $=$(0.55 $–$ 0.60)$/$0.049$=$ $-$ 1.02. Se encuentra que la probabilidad acumulada correspondiente a $z=$ 1.02 es 0.1539. Por tanto, si el tamaño de la muestra aumenta de 30 a 100, la probabilidad de que la proporción muestral $\\bar{p}$ no difiera en más\n",
        "de 0.05 de la proporción poblacional $p$ aumenta a 0.8461 0.1539 0.6922."
      ]
    },
    {
      "cell_type": "markdown",
      "metadata": {
        "id": "WGUGmBEXEH_A"
      },
      "source": [
        "<style>\n",
        "    .ejercicios{\n",
        "        color:white;\n",
        "        background-color:#009929;\n",
        "        padding-left:20px;\n",
        "    }\n",
        "</style>\n",
        "### <div class = \"ejercicios\">Ejercicios</div>\n"
      ]
    },
    {
      "cell_type": "markdown",
      "metadata": {
        "id": "naMzrBLhEa0t"
      },
      "source": [
        "\n",
        "<style>\n",
        "    .indice_titulo{\n",
        "        display:flex;\n",
        "        color: #009929;\n",
        "    }\n",
        "</style>\n",
        "### <div class = \"indice_titulo\">**Metodo**</div>\n",
        "31.   Una muestra aleatoria de tamaño 100 es seleccionada de una población en la que $p=$ 0.40.\n",
        "   \n",
        "  $a)$  $¿$Cuál es el valor esperado de $\\bar{p}?$\n",
        "\n",
        "  $b)$  $¿$Cuál es el error estándar de $\\bar{p}?$\n",
        "\n",
        "  $c)$ Exprese la distribución de muestreo de $\\bar{p}$.\n",
        "\n",
        "  $d)$ $¿$Qué indica esta distribución$?$\n",
        "\n",
        "32.   Una proporción poblacional es 0.40. Se toma una muestra aleatoria simple de tamaño 200 y la proporción muestral $\\bar{p}$ se usa para estimar la proporción poblacional.\n",
        "\n",
        "  $a)$ $¿$Cuál es la probabilidad de que la proporción muestral esté entre $\\pm$0.03 de la proporción\n",
        "poblacional$?$\n",
        "\n",
        "$b)$ $¿$ Cuál es la probabilidad de que la proporción muestral se encuentre entre $\\pm$0.05 de la\n",
        "proporción poblacional$?$\n",
        "\n",
        "33.   Suponga que la proporción poblacional es 0.55. Calcule el error estándar de la proporción, $σ\\small{\\bar{p}}$ , para los tamaños de muestra 100, 200, 500 y 1 000. $¿$Qué puede decir acerca del tamaño del error estándar a medida que el tamaño de la muestra aumenta$?$\n",
        "34.   La proporción poblacional es 0.30. ¿Cuál es la probabilidad de que las proporciones muestral y poblacional estén entre $\\pm$0.04 con los tamaños de muestra siguientes$?$\n",
        "  $a)$    $n=$100\n",
        "\n",
        "  $b)$    $n=$200\n",
        "  \n",
        "  $c)$    $n=$500\n",
        "  \n",
        "  $d)$    $n=$1000\n",
        "  \n",
        "  $e)$    $¿$Qué ventaja tiene un tamaño grande de muestra$?$\n",
        "   "
      ]
    },
    {
      "cell_type": "markdown",
      "metadata": {
        "id": "HWIB1GYZMVO9"
      },
      "source": [
        "\n",
        "<style>\n",
        "    .indice_titulo{\n",
        "        display:flex;\n",
        "        color: #009929;\n",
        "    }\n",
        "</style>\n",
        "### <div class = \"indice_titulo\">**Aplicacion**</div>\n",
        "\n",
        "35.   El director de Doerman Distributors, Inc. piensa que 30% de los pedidos proviene de nuevos clientes. Para ver la proporción de clientes nuevos se usará una muestra aleatoria simple de 100\n",
        "pedidos.\n",
        "\n",
        "  $a)$ Supongamos que el director está en lo cierto y que $p$ 0.30. $¿$Cuál es la distribución de muestreo de $\\bar{p}$ en este estudio$?$\n",
        "  \n",
        "  $b)$ $¿$Cuál es la probabilidad de que la proporción muestral de $\\bar{p}$ esté entre 0.20 y 0.40$?$\n",
        "\n",
        "  $c)$ $¿$Cuál es la probabilidad de que esté entre 0.25 y 0.35$?$\n",
        "\n",
        "36.   *The Cincinnati Enquirer* informa que en Estados Unidos 66% de los adultos y 87% de los jóvenes entre 12 y 17 años usan Internet (*The Cincinnati Enquirer*, 7 de febrero de 2006). Considere estos datos como proporciones poblacionales y suponga que se usará una muestra de 300 adultos y 300 jóvenes para obtener información respecto de su opinión acerca de la seguridad\n",
        "en Internet.\n",
        "\n",
        "   $a)$ Exponga la distribución de muestreo de $\\bar{p}$, siendo $\\bar{p}$ la proporción muestral de adultos que usan Internet.\n",
        "\n",
        "   $b)$ $¿$Cuál es la probabilidad de que la diferencia entre la proporción muestral y la proporción poblacional de adultos que usan Internet no sea mayor que $\\pm$ 0.04$?$\n",
        "\n",
        "   $c)$ $¿$ Cula se que la diferencia entre la proporción muestral y la proporción poblacional de jóvenes que usan Internet no sea mayor que  $\\pm$ 0.04$?$\n",
        "\n",
        "   $d)$ $¿$Son diferentes las probabilidades del inciso $b)$ y del inciso $c)?$ Si es así, $¿$por qué$?$\n",
        "\n",
        "   $e)$ Responda al inciso $b)$ en el caso de que el tamaño de la muestra sea 600. $¿$Es menor la probabilidad$?$ $¿$Por qué$?$\n",
        "\n",
        "37.   Las personas terminan por desechar 12% de lo que compran en el supermercado (*Reader’s Digest*, marzo de 2009). Asuma que ésta es la verdadera proporción poblacional y que planea realizar una encuesta por muestreo de 450 compradores para investigar más acerca de su comportamiento.\n",
        "\n",
        "   $a)$ Presente la distribución de muestreo de $\\bar{p}$, la proporción de mercancía que desechan los encuestados de la muestra.\n",
        "\n",
        "   $b)$ $¿$Cuál es la probabilidad de que la encuesta genere una proporción muestral de $\\pm$ 0.03 de la proporción poblacional$?$\n",
        "\n",
        "   $c)$ $¿$Cuál es la probabilidad de que la encuesta genere una proporción muestral de $\\pm$ 0.015 de la proporción poblacional$?$\n",
        "\n",
        "\n",
        "38.   Roper ASW realizó una encuesta para obtener información acerca de la opinión de los estadounidenses respecto del dinero y la felicidad (Money, octubre de 2003). De los entrevistados, 56% dijo revisar el estado de su chequera por lo menos una vez al mes.\n",
        "\n",
        "  $a)$ Suponga que se toma una muestra de 400 estadounidenses adultos. Indique la distribución de muestreo de la proporción de éstos que revisa el estado de su chequera por lo menos una vez al mes.\n",
        "\n",
        "  $b)$ $¿$Cuál es la probabilidad de que la diferencia entre las proporciones muestral y poblacional no sea mayor que $\\pm$ 0.02$?$\n",
        "\n",
        "  $c)$ $¿$Cuál es la probabilidad de que dicha diferencia no sea mayor que $\\pm$0.04$?$\n",
        "\n",
        "39.   En 2008, el *Better Business Bureau* resolvió 75% de las quejas que recibió (*USA Today*, 2 de marzo de 2009). Suponga que ha sido contratado por esta oficina para investigar los reclamos que recibió este año y que involucran a nuevos concesionarios automotrices. Usted planea seleccionar una muestra de las quejas de estos últimos para estimar la proporción que el Better Business Bureau está en posibilidad de resolver. Asuma que la proporción poblacional de quejas resueltas de nuevos concesionarios automotrices es 0.75, la misma que la proporción general de reclamos resueltos en 2008.\n",
        "\n",
        " $a)$ Suponga que selecciona una muestra de 450 quejas que involucran a nuevos concesionarios automotrices. Presente la distribución muestral de $\\bar{p}$.\n",
        "\n",
        " $b)$ Con base en la muestra de 450 quejas, ¿cuál es la probabilidad de que la diferencia entre las proporciones muestral y poblacional no sea mayor que 0.04?\n",
        "\n",
        " $c)$ Suponga que selecciona una muestra de 200 quejas que involucran a nuevos concesionarios automotrices. Presente la distribución de muestreo de $\\bar{p}$.\n",
        "\n",
        " $d)$ Con base en la muestra más pequeña de sólo 200 quejas, ¿cuál es la probabilidad de que la diferencia entre las proporciones muestral y poblacional no sea mayor que 0.04?\n",
        "\n",
        " $e)$ Con base en lo determinado por el incremento en la probabilidad, ¿qué tanto se ganaría en precisión si se tomara la muestra más grande en el inciso $b)$?\n",
        "\n",
        "40.   The Grocery Manufacturers of America informa que 76% de los consumidores lee los ingredientes que se mencionan en la etiqueta de un producto. Suponga que la proporción poblacional es $p$ = 0.76 y que de la población de consumidores se selecciona una muestra de 400.\n",
        "\n",
        " $a)$ Exprese la distribución de muestreo de la proporción muestral $\\bar{p}, si $\\bar{p} es la proporción de consumidores de la muestra que lee los ingredientes que se mencionan en la etiqueta.\n",
        "\n",
        " $b)$ ¿Cuál es la probabilidad de que la diferencia entre las proporciones muestral y poblacional no sea mayor que $\\pm$ 0.03?\n",
        "\n",
        " $c)$ Conteste el inciso $b)$ si el tamaño de la muestra es 750 consumidores.\n",
        "\n",
        "41.   El Food Marketing Institute informa que 17% de los hogares gasta más de $100 en productos de abarrotes. Suponga que la proporción poblacional es p 0.17 y que de la población se toma una muestra aleatoria simple de 800 hogares.\n",
        "\n",
        " $a)$ Exprese la distribución de muestreo de $\\bar{p}$, la proporción muestral de hogares que gastan más de $100 semanales en abarrotes.\n",
        "\n",
        " $b)$ ¿Cuál es la probabilidad de que la proporción poblacional no difiera en más de 0.02 de la proporción poblacional?\n",
        "\n",
        " $c)$ Conteste el inciso b) en caso de que el tamaño de la muestra sea de 1 600 hogares.\n"
      ]
    },
    {
      "cell_type": "markdown",
      "metadata": {
        "id": "4L71mfeiB6tH"
      },
      "source": [
        "\n",
        "<style>\n",
        "        .indice_titulo{\n",
        "        display:flex;\n",
        "        color: #009929;\n",
        "    }\n",
        "        span.section-number {\n",
        "        background-color: #009929;\n",
        "        border-radius: 50%;\n",
        "        color: white;\n",
        "        font-weight: bold;\n",
        "        padding: 0.5em;\n",
        "        display: inline-flex;\n",
        "        justify-content: center;\n",
        "        align-items: center;\n",
        "        width: 1.5em;\n",
        "        height: 1.5em;\n",
        "        font-size: 1em;\n",
        "        margin-right: 0.5em;\n",
        "    }\n",
        "</style>\n",
        "## <div class = \"indice_titulo\"><span class=\"section-number\">7.8</span> **Propiedades de los estimadores puntuales**</div>"
      ]
    },
    {
      "cell_type": "markdown",
      "metadata": {
        "id": "TRV32oStPbcj"
      },
      "source": [
        "\n",
        "\n",
        "En este capítulo se ha explicado que los estadísticos muestrales, como la media muestral x, la desviación estándar muestral $s$ y la proporción muestral $\\bar{p}$  sirven como estimadores puntuales de sus correspondientes parámetros poblacionales, $μ$, $σ$ y $p$. Resulta interesante advertir\n",
        "que cada uno de estos estadísticos muestrales sean los estimadores puntuales de sus correspondientes parámetros poblacionales. Sin embargo, antes de usar un estadístico muestral como estimador puntual, se verifi ca si éste tiene ciertas propiedades que corresponden a un buen estimador puntual. En esta sección se estudian las propiedades que deben tener los buenos estimadores puntuales: insesgadez, efi ciencia y consistencia.\n",
        "Como hay distintos estadísticos muestrales que se utilizan como estimadores puntuales de sus diferentes parámetros poblacionales, en esta sección se usará la notación general siguiente."
      ]
    },
    {
      "cell_type": "markdown",
      "metadata": {
        "id": "JBYxv9JPPrWy"
      },
      "source": [
        "  <center>$θ =$ parámetro poblacional de interés<center>\n",
        "\n",
        "<center><font color='white'>......................</font>$\\hat{\\theta}=$ estadístico muestral o estimador puntual de $θ$</center>"
      ]
    },
    {
      "cell_type": "markdown",
      "metadata": {
        "id": "L-WWbDDcPvHq"
      },
      "source": [
        "\n",
        "<style>\n",
        "    .indice_titulo{\n",
        "        display:flex;\n",
        "        color: #009929;\n",
        "    }\n",
        "</style>\n",
        "### <div class = \"indice_titulo\">**Insesgadez**</div>\n",
        "Si el valor esperado del estadístico muestral es igual al parámetro poblacional que se estima, se dice que el estadístico muestral es un *estimador insesgado* del parámetro poblacional."
      ]
    },
    {
      "cell_type": "code",
      "execution_count": null,
      "metadata": {
        "colab": {
          "base_uri": "https://localhost:8080/",
          "height": 208
        },
        "id": "nltYrv0jQFPA",
        "outputId": "23af6f49-cc9f-430b-d586-a995f26e2e23"
      },
      "outputs": [
        {
          "data": {
            "text/html": [
              "\n",
              "<script src=\"https://polyfill.io/v3/polyfill.min.js?features=es6\"></script>\n",
              "<script id=\"MathJax-script\" async src=\"https://cdn.jsdelivr.net/npm/mathjax@3/es5/tex-mml-chtml.js\"></script>\n",
              "<style>\n",
              "  .custom-container {\n",
              "    background-color: #D4F8B7; /* Color de fondo */\n",
              "    padding: 10px;\n",
              "    border: none; /* Eliminar bordes */\n",
              "    border-radius: 0; /* Eliminar esquinas redondeadas */\n",
              "  }\n",
              "  .custom-text {\n",
              "    color: #000000; /* Color del texto */\n",
              "    font-size: 18px;\n",
              "    font-weight: bold;\n",
              "    display: flex;\n",
              "    justify-content: center;\n",
              "    align-items: center;\n",
              "  }\n",
              "</style>\n",
              "<div class=\"custom-container\">\n",
              "  <p>INSESGADEZ</p>\n",
              "  <p>El estadístico muestral \\(\\hat{\\theta}\\) es un estimador insesgado del parámetro poblacional \\({\\theta}\\) si</p>\n",
              "  <br>\n",
              "  <p class=\"custom-text\">\\({E}\\)\\((\\hat{\\theta})\\)  \\(={\\theta}\\)</p>\n",
              "\n",
              "  <p>donde</p>\n",
              "  <p >\\({E}\\)\\((\\hat{\\theta})\\)  valor esperado del estadístico muestral \\({\\theta}\\)</p>\n",
              "</div>\n"
            ],
            "text/plain": [
              "<IPython.core.display.HTML object>"
            ]
          },
          "metadata": {},
          "output_type": "display_data"
        }
      ],
      "source": [
        "from IPython.display import HTML, display\n",
        "\n",
        "# Código para colocar el símbolo LaTeX en el fondo de texto\n",
        "html_code = \"\"\"\n",
        "<script src=\"https://polyfill.io/v3/polyfill.min.js?features=es6\"></script>\n",
        "<script id=\"MathJax-script\" async src=\"https://cdn.jsdelivr.net/npm/mathjax@3/es5/tex-mml-chtml.js\"></script>\n",
        "<style>\n",
        "  .custom-container {\n",
        "    background-color: #D4F8B7; /* Color de fondo */\n",
        "    padding: 10px;\n",
        "    border: none; /* Eliminar bordes */\n",
        "    border-radius: 0; /* Eliminar esquinas redondeadas */\n",
        "  }\n",
        "  .custom-text {\n",
        "    color: #000000; /* Color del texto */\n",
        "    font-size: 18px;\n",
        "    font-weight: bold;\n",
        "    display: flex;\n",
        "    justify-content: center;\n",
        "    align-items: center;\n",
        "  }\n",
        "</style>\n",
        "<div class=\"custom-container\">\n",
        "  <p>INSESGADEZ</p>\n",
        "  <p>El estadístico muestral \\\\(\\hat{\\\\theta}\\\\) es un estimador insesgado del parámetro poblacional \\\\({\\\\theta}\\\\) si</p>\n",
        "  <br>\n",
        "  <p class=\"custom-text\">\\\\({E}\\\\)\\\\((\\hat{\\\\theta})\\\\)  \\\\(={\\\\theta}\\\\)</p>\n",
        "\n",
        "  <p>donde</p>\n",
        "  <p >\\\\({E}\\\\)\\\\((\\hat{\\\\theta})\\\\)  valor esperado del estadístico muestral \\\\({\\\\theta}\\\\)</p>\n",
        "</div>\n",
        "\"\"\"\n",
        "# Mostrar el HTML con el estilo personalizado\n",
        "display(HTML(html_code))"
      ]
    },
    {
      "cell_type": "markdown",
      "metadata": {
        "id": "sNDx9ahMQPzF"
      },
      "source": [
        "Por tanto, el valor esperado, o media, de todos los posibles valores de un estadístico muestral insesgado es igual al parámetro poblacional que se está estimando.\n",
        "\n",
        "En la figura 7.10 se exponen los casos de los estimadores puntuales sesgado e insesgado. En la gráfica que ilustra el estimador insesgado, la media de la distribución de muestreo es igual al valor del parámetro poblacional. En este caso los errores de estimación se equilibran, ya que algunas veces el valor del estimador puntual $\\hat{\\theta}$ puede ser menor que $θ$ y otras veces es mayor que $θ$. En el estimador sesgado, la media de la distribución de muestreo es menor o mayor que el valor del parámetro poblacional. En la gráfica $B$ de la figura 7.10, $E(\\hat{\\theta})$ es mayor que $θ$ ; así, la probabilidad de que los estadísticos muestrales sobreestimen el valor del parámetro\n",
        "poblacional es grande. En la fi gura se muestra la amplitud de este sesgo.\n",
        "\n",
        "Al estudiar las distribuciones de muestreo de la media muestral y de la proporción muestral, se vio que $E(\\bar{x})$  $μ$ y que $E(\\bar{p})$  $=p$. Por tanto, $\\bar{x}$ y $\\bar{p}$ son estimadores insesgados de sus correspondientes parámetros poblacionales $μ$ y $p$.\n",
        "\n",
        "En cuanto a la desviación estándar muestral $s$ y la varianza muestral $s^{2}$\n",
        ", se puede demostrar que $E(s^{2})=σ^{2}$. Por consiguiente, se concluye que la varianza muestral $s^{2}$ es un estimador insesgado de la varianza poblacional $σ^{2}$. En efecto, en el capítulo 3, cuando se presentaron las"
      ]
    },
    {
      "cell_type": "markdown",
      "metadata": {
        "id": "HSdfBK-JPcoy"
      },
      "source": [
        "<span style=\"color: #009929;\"> **Figura 7.10** Ejemplos de estimadores puntuales insesgados y sesgados </span>"
      ]
    },
    {
      "cell_type": "code",
      "execution_count": null,
      "metadata": {
        "colab": {
          "base_uri": "https://localhost:8080/",
          "height": 506
        },
        "id": "CxKf-nhLQd3c",
        "outputId": "8817bdac-0172-4af9-8447-64ac1f594b9c"
      },
      "outputs": [
        {
          "data": {
            "image/png": "[encoded data removed]",
            "text/plain": [
              "<Figure size 1000x500 with 2 Axes>"
            ]
          },
          "metadata": {},
          "output_type": "display_data"
        }
      ],
      "source": [
        "import numpy as np\n",
        "import matplotlib.pyplot as plt\n",
        "from scipy.stats import norm\n",
        "\n",
        "# Parámetros para las distribuciones\n",
        "media, desviacion = 0, 1\n",
        "media_sesgada = media + 0.5  # Añadir sesgo para la segunda distribución\n",
        "\n",
        "# Generar puntos para las distribuciones\n",
        "x = np.linspace(media - 3*desviacion, media + 3*desviacion, 100)\n",
        "x_sesgada = np.linspace(media_sesgada - 3*desviacion, media_sesgada + 3*desviacion, 100)\n",
        "\n",
        "# Crear las distribuciones\n",
        "distribucion = norm.pdf(x, media, desviacion)\n",
        "distribucion_sesgada = norm.pdf(x_sesgada, media_sesgada, desviacion)\n",
        "\n",
        "# Crear la figura y los ejes\n",
        "fig, axs = plt.subplots(1, 2, figsize=(10, 5))\n",
        "\n",
        "# Establecer el color de fondo para la figura completa\n",
        "fig.patch.set_facecolor('#d4f8b7')\n",
        "\n",
        "# Iterar sobre cada eje\n",
        "for ax in axs:\n",
        "    ax.set_facecolor('#d4f8b7')\n",
        "\n",
        "    # Graficar la distribución insesgada\n",
        "    axs[0].plot(x, distribucion, color='#009929')  # Cambiado a color 009929\n",
        "    axs[0].axhline(0, color='black', linestyle='-', linewidth=1)  # Línea en la parte inferior\n",
        "    axs[0].set_title('Distribución de muestreo\\n de $\\hat{θ}$')\n",
        "    axs[0].set_xlabel('\\n \\n El parámetro $θ$ se localiza en la media\\n de la distribución de muestreo; \\n $E(\\hat{θ})=θ$ \\n Gráfica A. Estimador insesgado \\n \\n')\n",
        "    axs[0].text(3.5, -0.0, r'$\\hat{\\theta}$', ha='center', va='bottom', color='black', fontsize=14)\n",
        "    axs[0].text(3.5, -0.0, r'____________', ha='center', va='bottom', color='#d4f8b7', fontsize=14)\n",
        "    axs[0].text(0, -0.0, r'|', ha='center', va='bottom', color='black', fontsize=14)\n",
        "    axs[0].text(0, -0.05, r'θ', ha='center', va='bottom', color='black', fontsize=14)\n",
        "\n",
        "    # Desactivar etiquetas de los ejes en el primer gráfico\n",
        "    axs[0].tick_params(axis='both', which='both', labelbottom=False, labelleft=False)\n",
        "    axs[0].set_xticks([])  # Eliminar las marcas del eje x\n",
        "    axs[0].set_yticks([])  # Eliminar las marcas del eje y\n",
        "\n",
        "    # Configurar el color de fondo de los ejes sin contorno\n",
        "    for spine in axs[0].spines.values():\n",
        "        spine.set_edgecolor('#d4f8b7')\n",
        "\n",
        "    # Graficar la distribución sesgada\n",
        "    axs[1].plot(x_sesgada, distribucion_sesgada, color='#009929')  # Cambiado a color 009929\n",
        "    axs[1].axhline(0, color='black', linestyle='-', linewidth=1)  # Línea en la parte inferior\n",
        "    axs[1].set_title('Distribución de muestreo\\n de $\\hat{θ}$')\n",
        "    axs[1].set_xlabel('\\n \\n El parámetro $θ$ no se localiza en la media \\n de la distribución de muestreo; \\n $E(\\hat{θ})= θ$ \\n Gráfica B. Estimador insesgado \\n\\n')\n",
        "    axs[1].text(4.0, -0.01, r'$\\hat{\\theta}$', ha='center', va='bottom', color='black', fontsize=14)\n",
        "    axs[1].text(0.5, -0.00, r'|', ha='center', va='bottom', color='black', fontsize=14)\n",
        "    axs[1].text(-1.6, -0.00, r'|', ha='center', va='bottom', color='black', fontsize=14)\n",
        "    axs[1].text(-0.6, 0.03, r'Sesgo', ha='center', va='bottom', color='black', fontsize=14)\n",
        "    axs[1].text(-1.4, 0.03, r'<', ha='center', va='bottom', color='black', fontsize=14)\n",
        "    axs[1].text(-1.35, 0.03, r'---', ha='center', va='bottom', color='black', fontsize=14)\n",
        "    axs[1].text(0.1, 0.03, r'---', ha='center', va='bottom', color='black', fontsize=14)\n",
        "    axs[1].text(0.15, 0.03, r'>', ha='center', va='bottom', color='black', fontsize=14)\n",
        "    axs[1].text(0.5, -0.05, r'E($\\hat{θ}$)', ha='center', va='bottom', color='black', fontsize=14)\n",
        "    axs[1].text(-1.6, -0.05, r'θ', ha='center', va='bottom', color='black', fontsize=14)\n",
        "\n",
        "    # Desactivar etiquetas de los ejes en el segundo gráfico\n",
        "    axs[1].tick_params(axis='both', which='both', labelbottom=False, labelleft=False)\n",
        "    axs[1].set_xticks([])  # Eliminar las marcas del eje x\n",
        "    axs[1].set_yticks([])  # Eliminar las marcas del eje y\n",
        "\n",
        "    # Configurar el color de fondo de los ejes sin contorno\n",
        "    for spine in axs[1].spines.values():\n",
        "        spine.set_edgecolor('#d4f8b7')\n",
        "\n",
        "# Mostrar los gráficos\n",
        "plt.tight_layout()\n",
        "plt.show()\n",
        "\n"
      ]
    },
    {
      "cell_type": "markdown",
      "metadata": {
        "id": "IRZi9B5YRSGd"
      },
      "source": [
        "fórmulas para la varianza muestral y la desviación estándar muestral, en el denominador se usó\n",
        "$n = 1$ en lugar de n para que la varianza muestral fuera un estimador insesgado de la varianza\n",
        "poblacional.\n",
        "\n",
        "<style>\n",
        "    .indice_titulo{\n",
        "        display:flex;\n",
        "        color: #009929;\n",
        "    }\n",
        "</style>\n",
        "### <div class = \"indice_titulo\">**Eficiencia**</div>\n",
        "\n",
        "Suponga que se usa una muestra aleatoria simple de n elementos para obtener dos estimadores puntuales insesgados de un mismo parámetro poblacional. En estas circunstancias, se preferirá usar el estimador puntual con el menor error estándar, ya que tenderá a dar estimaciones más cercanas al parámetro poblacional. Se dice que el estimador puntual con menor error estándar tiene mayor <font color='#009929'>eficiencia relativa</font> que los otros.\n",
        "\n",
        "En la fi gura 7.11 se presentan las distribuciones de muestreo de dos estimadores puntuales insesgados, $\\hat{\\theta}$<sub>1</sub> y $\\hat{\\theta}$<sub>2</sub>. Observe que el error estándar de $\\hat{\\theta}$<sub>1</sub> es menor que el error estándar de  $\\hat{\\theta}$<sub>2</sub>; por"
      ]
    },
    {
      "cell_type": "code",
      "execution_count": null,
      "metadata": {
        "id": "9TPIQY5RjUTT"
      },
      "outputs": [],
      "source": []
    },
    {
      "cell_type": "markdown",
      "metadata": {
        "id": "DNHSl3yyRl4b"
      },
      "source": [
        "tanto, los valores de  $\\hat{\\theta}$<sub>1</sub> tienen más posibilidades de estar cerca del parámetro $\\hat{\\theta}$ que los valores\n",
        "de $\\hat{\\theta}$<sub>2</sub>. Como el error estándar del estimador puntual $\\hat{\\theta}$<sub>1</sub> es menor que el del estimador puntual $\\hat{\\theta}$<sub>2</sub>, $\\hat{\\theta}$<sub>1</sub> es relativamente más efi ciente que $\\hat{\\theta}$<sub>2</sub> y se prefi ere como estimador puntual.\n",
        "\n",
        "<style>\n",
        "    .indice_titulo{\n",
        "        display:flex;\n",
        "        color: #009929;\n",
        "    }\n",
        "</style>\n",
        "### <div class = \"indice_titulo\">**Consistencia**</div>\n",
        "\n",
        "La tercera propiedad relacionada con un buen estimador puntual es la <font color='#009929'>consistencia</font>. Dicho de\n",
        "manera sencilla, un estimador puntual es consistente si su valor tiende a estar más cerca del\n",
        "parámetro poblacional a medida que el tamaño de la muestra aumenta. En otras palabras, una\n",
        "muestra grande tiende a proporcionar mejor estimación puntual que una pequeña. Observe\n",
        "que en el caso de la media muestral $\\bar{x}$ , el error estándar de $\\bar{x}$  está dado por $σ$<sub>$\\bar{x}$</sub> $=$ $σ/$$\\sqrt{{{n}}}$. Puesto que $σ$<sub>$\\bar{x}$</sub> está vinculado con el tamaño de la muestra, de manera que muestras mayores dan\n",
        "valores menores de $σ$<sub>$\\bar{x}$</sub>, entonces las de tamaño grande tienden a proporcionar estimadores puntuales más cercanos a la media de la población $μ$. Mediante un razonamiento similar, también\n",
        "se puede concluir que la proporción muestral $\\bar{p}$ es un estimador consistente de la proporción\n",
        "poblacional $p$."
      ]
    },
    {
      "cell_type": "markdown",
      "metadata": {
        "id": "ky25xEIfBc_6"
      },
      "source": [
        "\n",
        "<style>\n",
        "        .indice_titulo{\n",
        "        display:flex;\n",
        "        color: #009929;\n",
        "    }\n",
        "        span.section-number {\n",
        "        background-color: #009929;\n",
        "        border-radius: 50%;\n",
        "        color: white;\n",
        "        font-weight: bold;\n",
        "        padding: 0.5em;\n",
        "        display: inline-flex;\n",
        "        justify-content: center;\n",
        "        align-items: center;\n",
        "        width: 1.5em;\n",
        "        height: 1.5em;\n",
        "        font-size: 1em;\n",
        "        margin-right: 0.5em;\n",
        "    }\n",
        "</style>\n",
        "## <div class = \"indice_titulo\"><span class=\"section-number\">7.8</span> **Otros métodos de muestreo**</div>"
      ]
    },
    {
      "cell_type": "markdown",
      "metadata": {
        "id": "IB6NQW22WBZQ"
      },
      "source": [
        "\n",
        "Se describió el muestreo aleatorio simple como un procedimiento de muestreo de una población fi nita y se estudiaron las propiedades de las distribuciones de muestreo de x y de p cuando\n",
        "se usó el muestreo aleatorio simple. Sin embargo, no es el único método de muestreo que existe.\n",
        "Hay otros, como el muestro aleatorio estratifi cado, el muestreo por conglomerados y el muestreo sistemático que, en ciertas situaciones, tienen ventajas sobre el aleatorio simple. En esta\n",
        "sección se presentan brevemente estos tres métodos. En el capítulo 22, que se encuentra en el\n",
        "sitio web del libro, se estudian con más detalle."
      ]
    },
    {
      "cell_type": "markdown",
      "metadata": {
        "id": "Bj46ADzAV4Vi"
      },
      "source": [
        "\n",
        "<style>\n",
        "    .indice_titulo{\n",
        "        display:flex;\n",
        "        color: #009929;\n",
        "    }\n",
        "</style>\n",
        "### <div class = \"indice_titulo\">**Muestreo aleatorio estratificado**</div>\n",
        "\n",
        "En el muestreo aleatorio estratificado los elementos de la población primero se dividen en grupos, a los que se les llama estratos, de manera que cada elemento pertenezca a uno y sólo un estrato. La base para la formación de los estratos, que pueden ser departamento, edad, tipo de industria, etc., está a discreción de la persona que diseña la muestra. Sin embargo, se obtienen\n",
        "mejores resultados cuando los elementos que los forman son lo más parecidos posible. La figura 7.12 es el diagrama de una población dividida en H estratos.\n",
        "\n",
        "Una vez formados los estratos, se toma una muestra aleatoria simple de cada uno. Existen fórmulas para combinar los resultados de las muestras de varios estratos individuales en una estimación del parámetro poblacional de interés. El valor del muestreo aleatorio estratifi cado depende de qué tan homogéneos sean los elementos dentro de cada grupo. Si los elementos de"
      ]
    },
    {
      "cell_type": "markdown",
      "metadata": {
        "id": "MglXe8DiPIRb"
      },
      "source": [
        "<span style=\"color: #009929;\"> **Figura 7.12** Diagrama de un muestreo aleatorio estratificado </span>"
      ]
    },
    {
      "cell_type": "code",
      "execution_count": null,
      "metadata": {
        "colab": {
          "base_uri": "https://localhost:8080/",
          "height": 345
        },
        "id": "33UzfwnqRvld",
        "outputId": "65643c63-353f-4c12-b785-03e1b591dc65"
      },
      "outputs": [
        {
          "data": {
            "image/png": "[encoded data removed]",
            "text/plain": [
              "<Figure size 900x400 with 1 Axes>"
            ]
          },
          "metadata": {},
          "output_type": "display_data"
        }
      ],
      "source": [
        "import matplotlib.pyplot as plt\n",
        "from matplotlib.patches import FancyBboxPatch, Rectangle\n",
        "from matplotlib.lines import Line2D\n",
        "\n",
        "# Crear una figura con un solo subgráfico\n",
        "fig, ax = plt.subplots(figsize=(9, 4))\n",
        "fig.patch.set_facecolor('#D4F8B7')  # Cambiar el color de fondo de la figura a verde\n",
        "\n",
        "# Tamaño de los rectángulos\n",
        "rect_width = 0.2\n",
        "rect_height = 0.2\n",
        "\n",
        "# Añadir rectángulos y líneas en el diagrama\n",
        "rect1 = FancyBboxPatch((0.5, 0.7), rect_width, 0.0, boxstyle=\"round,pad=0.1\", fill=True, color='#5CCB5F', linewidth=0.5, zorder=2)\n",
        "rect2 = Rectangle((0.1, 0.3), rect_width, rect_height, fill=True, color='#5CCB5F', linewidth=0.5, zorder=2)\n",
        "rect3 = Rectangle((0.4, 0.3), rect_width, rect_height, fill=True, color='#5CCB5F', linewidth=0.5, zorder=2)\n",
        "\n",
        "rect5 = Rectangle((1.0, 0.3), rect_width, rect_height, fill=True, color='#5CCB5F', linewidth=0.5, zorder=2)\n",
        "\n",
        "ax.add_patch(rect1)\n",
        "ax.add_patch(rect2)\n",
        "ax.add_patch(rect3)\n",
        "ax.add_patch(rect5)\n",
        "\n",
        "for rect in [rect1, rect2, rect3, rect5]:\n",
        "    rect.set_edgecolor('black')\n",
        "\n",
        "ax.text(0.6, 0.7, 'Población', ha=\"center\", va=\"center\", color='black', fontsize=10, fontweight='light', zorder=3)\n",
        "ax.text(0.2, 0.4, 'Estrato 1', ha=\"center\", va=\"center\", color='black', fontsize=10, fontweight='light', zorder=3)\n",
        "ax.text(0.5, 0.4, 'Estrato 2', ha=\"center\", va=\"center\", color='black', fontsize=10, fontweight='light', zorder=3)\n",
        "ax.text(0.8, 0.4, '.  .  . ', ha=\"center\", va=\"center\", color='black', fontsize=10, fontweight='light', zorder=3)\n",
        "ax.text(1.1, 0.4, 'Estrato H', ha=\"center\", va=\"center\", color='black', fontsize=10, fontweight='light', zorder=3)\n",
        "\n",
        "ax.add_line(Line2D([1.1, 0.2], [0.55, 0.55], linewidth=0.5, color='black', zorder=1))\n",
        "ax.add_line(Line2D([0.5, 0.5], [0.5, 0.55], linewidth=0.5, color='black', zorder=1))\n",
        "ax.add_line(Line2D([0.2, 0.2], [0.5, 0.55], linewidth=0.5, color='black', zorder=1))\n",
        "\n",
        "ax.add_line(Line2D([0.6, 0.6], [0.6, 0.55], linewidth=0.5, color='black', zorder=1))\n",
        "ax.add_line(Line2D([1.1, 1.1], [0.5, 0.55], linewidth=0.5, color='black', zorder=1))\n",
        "\n",
        "ax.set_xlim(0, 1.5)\n",
        "ax.set_ylim(0, 1)\n",
        "ax.axis('off')\n",
        "\n",
        "# Mostrar la figura con el único diagrama\n",
        "plt.show()\n",
        "\n",
        "\n",
        "\n",
        "\n"
      ]
    },
    {
      "cell_type": "markdown",
      "metadata": {
        "id": "03q3wSKOSIfq"
      },
      "source": [
        "un estrato son parecidos, éste tendrá una varianza pequeña. Por tanto, con muestras relativamente pequeñas de los estratos se obtienen buenas estimaciones de sus características. Si éstos son homogéneos, el muestreo aleatorio estratifi cado proporciona resultados tan precisos como los de un muestreo aleatorio simple, pero con una muestra de tamaño total menor."
      ]
    },
    {
      "cell_type": "markdown",
      "metadata": {
        "id": "MU6XWdLqSkrM"
      },
      "source": [
        "\n",
        "<style>\n",
        "    .indice_titulo{\n",
        "        display:flex;\n",
        "        color: #009929;\n",
        "    }\n",
        "</style>\n",
        "### <div class = \"indice_titulo\">**Muestreo por conglomerados**</div>\n",
        "\n",
        "En el muestreo por conglomerados, la población se divide en grupos llamados conglomerados, y se selecciona aleatoriamente un subconjunto de conglomerados para formar la muestra. Este método es eficaz cuando los elementos dentro de los conglomerados son diversos. Es especialmente aplicable en el muestreo de áreas, donde los conglomerados representan unidades geográficas, como las manzanas de una ciudad. Aunque se necesitan tamaños de muestra más grandes, permite reducir costos al recopilar muchas observaciones en un conglomerado con un solo entrevistador. Esto proporciona una muestra representativa a un costo menor."
      ]
    },
    {
      "cell_type": "markdown",
      "metadata": {
        "id": "4-5SlYSmStcQ"
      },
      "source": [
        "\n",
        "<style>\n",
        "    .indice_titulo{\n",
        "        display:flex;\n",
        "        color: #009929;\n",
        "    }\n",
        "</style>\n",
        "### <div class = \"indice_titulo\">**Muestreo sistemático**</div>\n",
        "\n",
        "Para ciertos muestreos, en especial en aquellos con poblaciones grandes, se necesita mucho\n",
        "tiempo para tomar una muestra aleatoria simple, pues se requiere determinar primero los números"
      ]
    },
    {
      "cell_type": "markdown",
      "metadata": {
        "id": "Z63Ob4FUOwFT"
      },
      "source": [
        "<span style=\"color: #009929;\"> **Figura 7.13** Diagrama del muestreo por conglomerados </span>"
      ]
    },
    {
      "cell_type": "code",
      "execution_count": null,
      "metadata": {
        "colab": {
          "base_uri": "https://localhost:8080/",
          "height": 345
        },
        "id": "NYn1vsGkS-Be",
        "outputId": "15de2967-52d1-47a0-e902-e0151f269b1c"
      },
      "outputs": [
        {
          "data": {
            "image/png": "[encoded data removed]",
            "text/plain": [
              "<Figure size 900x400 with 1 Axes>"
            ]
          },
          "metadata": {},
          "output_type": "display_data"
        }
      ],
      "source": [
        "import matplotlib.pyplot as plt\n",
        "from matplotlib.patches import FancyBboxPatch, Rectangle\n",
        "from matplotlib.lines import Line2D\n",
        "\n",
        "# Crear una figura con un solo subgráfico\n",
        "fig, ax = plt.subplots(figsize=(9, 4))\n",
        "fig.patch.set_facecolor('#D4F8B7')  # Cambiar el color de fondo de la figura a verde\n",
        "\n",
        "# Tamaño de los rectángulos\n",
        "rect_width = 0.3\n",
        "rect_height = 0.2\n",
        "\n",
        "# Añadir rectángulos y líneas en el diagrama\n",
        "rect1 = FancyBboxPatch((0.5, 0.7), rect_width, 0.0, boxstyle=\"round,pad=0.1\", fill=True, color='#5CCB5F', linewidth=0.5, zorder=2)\n",
        "rect2 = Rectangle((0.05, 0.3), rect_width, rect_height, fill=True, color='#5CCB5F', linewidth=0.5, zorder=2)\n",
        "rect3 = Rectangle((0.45, 0.3), rect_width, rect_height, fill=True, color='#5CCB5F', linewidth=0.5, zorder=2)\n",
        "rect5 = Rectangle((1.05, 0.3), rect_width, rect_height, fill=True, color='#5CCB5F', linewidth=0.5, zorder=2)\n",
        "\n",
        "ax.add_patch(rect1)\n",
        "ax.add_patch(rect2)\n",
        "ax.add_patch(rect3)\n",
        "ax.add_patch(rect5)\n",
        "\n",
        "for rect in [rect1, rect2, rect3, rect5]:\n",
        "    rect.set_edgecolor('black')\n",
        "\n",
        "ax.text(0.65, 0.7, 'Población', ha=\"center\", va=\"center\", color='black', fontsize=10, fontweight='light', zorder=3)\n",
        "ax.text(0.2, 0.4, 'Conglomerado 1', ha=\"center\", va=\"center\", color='black', fontsize=10, fontweight='light', zorder=3)\n",
        "ax.text(0.6, 0.4, 'Conglomerado 2', ha=\"center\", va=\"center\", color='black', fontsize=10, fontweight='light', zorder=3)\n",
        "ax.text(0.9, 0.4, '.  .  . ', ha=\"center\", va=\"center\", color='black', fontsize=10, fontweight='light', zorder=3)\n",
        "ax.text(1.2, 0.4, 'Conglomerado K ', ha=\"center\", va=\"center\", color='black', fontsize=10, fontweight='light', zorder=3)\n",
        "\n",
        "ax.add_line(Line2D([1.2, 0.2], [0.55, 0.55], linewidth=0.5, color='black', zorder=1))\n",
        "ax.add_line(Line2D([0.6, 0.6], [0.5, 0.55], linewidth=0.5, color='black', zorder=1))\n",
        "ax.add_line(Line2D([0.2, 0.2], [0.5, 0.55], linewidth=0.5, color='black', zorder=1))\n",
        "ax.add_line(Line2D([0.65, 0.65], [0.6, 0.55], linewidth=0.5, color='black', zorder=1))\n",
        "ax.add_line(Line2D([1.2, 1.2], [0.5, 0.55], linewidth=0.5, color='black', zorder=1))\n",
        "\n",
        "ax.set_xlim(0, 1.5)\n",
        "ax.set_ylim(0, 1)\n",
        "ax.axis('off')\n",
        "\n",
        "# Mostrar la figura con el único diagrama\n",
        "plt.show()\n",
        "\n",
        "\n"
      ]
    },
    {
      "cell_type": "markdown",
      "metadata": {
        "id": "QsGIVzdxTKqy"
      },
      "source": [
        "numeros aleatorios y después contar y recorrer toda una lista de la población hasta encontrar los elementos correspondientes. Una alternativa al <font color='#009929'> muestreo aleatorio</font> muestreo aleatorio simple es el muestreo sistemático. Por ejemplo, si se quiere una muestra de tamaño 50 de una población que tiene 5 000 elementos, se muestrea uno de cada 5 000$/$50$=$100 elementos de la población. En este caso, un muestreo sistemático consiste en seleccionar en forma aleatoria uno de los primeros 100 elementos de la lista de la población. Los otros se identifi can empezando con el primer elemento muestreado y seleccionando cada 100o. elemento que siga en la lista. En efecto, los elementos de la muestra de 50 se identifi can moviéndose sistemáticamente entre la población e identifi cando cada 100o. elemento después del primero seleccionado aleatoriamente. Por lo general, de esta manera es más fácil identifi car la muestra de 50 que si se utilizara el muestreo aleatorio simple. Como el primer elemento que se selecciona es elegido al azar, se supone que una muestra sistemática tiene las propiedades de una muestra aleatoria simple. Este supuesto es aplicable, en especial, cuando la lista de los elementos de la población constituye un orden aleatorio de los elementos."
      ]
    },
    {
      "cell_type": "markdown",
      "metadata": {
        "id": "mHgT3QUvTcSO"
      },
      "source": [
        "\n",
        "<style>\n",
        "    .indice_titulo{\n",
        "        display:flex;\n",
        "        color: #009929;\n",
        "    }\n",
        "</style>\n",
        "### <div class = \"indice_titulo\">**Muestreo de conveniencia**</div>\n",
        "Los métodos de muestreo hasta ahora analizados se conocen como técnicas *probabilísticas de muestreo*. Los elementos seleccionados de una población tienen una probabilidad conocida\n",
        "de ser incluidos en la muestra. La ventaja del muestreo probabilístico estriba en que, por lo general, se identifi ca la distribución de muestreo del estadístico muestral correspondiente. Para determinar las propiedades de la distribución de muestreo se usan las fórmulas para el muestreo aleatorio simple presentadas en este capítulo. La distribución de muestreo permite plantear afirmaciones probabilísticas acerca del error asociado con el uso de los resultados muestrales al hacer inferencias de la población.\n",
        "\n",
        "El <font color='#009929'> muestreo de conveniencia</font> es una técnica de *muestreo no probabilística*. Como el nombre lo indica, la muestra se determina principalmente por conveniencia. Los elementos se incluyen sin que haya una probabilidad previamente especifi cada o conocida de que sean incorporados en la muestra. Por ejemplo, un profesor que realiza una investigación en una universidad puede usar estudiantes voluntarios para que constituyan una muestra simplemente porque los tiene al alcance y participarán como sujetos a un costo bajo o sin costo. De manera similar, un inspector puede muestrear un cargamento de naranjas seleccionándolas al azar de varias cajas. Marcar cada naranja y usar un método probabilístico de muestreo puede no resultar práctico. Muestras como capturas en la vida salvaje y paneles de voluntarios en investigaciones del consumidor son también de conveniencia.\n",
        "\n",
        "La técnica de muestra de conveniencia tiene la ventaja de ser fácil de seleccionar y recopilar datos, pero carece de la capacidad de evaluar su representatividad en términos de la población. No se puede realizar una evaluación estadística de la calidad de los resultados muestrales, ya que esta muestra puede arrojar resultados buenos o malos sin justificación estadística. A veces, los investigadores aplican métodos estadísticos destinados a muestras probabilísticas a las muestras de conveniencia, tratándolas como si fueran probabilísticas. Sin embargo, estos argumentos carecen de fundamento y es crucial tener precaución al interpretar los resultados de muestras de conveniencia utilizadas para hacer inferencias sobre las poblaciones."
      ]
    },
    {
      "cell_type": "markdown",
      "metadata": {
        "id": "Ma3dOgbXUTIC"
      },
      "source": [
        "\n",
        "<style>\n",
        "    .indice_titulo{\n",
        "        display:flex;\n",
        "        color: #009929;\n",
        "    }\n",
        "</style>\n",
        "### <div class = \"indice_titulo\">**Muestreo subjetivo**</div>\n",
        "tra técnica de muestreo no probabilística es el <font color='#009929'>muestreo subjetivo</font>. En este método la persona que más sabe sobre un asunto selecciona elementos de la población a los que considera los más representativos. Este método suele representar una manera relativamente fácil de seleccionar una muestra. Por ejemplo, un reportero puede elegira dos o tres senadores considerando que éstos refl ejan la opinión general de todos los senadores. Sin embargo, la calidad de los resultados muestrales depende de la persona que selecciona la muestra. Aquí también hay que tener mucho cuidado al hacer inferencias acerca de las poblaciones a partir de muestreos\n",
        "subjetivos."
      ]
    },
    {
      "cell_type": "markdown",
      "metadata": {
        "id": "Y0yBp3E8L7TD"
      },
      "source": [
        "<style>\n",
        "    .ejercicios{\n",
        "        color:white;\n",
        "        background-color:#009929;\n",
        "        padding-left:20px;\n",
        "    }\n",
        "</style>\n",
        "### <div class = \"ejercicios\">Resumen</div>"
      ]
    },
    {
      "cell_type": "markdown",
      "metadata": {
        "id": "S8Y7pFaVUY_w"
      },
      "source": [
        "\n",
        "En este capítulo se presentaron los conceptos de muestreo aleatorio simple y distribución de muestreo. Se describió cómo seleccionar una muestra aleatoria simple de una población finita y una muestra aleatoria de una población infi nita. Los datos recolectados de tales muestras se pueden utilizar para obtener estimadores puntuales de los parámetros poblacionales. Ya que distintas muestras proporcionan valores diferentes de los estimadores puntuales, los estimadores puntuales como  x&#772;  y  p&#772;  son variables aleatorias. A la distribución de probabilidad de una variable aleatoria de este tipo se le conoce como distribución de muestreo. En particular, se describieron las distribuciones de muestreo de la media muestral x y de la proporción muestral  p¯ .\n",
        "\n",
        "Al estudiar las características de las distribuciones de muestreo de  x&#772;  y de  p&#772; , se estableció que  E(x&#772;) = μ  y que  E(p&#772;)   =   p . Después de proporcionar las fórmulas para la desviación estándar o error estándar de dichos estimadores, se describieron las condiciones necesarias para que las distribuciones de muestreo de  x&#772;  y de  p&#772;  sigan una distribución normal. Otros métodos de muestreo que también se abordaron son el muestreo aleatorio estratifi cado, por conglomerados o clusters, sistemático, por conveniencia y subjetivo."
      ]
    },
    {
      "cell_type": "markdown",
      "metadata": {
        "id": "9ygg7xNjLx4w"
      },
      "source": [
        "<style>\n",
        "    .ejercicios{\n",
        "        color:white;\n",
        "        background-color:#009929;\n",
        "        padding-left:20px;\n",
        "    }\n",
        "</style>\n",
        "### <div class = \"ejercicios\">Glosario</div>"
      ]
    },
    {
      "cell_type": "markdown",
      "metadata": {
        "id": "fThiC2b3Uii9"
      },
      "source": [
        "\n",
        "**<font color='#009929'>Consistencia</font>**   Propiedad de un estimador puntual que se hace presente siempre que muestras más grandes tienden a proporcionar estimaciones puntuales más cercanas al parámetro poblacional.\n",
        "\n",
        "**<font color='#009929'>Distribución de muestreo o muestral</font>** Distribución de probabilidad que consta de todos los posibles valores de un estadístico muestral.\n",
        "\n",
        "**<font color='#009929'>Eficiencia relativa</font>** Dados dos estimadores puntuales insesgados de un mismo parámetro poblacional, el estimador puntual con menor error estándar será más efi ciente.\n",
        "\n",
        "**<font color='#009929'>Error estándar</font>** Desviación estándar de un estimador puntual.\n",
        "\n",
        "**<font color='#009929'>Estadístico muestral </font>**Característica muestral, por ejemplo, la media muestral $\\bar{x}$, la desviación estándar muestral $s$, la proporción muestral $\\bar{p}$, etc. El valor del estadístico muestral se utiliza para estimar el valor del parámetro poblacional correspondiente.\n",
        "\n",
        "**<font color='#009929'>Estimación puntual</font>** Valor de un estimador que se utiliza en una situación particular como estimación del parámetro poblacional.\n",
        "\n",
        "**<font color='#009929'>Estimador puntual</font>** Un estadístico muestral como $\\bar{x}$, $s$ $o$ $\\bar{p}$ que proporciona una estimación puntual del parámetro poblacional correspondiente.\n",
        "\n",
        "**<font color='#009929'>Factor de corrección para una población finita</font>** Es el término </sub>$\\sqrt{{{(N-n)/(N-1)}}}$ utilizado en las fórmulas de $σ$<sub>$\\bar{x}$</sub> $y$ $σ$<sub>$\\bar{p}$</sub> siempre que se muestrea de una población fi nita y no de una población infi nita. Sin embargo, hay una regla generalmente aceptada: ignorar el factor de corrección en una población fi nita siempre que $n/N$   $\\leq$   $0.05$\n",
        "\n",
        "**<font color='#009929'>Insesgadez</font>** Propiedad de un estimador puntual que se hace presente cuando el valor esperado del estimador es igual al parámetro poblacional que se est\n",
        "\n",
        "**<font color='#009929'>Marco</font>** Lista de los elementos de donde se selecciona la muestra.\n",
        "\n",
        "**<font color='#009929'>Muestreo aleatorio</font>**  Muestra aleatoria de una población infi nita seleccionada de manera tal\n",
        "que se satisfagan las condiciones siguientes: 1) cada elemento escogido proviene de la misma población y, 2) cada elemento se selecciona de manera independiente.\n",
        "\n",
        "**<font color='#009929'>Muestreo aleatorio estratificado</font>** Método probabilístico en el que primero se divide la población en estratos y después se toma una muestra aleatoria simple de cada estrato.\n",
        "\n",
        "**<font color='#009929'>Muestreo aleatorio simple</font>** Muestra aleatoria simple de tamaño $n$ de una población finita de tamaño $N$ seleccionada de manera que cada posible muestra de tamaño $n$ tenga la misma probabilidad de ser seleccionada.\n",
        "\n",
        "**<font color='#009929'>Muestreo con remplazo</font>** Una vez que un elemento se ha incluido en la muestra, se regresa a la población. Un elemento ya seleccionado puede nuevamente ser elegido y aparecer más de una vez en la muestra.\n",
        "\n",
        "**<font color='#009929'>Muestreo por conglomerados o clusters</font>** Método probabilístico en el que primero se divide la población en conglomerados y después se toma una muestra aleatoria de éstos.\n",
        "\n",
        "**<font color='#009929'>Muestreo sin remplazo</font>** Una vez que un elemento ha sido incluido en la muestra, se retira de la población y ya no se selecciona más.\n",
        "\n",
        "**<font color='#009929'>Muestreo sistemático</font>** Método probabilístico en el que primero se selecciona uno de los primeros $k$ elementos de una población y después cada $k$-ésimo elemento.\n",
        "\n",
        "**<font color='#009929'>Muestreo subjetivo</font>** Método no probabilístico en el que la selección de los elementos para la muestra se realiza de acuerdo con la opinión de la persona que efectúa el estudio.\n",
        "\n",
        "**<font color='#009929'>Parámetro</font>** Característica numérica de una población, por ejemplo, media poblacional $μ$, desviación estándar poblacional σ, proporción poblacional $p$, etcéter.\n",
        "\n",
        "**<font color='#009929'>Población muestreada</font>** Población de la cual se extrae la muestra.\n",
        "\n",
        "**<font color='#009929'>Población objetivo</font>** Es aquella de la cual se hacen inferencias estadísticas como estimaciones puntuales. Es importante que la población objetivo corresponda tan cercanamente como\n",
        "sea posible a la población muestreada.\n",
        "\n",
        "**<font color='#009929'>Teorema del límite central</font>** Permite usar la distribución de probabilidad normal para aproximar la distribución de muestreo de $x$ siempre que la muestra sea grande.\n"
      ]
    },
    {
      "cell_type": "markdown",
      "metadata": {
        "id": "p8Crb778WqOE"
      },
      "source": [
        "<style>\n",
        "    .ejercicios{\n",
        "        color:white;\n",
        "        background-color:#009929;\n",
        "        padding-left:20px;\n",
        "    }\n",
        "</style>\n",
        "### <div class = \"ejercicios\">Ejercicios complementarios</div>\n",
        "\n",
        "42. *U. S. News & World Report* publica información extensa acerca de las mejores universidades de Estados Unidos *(America’s Best Colleges, ed. 2009*). Entre otras cosas, proporciona una lista de las 133 mejores universidades a nivel nacional. Se desea tomar una muestra de tales instituciones para realizar un estudio de seguimiento de sus alumnos. Inicie en la parte inferior de la tercera columna de dígitos aleatorios de la tabla 7.1. Ignore los dos primeros dígitos de cada conjunto de cinco números usando números aleatorios de tres cifras. Empiece con 959,\n",
        "lea *hacia arriba* de la columna para identificar el número (de 1 a 133) de las siete primeras\n",
        "universidades a incluir en una muestra aleatoria simple. Continúe iniciando en la parte inferior\n",
        "de las columnas cuarta y quinta, y lea hacia arriba si es necesario.\n",
        "\n",
        "43. Los estadounidenses están cada vez más preocupados por el aumento en los costos de Medicare. En 1990 el promedio de gastos anuales de un derechohabiente de Medicare ascendía a\n",
        "$\\$3267$; en 2003 este promedio había aumentado a $\\$6883$ (Money, otoño de 2003). Suponga\n",
        "que usted contrata a una firma de consultoría para tomar una muestra de 50 de los derechohabientes de Medicare en 2003 con objeto de investigar los gastos. Asuma que la desvia ción\n",
        "estándar poblacional en 2003 fue $\\$2000$ <br>\n",
        "a) Presente la distribución de muestreo de la cantidad media de los gastos de Medicare para\n",
        "una muestra de 50 derechohabientes en 2003.\n",
        "<br>b) ¿Cuál es la probabilidad de que la media muestral no se aleje más de $\\pm\\$300$ de la media\n",
        "poblacional?\n",
        "<br>c) ¿Cuál es la probabilidad de que la media muestral sea mayor que $\\$7500$? Si la empresa que\n",
        "contrató le dice que la media muestral para los derechohabientes que entrevistó es $\\$7500$,\n",
        "¿dudaría de que la empresa contratada hubiera hecho un procedimiento de muestreo aleatorio simple adecuado? ¿Por qué?\n",
        "\n",
        "44. BusinessWeek encuesta a exalumnos de administración 10 años después de terminados sus\n",
        "estudios (BusinessWeek, 22 de septiembre de 2003). Uno de sus hallazgos indica que gastan en\n",
        "promedio $\\$115.50$ semanales en comidas sociales. A usted se le pide que realice un estudio con\n",
        "una muestra de 40 de estos exalumnos. Asuma que la desviación estándar poblacional es $\\$35$.<br>\n",
        "a) Presente la distribución de muestreo de $\\overline{x}$, la media muestral de los gastos semanales de\n",
        "los 40 exalumnos de administración.<br>\n",
        "b) ¿Cuál es la probabilidad de que la media muestral no se aleje en más o menos $\\$10$ de la\n",
        "media poblacional?<br>\n",
        "c) Suponga que encuentra una media muestral de $\\$100$. ¿Cuál es la probabilidad de hallar\n",
        "una media muestral de $\\$100$ o menos? ¿Consideraría que los exalumnos de esta muestra\n",
        "son un grupo con un gasto inusualmente bajo? ¿Por qué?\n",
        "\n",
        "45. El tiempo promedio que un estadounidense destina a ver televisión es de 15 horas por semana\n",
        "(*Money*, noviembre de 2003). Suponga que se toma una muestra de 60 estadounidenses para\n",
        "investigar con más detalle sus hábitos a este respecto. Asuma que la desviación estándar poblacional en las horas de televisión semanales es σ = 4 horas.<br>\n",
        "a) ¿Cuál es la probabilidad de que la media muestral no se aleje más o menos de 1 hora de la\n",
        "media poblacional?<br>\n",
        "b) ¿Cuál es la probabilidad de que la media muestral no se aleje más o menos de 45 minutos\n",
        "de la media poblacional?\n",
        "\n",
        "46. Después de deducir los gastos necesarios, el costo promedio por asistir a la Universidad del\n",
        "Sur de California (USC) es de $\\$27175$ (*U. S. News & World Report, America’s Best Colleges*,\n",
        "ed. 2009). Suponga que la desviación estándar poblacional es $\\$7400$. Asuma que se selecciona\n",
        "una muestra aleatoria de 60 estudiantes de la USC de esta población.<br>\n",
        "a) ¿Cuál es el valor del error estándar de la media?<br>\n",
        "b) ¿Cuál es la probabilidad de que la media muestral sea mayor que $\\$27175$?<br>\n",
        "c) ¿Cuál es la probabilidad de que la media muestral no se aleje más o menos de $\\$1000$ de la\n",
        "media poblacional?<br>\n",
        "d) ¿Qué tanto variaría la probabilidad del inciso *c)* si el tamaño de la muestra se aumentara\n",
        "a 100?\n",
        "\n",
        "47. Tres empresas transportan inventarios de distintos tamaños. El inventario de la empresa A contiene 2000 artículos, el de la empresa B, 5000 artículos y el de la empresa C, 10000 artículos.\n",
        "La desviación estándar poblacional de los costos de los artículos en los inventarios de estas\n",
        "empresas es σ = 144. Un consultor de estadística recomienda que cada compañía tome una\n",
        "muestra de 50 artículos de su inventario para obtener una estimación estadística válida del costo promedio por unidad. Los gerentes de la firma más pequeña opinan que, como su población\n",
        "es menor, se podrá hacer la estimación con una muestra mucho menor de la que se requiere\n",
        "para la empresa más grande. Sin embargo, el consultor opina que para tener el mismo error\n",
        "estándar y, por tanto, la misma precisión en los resultados muestrales, todas las compañías\n",
        "deberán emplear el mismo tamaño de muestra, sin importar el tamaño de la población.<br>\n",
        "a) Utilizando el factor de corrección para una población finita, calcule el error estándar de\n",
        "cada una de las tres empresas para un tamaño de muestra de 50.<br>\n",
        "b) ¿Cuál es la probabilidad para cada firma de que la media muestral $\\overline{x}$ esté a no más de $\\pm25$\n",
        "de la media poblacional $μ$?\n",
        "\n",
        "48. Un investigador reporta sus resultados diciendo que el error estándar de la media es 20 y la\n",
        "desviación estándar poblacional es 500.<br>\n",
        "a) ¿De qué tamaño fue la muestra utilizada en esta investigación?<br>\n",
        "b) ¿Cuál es la probabilidad de que la estimación puntual esté a no más de $\\pm25$ de la media\n",
        "poblacional?\n",
        "\n",
        "49. Un inspector de control de calidad vigila periódicamente un proceso de producción. El inspector selecciona muestras aleatorias simples de 30 artículos ya terminados y calcula la media\n",
        "muestral del peso del producto $\\overline{x}$. Si en un periodo largo se encuentra que 5% de los valores de\n",
        "$\\overline{x}$ son mayores que 2.1 libras y 5% son menores que 1.9 libras, ¿cuáles son la media y la desviación estándar de la población de los productos elaborados en este proceso?\n",
        "\n",
        "50. Cerca de 28% de las empresas privadas tiene como propietario a una mujer (*The Cincinnati\n",
        "Enquirer*, 26 de enero de 2006). Responda estas preguntas con base en una muestra de 240\n",
        "empresas privadas.<br>\n",
        "a) Desarrolle la distribución de muestreo de $\\overline{p}$, la proporción muestral de las empresas propiedad de una mujer.<br>\n",
        "b) ¿Cuál es la probabilidad de que la proporción muestral esté a no más de $\\pm0.04$ de la\n",
        "proporción poblacional?<br>\n",
        "c) ¿Cuál es la probabilidad de que la proporción muestral esté a no más de $\\pm0.02$ de la proporción poblacional?\n",
        "\n",
        "51. Una firma de investigación de mercados realiza encuestas telefónicas con una tasa histórica\n",
        "de respuesta de 40%. ¿Cuál es la probabilidad de que en una nueva muestra de 400 números\n",
        "telefónicos, por lo menos 150 personas cooperen y respondan las preguntas? En otras palabras,\n",
        "¿cuál es la probabilidad de que la proporción muestral sea por lo menos 150/400 = 0.375?\n",
        "\n",
        "52. Los publicistas contratan a proveedores de servicios de Internet y motores de búsqueda para\n",
        "colocar sus anuncios en los sitios web. Pagan una cuota con base en el número de clientes potenciales que hacen clic en su publicidad. Desafortunadamente, el fraude por clic (la práctica\n",
        "de hacer clic en una publicidad con el solo objeto de aumentar las ganancias) se ha convertido\n",
        "en un problema. El 40% de los anunciantes se queja de haber sido víctima de fraude por clic\n",
        "(*BusinessWeek*, 13 de marzo de 2006). Suponga que se toma una muestra aleatoria de 380 publicistas con objeto de aprender más acerca de cómo son afectados por esta práctica.<br>\n",
        "a) ¿Cuál es la probabilidad de que la proporción muestral esté a no más de $\\pm0.04$ de la proporción poblacional que ha experimentado fraude por clic?<br>\n",
        "b) ¿Cuál es la probabilidad de que la proporción muestral sea mayor que 0.45?\n",
        "\n",
        "53. La proporción de personas aseguradas por All-Driver Automobile Insurance Company que\n",
        "contraen una multa de tráfico en el periodo de cinco años es 0.15.<br>\n",
        "a) Indique la distribución de muestreo de $\\overline{p}$ si se emplea una muestra aleatoria de 150 asegurados para determinar la proporción de quienes han contraído por lo menos una multa.<br>\n",
        "b) ¿Cuál es la probabilidad de que la proporción muestral esté a no más de $\\pm0.03$ de la proporción poblacional?\n",
        "\n",
        "54. Lori Jeffrey es una exitosa representante de ventas de libros universitarios. Históricamente,\n",
        "ella consigue una adopción de libros de texto en 25% de sus llamadas de ventas. Considere sus\n",
        "telefonemas de ventas de un mes como muestra de todas sus posibles llamadas; suponga que en\n",
        "el análisis estadístico de los datos se encuentra que el error estándar de la proporción es 0.0625.<br>\n",
        "a) ¿De qué tamaño fue la muestra que se utilizó en el análisis? Es decir, ¿cuántas llamadas\n",
        "hizo Lori Jeffrey en ese mes?<br>\n",
        "b) Sea $\\overline{p}$ la proporción muestral de adopciones de libros de texto en el mes. Presente la distribución de muestreo de $\\overline{p}$.<br>\n",
        "c) Mediante la distribución de muestreo de $\\overline{p}$, calcule la probabilidad de que Lori logrará\n",
        "adopciones de libros de texto en 30% o más de sus llamadas de ventas en el lapso de un\n",
        "mes."
      ]
    },
    {
      "cell_type": "code",
      "execution_count": null,
      "metadata": {
        "colab": {
          "base_uri": "https://localhost:8080/",
          "height": 59
        },
        "id": "u_9w4i7a_Mw1",
        "outputId": "1eaf1175-aa48-4d71-83d5-9a20f4500279"
      },
      "outputs": [
        {
          "data": {
            "text/html": [
              "<p style=\"color:green; font-size: 24px; font-weight: bold;\">Ejercicios Resueltos</p>"
            ],
            "text/plain": [
              "<IPython.core.display.HTML object>"
            ]
          },
          "metadata": {},
          "output_type": "display_data"
        }
      ],
      "source": [
        "from IPython.display import HTML\n",
        "\n",
        "# Crear la cadena con formato HTML más grande y en negrita\n",
        "html_text = '<p style=\"color:green; font-size: 24px; font-weight: bold;\">Ejercicios Resueltos</p>'\n",
        "\n",
        "# Mostrar la cadena en formato HTML\n",
        "display(HTML(html_text))"
      ]
    },
    {
      "cell_type": "code",
      "execution_count": null,
      "metadata": {
        "colab": {
          "base_uri": "https://localhost:8080/",
          "height": 575
        },
        "id": "D4bXIVvIpQ3r",
        "outputId": "f1c2a1b6-d667-4fe1-dad9-ae9f4d237abf"
      },
      "outputs": [
        {
          "name": "stdout",
          "output_type": "stream",
          "text": [
            "Requirement already satisfied: IPython in /usr/local/lib/python3.10/dist-packages (7.34.0)\n",
            "Requirement already satisfied: setuptools>=18.5 in /usr/local/lib/python3.10/dist-packages (from IPython) (67.7.2)\n",
            "Requirement already satisfied: jedi>=0.16 in /usr/local/lib/python3.10/dist-packages (from IPython) (0.19.1)\n",
            "Requirement already satisfied: decorator in /usr/local/lib/python3.10/dist-packages (from IPython) (4.4.2)\n",
            "Requirement already satisfied: pickleshare in /usr/local/lib/python3.10/dist-packages (from IPython) (0.7.5)\n",
            "Requirement already satisfied: traitlets>=4.2 in /usr/local/lib/python3.10/dist-packages (from IPython) (5.7.1)\n",
            "Requirement already satisfied: prompt-toolkit!=3.0.0,!=3.0.1,<3.1.0,>=2.0.0 in /usr/local/lib/python3.10/dist-packages (from IPython) (3.0.41)\n",
            "Requirement already satisfied: pygments in /usr/local/lib/python3.10/dist-packages (from IPython) (2.16.1)\n",
            "Requirement already satisfied: backcall in /usr/local/lib/python3.10/dist-packages (from IPython) (0.2.0)\n",
            "Requirement already satisfied: matplotlib-inline in /usr/local/lib/python3.10/dist-packages (from IPython) (0.1.6)\n",
            "Requirement already satisfied: pexpect>4.3 in /usr/local/lib/python3.10/dist-packages (from IPython) (4.9.0)\n",
            "Requirement already satisfied: parso<0.9.0,>=0.8.3 in /usr/local/lib/python3.10/dist-packages (from jedi>=0.16->IPython) (0.8.3)\n",
            "Requirement already satisfied: ptyprocess>=0.5 in /usr/local/lib/python3.10/dist-packages (from pexpect>4.3->IPython) (0.7.0)\n",
            "Requirement already satisfied: wcwidth in /usr/local/lib/python3.10/dist-packages (from prompt-toolkit!=3.0.0,!=3.0.1,<3.1.0,>=2.0.0->IPython) (0.2.12)\n"
          ]
        },
        {
          "data": {
            "text/html": [
              "<div style=\"display: flex; justify-content: center; align-items: center; height: 100%;\"><iframe width=\"560\" height=\"315\" src=\"https://www.youtube.com/embed/petvgLEk0SY\" frameborder=\"0\" allowfullscreen></iframe></div>"
            ],
            "text/plain": [
              "<IPython.core.display.HTML object>"
            ]
          },
          "metadata": {},
          "output_type": "display_data"
        }
      ],
      "source": [
        "# Instala la biblioteca IPython para mostrar HTML\n",
        "!pip install IPython\n",
        "\n",
        "# Importa la clase HTML de la biblioteca IPython\n",
        "from IPython.display import HTML\n",
        "\n",
        "# Define la función para mostrar el video de YouTube centrado\n",
        "def display_centered_youtube_video(video_id, width=560, height=315):\n",
        "    video_url = f\"https://www.youtube.com/embed/{video_id}\"\n",
        "    iframe_code = f'<div style=\"display: flex; justify-content: center; align-items: center; height: 100%;\"><iframe width=\"{width}\" height=\"{height}\" src=\"{video_url}\" frameborder=\"0\" allowfullscreen></iframe></div>'\n",
        "    display(HTML(iframe_code))\n",
        "\n",
        "# Reemplaza \"petvgLEk0SY\" con el ID de tu nuevo video de YouTube\n",
        "video_id = \"petvgLEk0SY\"\n",
        "\n",
        "# Muestra el nuevo video de YouTube centrado\n",
        "display_centered_youtube_video(video_id)\n"
      ]
    },
    {
      "cell_type": "markdown",
      "metadata": {
        "id": "c3eiabPE9MBM"
      },
      "source": [
        "48. Un investigador reporta sus resultados diciendo que el error estándar de la media es 20 y la\n",
        "desviación estándar poblacional es 500.<br>\n",
        "a) ¿De qué tamaño fue la muestra utilizada en esta investigación?<br>\n",
        "b) ¿Cuál es la probabilidad de que la estimación puntual esté a no más de $\\pm25$ de la media\n",
        "poblacional?<br>\n",
        "\n",
        "Los datos dados del problema son:<br>\n",
        "SE = 20, $\\sigma$ = 500\n",
        "\n",
        "Las fórmulas a emplear son:\n",
        "n = $\\left(\\frac{\\sigma}{SE}\\right)^2$"
      ]
    },
    {
      "cell_type": "code",
      "execution_count": null,
      "metadata": {
        "colab": {
          "base_uri": "https://localhost:8080/",
          "height": 46
        },
        "id": "g-ka9Npt9MaT",
        "outputId": "d17b405e-676a-4ad6-ef8b-e2d14a41c6c2"
      },
      "outputs": [
        {
          "data": {
            "text/html": [
              "\n",
              "<p><strong>Tamaño de la muestra:</strong> 625</p>\n"
            ],
            "text/plain": [
              "<IPython.core.display.HTML object>"
            ]
          },
          "metadata": {},
          "output_type": "display_data"
        }
      ],
      "source": [
        "from IPython.display import HTML\n",
        "\n",
        "error_estandar_media = 20\n",
        "desviacion_estandar_poblacional = 500\n",
        "\n",
        "n = (desviacion_estandar_poblacional / error_estandar_media) ** 2\n",
        "\n",
        "html_resultado = f\"\"\"\n",
        "<p><strong>Tamaño de la muestra:</strong> {int(n)}</p>\n",
        "\"\"\"\n",
        "display(HTML(html_resultado))"
      ]
    },
    {
      "cell_type": "markdown",
      "metadata": {
        "id": "j80kZhvsbKT5"
      },
      "source": [
        "El valor z para $\\pm25$ con un error estándar de 20 es:<br>\n",
        "$Z_{+25} = \\frac{25-0}{20} = 1.25$<br>\n",
        "$Z_{+25} = \\frac{-25-0}{20} = -1.25$<br>\n",
        "La probabilidad de que la estimación puntual esté dentro de ±25 de la media poblacional es la suma de las áreas bajo la curva normal estándar para $Z=1.25$ y $Z=-1.25$. Para un z-score de 1.25, la probabilidad acumulada es aproximadamente 0.8944 (usando una tabla de distribución normal estándar). Esta es la probabilidad de estar dentro de 1.25 desviaciones estándar por encima de la media. La misma probabilidad aplica para -1.25 por debajo de la media.<br>\n",
        "Entonces, la probabilidad total es la suma de estas dos probabilidades: <br>\n",
        "$P(Z \\leq 1.25) = 0.8944$<br>\n",
        "$P(Z \\geq -1.25) = 0.8944$<br>\n",
        "Cuando sumamos estas probabilidades para considerar ambos lados de la distribución, no podemos simplemente sumarlas, ya que estaríamos contando el área bajo la curva dos veces.<br>\n",
        "Entonces, para obtener la probabilidad de que la estimación puntual esté dentro de ±25 de la media poblacional, podemos utilizar una de las dos probabilidades y restarle la otra, o simplemente encontrar la probabilidad de un rango de valores usando el z-score de ±25 directamente.\n",
        "\n",
        "La probabilidad de estar dentro de ±25 de la media poblacional es:<br>\n",
        "$P(-1.25 \\leq Z \\leq 1.25) = P(Z \\leq 1.25) - (Z \\leq -1.25) = 0.8944−(1−0.8944) = 0.7888$<br>\n",
        "Por lo tanto, la probabilidad de que la estimación puntual esté a no más de ±25 de la media poblacional es aproximadamente 0.7888, es decir, alrededor del 78.88%.\n",
        "\n"
      ]
    },
    {
      "cell_type": "markdown",
      "metadata": {
        "id": "pdukg-5r-VRI"
      },
      "source": [
        "54. Lori Jeffrey es una exitosa representante de ventas de libros universitarios. Históricamente,\n",
        "ella consigue una adopción de libros de texto en 25% de sus llamadas de ventas. Considere sus\n",
        "telefonemas de ventas de un mes como muestra de todas sus posibles llamadas; suponga que en\n",
        "el análisis estadístico de los datos se encuentra que el error estándar de la proporción es 0.0625.<br>\n",
        "a) ¿De qué tamaño fue la muestra que se utilizó en el análisis? Es decir, ¿cuántas llamadas\n",
        "hizo Lori Jeffrey en ese mes?<br>\n",
        "b) Sea $\\overline{p}$ la proporción muestral de adopciones de libros de texto en el mes. Presente la distribución de muestreo de $\\overline{p}$.<br>\n",
        "c) Mediante la distribución de muestreo de $\\overline{p}$, calcule la probabilidad de que Lori logrará\n",
        "adopciones de libros de texto en 30% o más de sus llamadas de ventas en el lapso de un\n",
        "mes.\n",
        "\n",
        "Fórmulas utilizadas:<br>\n",
        "\n",
        "a) Tamaño de la muestra n:<br>\n",
        "$SE_p$ = $\\sqrt{\\frac{p(1-p)}{n}}$\n",
        "n = $\\frac{p(1-p)}{SE_p^2}$\n",
        "\n",
        "b) Distribución de muestreo de $\\bar{p}$:\n",
        "La distribución sigue una distribución normal con media $\\overline{p}$ y error estándar $SE_p$.\n",
        "\n",
        "c) Cálculo del Z-score:\n",
        "Z = $\\frac{\\bar{p} - p}{SE_p}$"
      ]
    },
    {
      "cell_type": "code",
      "execution_count": null,
      "metadata": {
        "colab": {
          "base_uri": "https://localhost:8080/",
          "height": 70
        },
        "id": "ws-MsRdO-4Hv",
        "outputId": "5b61d3c5-e3a0-4a13-8955-e7f1df80cb56"
      },
      "outputs": [
        {
          "data": {
            "text/html": [
              "\n",
              "<p><strong>Tamaño de la muestra:</strong> 48.00</p>\n",
              "<p><strong>Z-score:</strong> 0.80</p>\n"
            ],
            "text/plain": [
              "<IPython.core.display.HTML object>"
            ]
          },
          "metadata": {},
          "output_type": "display_data"
        }
      ],
      "source": [
        "from IPython.display import HTML\n",
        "\n",
        "p = 0.25\n",
        "SE_p = 0.0625\n",
        "\n",
        "n = p * (1 - p) / SE_p ** 2\n",
        "\n",
        "p_barra = 0.30\n",
        "Z = (p_barra - p) / SE_p\n",
        "\n",
        "html_resultado = f\"\"\"\n",
        "<p><strong>Tamaño de la muestra:</strong> {n:.2f}</p>\n",
        "<p><strong>Z-score:</strong> {Z:.2f}</p>\n",
        "\"\"\"\n",
        "\n",
        "display(HTML(html_resultado))"
      ]
    },
    {
      "cell_type": "markdown",
      "metadata": {
        "id": "BFTWcTr79Mq-"
      },
      "source": [
        "\n",
        "\n",
        "<style>\n",
        "    .indice_titulo{\n",
        "        display:flex;\n",
        "        color: #009929;\n",
        "    }\n",
        "</style>\n",
        "### <div class = \"indice_titulo\">Valor esperado y desviación estándar de $\\overline{x}$</div>\n",
        "\n",
        "\n",
        "\n",
        "En este apéndice se presentan las bases matemáticas de las expresiones $E(\\overline{x})$, valor esperado\n",
        "de $\\overline{x}$ dado en la ecuación (7.1), y $\\sigma_{\\overline{x}}$, la desviación estándar de $\\overline{x}$ dada por la ecuación (7.2).\n",
        "\n",
        "\n",
        "<style>\n",
        "    .indice_titulo{\n",
        "        display:flex;\n",
        "        color: #009929;\n",
        "    }\n",
        "</style>\n",
        "### <div class = \"indice_titulo\">Valor esperado de $\\overline{x}$</div>\n",
        "Se tiene una población con media μ y varianza $\\sigma^{2}$. Se selecciona una muestra aleatoria simple de tamaño *n* cuyas observaciones individuales se denotan $x_1,x_2,...,x_n$. La media muestral $\\overline{x}$ se calcula como sigue.\n",
        "<br>\n",
        "<center>\n",
        "$\\overline{x} = \\frac{\\sum x_i}{n}$\n",
        "</center>\n",
        "<br>\n",
        "\n",
        "Si se repiten los muestreos aleatorios simples de tamaño *n*, $\\overline{x}$ será una variable aleatoria que\n",
        "tomará diferentes valores dependiendo de los n elementos que formen la muestra. El valor esperado de la variable aleatoria $\\overline{x}$ es la media de todos los posibles valores de $\\overline{x}$.\n",
        "<br>\n",
        "<center>\n",
        "Media de $\\overline{x} = E(\\overline{x}) = E(\\frac{\\sum x_i}{n})$ <br>\n",
        "$= \\frac{1}{n} [E(x_1 + x_2 + ... + x_n)]$ <br>\n",
        "$= \\frac{1}{n} [E(x_1) + E(x_2) + ... + E(x_n)]$\n",
        "</center>\n",
        "<br>\n",
        "Para cada xi se tiene $E(x_i) = \\mu$; por tanto, escribimos\n",
        "<br>\n",
        "<center>\n",
        "$E(\\overline{x}) = \\frac{1}{n} (\\mu + \\mu + ... + \\mu)$ <br>\n",
        "$\\frac{1}{n} (n \\mu) = \\mu$\n",
        "</center>\n",
        "<br>\n",
        "ste resultado indica que la media de todos los posibles valores de $\\overline{x}$ es igual a la media poblacional μ. Es decir, $E(\\overline{x}) = μ$.\n",
        "\n",
        "#Desviación estándar de $\\overline{x}$\n",
        "Se tiene, de nuevo, una población con media μ y varianza $\\sigma^2$, y una media muestral dada por\n",
        "<br>\n",
        "<center>\n",
        "$\\overline{x} = \\frac{\\sum x_i}{n}$\n",
        "</center>\n",
        "<br>\n",
        "Se sabe que $\\overline{x}$ es una variable aleatoria que toma distintos valores numéricos, con repetidas\n",
        "muestras aleatorias simples de tamaño *n*, dependiendo de los *n* elementos que integran la muestra. Lo que sigue es una derivación de la fórmula para la desviación estándar de los valores de\n",
        "$\\overline{x}$, $\\sigma_{\\overline{x}}$, en el caso de que la población sea infi nita. La deducción de la fórmula para $\\sigma_{\\overline{x}}$ cuando la\n",
        "población es fi nita y el muestreo se realiza sin remplazo es más complicada, y queda fuera de\n",
        "los alcances de este libro.<br>\n",
        "De vuelta al caso de una población infi nita, recuerde que una muestra aleatoria simple de\n",
        "una población infi nita consta de observaciones $x_1, x_2,...,x_n$ que son independientes. Las dos\n",
        "expresiones siguientes son fórmulas generales para la varianza de variables aleatorias.\n",
        "<br>\n",
        "<center>\n",
        "$Var(ax) = a^2 Var(x)$\n",
        "</center>\n",
        "<br>\n",
        "donde a es una constante y x es una variable aleatoria, y\n",
        "<br>\n",
        "<center>\n",
        "$Var(x + y) = Var(x) + Var(y)$\n",
        "</center>\n",
        "<br>\n",
        "donde x y y son variables aleatorias *independientes*. Utilizando las dos ecuaciones anteriores,\n",
        "se puede deducir la fórmula para la varianza de la variable aleatoria $\\overline{x}$ como sigue.\n",
        "<br>\n",
        "<center>\n",
        "$Var(\\overline{x}) = Var(\\frac{\\sum x_i}{n}) = Var(\\frac{1}{n} \\sum x_i)$\n",
        "</center>\n",
        "<br>\n",
        "Entonces, como *1/n* es una constante, tenemos\n",
        "<br>\n",
        "<center>\n",
        "$Var(\\overline{x}) = (\\frac{1}{n})^2 Var(\\sum x_i)$ <br>\n",
        "$ = (\\frac{1}{n})^2 Var(x_1 + x_2 + ... + x_n)$\n",
        "</center>\n",
        "<br>\n",
        "En el caso de una población infinita, las variables aleatorias $x_1, x_2, ...,x_n$ son independientes, lo\n",
        "que permite escribir\n",
        "<br>\n",
        "<center>\n",
        "$Var(\\overline{x}) = (\\frac{1}{n})^2 [Var(x_1) + Var(x_2) + ... + Var(x_n)]$\n",
        "</center>\n",
        "<br>\n",
        "Para toda $x_i$ se tiene $Var(x_i) = \\sigma^2$; por tanto, obtenemos\n",
        "<br>\n",
        "<center>\n",
        "$Var(\\overline{x}) = (\\frac{1}{n})^2 [\\sigma^2 + \\sigma^2 + ... + \\sigma^2]$\n",
        "</center>\n",
        "<br>\n",
        "Como en esta expresión hay *n* valores $\\sigma^2$, tenemos\n",
        "<br>\n",
        "<center>\n",
        "$Var(\\overline{x}) = (\\frac{1}{n})^2 (n\\sigma^2) = \\frac{\\sigma^2}{n}$\n",
        "</center>\n",
        "<br>\n",
        "Calculando ahora la raíz cuadrada, se obtiene la fórmula de la desviación estándar de $\\overline{x}$.\n",
        "<br>\n",
        "<center>\n",
        "$\\sigma_{\\overline{x}} = \\sqrt{Var(\\overline{x}} = \\frac{\\sigma}{\\sqrt{n}}$\n",
        "</center>\n",
        "<br>\n",
        "\n",
        "Muestreo aleatorio con Minitab\n",
        "<style>\n",
        "    .indice_titulo{\n",
        "        display:flex;\n",
        "        color: #009929;\n",
        "    }\n",
        "</style>\n",
        "### <div class = \"indice_titulo\">**Muestreo aleatorio con Minitab**</div>\n",
        "Si en un archivo de Minitab se encuentra una lista con los elementos de una población, se puede\n",
        "usar dicho software para seleccionar una muestra aleatoria simple. Por ejemplo, en la columna\n",
        "1 del conjunto de datos MetAreas se proporciona una lista de las 100 principales áreas metropolitanas de Estados Unidos y Canadá (*Places Rated Almanac–The Millenium Edition 2000*). La\n",
        "columna 2 contiene la puntuación general asignada a cada área. En la tabla 7.6 se presentan las\n",
        "primeras 10 áreas metropolitanas con sus puntuaciones correspondientes.<br>\n",
        "Suponga que pretende seleccionar una muestra aleatoria simple de 30 áreas metropolitanas\n",
        "con objeto de hacer un estudio sobre el costo de la vida en Estados Unidos y Canadá. Para seleccionar la muestra aleatoria se siguen los pasos que se indican a continuación.\n",
        "<br>\n",
        "**Paso 1**. Seleccione el menú desplegable **Calc**.<br>\n",
        "**Paso 2**. Elija **Random Data**.<br>\n",
        "**Paso 3**. Seleccione **Sample From Columns**.<br>\n",
        "**Paso 4**. Cuando el cuadro de diálogo Sample From Columns aparezca:<br>\n",
        "  Ingrese 30 en el cuadro **Number of rows to sample**.<br>\n",
        "  Introduzca Cl C2 en el cuadro **From columns** que se encuentra debajo.<br>\n",
        "  Ingrese C3 C4 en el cuadro **Store samples in**.<br>\n",
        "**Paso 5**. Haga clic en **OK**.\n",
        "\n",
        "La muestra aleatoria con las 30 áreas metropolitanas aparece en las columnas C3 y C4.\n",
        "\n",
        "<style>\n",
        "    .indice_titulo{\n",
        "        display:flex;\n",
        "        color: #009929;\n",
        "    }\n",
        "</style>\n",
        "### <div class = \"indice_titulo\">**Muestreo aleatorio con Excel**</div>\n",
        "Si en un archivo de Excel se encuentra una lista con los elementos de una población, se podrá\n",
        "usar dicho software para seleccionar una muestra aleatoria simple. Por ejemplo, en la columna A del conjunto de datos MetAreas se proporciona una lista de las 100 principales áreas metropolitanas de Estados Unidos y Canadá (*Places Rated Almanac–The Millenium Edition 2000*).\n",
        "La columna B contiene el rating general asignado a cada área. En la tabla 7.6 se presentan las\n",
        "primeras 10 áreas metropolitanas con sus puntuaciones correspondientes. Suponga que quiere\n",
        "seleccionar una muestra aleatoria simple de 30 áreas metropolitanas con objeto de hacer un\n",
        "estudio de profundidad sobre el costo de la vida en Estados Unidos y Canadá."
      ]
    },
    {
      "cell_type": "code",
      "execution_count": null,
      "metadata": {
        "colab": {
          "base_uri": "https://localhost:8080/",
          "height": 268
        },
        "id": "INflstLO40WN",
        "outputId": "591873d9-1ab5-4496-eec4-5b9bf2141ab5"
      },
      "outputs": [
        {
          "data": {
            "text/html": [
              "\n",
              "<center>\n",
              "TABLA 7.6 Puntuación general para las primeras 10 áreas metropolitanas en el conjunto\n",
              "de datos MetAreas.\n",
              "<style>\n",
              "  table {\n",
              "    border: 1px solid #009929;\n",
              "    background-color: #D4F8B7;\n",
              "  }\n",
              "\n",
              "  th {\n",
              "    text-align: center;\n",
              "  }\n",
              "</style>\n",
              "\n",
              "<table>\n",
              "  <thead>\n",
              "    <tr>\n",
              "      <th>Metropolitan Area</th>\n",
              "      <th>Rating</th>\n",
              "    </tr>\n",
              "  </thead>\n",
              "  <tbody>\n",
              "    <tr>\n",
              "      <td>Albany, NY</td>\n",
              "      <td>64.18</td>\n",
              "    </tr>\n",
              "    <tr>\n",
              "      <td>Albuquerque, NM</td>\n",
              "      <td>66.16</td>\n",
              "    </tr>\n",
              "    <tr>\n",
              "      <td>Appleton, WI</td>\n",
              "      <td>60.56</td>\n",
              "    </tr>\n",
              "    <tr>\n",
              "      <td>Atlanta, GA</td>\n",
              "      <td>69.97</td>\n",
              "    </tr>\n",
              "    <tr>\n",
              "      <td>Austin, TX</td>\n",
              "      <td>71.48</td>\n",
              "    </tr>\n",
              "    <tr>\n",
              "      <td>Baltimore, MD</td>\n",
              "      <td>69.75</td>\n",
              "    </tr>\n",
              "    <tr>\n",
              "      <td>Birmingham, AL</td>\n",
              "      <td>69.59</td>\n",
              "    </tr>\n",
              "    <tr>\n",
              "      <td>Boise City, ID</td>\n",
              "      <td>68.36</td>\n",
              "    </tr>\n",
              "    <tr>\n",
              "      <td>Boston, MA</td>\n",
              "      <td>68.99</td>\n",
              "    </tr>\n",
              "    <tr>\n",
              "      <td>Buffalo, NY</td>\n",
              "      <td>66.10</td>\n",
              "    </tr>\n",
              "  </tbody>\n",
              "</table>\n",
              "</center>\n"
            ],
            "text/plain": [
              "<IPython.core.display.HTML object>"
            ]
          },
          "metadata": {},
          "output_type": "display_data"
        }
      ],
      "source": [
        "from IPython.display import HTML\n",
        "\n",
        "html_code = \"\"\"\n",
        "<center>\n",
        "TABLA 7.6 Puntuación general para las primeras 10 áreas metropolitanas en el conjunto\n",
        "de datos MetAreas.\n",
        "<style>\n",
        "  table {\n",
        "    border: 1px solid #009929;\n",
        "    background-color: #D4F8B7;\n",
        "  }\n",
        "\n",
        "  th {\n",
        "    text-align: center;\n",
        "  }\n",
        "</style>\n",
        "\n",
        "<table>\n",
        "  <thead>\n",
        "    <tr>\n",
        "      <th>Metropolitan Area</th>\n",
        "      <th>Rating</th>\n",
        "    </tr>\n",
        "  </thead>\n",
        "  <tbody>\n",
        "    <tr>\n",
        "      <td>Albany, NY</td>\n",
        "      <td>64.18</td>\n",
        "    </tr>\n",
        "    <tr>\n",
        "      <td>Albuquerque, NM</td>\n",
        "      <td>66.16</td>\n",
        "    </tr>\n",
        "    <tr>\n",
        "      <td>Appleton, WI</td>\n",
        "      <td>60.56</td>\n",
        "    </tr>\n",
        "    <tr>\n",
        "      <td>Atlanta, GA</td>\n",
        "      <td>69.97</td>\n",
        "    </tr>\n",
        "    <tr>\n",
        "      <td>Austin, TX</td>\n",
        "      <td>71.48</td>\n",
        "    </tr>\n",
        "    <tr>\n",
        "      <td>Baltimore, MD</td>\n",
        "      <td>69.75</td>\n",
        "    </tr>\n",
        "    <tr>\n",
        "      <td>Birmingham, AL</td>\n",
        "      <td>69.59</td>\n",
        "    </tr>\n",
        "    <tr>\n",
        "      <td>Boise City, ID</td>\n",
        "      <td>68.36</td>\n",
        "    </tr>\n",
        "    <tr>\n",
        "      <td>Boston, MA</td>\n",
        "      <td>68.99</td>\n",
        "    </tr>\n",
        "    <tr>\n",
        "      <td>Buffalo, NY</td>\n",
        "      <td>66.10</td>\n",
        "    </tr>\n",
        "  </tbody>\n",
        "</table>\n",
        "</center>\n",
        "\"\"\"\n",
        "\n",
        "display(HTML(html_code))"
      ]
    },
    {
      "cell_type": "markdown",
      "metadata": {
        "id": "0nSkojZi6LVs"
      },
      "source": [
        "Las filas de cualquier conjunto de datos en Excel se pueden colocar en orden aleatorio agregando\n",
        "una columna al conjunto de datos y llenando la columna con números aleatorios mediante\n",
        "la función = RAND(). Después, con la herramienta de Excel para ordenar en forma ascendente\n",
        "aplicada a la columna de números aleatorios, las fi las del conjunto de datos se reordenan de\n",
        "forma aleatoria. La muestra aleatoria de tamaño n aparecerá en las *n* primeras f  las del conjunto\n",
        "de datos reordenado.<br>\n",
        "En el conjunto de datos MetAreas, los encabezados aparecen en la fila 1 y las 100 áreas\n",
        "metropolitanas se encuentran en las filas 2 a 101. Para seleccionar una muestra aleatoria de 30\n",
        "áreas metropolitanas aplique los pasos siguientes.<br>\n",
        "**Paso 1.** Ingrese RAND() en la celda C2.<br>\n",
        "**Paso 2.** Copie la celda C2 a las celdas C3:C101.<br>\n",
        "**Paso 3.** Seleccione cualquier celda de la columna C.<br>\n",
        "**Paso 4.** Haga clic en la ficha Home sobre la cinta.<br>\n",
        "**Paso 5.** En el grupo Editing, dé clic en Sort & Filter.<br>\n",
        "**Paso 6.** Haga clic en Sort Smallest to Largest.<br>\n",
        "\n",
        "La muestra aleatoria con 30 áreas metropolitanas aparecerá en las filas 2 a 31 del conjunto de\n",
        "datos reordenado. Los números aleatorios de la columna C ya no son necesarios y pueden borrarse\n",
        "si se desea.\n",
        "\n",
        "<style>\n",
        "    .indice_titulo{\n",
        "        display:flex;\n",
        "        color: #009929;\n",
        "    }\n",
        "</style>\n",
        "### <div class = \"indice_titulo\">**Muestreo aleatorio con StatTools**</div>\n",
        "\n",
        "\n",
        "Si en un archivo de Excel se encuentra una lista con los elementos de una población, se podrá\n",
        "usar StatTools Random Sample Utility para seleccionar una muestra aleatoria simple. Por ejemplo, en la columna A del conjunto de datos MetAreas se proporciona una lista de las 100 principales áreas metropolitanas de Estados Unidos y Canadá (*Places Rated Almanac–The Millenium\n",
        "Edition 2000*). La columna B contiene la puntuación general asignada a cada área. Suponga que\n",
        "quiere seleccionar una muestra aleatoria simple de 30 áreas metropolitanas con objeto de hacer\n",
        "un estudio de profundidad sobre el costo de la vida en Estados Unidos y Canadá.<br>\n",
        "Se inicia con Data Set Manager a efecto de crear un conjunto de datos de StatTools utilizando el procedimiento descrito en el apéndice del capítulo 1. Los pasos siguientes se utilizan\n",
        "para generar una muestra aleatoria simple de 30 áreas metropolitanas.<br>\n",
        "\n",
        "**Paso 1. Dé clic en la ficha **StatTools** sobre la cinta.<br>\n",
        "**Paso 2. En el grupo Data Group, haga clic en **Data Utilities**.<br>\n",
        "**Paso 3. Seleccione la opción **Random Sample**.<br>\n",
        "**Paso 4. Cuando el cuadro de diálogo StatTools–Random Sample aparezca:<br>\n",
        "En la sección **Variables**:<br>\n",
        "Seleccione **Metropolitan Area**.<br>\n",
        "Elija **Rating**.<br>\n",
        "En la sección **Options**:<br>\n",
        "Ingrese 1 en el cuadro **Number of Samples**.<br>\n",
        "Ingrese 30 en el cuadro **Sample Size**.<br>\n",
        "Haga clic en **OK**.<br>\n",
        "La muestra aleatoria de 30 áreas metropolitanas aparecerá en las columnas A y B de la hoja de\n",
        "trabajo titulada *Random Sample*."
      ]
    }
  ],
  "metadata": {
    "colab": {
      "provenance": []
    },
    "kernelspec": {
      "display_name": "Python 3",
      "name": "python3"
    },
    "language_info": {
      "name": "python"
    }
  },
  "nbformat": 4,
  "nbformat_minor": 0
}